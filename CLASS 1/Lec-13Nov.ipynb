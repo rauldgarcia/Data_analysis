{
 "cells": [
  {
   "cell_type": "code",
   "execution_count": 1,
   "id": "9ba40aed-f6ac-461c-9bec-6408bca5256b",
   "metadata": {},
   "outputs": [],
   "source": [
    "import pandas as pd\n",
    "import numpy as np\n",
    "\n",
    "import matplotlib.pyplot as plt\n",
    "import seaborn as sns"
   ]
  },
  {
   "cell_type": "code",
   "execution_count": 12,
   "id": "fa5f6bad-32bf-4622-9a3d-611f30ed4f3a",
   "metadata": {},
   "outputs": [
    {
     "name": "stdout",
     "output_type": "stream",
     "text": [
      "<class 'pandas.core.frame.DataFrame'>\n",
      "RangeIndex: 398 entries, 0 to 397\n",
      "Data columns (total 9 columns):\n",
      " #   Column        Non-Null Count  Dtype  \n",
      "---  ------        --------------  -----  \n",
      " 0   mpg           398 non-null    float64\n",
      " 1   cylinders     398 non-null    int64  \n",
      " 2   displacement  398 non-null    float64\n",
      " 3   horsepower    392 non-null    float64\n",
      " 4   weight        398 non-null    int64  \n",
      " 5   acceleration  398 non-null    float64\n",
      " 6   model_year    398 non-null    int64  \n",
      " 7   origin        398 non-null    object \n",
      " 8   name          398 non-null    object \n",
      "dtypes: float64(4), int64(3), object(2)\n",
      "memory usage: 28.1+ KB\n"
     ]
    }
   ],
   "source": [
    "df = sns.load_dataset(\"mpg\")\n",
    "df.info()"
   ]
  },
  {
   "cell_type": "code",
   "execution_count": 13,
   "id": "c8e0d0db-c579-437e-9d64-5e1f91684d41",
   "metadata": {},
   "outputs": [
    {
     "data": {
      "text/html": [
       "<div>\n",
       "<style scoped>\n",
       "    .dataframe tbody tr th:only-of-type {\n",
       "        vertical-align: middle;\n",
       "    }\n",
       "\n",
       "    .dataframe tbody tr th {\n",
       "        vertical-align: top;\n",
       "    }\n",
       "\n",
       "    .dataframe thead th {\n",
       "        text-align: right;\n",
       "    }\n",
       "</style>\n",
       "<table border=\"1\" class=\"dataframe\">\n",
       "  <thead>\n",
       "    <tr style=\"text-align: right;\">\n",
       "      <th></th>\n",
       "      <th>mpg</th>\n",
       "      <th>cylinders</th>\n",
       "      <th>displacement</th>\n",
       "      <th>horsepower</th>\n",
       "      <th>weight</th>\n",
       "      <th>acceleration</th>\n",
       "      <th>model_year</th>\n",
       "      <th>origin</th>\n",
       "      <th>name</th>\n",
       "    </tr>\n",
       "  </thead>\n",
       "  <tbody>\n",
       "    <tr>\n",
       "      <th>32</th>\n",
       "      <td>25.0</td>\n",
       "      <td>4</td>\n",
       "      <td>98.0</td>\n",
       "      <td>NaN</td>\n",
       "      <td>2046</td>\n",
       "      <td>19.0</td>\n",
       "      <td>71</td>\n",
       "      <td>usa</td>\n",
       "      <td>ford pinto</td>\n",
       "    </tr>\n",
       "    <tr>\n",
       "      <th>126</th>\n",
       "      <td>21.0</td>\n",
       "      <td>6</td>\n",
       "      <td>200.0</td>\n",
       "      <td>NaN</td>\n",
       "      <td>2875</td>\n",
       "      <td>17.0</td>\n",
       "      <td>74</td>\n",
       "      <td>usa</td>\n",
       "      <td>ford maverick</td>\n",
       "    </tr>\n",
       "    <tr>\n",
       "      <th>330</th>\n",
       "      <td>40.9</td>\n",
       "      <td>4</td>\n",
       "      <td>85.0</td>\n",
       "      <td>NaN</td>\n",
       "      <td>1835</td>\n",
       "      <td>17.3</td>\n",
       "      <td>80</td>\n",
       "      <td>europe</td>\n",
       "      <td>renault lecar deluxe</td>\n",
       "    </tr>\n",
       "    <tr>\n",
       "      <th>336</th>\n",
       "      <td>23.6</td>\n",
       "      <td>4</td>\n",
       "      <td>140.0</td>\n",
       "      <td>NaN</td>\n",
       "      <td>2905</td>\n",
       "      <td>14.3</td>\n",
       "      <td>80</td>\n",
       "      <td>usa</td>\n",
       "      <td>ford mustang cobra</td>\n",
       "    </tr>\n",
       "    <tr>\n",
       "      <th>354</th>\n",
       "      <td>34.5</td>\n",
       "      <td>4</td>\n",
       "      <td>100.0</td>\n",
       "      <td>NaN</td>\n",
       "      <td>2320</td>\n",
       "      <td>15.8</td>\n",
       "      <td>81</td>\n",
       "      <td>europe</td>\n",
       "      <td>renault 18i</td>\n",
       "    </tr>\n",
       "    <tr>\n",
       "      <th>374</th>\n",
       "      <td>23.0</td>\n",
       "      <td>4</td>\n",
       "      <td>151.0</td>\n",
       "      <td>NaN</td>\n",
       "      <td>3035</td>\n",
       "      <td>20.5</td>\n",
       "      <td>82</td>\n",
       "      <td>usa</td>\n",
       "      <td>amc concord dl</td>\n",
       "    </tr>\n",
       "  </tbody>\n",
       "</table>\n",
       "</div>"
      ],
      "text/plain": [
       "      mpg  cylinders  displacement  horsepower  weight  acceleration  \\\n",
       "32   25.0          4          98.0         NaN    2046          19.0   \n",
       "126  21.0          6         200.0         NaN    2875          17.0   \n",
       "330  40.9          4          85.0         NaN    1835          17.3   \n",
       "336  23.6          4         140.0         NaN    2905          14.3   \n",
       "354  34.5          4         100.0         NaN    2320          15.8   \n",
       "374  23.0          4         151.0         NaN    3035          20.5   \n",
       "\n",
       "     model_year  origin                  name  \n",
       "32           71     usa            ford pinto  \n",
       "126          74     usa         ford maverick  \n",
       "330          80  europe  renault lecar deluxe  \n",
       "336          80     usa    ford mustang cobra  \n",
       "354          81  europe           renault 18i  \n",
       "374          82     usa        amc concord dl  "
      ]
     },
     "execution_count": 13,
     "metadata": {},
     "output_type": "execute_result"
    }
   ],
   "source": [
    "df[df.isna().any(axis=1)]"
   ]
  },
  {
   "cell_type": "code",
   "execution_count": 14,
   "id": "12961195-39d6-4851-8a03-91707792f697",
   "metadata": {},
   "outputs": [
    {
     "data": {
      "text/html": [
       "<div>\n",
       "<style scoped>\n",
       "    .dataframe tbody tr th:only-of-type {\n",
       "        vertical-align: middle;\n",
       "    }\n",
       "\n",
       "    .dataframe tbody tr th {\n",
       "        vertical-align: top;\n",
       "    }\n",
       "\n",
       "    .dataframe thead th {\n",
       "        text-align: right;\n",
       "    }\n",
       "</style>\n",
       "<table border=\"1\" class=\"dataframe\">\n",
       "  <thead>\n",
       "    <tr style=\"text-align: right;\">\n",
       "      <th></th>\n",
       "      <th>mpg</th>\n",
       "      <th>cylinders</th>\n",
       "      <th>displacement</th>\n",
       "      <th>horsepower</th>\n",
       "      <th>weight</th>\n",
       "      <th>acceleration</th>\n",
       "      <th>model_year</th>\n",
       "      <th>origin</th>\n",
       "      <th>name</th>\n",
       "    </tr>\n",
       "  </thead>\n",
       "  <tbody>\n",
       "  </tbody>\n",
       "</table>\n",
       "</div>"
      ],
      "text/plain": [
       "Empty DataFrame\n",
       "Columns: [mpg, cylinders, displacement, horsepower, weight, acceleration, model_year, origin, name]\n",
       "Index: []"
      ]
     },
     "execution_count": 14,
     "metadata": {},
     "output_type": "execute_result"
    }
   ],
   "source": [
    "df = df.dropna()\n",
    "df[df.isna().any(axis=1)]"
   ]
  },
  {
   "cell_type": "markdown",
   "id": "8b71481d-d504-4b21-9948-f6750ff7e790",
   "metadata": {},
   "source": [
    "# Matrix form of statistical quantities"
   ]
  },
  {
   "cell_type": "code",
   "execution_count": 15,
   "id": "4b3bd3be-da54-4104-9cab-4e996aa71109",
   "metadata": {},
   "outputs": [
    {
     "data": {
      "text/plain": [
       "Index(['mpg', 'cylinders', 'displacement', 'horsepower', 'weight',\n",
       "       'acceleration', 'model_year', 'origin', 'name'],\n",
       "      dtype='object')"
      ]
     },
     "execution_count": 15,
     "metadata": {},
     "output_type": "execute_result"
    }
   ],
   "source": [
    "df.columns"
   ]
  },
  {
   "cell_type": "code",
   "execution_count": 18,
   "id": "d663ec1b-62ba-499a-923b-9cfef0209132",
   "metadata": {
    "tags": []
   },
   "outputs": [],
   "source": [
    "y = df.iloc[:,0].values.reshape(-1,1)"
   ]
  },
  {
   "cell_type": "code",
   "execution_count": 23,
   "id": "d8729093-351b-40fc-b2aa-587d57c30716",
   "metadata": {},
   "outputs": [
    {
     "data": {
      "text/plain": [
       "392"
      ]
     },
     "execution_count": 23,
     "metadata": {},
     "output_type": "execute_result"
    }
   ],
   "source": [
    "n = y.shape[0]\n",
    "n"
   ]
  },
  {
   "cell_type": "code",
   "execution_count": 25,
   "id": "0d3c5e46-2ea7-45aa-9d70-6b83115fa0e3",
   "metadata": {},
   "outputs": [],
   "source": [
    "v1s = np.ones(n)"
   ]
  },
  {
   "cell_type": "code",
   "execution_count": 29,
   "id": "41743871-c7de-4ffa-908d-3fdceee104ba",
   "metadata": {},
   "outputs": [
    {
     "data": {
      "text/plain": [
       "0.002551020408163265"
      ]
     },
     "execution_count": 29,
     "metadata": {},
     "output_type": "execute_result"
    }
   ],
   "source": [
    "1./v1s.transpose().dot(v1s)"
   ]
  },
  {
   "cell_type": "markdown",
   "id": "f4ce5682-60a7-42ed-85df-5063c5d3fbfe",
   "metadata": {},
   "source": [
    "v1s.transpose().dot(v1s).reshape(-1,1)"
   ]
  },
  {
   "cell_type": "markdown",
   "id": "446d4bf3-d68a-42d2-b3bf-928780301626",
   "metadata": {},
   "source": [
    "Construct $ \\left (1_p^T 1_p \\right)^{-1} $"
   ]
  },
  {
   "cell_type": "markdown",
   "id": "dda61677-6040-41b1-af8e-ccc8149fab86",
   "metadata": {},
   "source": [
    "np.linalg.inv(v1s.transpose().dot(v1s).reshape(-1,1))"
   ]
  },
  {
   "cell_type": "markdown",
   "id": "dd866b68-f66a-469b-8679-3a5331284590",
   "metadata": {},
   "source": [
    "evaluate  $ \\left (1_p^T 1_p \\right)^{-1} 1_p^T $"
   ]
  },
  {
   "cell_type": "code",
   "execution_count": 32,
   "id": "399990d8-ba73-423e-9abf-b492b55beed1",
   "metadata": {},
   "outputs": [
    {
     "data": {
      "text/plain": [
       "array([[0.00255102]])"
      ]
     },
     "execution_count": 32,
     "metadata": {},
     "output_type": "execute_result"
    }
   ],
   "source": [
    "np.linalg.inv(v1s.transpose().dot(v1s).reshape(-1,1)) "
   ]
  },
  {
   "cell_type": "code",
   "execution_count": 33,
   "id": "c30100d0-be62-42cb-b16c-8a3722cc96be",
   "metadata": {},
   "outputs": [
    {
     "data": {
      "text/plain": [
       "array([9190.8])"
      ]
     },
     "execution_count": 33,
     "metadata": {},
     "output_type": "execute_result"
    }
   ],
   "source": [
    "v1s.transpose().dot(y)"
   ]
  },
  {
   "cell_type": "code",
   "execution_count": 37,
   "id": "ad7ad02b-37ea-477e-ab1f-f5431b48fa8c",
   "metadata": {},
   "outputs": [
    {
     "data": {
      "text/plain": [
       "array([9190.8])"
      ]
     },
     "execution_count": 37,
     "metadata": {},
     "output_type": "execute_result"
    }
   ],
   "source": [
    "np.dot(v1s.transpose(),y)"
   ]
  },
  {
   "cell_type": "code",
   "execution_count": 39,
   "id": "e7d67e7b-4da1-4561-b884-2a32b6dd8bc1",
   "metadata": {},
   "outputs": [
    {
     "data": {
      "text/plain": [
       "array([[23.44591837]])"
      ]
     },
     "execution_count": 39,
     "metadata": {},
     "output_type": "execute_result"
    }
   ],
   "source": [
    "np.linalg.inv(v1s.transpose().dot(v1s).reshape(-1,1))*np.dot(v1s.transpose(),y)"
   ]
  },
  {
   "cell_type": "code",
   "execution_count": 40,
   "id": "c26d3550-0e91-42aa-9720-20d638678a73",
   "metadata": {},
   "outputs": [
    {
     "data": {
      "text/plain": [
       "array([23.44591837])"
      ]
     },
     "execution_count": 40,
     "metadata": {},
     "output_type": "execute_result"
    }
   ],
   "source": [
    "np.linalg.inv(v1s.transpose().dot(v1s).reshape(-1,1)).dot(np.dot(v1s.transpose(),y))"
   ]
  },
  {
   "cell_type": "code",
   "execution_count": 41,
   "id": "cde7c390-21db-49c3-bd07-05720b7fadf2",
   "metadata": {},
   "outputs": [],
   "source": [
    "def myMean():\n",
    "    '''Write a function that finds the average using matrix representations'''"
   ]
  },
  {
   "cell_type": "code",
   "execution_count": 126,
   "id": "51940922-bca6-41a6-9cee-1e491db0c65a",
   "metadata": {},
   "outputs": [
    {
     "data": {
      "text/plain": [
       "[<matplotlib.lines.Line2D at 0x7f25895ecee0>]"
      ]
     },
     "execution_count": 126,
     "metadata": {},
     "output_type": "execute_result"
    },
    {
     "data": {
      "image/png": "[encoded data removed]",
      "text/plain": [
       "<Figure size 640x480 with 1 Axes>"
      ]
     },
     "metadata": {},
     "output_type": "display_data"
    }
   ],
   "source": [
    "plt.axhline(np.linalg.inv(v1s.transpose().dot(v1s).reshape(-1,1)).dot(np.dot(v1s.transpose(),y)))\n",
    "plt.axhline(y.mean(), color='r', linestyle='--')\n",
    "plt.plot(y,'.')"
   ]
  },
  {
   "cell_type": "code",
   "execution_count": 43,
   "id": "87a61e31-1c98-49b2-8028-e94d21046b27",
   "metadata": {},
   "outputs": [
    {
     "data": {
      "text/plain": [
       "23.445918367346938"
      ]
     },
     "execution_count": 43,
     "metadata": {},
     "output_type": "execute_result"
    }
   ],
   "source": [
    "y.mean()"
   ]
  },
  {
   "cell_type": "markdown",
   "id": "cc297cdb-e0b0-43b6-8a5b-4bfd56859eee",
   "metadata": {},
   "source": [
    "### Center vector y and compare with `y -y.mean()`"
   ]
  },
  {
   "cell_type": "code",
   "execution_count": 49,
   "id": "55809000-5e1e-4e6f-afee-2919f6728b82",
   "metadata": {},
   "outputs": [
    {
     "data": {
      "text/plain": [
       "(392, 392)"
      ]
     },
     "execution_count": 49,
     "metadata": {},
     "output_type": "execute_result"
    }
   ],
   "source": [
    "np.identity(n).shape"
   ]
  },
  {
   "cell_type": "code",
   "execution_count": 107,
   "id": "be4178f3-e7e6-4530-b78e-deb18221614f",
   "metadata": {},
   "outputs": [],
   "source": [
    "id = np.identity(n)\n"
   ]
  },
  {
   "cell_type": "code",
   "execution_count": 109,
   "id": "e7833f0f-7e88-4ef9-9e2b-466212b8b162",
   "metadata": {},
   "outputs": [
    {
     "data": {
      "text/plain": [
       "(392, 392)"
      ]
     },
     "execution_count": 109,
     "metadata": {},
     "output_type": "execute_result"
    }
   ],
   "source": [
    "C = (id - v1s*np.linalg.inv(v1s.transpose().dot(v1s).reshape(-1,1))*v1s.T)\n",
    "C.shape"
   ]
  },
  {
   "cell_type": "code",
   "execution_count": 110,
   "id": "377b2564-c9b3-423f-aa5c-a3ac08467cd5",
   "metadata": {},
   "outputs": [
    {
     "data": {
      "text/plain": [
       "array([[ 0.99744898, -0.00255102, -0.00255102, ..., -0.00255102,\n",
       "        -0.00255102, -0.00255102],\n",
       "       [-0.00255102,  0.99744898, -0.00255102, ..., -0.00255102,\n",
       "        -0.00255102, -0.00255102],\n",
       "       [-0.00255102, -0.00255102,  0.99744898, ..., -0.00255102,\n",
       "        -0.00255102, -0.00255102],\n",
       "       ...,\n",
       "       [-0.00255102, -0.00255102, -0.00255102, ...,  0.99744898,\n",
       "        -0.00255102, -0.00255102],\n",
       "       [-0.00255102, -0.00255102, -0.00255102, ..., -0.00255102,\n",
       "         0.99744898, -0.00255102],\n",
       "       [-0.00255102, -0.00255102, -0.00255102, ..., -0.00255102,\n",
       "        -0.00255102,  0.99744898]])"
      ]
     },
     "execution_count": 110,
     "metadata": {},
     "output_type": "execute_result"
    }
   ],
   "source": [
    "C"
   ]
  },
  {
   "cell_type": "code",
   "execution_count": 112,
   "id": "7c1d68b2-a396-4a28-a913-527560d665ca",
   "metadata": {},
   "outputs": [],
   "source": [
    "sns.set_theme(style=\"white\")"
   ]
  },
  {
   "cell_type": "code",
   "execution_count": 113,
   "id": "8e67e571-927b-4324-8843-ff314a71c0b7",
   "metadata": {},
   "outputs": [],
   "source": [
    "cmap = sns.diverging_palette(230, 20, as_cmap=True)"
   ]
  },
  {
   "cell_type": "code",
   "execution_count": 114,
   "id": "f8d88975-1265-4d3d-863f-c325781699b2",
   "metadata": {},
   "outputs": [
    {
     "data": {
      "text/plain": [
       "<AxesSubplot:>"
      ]
     },
     "execution_count": 114,
     "metadata": {},
     "output_type": "execute_result"
    },
    {
     "data": {
      "image/png": "[encoded data removed]",
      "text/plain": [
       "<Figure size 640x480 with 2 Axes>"
      ]
     },
     "metadata": {},
     "output_type": "display_data"
    }
   ],
   "source": [
    "sns.heatmap(C, cmap=cmap)"
   ]
  },
  {
   "cell_type": "code",
   "execution_count": 115,
   "id": "b07cf24f-b67b-4e56-923c-9f7bf1df32b3",
   "metadata": {
    "collapsed": true,
    "jupyter": {
     "outputs_hidden": true
    },
    "tags": []
   },
   "outputs": [
    {
     "data": {
      "text/plain": [
       "array([[ -5.44591837],\n",
       "       [ -8.44591837],\n",
       "       [ -5.44591837],\n",
       "       [ -7.44591837],\n",
       "       [ -6.44591837],\n",
       "       [ -8.44591837],\n",
       "       [ -9.44591837],\n",
       "       [ -9.44591837],\n",
       "       [ -9.44591837],\n",
       "       [ -8.44591837],\n",
       "       [ -8.44591837],\n",
       "       [ -9.44591837],\n",
       "       [ -8.44591837],\n",
       "       [ -9.44591837],\n",
       "       [  0.55408163],\n",
       "       [ -1.44591837],\n",
       "       [ -5.44591837],\n",
       "       [ -2.44591837],\n",
       "       [  3.55408163],\n",
       "       [  2.55408163],\n",
       "       [  1.55408163],\n",
       "       [  0.55408163],\n",
       "       [  1.55408163],\n",
       "       [  2.55408163],\n",
       "       [ -2.44591837],\n",
       "       [-13.44591837],\n",
       "       [-13.44591837],\n",
       "       [-12.44591837],\n",
       "       [-14.44591837],\n",
       "       [  3.55408163],\n",
       "       [  4.55408163],\n",
       "       [  1.55408163],\n",
       "       [ -4.44591837],\n",
       "       [ -7.44591837],\n",
       "       [ -6.44591837],\n",
       "       [ -4.44591837],\n",
       "       [ -5.44591837],\n",
       "       [ -9.44591837],\n",
       "       [ -9.44591837],\n",
       "       [ -9.44591837],\n",
       "       [ -9.44591837],\n",
       "       [-11.44591837],\n",
       "       [-10.44591837],\n",
       "       [-10.44591837],\n",
       "       [ -5.44591837],\n",
       "       [ -1.44591837],\n",
       "       [ -4.44591837],\n",
       "       [ -5.44591837],\n",
       "       [ -0.44591837],\n",
       "       [  4.55408163],\n",
       "       [  6.55408163],\n",
       "       [  6.55408163],\n",
       "       [  7.55408163],\n",
       "       [ 11.55408163],\n",
       "       [  3.55408163],\n",
       "       [  2.55408163],\n",
       "       [  0.55408163],\n",
       "       [  1.55408163],\n",
       "       [ -0.44591837],\n",
       "       [ -3.44591837],\n",
       "       [ -2.44591837],\n",
       "       [-10.44591837],\n",
       "       [ -9.44591837],\n",
       "       [ -8.44591837],\n",
       "       [ -9.44591837],\n",
       "       [ -6.44591837],\n",
       "       [-12.44591837],\n",
       "       [-10.44591837],\n",
       "       [-11.44591837],\n",
       "       [-10.44591837],\n",
       "       [ -4.44591837],\n",
       "       [ -8.44591837],\n",
       "       [-10.44591837],\n",
       "       [-10.44591837],\n",
       "       [ -9.44591837],\n",
       "       [ -5.44591837],\n",
       "       [ -1.44591837],\n",
       "       [ -2.44591837],\n",
       "       [  2.55408163],\n",
       "       [ -1.44591837],\n",
       "       [  4.55408163],\n",
       "       [ -0.44591837],\n",
       "       [  4.55408163],\n",
       "       [  3.55408163],\n",
       "       [-10.44591837],\n",
       "       [ -9.44591837],\n",
       "       [-10.44591837],\n",
       "       [ -9.44591837],\n",
       "       [ -8.44591837],\n",
       "       [-11.44591837],\n",
       "       [-10.44591837],\n",
       "       [-10.44591837],\n",
       "       [ -9.44591837],\n",
       "       [-10.44591837],\n",
       "       [-11.44591837],\n",
       "       [-10.44591837],\n",
       "       [ -5.44591837],\n",
       "       [ -7.44591837],\n",
       "       [ -5.44591837],\n",
       "       [ -5.44591837],\n",
       "       [ -0.44591837],\n",
       "       [  2.55408163],\n",
       "       [-12.44591837],\n",
       "       [-11.44591837],\n",
       "       [-10.44591837],\n",
       "       [-11.44591837],\n",
       "       [ -5.44591837],\n",
       "       [ -3.44591837],\n",
       "       [ -2.44591837],\n",
       "       [ -1.44591837],\n",
       "       [ -5.44591837],\n",
       "       [ -4.44591837],\n",
       "       [ -2.44591837],\n",
       "       [  2.55408163],\n",
       "       [ -8.44591837],\n",
       "       [ -7.44591837],\n",
       "       [  5.55408163],\n",
       "       [  0.55408163],\n",
       "       [ -3.44591837],\n",
       "       [ -4.44591837],\n",
       "       [ -8.44591837],\n",
       "       [  0.55408163],\n",
       "       [ -3.44591837],\n",
       "       [-12.44591837],\n",
       "       [ -3.44591837],\n",
       "       [ -4.44591837],\n",
       "       [ -8.44591837],\n",
       "       [  7.55408163],\n",
       "       [  2.55408163],\n",
       "       [  8.55408163],\n",
       "       [  1.55408163],\n",
       "       [ -7.44591837],\n",
       "       [ -7.44591837],\n",
       "       [ -5.44591837],\n",
       "       [ -7.44591837],\n",
       "       [-10.44591837],\n",
       "       [ -9.44591837],\n",
       "       [ -9.44591837],\n",
       "       [ -9.44591837],\n",
       "       [  5.55408163],\n",
       "       [  2.55408163],\n",
       "       [  2.55408163],\n",
       "       [  7.55408163],\n",
       "       [  8.55408163],\n",
       "       [  4.55408163],\n",
       "       [  0.55408163],\n",
       "       [  2.55408163],\n",
       "       [  0.55408163],\n",
       "       [  2.55408163],\n",
       "       [  7.55408163],\n",
       "       [ -4.44591837],\n",
       "       [ -5.44591837],\n",
       "       [ -8.44591837],\n",
       "       [ -8.44591837],\n",
       "       [ -7.44591837],\n",
       "       [ -8.44591837],\n",
       "       [ -7.44591837],\n",
       "       [ -9.44591837],\n",
       "       [ -6.44591837],\n",
       "       [ -7.44591837],\n",
       "       [ -8.44591837],\n",
       "       [ -5.44591837],\n",
       "       [ -2.44591837],\n",
       "       [ -3.44591837],\n",
       "       [-10.44591837],\n",
       "       [  5.55408163],\n",
       "       [ -0.44591837],\n",
       "       [ -3.44591837],\n",
       "       [ -0.44591837],\n",
       "       [  0.55408163],\n",
       "       [  1.55408163],\n",
       "       [  0.55408163],\n",
       "       [ -5.44591837],\n",
       "       [  5.55408163],\n",
       "       [ -4.44591837],\n",
       "       [ -0.44591837],\n",
       "       [ -0.44591837],\n",
       "       [ -1.44591837],\n",
       "       [  1.55408163],\n",
       "       [  9.55408163],\n",
       "       [  4.55408163],\n",
       "       [  1.55408163],\n",
       "       [  1.55408163],\n",
       "       [  2.55408163],\n",
       "       [  3.55408163],\n",
       "       [ -5.94591837],\n",
       "       [ -7.44591837],\n",
       "       [ -7.94591837],\n",
       "       [ -8.94591837],\n",
       "       [ -1.44591837],\n",
       "       [ -1.44591837],\n",
       "       [  0.55408163],\n",
       "       [ -0.94591837],\n",
       "       [  5.55408163],\n",
       "       [  1.05408163],\n",
       "       [  5.55408163],\n",
       "       [  9.55408163],\n",
       "       [ -3.44591837],\n",
       "       [ -5.44591837],\n",
       "       [ -4.94591837],\n",
       "       [ -5.94591837],\n",
       "       [  6.05408163],\n",
       "       [  8.55408163],\n",
       "       [  4.55408163],\n",
       "       [  3.05408163],\n",
       "       [ -3.44591837],\n",
       "       [-10.44591837],\n",
       "       [ -4.44591837],\n",
       "       [ -4.44591837],\n",
       "       [ -6.94591837],\n",
       "       [ -6.94591837],\n",
       "       [-10.44591837],\n",
       "       [-10.44591837],\n",
       "       [-10.44591837],\n",
       "       [  8.05408163],\n",
       "       [  6.55408163],\n",
       "       [ 12.55408163],\n",
       "       [  2.05408163],\n",
       "       [ 10.05408163],\n",
       "       [ -5.94591837],\n",
       "       [ -6.44591837],\n",
       "       [ -7.94591837],\n",
       "       [ -8.44591837],\n",
       "       [ -5.94591837],\n",
       "       [ -2.94591837],\n",
       "       [ -4.44591837],\n",
       "       [ -4.94591837],\n",
       "       [ -7.44591837],\n",
       "       [ -7.94591837],\n",
       "       [ -7.94591837],\n",
       "       [ -7.44591837],\n",
       "       [  5.55408163],\n",
       "       [  1.05408163],\n",
       "       [  2.55408163],\n",
       "       [  2.05408163],\n",
       "       [  7.05408163],\n",
       "       [ 10.05408163],\n",
       "       [  6.55408163],\n",
       "       [  7.05408163],\n",
       "       [ -1.44591837],\n",
       "       [ -1.94591837],\n",
       "       [ -1.94591837],\n",
       "       [ 19.65408163],\n",
       "       [ 12.65408163],\n",
       "       [  9.35408163],\n",
       "       [ 15.95408163],\n",
       "       [ 12.65408163],\n",
       "       [ -3.54591837],\n",
       "       [ -4.04591837],\n",
       "       [ -3.24591837],\n",
       "       [ -4.24591837],\n",
       "       [ -2.94591837],\n",
       "       [ -3.24591837],\n",
       "       [  1.65408163],\n",
       "       [ -2.94591837],\n",
       "       [ -4.04591837],\n",
       "       [ -2.84591837],\n",
       "       [ -2.64591837],\n",
       "       [ -4.84591837],\n",
       "       [ -5.34591837],\n",
       "       [ -4.24591837],\n",
       "       [ -5.74591837],\n",
       "       [ -5.34591837],\n",
       "       [ -5.94591837],\n",
       "       [  6.55408163],\n",
       "       [  4.05408163],\n",
       "       [  3.75408163],\n",
       "       [  7.45408163],\n",
       "       [ -2.34591837],\n",
       "       [ -0.24591837],\n",
       "       [  0.35408163],\n",
       "       [  0.45408163],\n",
       "       [ -3.14591837],\n",
       "       [ -6.44591837],\n",
       "       [ -1.84591837],\n",
       "       [ -7.24591837],\n",
       "       [  8.05408163],\n",
       "       [  6.05408163],\n",
       "       [ -1.94591837],\n",
       "       [ -3.64591837],\n",
       "       [ -1.14591837],\n",
       "       [ -3.24591837],\n",
       "       [ -2.84591837],\n",
       "       [ -6.44591837],\n",
       "       [ -5.84591837],\n",
       "       [ -6.94591837],\n",
       "       [ -5.24591837],\n",
       "       [ -6.54591837],\n",
       "       [ -7.94591837],\n",
       "       [ -4.24591837],\n",
       "       [ -4.94591837],\n",
       "       [  8.45408163],\n",
       "       [ 10.65408163],\n",
       "       [ 12.25408163],\n",
       "       [  3.95408163],\n",
       "       [  1.95408163],\n",
       "       [ -0.44591837],\n",
       "       [  3.75408163],\n",
       "       [  0.45408163],\n",
       "       [ 10.75408163],\n",
       "       [ 11.05408163],\n",
       "       [  8.35408163],\n",
       "       [ 13.85408163],\n",
       "       [  4.95408163],\n",
       "       [  5.35408163],\n",
       "       [  3.35408163],\n",
       "       [ 10.05408163],\n",
       "       [ 18.05408163],\n",
       "       [ 14.65408163],\n",
       "       [  8.65408163],\n",
       "       [ 13.75408163],\n",
       "       [  4.55408163],\n",
       "       [  2.95408163],\n",
       "       [  0.85408163],\n",
       "       [ -4.34591837],\n",
       "       [ 10.85408163],\n",
       "       [  6.35408163],\n",
       "       [  7.85408163],\n",
       "       [ 13.55408163],\n",
       "       [  8.75408163],\n",
       "       [ 23.15408163],\n",
       "       [  4.45408163],\n",
       "       [ 17.35408163],\n",
       "       [ 20.85408163],\n",
       "       [ 19.95408163],\n",
       "       [ 12.95408163],\n",
       "       [  6.55408163],\n",
       "       [ 21.15408163],\n",
       "       [ 10.35408163],\n",
       "       [  6.35408163],\n",
       "       [  9.25408163],\n",
       "       [  0.25408163],\n",
       "       [ 11.55408163],\n",
       "       [  8.95408163],\n",
       "       [  3.75408163],\n",
       "       [  3.15408163],\n",
       "       [  2.35408163],\n",
       "       [  0.05408163],\n",
       "       [  6.55408163],\n",
       "       [ 15.65408163],\n",
       "       [ 15.55408163],\n",
       "       [ 11.65408163],\n",
       "       [  8.85408163],\n",
       "       [ 13.55408163],\n",
       "       [ 14.25408163],\n",
       "       [ 10.65408163],\n",
       "       [ 11.25408163],\n",
       "       [ 10.95408163],\n",
       "       [  6.45408163],\n",
       "       [  9.55408163],\n",
       "       [ 10.25408163],\n",
       "       [  8.95408163],\n",
       "       [  9.45408163],\n",
       "       [  8.15408163],\n",
       "       [  4.65408163],\n",
       "       [  7.25408163],\n",
       "       [  1.95408163],\n",
       "       [  0.75408163],\n",
       "       [ -1.04591837],\n",
       "       [  3.15408163],\n",
       "       [ -3.24591837],\n",
       "       [ -5.84591837],\n",
       "       [  4.55408163],\n",
       "       [  3.55408163],\n",
       "       [ 10.55408163],\n",
       "       [  7.55408163],\n",
       "       [  5.55408163],\n",
       "       [  3.55408163],\n",
       "       [  0.55408163],\n",
       "       [ 12.55408163],\n",
       "       [ 13.55408163],\n",
       "       [  7.55408163],\n",
       "       [ 14.55408163],\n",
       "       [ 12.55408163],\n",
       "       [ 12.55408163],\n",
       "       [ 12.55408163],\n",
       "       [ 10.55408163],\n",
       "       [ 14.55408163],\n",
       "       [  8.55408163],\n",
       "       [ 14.55408163],\n",
       "       [  1.55408163],\n",
       "       [ 14.55408163],\n",
       "       [  2.55408163],\n",
       "       [ -1.44591837],\n",
       "       [  8.55408163],\n",
       "       [ 12.55408163],\n",
       "       [  3.55408163],\n",
       "       [  3.55408163],\n",
       "       [ 20.55408163],\n",
       "       [  8.55408163],\n",
       "       [  4.55408163],\n",
       "       [  7.55408163]])"
      ]
     },
     "execution_count": 115,
     "metadata": {},
     "output_type": "execute_result"
    }
   ],
   "source": [
    "C.dot(y)"
   ]
  },
  {
   "cell_type": "code",
   "execution_count": 116,
   "id": "29e8bc89-d654-4fb8-a29c-0ff2bf5a7dd0",
   "metadata": {
    "collapsed": true,
    "jupyter": {
     "outputs_hidden": true
    },
    "tags": []
   },
   "outputs": [
    {
     "data": {
      "text/plain": [
       "array([[ -5.44591837],\n",
       "       [ -8.44591837],\n",
       "       [ -5.44591837],\n",
       "       [ -7.44591837],\n",
       "       [ -6.44591837],\n",
       "       [ -8.44591837],\n",
       "       [ -9.44591837],\n",
       "       [ -9.44591837],\n",
       "       [ -9.44591837],\n",
       "       [ -8.44591837],\n",
       "       [ -8.44591837],\n",
       "       [ -9.44591837],\n",
       "       [ -8.44591837],\n",
       "       [ -9.44591837],\n",
       "       [  0.55408163],\n",
       "       [ -1.44591837],\n",
       "       [ -5.44591837],\n",
       "       [ -2.44591837],\n",
       "       [  3.55408163],\n",
       "       [  2.55408163],\n",
       "       [  1.55408163],\n",
       "       [  0.55408163],\n",
       "       [  1.55408163],\n",
       "       [  2.55408163],\n",
       "       [ -2.44591837],\n",
       "       [-13.44591837],\n",
       "       [-13.44591837],\n",
       "       [-12.44591837],\n",
       "       [-14.44591837],\n",
       "       [  3.55408163],\n",
       "       [  4.55408163],\n",
       "       [  1.55408163],\n",
       "       [ -4.44591837],\n",
       "       [ -7.44591837],\n",
       "       [ -6.44591837],\n",
       "       [ -4.44591837],\n",
       "       [ -5.44591837],\n",
       "       [ -9.44591837],\n",
       "       [ -9.44591837],\n",
       "       [ -9.44591837],\n",
       "       [ -9.44591837],\n",
       "       [-11.44591837],\n",
       "       [-10.44591837],\n",
       "       [-10.44591837],\n",
       "       [ -5.44591837],\n",
       "       [ -1.44591837],\n",
       "       [ -4.44591837],\n",
       "       [ -5.44591837],\n",
       "       [ -0.44591837],\n",
       "       [  4.55408163],\n",
       "       [  6.55408163],\n",
       "       [  6.55408163],\n",
       "       [  7.55408163],\n",
       "       [ 11.55408163],\n",
       "       [  3.55408163],\n",
       "       [  2.55408163],\n",
       "       [  0.55408163],\n",
       "       [  1.55408163],\n",
       "       [ -0.44591837],\n",
       "       [ -3.44591837],\n",
       "       [ -2.44591837],\n",
       "       [-10.44591837],\n",
       "       [ -9.44591837],\n",
       "       [ -8.44591837],\n",
       "       [ -9.44591837],\n",
       "       [ -6.44591837],\n",
       "       [-12.44591837],\n",
       "       [-10.44591837],\n",
       "       [-11.44591837],\n",
       "       [-10.44591837],\n",
       "       [ -4.44591837],\n",
       "       [ -8.44591837],\n",
       "       [-10.44591837],\n",
       "       [-10.44591837],\n",
       "       [ -9.44591837],\n",
       "       [ -5.44591837],\n",
       "       [ -1.44591837],\n",
       "       [ -2.44591837],\n",
       "       [  2.55408163],\n",
       "       [ -1.44591837],\n",
       "       [  4.55408163],\n",
       "       [ -0.44591837],\n",
       "       [  4.55408163],\n",
       "       [  3.55408163],\n",
       "       [-10.44591837],\n",
       "       [ -9.44591837],\n",
       "       [-10.44591837],\n",
       "       [ -9.44591837],\n",
       "       [ -8.44591837],\n",
       "       [-11.44591837],\n",
       "       [-10.44591837],\n",
       "       [-10.44591837],\n",
       "       [ -9.44591837],\n",
       "       [-10.44591837],\n",
       "       [-11.44591837],\n",
       "       [-10.44591837],\n",
       "       [ -5.44591837],\n",
       "       [ -7.44591837],\n",
       "       [ -5.44591837],\n",
       "       [ -5.44591837],\n",
       "       [ -0.44591837],\n",
       "       [  2.55408163],\n",
       "       [-12.44591837],\n",
       "       [-11.44591837],\n",
       "       [-10.44591837],\n",
       "       [-11.44591837],\n",
       "       [ -5.44591837],\n",
       "       [ -3.44591837],\n",
       "       [ -2.44591837],\n",
       "       [ -1.44591837],\n",
       "       [ -5.44591837],\n",
       "       [ -4.44591837],\n",
       "       [ -2.44591837],\n",
       "       [  2.55408163],\n",
       "       [ -8.44591837],\n",
       "       [ -7.44591837],\n",
       "       [  5.55408163],\n",
       "       [  0.55408163],\n",
       "       [ -3.44591837],\n",
       "       [ -4.44591837],\n",
       "       [ -8.44591837],\n",
       "       [  0.55408163],\n",
       "       [ -3.44591837],\n",
       "       [-12.44591837],\n",
       "       [ -3.44591837],\n",
       "       [ -4.44591837],\n",
       "       [ -8.44591837],\n",
       "       [  7.55408163],\n",
       "       [  2.55408163],\n",
       "       [  8.55408163],\n",
       "       [  1.55408163],\n",
       "       [ -7.44591837],\n",
       "       [ -7.44591837],\n",
       "       [ -5.44591837],\n",
       "       [ -7.44591837],\n",
       "       [-10.44591837],\n",
       "       [ -9.44591837],\n",
       "       [ -9.44591837],\n",
       "       [ -9.44591837],\n",
       "       [  5.55408163],\n",
       "       [  2.55408163],\n",
       "       [  2.55408163],\n",
       "       [  7.55408163],\n",
       "       [  8.55408163],\n",
       "       [  4.55408163],\n",
       "       [  0.55408163],\n",
       "       [  2.55408163],\n",
       "       [  0.55408163],\n",
       "       [  2.55408163],\n",
       "       [  7.55408163],\n",
       "       [ -4.44591837],\n",
       "       [ -5.44591837],\n",
       "       [ -8.44591837],\n",
       "       [ -8.44591837],\n",
       "       [ -7.44591837],\n",
       "       [ -8.44591837],\n",
       "       [ -7.44591837],\n",
       "       [ -9.44591837],\n",
       "       [ -6.44591837],\n",
       "       [ -7.44591837],\n",
       "       [ -8.44591837],\n",
       "       [ -5.44591837],\n",
       "       [ -2.44591837],\n",
       "       [ -3.44591837],\n",
       "       [-10.44591837],\n",
       "       [  5.55408163],\n",
       "       [ -0.44591837],\n",
       "       [ -3.44591837],\n",
       "       [ -0.44591837],\n",
       "       [  0.55408163],\n",
       "       [  1.55408163],\n",
       "       [  0.55408163],\n",
       "       [ -5.44591837],\n",
       "       [  5.55408163],\n",
       "       [ -4.44591837],\n",
       "       [ -0.44591837],\n",
       "       [ -0.44591837],\n",
       "       [ -1.44591837],\n",
       "       [  1.55408163],\n",
       "       [  9.55408163],\n",
       "       [  4.55408163],\n",
       "       [  1.55408163],\n",
       "       [  1.55408163],\n",
       "       [  2.55408163],\n",
       "       [  3.55408163],\n",
       "       [ -5.94591837],\n",
       "       [ -7.44591837],\n",
       "       [ -7.94591837],\n",
       "       [ -8.94591837],\n",
       "       [ -1.44591837],\n",
       "       [ -1.44591837],\n",
       "       [  0.55408163],\n",
       "       [ -0.94591837],\n",
       "       [  5.55408163],\n",
       "       [  1.05408163],\n",
       "       [  5.55408163],\n",
       "       [  9.55408163],\n",
       "       [ -3.44591837],\n",
       "       [ -5.44591837],\n",
       "       [ -4.94591837],\n",
       "       [ -5.94591837],\n",
       "       [  6.05408163],\n",
       "       [  8.55408163],\n",
       "       [  4.55408163],\n",
       "       [  3.05408163],\n",
       "       [ -3.44591837],\n",
       "       [-10.44591837],\n",
       "       [ -4.44591837],\n",
       "       [ -4.44591837],\n",
       "       [ -6.94591837],\n",
       "       [ -6.94591837],\n",
       "       [-10.44591837],\n",
       "       [-10.44591837],\n",
       "       [-10.44591837],\n",
       "       [  8.05408163],\n",
       "       [  6.55408163],\n",
       "       [ 12.55408163],\n",
       "       [  2.05408163],\n",
       "       [ 10.05408163],\n",
       "       [ -5.94591837],\n",
       "       [ -6.44591837],\n",
       "       [ -7.94591837],\n",
       "       [ -8.44591837],\n",
       "       [ -5.94591837],\n",
       "       [ -2.94591837],\n",
       "       [ -4.44591837],\n",
       "       [ -4.94591837],\n",
       "       [ -7.44591837],\n",
       "       [ -7.94591837],\n",
       "       [ -7.94591837],\n",
       "       [ -7.44591837],\n",
       "       [  5.55408163],\n",
       "       [  1.05408163],\n",
       "       [  2.55408163],\n",
       "       [  2.05408163],\n",
       "       [  7.05408163],\n",
       "       [ 10.05408163],\n",
       "       [  6.55408163],\n",
       "       [  7.05408163],\n",
       "       [ -1.44591837],\n",
       "       [ -1.94591837],\n",
       "       [ -1.94591837],\n",
       "       [ 19.65408163],\n",
       "       [ 12.65408163],\n",
       "       [  9.35408163],\n",
       "       [ 15.95408163],\n",
       "       [ 12.65408163],\n",
       "       [ -3.54591837],\n",
       "       [ -4.04591837],\n",
       "       [ -3.24591837],\n",
       "       [ -4.24591837],\n",
       "       [ -2.94591837],\n",
       "       [ -3.24591837],\n",
       "       [  1.65408163],\n",
       "       [ -2.94591837],\n",
       "       [ -4.04591837],\n",
       "       [ -2.84591837],\n",
       "       [ -2.64591837],\n",
       "       [ -4.84591837],\n",
       "       [ -5.34591837],\n",
       "       [ -4.24591837],\n",
       "       [ -5.74591837],\n",
       "       [ -5.34591837],\n",
       "       [ -5.94591837],\n",
       "       [  6.55408163],\n",
       "       [  4.05408163],\n",
       "       [  3.75408163],\n",
       "       [  7.45408163],\n",
       "       [ -2.34591837],\n",
       "       [ -0.24591837],\n",
       "       [  0.35408163],\n",
       "       [  0.45408163],\n",
       "       [ -3.14591837],\n",
       "       [ -6.44591837],\n",
       "       [ -1.84591837],\n",
       "       [ -7.24591837],\n",
       "       [  8.05408163],\n",
       "       [  6.05408163],\n",
       "       [ -1.94591837],\n",
       "       [ -3.64591837],\n",
       "       [ -1.14591837],\n",
       "       [ -3.24591837],\n",
       "       [ -2.84591837],\n",
       "       [ -6.44591837],\n",
       "       [ -5.84591837],\n",
       "       [ -6.94591837],\n",
       "       [ -5.24591837],\n",
       "       [ -6.54591837],\n",
       "       [ -7.94591837],\n",
       "       [ -4.24591837],\n",
       "       [ -4.94591837],\n",
       "       [  8.45408163],\n",
       "       [ 10.65408163],\n",
       "       [ 12.25408163],\n",
       "       [  3.95408163],\n",
       "       [  1.95408163],\n",
       "       [ -0.44591837],\n",
       "       [  3.75408163],\n",
       "       [  0.45408163],\n",
       "       [ 10.75408163],\n",
       "       [ 11.05408163],\n",
       "       [  8.35408163],\n",
       "       [ 13.85408163],\n",
       "       [  4.95408163],\n",
       "       [  5.35408163],\n",
       "       [  3.35408163],\n",
       "       [ 10.05408163],\n",
       "       [ 18.05408163],\n",
       "       [ 14.65408163],\n",
       "       [  8.65408163],\n",
       "       [ 13.75408163],\n",
       "       [  4.55408163],\n",
       "       [  2.95408163],\n",
       "       [  0.85408163],\n",
       "       [ -4.34591837],\n",
       "       [ 10.85408163],\n",
       "       [  6.35408163],\n",
       "       [  7.85408163],\n",
       "       [ 13.55408163],\n",
       "       [  8.75408163],\n",
       "       [ 23.15408163],\n",
       "       [  4.45408163],\n",
       "       [ 17.35408163],\n",
       "       [ 20.85408163],\n",
       "       [ 19.95408163],\n",
       "       [ 12.95408163],\n",
       "       [  6.55408163],\n",
       "       [ 21.15408163],\n",
       "       [ 10.35408163],\n",
       "       [  6.35408163],\n",
       "       [  9.25408163],\n",
       "       [  0.25408163],\n",
       "       [ 11.55408163],\n",
       "       [  8.95408163],\n",
       "       [  3.75408163],\n",
       "       [  3.15408163],\n",
       "       [  2.35408163],\n",
       "       [  0.05408163],\n",
       "       [  6.55408163],\n",
       "       [ 15.65408163],\n",
       "       [ 15.55408163],\n",
       "       [ 11.65408163],\n",
       "       [  8.85408163],\n",
       "       [ 13.55408163],\n",
       "       [ 14.25408163],\n",
       "       [ 10.65408163],\n",
       "       [ 11.25408163],\n",
       "       [ 10.95408163],\n",
       "       [  6.45408163],\n",
       "       [  9.55408163],\n",
       "       [ 10.25408163],\n",
       "       [  8.95408163],\n",
       "       [  9.45408163],\n",
       "       [  8.15408163],\n",
       "       [  4.65408163],\n",
       "       [  7.25408163],\n",
       "       [  1.95408163],\n",
       "       [  0.75408163],\n",
       "       [ -1.04591837],\n",
       "       [  3.15408163],\n",
       "       [ -3.24591837],\n",
       "       [ -5.84591837],\n",
       "       [  4.55408163],\n",
       "       [  3.55408163],\n",
       "       [ 10.55408163],\n",
       "       [  7.55408163],\n",
       "       [  5.55408163],\n",
       "       [  3.55408163],\n",
       "       [  0.55408163],\n",
       "       [ 12.55408163],\n",
       "       [ 13.55408163],\n",
       "       [  7.55408163],\n",
       "       [ 14.55408163],\n",
       "       [ 12.55408163],\n",
       "       [ 12.55408163],\n",
       "       [ 12.55408163],\n",
       "       [ 10.55408163],\n",
       "       [ 14.55408163],\n",
       "       [  8.55408163],\n",
       "       [ 14.55408163],\n",
       "       [  1.55408163],\n",
       "       [ 14.55408163],\n",
       "       [  2.55408163],\n",
       "       [ -1.44591837],\n",
       "       [  8.55408163],\n",
       "       [ 12.55408163],\n",
       "       [  3.55408163],\n",
       "       [  3.55408163],\n",
       "       [ 20.55408163],\n",
       "       [  8.55408163],\n",
       "       [  4.55408163],\n",
       "       [  7.55408163]])"
      ]
     },
     "execution_count": 116,
     "metadata": {},
     "output_type": "execute_result"
    }
   ],
   "source": [
    "y-y.mean()"
   ]
  },
  {
   "cell_type": "code",
   "execution_count": 117,
   "id": "d17321b7-7836-4753-962b-6389ab0f627d",
   "metadata": {},
   "outputs": [],
   "source": [
    "centering_1 = C.dot(y)\n",
    "centering_2 = y - y.mean()"
   ]
  },
  {
   "cell_type": "code",
   "execution_count": 118,
   "id": "f57c32e4-b101-4f29-970c-7b013feedcf1",
   "metadata": {
    "collapsed": true,
    "jupyter": {
     "outputs_hidden": true
    },
    "tags": []
   },
   "outputs": [
    {
     "data": {
      "text/plain": [
       "array([[-7.99360578e-15],\n",
       "       [ 7.10542736e-15],\n",
       "       [ 8.88178420e-15],\n",
       "       [ 1.77635684e-15],\n",
       "       [ 2.66453526e-15],\n",
       "       [ 7.10542736e-15],\n",
       "       [ 8.88178420e-15],\n",
       "       [ 3.55271368e-15],\n",
       "       [ 7.10542736e-15],\n",
       "       [ 7.10542736e-15],\n",
       "       [ 8.88178420e-15],\n",
       "       [ 1.77635684e-15],\n",
       "       [ 3.55271368e-15],\n",
       "       [ 7.10542736e-15],\n",
       "       [ 8.88178420e-15],\n",
       "       [-5.32907052e-15],\n",
       "       [-4.44089210e-15],\n",
       "       [-3.55271368e-15],\n",
       "       [ 5.32907052e-15],\n",
       "       [-8.88178420e-15],\n",
       "       [ 0.00000000e+00],\n",
       "       [-3.55271368e-15],\n",
       "       [ 5.32907052e-15],\n",
       "       [-8.88178420e-15],\n",
       "       [ 0.00000000e+00],\n",
       "       [ 3.55271368e-15],\n",
       "       [ 1.77635684e-15],\n",
       "       [ 3.55271368e-15],\n",
       "       [ 1.77635684e-15],\n",
       "       [-3.55271368e-15],\n",
       "       [ 5.32907052e-15],\n",
       "       [-8.88178420e-15],\n",
       "       [-7.99360578e-15],\n",
       "       [ 7.99360578e-15],\n",
       "       [ 8.88178420e-15],\n",
       "       [-8.88178420e-15],\n",
       "       [-4.44089210e-15],\n",
       "       [ 7.10542736e-15],\n",
       "       [ 7.10542736e-15],\n",
       "       [ 5.32907052e-15],\n",
       "       [ 3.55271368e-15],\n",
       "       [ 7.10542736e-15],\n",
       "       [ 7.10542736e-15],\n",
       "       [ 3.55271368e-15],\n",
       "       [-4.44089210e-15],\n",
       "       [ 0.00000000e+00],\n",
       "       [ 5.32907052e-15],\n",
       "       [-7.10542736e-15],\n",
       "       [-3.55271368e-15],\n",
       "       [ 0.00000000e+00],\n",
       "       [ 1.77635684e-15],\n",
       "       [-1.24344979e-14],\n",
       "       [-3.55271368e-15],\n",
       "       [ 2.13162821e-14],\n",
       "       [ 1.77635684e-15],\n",
       "       [-1.24344979e-14],\n",
       "       [ 0.00000000e+00],\n",
       "       [-3.55271368e-15],\n",
       "       [ 1.77635684e-15],\n",
       "       [-1.42108547e-14],\n",
       "       [ 0.00000000e+00],\n",
       "       [ 8.88178420e-15],\n",
       "       [ 7.10542736e-15],\n",
       "       [ 1.77635684e-15],\n",
       "       [ 3.55271368e-15],\n",
       "       [ 4.44089210e-15],\n",
       "       [ 1.77635684e-15],\n",
       "       [ 1.77635684e-15],\n",
       "       [ 3.55271368e-15],\n",
       "       [ 7.10542736e-15],\n",
       "       [ 1.77635684e-15],\n",
       "       [ 1.77635684e-15],\n",
       "       [ 3.55271368e-15],\n",
       "       [ 7.10542736e-15],\n",
       "       [ 7.10542736e-15],\n",
       "       [ 0.00000000e+00],\n",
       "       [ 0.00000000e+00],\n",
       "       [ 0.00000000e+00],\n",
       "       [ 5.32907052e-15],\n",
       "       [-5.32907052e-15],\n",
       "       [ 0.00000000e+00],\n",
       "       [ 0.00000000e+00],\n",
       "       [ 8.88178420e-15],\n",
       "       [-5.32907052e-15],\n",
       "       [ 3.55271368e-15],\n",
       "       [ 7.10542736e-15],\n",
       "       [ 7.10542736e-15],\n",
       "       [ 1.77635684e-15],\n",
       "       [ 3.55271368e-15],\n",
       "       [ 7.10542736e-15],\n",
       "       [ 7.10542736e-15],\n",
       "       [ 1.77635684e-15],\n",
       "       [ 3.55271368e-15],\n",
       "       [ 7.10542736e-15],\n",
       "       [ 7.10542736e-15],\n",
       "       [ 1.77635684e-15],\n",
       "       [-4.44089210e-15],\n",
       "       [ 7.99360578e-15],\n",
       "       [ 5.32907052e-15],\n",
       "       [ 0.00000000e+00],\n",
       "       [ 0.00000000e+00],\n",
       "       [-3.55271368e-15],\n",
       "       [ 1.77635684e-15],\n",
       "       [ 3.55271368e-15],\n",
       "       [ 0.00000000e+00],\n",
       "       [ 7.10542736e-15],\n",
       "       [ 5.32907052e-15],\n",
       "       [-7.10542736e-15],\n",
       "       [ 3.55271368e-15],\n",
       "       [ 3.55271368e-15],\n",
       "       [ 5.32907052e-15],\n",
       "       [-5.32907052e-15],\n",
       "       [ 3.55271368e-15],\n",
       "       [ 0.00000000e+00],\n",
       "       [ 7.10542736e-15],\n",
       "       [ 1.77635684e-15],\n",
       "       [ 3.55271368e-15],\n",
       "       [ 0.00000000e+00],\n",
       "       [ 7.10542736e-15],\n",
       "       [-8.88178420e-15],\n",
       "       [ 0.00000000e+00],\n",
       "       [ 0.00000000e+00],\n",
       "       [ 7.10542736e-15],\n",
       "       [ 0.00000000e+00],\n",
       "       [-3.55271368e-15],\n",
       "       [-2.66453526e-15],\n",
       "       [ 3.55271368e-15],\n",
       "       [-5.32907052e-15],\n",
       "       [ 3.55271368e-15],\n",
       "       [ 0.00000000e+00],\n",
       "       [ 8.88178420e-15],\n",
       "       [ 0.00000000e+00],\n",
       "       [ 8.88178420e-16],\n",
       "       [ 4.44089210e-15],\n",
       "       [ 5.32907052e-15],\n",
       "       [ 0.00000000e+00],\n",
       "       [ 0.00000000e+00],\n",
       "       [ 3.55271368e-15],\n",
       "       [ 5.32907052e-15],\n",
       "       [-5.32907052e-15],\n",
       "       [ 7.10542736e-15],\n",
       "       [ 3.55271368e-15],\n",
       "       [ 8.88178420e-15],\n",
       "       [-5.32907052e-15],\n",
       "       [ 3.55271368e-15],\n",
       "       [ 0.00000000e+00],\n",
       "       [ 8.88178420e-15],\n",
       "       [-5.32907052e-15],\n",
       "       [ 3.55271368e-15],\n",
       "       [ 0.00000000e+00],\n",
       "       [ 8.88178420e-15],\n",
       "       [ 0.00000000e+00],\n",
       "       [ 0.00000000e+00],\n",
       "       [ 7.10542736e-15],\n",
       "       [ 5.32907052e-15],\n",
       "       [ 0.00000000e+00],\n",
       "       [ 8.88178420e-16],\n",
       "       [ 7.10542736e-15],\n",
       "       [ 3.55271368e-15],\n",
       "       [ 0.00000000e+00],\n",
       "       [ 0.00000000e+00],\n",
       "       [ 4.44089210e-15],\n",
       "       [ 3.55271368e-15],\n",
       "       [-3.55271368e-15],\n",
       "       [ 0.00000000e+00],\n",
       "       [ 3.55271368e-15],\n",
       "       [ 5.32907052e-15],\n",
       "       [-3.55271368e-15],\n",
       "       [ 7.10542736e-15],\n",
       "       [ 7.10542736e-15],\n",
       "       [ 5.32907052e-15],\n",
       "       [-1.77635684e-15],\n",
       "       [-8.88178420e-16],\n",
       "       [ 3.55271368e-15],\n",
       "       [ 5.32907052e-15],\n",
       "       [-1.77635684e-15],\n",
       "       [ 7.10542736e-15],\n",
       "       [ 3.55271368e-15],\n",
       "       [ 5.32907052e-15],\n",
       "       [-1.77635684e-15],\n",
       "       [ 7.10542736e-15],\n",
       "       [ 3.55271368e-15],\n",
       "       [ 5.32907052e-15],\n",
       "       [ 1.77635684e-15],\n",
       "       [ 7.10542736e-15],\n",
       "       [ 4.44089210e-15],\n",
       "       [ 5.32907052e-15],\n",
       "       [ 0.00000000e+00],\n",
       "       [ 0.00000000e+00],\n",
       "       [ 7.10542736e-15],\n",
       "       [ 5.32907052e-15],\n",
       "       [-5.32907052e-15],\n",
       "       [ 7.10542736e-15],\n",
       "       [ 3.55271368e-15],\n",
       "       [ 5.32907052e-15],\n",
       "       [-1.77635684e-15],\n",
       "       [ 3.55271368e-15],\n",
       "       [ 3.55271368e-15],\n",
       "       [ 3.55271368e-15],\n",
       "       [ 0.00000000e+00],\n",
       "       [ 8.88178420e-16],\n",
       "       [ 3.55271368e-15],\n",
       "       [ 1.77635684e-15],\n",
       "       [ 1.77635684e-15],\n",
       "       [ 7.10542736e-15],\n",
       "       [ 3.55271368e-15],\n",
       "       [ 5.32907052e-15],\n",
       "       [-1.77635684e-15],\n",
       "       [-8.88178420e-16],\n",
       "       [ 4.44089210e-15],\n",
       "       [ 3.55271368e-15],\n",
       "       [ 0.00000000e+00],\n",
       "       [ 0.00000000e+00],\n",
       "       [ 5.32907052e-15],\n",
       "       [ 1.77635684e-15],\n",
       "       [-1.77635684e-15],\n",
       "       [ 3.55271368e-15],\n",
       "       [ 3.55271368e-15],\n",
       "       [ 1.77635684e-15],\n",
       "       [-1.77635684e-15],\n",
       "       [-2.66453526e-15],\n",
       "       [ 4.44089210e-15],\n",
       "       [ 3.55271368e-15],\n",
       "       [-1.77635684e-15],\n",
       "       [ 7.10542736e-15],\n",
       "       [ 4.44089210e-15],\n",
       "       [ 3.55271368e-15],\n",
       "       [ 1.77635684e-15],\n",
       "       [-8.88178420e-16],\n",
       "       [ 4.44089210e-15],\n",
       "       [ 5.32907052e-15],\n",
       "       [-1.77635684e-15],\n",
       "       [ 7.10542736e-15],\n",
       "       [ 7.10542736e-15],\n",
       "       [ 5.32907052e-15],\n",
       "       [ 1.77635684e-15],\n",
       "       [ 3.55271368e-15],\n",
       "       [ 7.10542736e-15],\n",
       "       [ 5.32907052e-15],\n",
       "       [ 1.77635684e-15],\n",
       "       [ 7.10542736e-15],\n",
       "       [ 3.55271368e-15],\n",
       "       [ 3.55271368e-15],\n",
       "       [ 1.77635684e-15],\n",
       "       [ 7.10542736e-15],\n",
       "       [-1.42108547e-14],\n",
       "       [-1.77635684e-15],\n",
       "       [ 0.00000000e+00],\n",
       "       [-8.88178420e-16],\n",
       "       [ 3.55271368e-15],\n",
       "       [ 1.77635684e-15],\n",
       "       [ 1.77635684e-15],\n",
       "       [ 3.55271368e-15],\n",
       "       [ 3.55271368e-15],\n",
       "       [ 1.77635684e-15],\n",
       "       [ 3.55271368e-15],\n",
       "       [ 3.55271368e-15],\n",
       "       [ 3.55271368e-15],\n",
       "       [ 3.55271368e-15],\n",
       "       [ 1.77635684e-15],\n",
       "       [ 8.88178420e-16],\n",
       "       [ 4.44089210e-15],\n",
       "       [ 3.55271368e-15],\n",
       "       [-1.77635684e-15],\n",
       "       [ 7.10542736e-15],\n",
       "       [ 3.55271368e-15],\n",
       "       [ 5.32907052e-15],\n",
       "       [-1.77635684e-15],\n",
       "       [ 7.10542736e-15],\n",
       "       [ 3.55271368e-15],\n",
       "       [ 1.77635684e-15],\n",
       "       [ 1.77635684e-15],\n",
       "       [ 3.55271368e-15],\n",
       "       [ 4.44089210e-15],\n",
       "       [ 3.55271368e-15],\n",
       "       [-1.77635684e-15],\n",
       "       [ 7.10542736e-15],\n",
       "       [ 0.00000000e+00],\n",
       "       [ 3.55271368e-15],\n",
       "       [ 0.00000000e+00],\n",
       "       [ 7.10542736e-15],\n",
       "       [ 3.55271368e-15],\n",
       "       [ 3.55271368e-15],\n",
       "       [ 0.00000000e+00],\n",
       "       [ 4.44089210e-15],\n",
       "       [ 4.44089210e-15],\n",
       "       [ 1.77635684e-15],\n",
       "       [ 0.00000000e+00],\n",
       "       [ 8.88178420e-16],\n",
       "       [ 4.44089210e-15],\n",
       "       [ 1.77635684e-15],\n",
       "       [ 1.77635684e-15],\n",
       "       [ 1.42108547e-14],\n",
       "       [ 7.10542736e-15],\n",
       "       [ 1.77635684e-15],\n",
       "       [ 1.77635684e-15],\n",
       "       [ 7.10542736e-15],\n",
       "       [ 3.55271368e-15],\n",
       "       [ 5.32907052e-15],\n",
       "       [ 1.77635684e-15],\n",
       "       [ 3.55271368e-15],\n",
       "       [ 0.00000000e+00],\n",
       "       [ 1.59872116e-14],\n",
       "       [ 1.77635684e-15],\n",
       "       [ 7.10542736e-15],\n",
       "       [ 3.55271368e-15],\n",
       "       [ 8.88178420e-15],\n",
       "       [ 3.55271368e-15],\n",
       "       [ 7.10542736e-15],\n",
       "       [ 7.10542736e-15],\n",
       "       [ 8.88178420e-15],\n",
       "       [ 1.77635684e-15],\n",
       "       [ 3.55271368e-15],\n",
       "       [ 0.00000000e+00],\n",
       "       [ 1.77635684e-15],\n",
       "       [ 5.32907052e-15],\n",
       "       [ 3.55271368e-15],\n",
       "       [ 0.00000000e+00],\n",
       "       [ 8.88178420e-15],\n",
       "       [ 5.32907052e-15],\n",
       "       [ 3.55271368e-15],\n",
       "       [ 3.55271368e-15],\n",
       "       [ 3.55271368e-15],\n",
       "       [ 3.55271368e-15],\n",
       "       [ 0.00000000e+00],\n",
       "       [ 7.10542736e-15],\n",
       "       [ 5.32907052e-15],\n",
       "       [ 1.06581410e-14],\n",
       "       [ 3.55271368e-15],\n",
       "       [ 0.00000000e+00],\n",
       "       [ 5.32907052e-15],\n",
       "       [ 1.77635684e-15],\n",
       "       [ 3.55271368e-15],\n",
       "       [-3.55271368e-15],\n",
       "       [ 5.32907052e-15],\n",
       "       [ 1.77635684e-15],\n",
       "       [ 3.55271368e-15],\n",
       "       [ 0.00000000e+00],\n",
       "       [ 1.77635684e-15],\n",
       "       [ 5.32907052e-15],\n",
       "       [ 7.10542736e-15],\n",
       "       [-3.55271368e-15],\n",
       "       [ 8.88178420e-15],\n",
       "       [ 1.77635684e-15],\n",
       "       [ 7.10542736e-15],\n",
       "       [ 3.55271368e-15],\n",
       "       [ 1.77635684e-15],\n",
       "       [ 1.77635684e-15],\n",
       "       [ 7.10542736e-15],\n",
       "       [-3.55271368e-15],\n",
       "       [ 8.88178420e-15],\n",
       "       [ 1.77635684e-15],\n",
       "       [ 3.55271368e-15],\n",
       "       [ 3.55271368e-15],\n",
       "       [ 5.32907052e-15],\n",
       "       [ 1.77635684e-15],\n",
       "       [ 3.55271368e-15],\n",
       "       [ 0.00000000e+00],\n",
       "       [ 5.32907052e-15],\n",
       "       [ 1.77635684e-15],\n",
       "       [ 3.55271368e-15],\n",
       "       [ 4.44089210e-15],\n",
       "       [ 5.32907052e-15],\n",
       "       [ 1.77635684e-15],\n",
       "       [ 3.55271368e-15],\n",
       "       [ 3.55271368e-15],\n",
       "       [ 1.77635684e-15],\n",
       "       [ 5.32907052e-15],\n",
       "       [ 3.55271368e-15],\n",
       "       [ 3.55271368e-15],\n",
       "       [ 5.32907052e-15],\n",
       "       [ 1.77635684e-15],\n",
       "       [ 7.10542736e-15],\n",
       "       [ 3.55271368e-15],\n",
       "       [ 5.32907052e-15],\n",
       "       [-1.77635684e-15],\n",
       "       [ 3.55271368e-15],\n",
       "       [ 0.00000000e+00],\n",
       "       [ 1.77635684e-15],\n",
       "       [-1.77635684e-15],\n",
       "       [ 3.55271368e-15],\n",
       "       [ 0.00000000e+00],\n",
       "       [ 1.77635684e-15],\n",
       "       [ 5.32907052e-15],\n",
       "       [ 3.55271368e-15],\n",
       "       [ 7.10542736e-15],\n",
       "       [ 1.77635684e-15],\n",
       "       [ 5.32907052e-15],\n",
       "       [ 3.55271368e-15],\n",
       "       [ 3.55271368e-15],\n",
       "       [ 5.32907052e-15],\n",
       "       [ 5.32907052e-15]])"
      ]
     },
     "execution_count": 118,
     "metadata": {},
     "output_type": "execute_result"
    }
   ],
   "source": [
    "centering_1 - centering_2"
   ]
  },
  {
   "cell_type": "code",
   "execution_count": 132,
   "id": "fb7c7a71-9b29-4fc0-8663-211e1be25e12",
   "metadata": {},
   "outputs": [
    {
     "data": {
      "text/plain": [
       "[<matplotlib.lines.Line2D at 0x7f258836ebb0>]"
      ]
     },
     "execution_count": 132,
     "metadata": {},
     "output_type": "execute_result"
    },
    {
     "data": {
      "image/png": "[encoded data removed]",
      "text/plain": [
       "<Figure size 640x480 with 1 Axes>"
      ]
     },
     "metadata": {},
     "output_type": "display_data"
    }
   ],
   "source": [
    "plt.plot(y)\n",
    "plt.axhline(y.mean(),color='g')\n",
    "plt.plot(centering_1, c='red')\n",
    "#lt.plot(centering_2,'s',c='red')"
   ]
  },
  {
   "cell_type": "code",
   "execution_count": 133,
   "id": "0d10716d-ae6d-4fc6-9cda-958ca9bd4254",
   "metadata": {},
   "outputs": [
    {
     "data": {
      "text/plain": [
       "array([3.96961375e-15])"
      ]
     },
     "execution_count": 133,
     "metadata": {},
     "output_type": "execute_result"
    }
   ],
   "source": [
    "np.linalg.inv(v1s.transpose().dot(v1s).reshape(-1,1)).dot(np.dot(v1s.transpose(),centering_1))"
   ]
  },
  {
   "cell_type": "code",
   "execution_count": 135,
   "id": "f9717c94-533b-48d5-9032-b2fb4d643acd",
   "metadata": {},
   "outputs": [
    {
     "data": {
      "text/plain": [
       "array([1.40477199e-15])"
      ]
     },
     "execution_count": 135,
     "metadata": {},
     "output_type": "execute_result"
    }
   ],
   "source": [
    "np.linalg.inv(v1s.transpose().dot(v1s).reshape(-1,1)).dot(np.dot(v1s.transpose(),centering_2))"
   ]
  },
  {
   "cell_type": "code",
   "execution_count": 136,
   "id": "ecd8395d-7de8-4e9a-b20a-d9cac03dbcd5",
   "metadata": {},
   "outputs": [
    {
     "data": {
      "text/plain": [
       "2.0301221021717147e-15"
      ]
     },
     "execution_count": 136,
     "metadata": {},
     "output_type": "execute_result"
    }
   ],
   "source": [
    "(y - y.mean()).mean()"
   ]
  },
  {
   "cell_type": "code",
   "execution_count": 138,
   "id": "89069a02-8d7f-447c-8201-e1f288be7d42",
   "metadata": {},
   "outputs": [
    {
     "data": {
      "text/plain": [
       "array([[0., 0., 0., ..., 0., 0., 0.],\n",
       "       [0., 0., 0., ..., 0., 0., 0.],\n",
       "       [0., 0., 0., ..., 0., 0., 0.],\n",
       "       ...,\n",
       "       [0., 0., 0., ..., 0., 0., 0.],\n",
       "       [0., 0., 0., ..., 0., 0., 0.],\n",
       "       [0., 0., 0., ..., 0., 0., 0.]])"
      ]
     },
     "execution_count": 138,
     "metadata": {},
     "output_type": "execute_result"
    }
   ],
   "source": [
    "C.T - C"
   ]
  },
  {
   "cell_type": "code",
   "execution_count": 139,
   "id": "92c93d6c-d8c0-41c9-8445-d31128f160dd",
   "metadata": {},
   "outputs": [],
   "source": [
    "# scipy.linalg.issymmetric(C)"
   ]
  },
  {
   "cell_type": "code",
   "execution_count": 141,
   "id": "0d55abd9-0bdb-494d-83f3-4a7e8e44f21c",
   "metadata": {},
   "outputs": [
    {
     "data": {
      "text/plain": [
       "array([[ 0.99744898, -0.00255102, -0.00255102, ..., -0.00255102,\n",
       "        -0.00255102, -0.00255102],\n",
       "       [-0.00255102,  0.99744898, -0.00255102, ..., -0.00255102,\n",
       "        -0.00255102, -0.00255102],\n",
       "       [-0.00255102, -0.00255102,  0.99744898, ..., -0.00255102,\n",
       "        -0.00255102, -0.00255102],\n",
       "       ...,\n",
       "       [-0.00255102, -0.00255102, -0.00255102, ...,  0.99744898,\n",
       "        -0.00255102, -0.00255102],\n",
       "       [-0.00255102, -0.00255102, -0.00255102, ..., -0.00255102,\n",
       "         0.99744898, -0.00255102],\n",
       "       [-0.00255102, -0.00255102, -0.00255102, ..., -0.00255102,\n",
       "        -0.00255102,  0.99744898]])"
      ]
     },
     "execution_count": 141,
     "metadata": {},
     "output_type": "execute_result"
    }
   ],
   "source": [
    "C.dot(C)"
   ]
  },
  {
   "cell_type": "code",
   "execution_count": 147,
   "id": "adad6f92-4edd-40bd-9388-dd4fcbab0393",
   "metadata": {},
   "outputs": [
    {
     "data": {
      "text/plain": [
       "array([[ 1.62092562e-14,  1.09721260e-16,  1.09721260e-16, ...,\n",
       "        -3.25260652e-17, -3.16587034e-17, -3.16587034e-17],\n",
       "       [ 1.09721260e-16,  1.59872116e-14,  1.09721260e-16, ...,\n",
       "        -3.25260652e-17, -3.16587034e-17, -3.16587034e-17],\n",
       "       [ 1.09721260e-16,  1.09721260e-16,  1.59872116e-14, ...,\n",
       "        -3.07913417e-17, -3.16587034e-17, -3.16587034e-17],\n",
       "       ...,\n",
       "       [-6.20163643e-17, -6.11490025e-17, -6.02816408e-17, ...,\n",
       "         0.00000000e+00,  9.97465999e-18,  1.25767452e-17],\n",
       "       [-6.20163643e-17, -6.11490025e-17, -6.02816408e-17, ...,\n",
       "         1.30104261e-17,  0.00000000e+00,  1.30104261e-17],\n",
       "       [-6.11490025e-17, -6.02816408e-17, -5.98479599e-17, ...,\n",
       "         1.30104261e-17,  1.25767452e-17,  0.00000000e+00]])"
      ]
     },
     "execution_count": 147,
     "metadata": {},
     "output_type": "execute_result"
    }
   ],
   "source": [
    "np.linalg.matrix_power(C,4) -C"
   ]
  },
  {
   "cell_type": "code",
   "execution_count": 144,
   "id": "d65214c9-f1be-41ff-b93c-d0ae815ab5ef",
   "metadata": {},
   "outputs": [
    {
     "data": {
      "text/plain": [
       "array([[ 0.99744898, -0.00255102, -0.00255102, ..., -0.00255102,\n",
       "        -0.00255102, -0.00255102],\n",
       "       [-0.00255102,  0.99744898, -0.00255102, ..., -0.00255102,\n",
       "        -0.00255102, -0.00255102],\n",
       "       [-0.00255102, -0.00255102,  0.99744898, ..., -0.00255102,\n",
       "        -0.00255102, -0.00255102],\n",
       "       ...,\n",
       "       [-0.00255102, -0.00255102, -0.00255102, ...,  0.99744898,\n",
       "        -0.00255102, -0.00255102],\n",
       "       [-0.00255102, -0.00255102, -0.00255102, ..., -0.00255102,\n",
       "         0.99744898, -0.00255102],\n",
       "       [-0.00255102, -0.00255102, -0.00255102, ..., -0.00255102,\n",
       "        -0.00255102,  0.99744898]])"
      ]
     },
     "execution_count": 144,
     "metadata": {},
     "output_type": "execute_result"
    }
   ],
   "source": [
    "C"
   ]
  },
  {
   "cell_type": "code",
   "execution_count": 155,
   "id": "058b9e63-eeb9-422d-8e44-22aab03b52b2",
   "metadata": {},
   "outputs": [
    {
     "data": {
      "text/plain": [
       "array([[60.91814187]])"
      ]
     },
     "execution_count": 155,
     "metadata": {},
     "output_type": "execute_result"
    }
   ],
   "source": [
    "np.dot(y.T,np.dot(C,y))/(n-1)"
   ]
  },
  {
   "cell_type": "code",
   "execution_count": 153,
   "id": "c576d476-d443-4338-80fe-7601217d42eb",
   "metadata": {},
   "outputs": [
    {
     "data": {
      "text/plain": [
       "60.76273844231571"
      ]
     },
     "execution_count": 153,
     "metadata": {},
     "output_type": "execute_result"
    }
   ],
   "source": [
    "y.var()"
   ]
  },
  {
   "cell_type": "code",
   "execution_count": 156,
   "id": "180b629a-2f31-4de4-8148-aea91cd63a1b",
   "metadata": {},
   "outputs": [
    {
     "data": {
      "text/plain": [
       "array([[7.80500749]])"
      ]
     },
     "execution_count": 156,
     "metadata": {},
     "output_type": "execute_result"
    }
   ],
   "source": [
    "np.sqrt(np.dot(y.T,np.dot(C,y))/(n-1))"
   ]
  },
  {
   "cell_type": "code",
   "execution_count": 157,
   "id": "40791950-e6f6-4cb0-a7d9-eeb316621da2",
   "metadata": {},
   "outputs": [
    {
     "data": {
      "text/plain": [
       "7.795045762682584"
      ]
     },
     "execution_count": 157,
     "metadata": {},
     "output_type": "execute_result"
    }
   ],
   "source": [
    "y.std()"
   ]
  },
  {
   "cell_type": "code",
   "execution_count": 158,
   "id": "182e774f-4887-4d06-9188-ae4a411020f5",
   "metadata": {},
   "outputs": [
    {
     "data": {
      "text/plain": [
       "7.795045762682584"
      ]
     },
     "execution_count": 158,
     "metadata": {},
     "output_type": "execute_result"
    }
   ],
   "source": [
    "np.sqrt(y.var())"
   ]
  },
  {
   "cell_type": "code",
   "execution_count": 167,
   "id": "0b7d7005-d598-49b6-8127-6065b25bca93",
   "metadata": {},
   "outputs": [],
   "source": [
    "X = df.iloc[:,1:-2].values"
   ]
  },
  {
   "cell_type": "code",
   "execution_count": 168,
   "id": "1e31ab40-2e58-4dc0-98cd-a1b174fc443e",
   "metadata": {},
   "outputs": [
    {
     "data": {
      "text/plain": [
       "array([[   8. ,  307. ,  130. , 3504. ,   12. ,   70. ],\n",
       "       [   8. ,  350. ,  165. , 3693. ,   11.5,   70. ],\n",
       "       [   8. ,  318. ,  150. , 3436. ,   11. ,   70. ],\n",
       "       ...,\n",
       "       [   4. ,  135. ,   84. , 2295. ,   11.6,   82. ],\n",
       "       [   4. ,  120. ,   79. , 2625. ,   18.6,   82. ],\n",
       "       [   4. ,  119. ,   82. , 2720. ,   19.4,   82. ]])"
      ]
     },
     "execution_count": 168,
     "metadata": {},
     "output_type": "execute_result"
    }
   ],
   "source": [
    "X"
   ]
  },
  {
   "cell_type": "code",
   "execution_count": 169,
   "id": "bef24526-f188-4860-8dbd-91c07775658f",
   "metadata": {},
   "outputs": [
    {
     "data": {
      "text/plain": [
       "562.2430697278911"
      ]
     },
     "execution_count": 169,
     "metadata": {},
     "output_type": "execute_result"
    }
   ],
   "source": [
    "X.mean()"
   ]
  },
  {
   "cell_type": "code",
   "execution_count": 170,
   "id": "d2ff3e19-5e7d-439f-8e83-854507aaeb5d",
   "metadata": {},
   "outputs": [
    {
     "data": {
      "text/plain": [
       "1292687.77354891"
      ]
     },
     "execution_count": 170,
     "metadata": {},
     "output_type": "execute_result"
    }
   ],
   "source": [
    "X.var()"
   ]
  },
  {
   "cell_type": "code",
   "execution_count": 171,
   "id": "457b7c3b-066d-4b95-a4a9-674add18f42e",
   "metadata": {},
   "outputs": [
    {
     "data": {
      "text/plain": [
       "1136.9642798034201"
      ]
     },
     "execution_count": 171,
     "metadata": {},
     "output_type": "execute_result"
    }
   ],
   "source": [
    "X.std()"
   ]
  },
  {
   "cell_type": "markdown",
   "id": "ce14e261-b52b-4164-8e1d-63d89ca4abec",
   "metadata": {},
   "source": [
    "## Viz of the centering operatino on the distribution"
   ]
  },
  {
   "cell_type": "code",
   "execution_count": 179,
   "id": "74c4bda1-d71c-4da9-a1bd-8f67c07f781f",
   "metadata": {},
   "outputs": [
    {
     "data": {
      "text/plain": [
       "<matplotlib.lines.Line2D at 0x7f255b6413a0>"
      ]
     },
     "execution_count": 179,
     "metadata": {},
     "output_type": "execute_result"
    },
    {
     "data": {
      "image/png": "[encoded data removed]",
      "text/plain": [
       "<Figure size 640x480 with 1 Axes>"
      ]
     },
     "metadata": {},
     "output_type": "display_data"
    }
   ],
   "source": [
    "plt.plot(y,'o')\n",
    "plt.axhline(y.mean(),c='r')"
   ]
  },
  {
   "cell_type": "code",
   "execution_count": 187,
   "id": "1cbdad96-65ae-4500-8540-571b5b045058",
   "metadata": {},
   "outputs": [
    {
     "data": {
      "text/plain": [
       "<AxesSubplot:ylabel='Count'>"
      ]
     },
     "execution_count": 187,
     "metadata": {},
     "output_type": "execute_result"
    },
    {
     "data": {
      "image/png": "[encoded data removed]",
      "text/plain": [
       "<Figure size 640x480 with 1 Axes>"
      ]
     },
     "metadata": {},
     "output_type": "display_data"
    }
   ],
   "source": [
    "sns.histplot(y)"
   ]
  },
  {
   "cell_type": "code",
   "execution_count": 188,
   "id": "abb354e6-565a-4d87-8984-3a8a54826dda",
   "metadata": {},
   "outputs": [
    {
     "data": {
      "text/plain": [
       "<AxesSubplot:ylabel='Count'>"
      ]
     },
     "execution_count": 188,
     "metadata": {},
     "output_type": "execute_result"
    },
    {
     "data": {
      "image/png": "[encoded data removed]",
      "text/plain": [
       "<Figure size 640x480 with 1 Axes>"
      ]
     },
     "metadata": {},
     "output_type": "display_data"
    }
   ],
   "source": [
    "sns.histplot(y, kde=True, bins=15)"
   ]
  },
  {
   "cell_type": "code",
   "execution_count": 189,
   "id": "511ef83c-bd60-4745-a46d-1337c3b056ef",
   "metadata": {},
   "outputs": [
    {
     "data": {
      "text/plain": [
       "<AxesSubplot:ylabel='Count'>"
      ]
     },
     "execution_count": 189,
     "metadata": {},
     "output_type": "execute_result"
    },
    {
     "data": {
      "image/png": "[encoded data removed]",
      "text/plain": [
       "<Figure size 640x480 with 1 Axes>"
      ]
     },
     "metadata": {},
     "output_type": "display_data"
    }
   ],
   "source": [
    "sns.histplot(y, kde=True, binwidth=.54)"
   ]
  },
  {
   "cell_type": "code",
   "execution_count": 191,
   "id": "6fbd04c0-9ac3-4a23-88c8-ec368bd52851",
   "metadata": {},
   "outputs": [
    {
     "data": {
      "text/plain": [
       "<AxesSubplot:ylabel='Count'>"
      ]
     },
     "execution_count": 191,
     "metadata": {},
     "output_type": "execute_result"
    },
    {
     "data": {
      "image/png": "[encoded data removed]",
      "text/plain": [
       "<Figure size 640x480 with 1 Axes>"
      ]
     },
     "metadata": {},
     "output_type": "display_data"
    }
   ],
   "source": [
    "sns.histplot(y-y.mean(), kde=True)"
   ]
  },
  {
   "cell_type": "code",
   "execution_count": 195,
   "id": "7c78199f-5b90-46cf-80b3-1589e5693bc5",
   "metadata": {},
   "outputs": [
    {
     "ename": "ValueError",
     "evalue": "a must be 1-dimensional",
     "output_type": "error",
     "traceback": [
      "\u001b[0;31m---------------------------------------------------------------------------\u001b[0m",
      "\u001b[0;31mValueError\u001b[0m                                Traceback (most recent call last)",
      "\u001b[0;32m/tmp/ipykernel_16657/1270826104.py\u001b[0m in \u001b[0;36m<module>\u001b[0;34m\u001b[0m\n\u001b[0;32m----> 1\u001b[0;31m \u001b[0mnp\u001b[0m\u001b[0;34m.\u001b[0m\u001b[0mrandom\u001b[0m\u001b[0;34m.\u001b[0m\u001b[0mchoice\u001b[0m\u001b[0;34m(\u001b[0m\u001b[0my\u001b[0m\u001b[0;34m)\u001b[0m\u001b[0;34m\u001b[0m\u001b[0;34m\u001b[0m\u001b[0m\n\u001b[0m",
      "\u001b[0;32mmtrand.pyx\u001b[0m in \u001b[0;36mnumpy.random.mtrand.RandomState.choice\u001b[0;34m()\u001b[0m\n",
      "\u001b[0;31mValueError\u001b[0m: a must be 1-dimensional"
     ]
    }
   ],
   "source": [
    "np.random.choice(y)"
   ]
  },
  {
   "cell_type": "code",
   "execution_count": 215,
   "id": "bfe827f9-135f-4653-b480-61201a0829fb",
   "metadata": {},
   "outputs": [
    {
     "data": {
      "text/plain": [
       "[<matplotlib.lines.Line2D at 0x7f255b4822b0>]"
      ]
     },
     "execution_count": 215,
     "metadata": {},
     "output_type": "execute_result"
    },
    {
     "data": {
      "image/png": "[encoded data removed]",
      "text/plain": [
       "<Figure size 640x480 with 1 Axes>"
      ]
     },
     "metadata": {},
     "output_type": "display_data"
    }
   ],
   "source": [
    "plt.plot(np.random.permutation(y),'o')\n",
    "plt.plot(y,'s',c='red')"
   ]
  },
  {
   "cell_type": "code",
   "execution_count": 216,
   "id": "9ab2fa48-aa9a-4eb3-9a1b-7ffa2cf8c75b",
   "metadata": {},
   "outputs": [
    {
     "data": {
      "text/plain": [
       "<AxesSubplot:ylabel='Count'>"
      ]
     },
     "execution_count": 216,
     "metadata": {},
     "output_type": "execute_result"
    },
    {
     "data": {
      "image/png": "[encoded data removed]",
      "text/plain": [
       "<Figure size 640x480 with 1 Axes>"
      ]
     },
     "metadata": {},
     "output_type": "display_data"
    }
   ],
   "source": [
    "sns.histplot(np.random.permutation(y))"
   ]
  },
  {
   "cell_type": "code",
   "execution_count": 218,
   "id": "01f86384-10ae-4629-9a15-6a6552ac7186",
   "metadata": {},
   "outputs": [
    {
     "data": {
      "text/plain": [
       "<AxesSubplot:ylabel='Count'>"
      ]
     },
     "execution_count": 218,
     "metadata": {},
     "output_type": "execute_result"
    },
    {
     "data": {
      "image/png": "[encoded data removed]",
      "text/plain": [
       "<Figure size 640x480 with 1 Axes>"
      ]
     },
     "metadata": {},
     "output_type": "display_data"
    }
   ],
   "source": [
    "sns.histplot(X)"
   ]
  },
  {
   "cell_type": "code",
   "execution_count": 235,
   "id": "b54cccdd-dfb0-43f8-b204-2e90a30f64c5",
   "metadata": {},
   "outputs": [
    {
     "data": {
      "text/plain": [
       "<AxesSubplot:ylabel='Count'>"
      ]
     },
     "execution_count": 235,
     "metadata": {},
     "output_type": "execute_result"
    },
    {
     "data": {
      "image/png": "[encoded data removed]",
      "text/plain": [
       "<Figure size 640x480 with 1 Axes>"
      ]
     },
     "metadata": {},
     "output_type": "display_data"
    }
   ],
   "source": [
    "sns.histplot(\n",
    "    np.random.rand(10000),kde=True\n",
    ")"
   ]
  },
  {
   "cell_type": "code",
   "execution_count": 244,
   "id": "7dca4669-adf5-45cb-8cf5-f4aa7fd30f70",
   "metadata": {},
   "outputs": [
    {
     "data": {
      "text/plain": [
       "0.5465155113908386"
      ]
     },
     "execution_count": 244,
     "metadata": {},
     "output_type": "execute_result"
    }
   ],
   "source": [
    "n=10^4\n",
    "sample = np.random.rand(n)\n",
    "sample.mean()"
   ]
  },
  {
   "cell_type": "code",
   "execution_count": 253,
   "id": "6e992c13-20cc-4b10-8825-d2dae81c6bd6",
   "metadata": {},
   "outputs": [
    {
     "data": {
      "text/plain": [
       "array([[0.54562243, 0.77668873, 0.85518349, 0.5113196 , 0.09144588,\n",
       "        0.67646546, 0.53011856, 0.47951173, 0.54209179, 0.49735097],\n",
       "       [0.0544069 , 0.20043272, 0.55051522, 0.23001004, 0.02452267,\n",
       "        0.29040183, 0.91708367, 0.69359421, 0.41377149, 0.19983979],\n",
       "       [0.39666101, 0.1528    , 0.95858234, 0.5774261 , 0.56796147,\n",
       "        0.12047524, 0.25324915, 0.14926067, 0.58753471, 0.45892089],\n",
       "       [0.46440881, 0.02596033, 0.17135453, 0.92492422, 0.19204092,\n",
       "        0.1608108 , 0.96291383, 0.33280803, 0.18988672, 0.80159974]])"
      ]
     },
     "execution_count": 253,
     "metadata": {},
     "output_type": "execute_result"
    }
   ],
   "source": [
    "np.random.rand(4,10)"
   ]
  },
  {
   "cell_type": "code",
   "execution_count": 252,
   "id": "30056bee-1d07-489f-ad16-1f44c67a1c6f",
   "metadata": {},
   "outputs": [
    {
     "data": {
      "text/plain": [
       "array([0.50403511, 0.42434561, 0.40448346, 0.72512308])"
      ]
     },
     "execution_count": 252,
     "metadata": {},
     "output_type": "execute_result"
    }
   ],
   "source": [
    "np.mean(np.random.rand(4,10),axis=1)"
   ]
  },
  {
   "cell_type": "code",
   "execution_count": 257,
   "id": "7c53786c-76f2-43d9-af1e-bc5f3f692e4a",
   "metadata": {},
   "outputs": [
    {
     "data": {
      "text/plain": [
       "<AxesSubplot:ylabel='Count'>"
      ]
     },
     "execution_count": 257,
     "metadata": {},
     "output_type": "execute_result"
    },
    {
     "data": {
      "image/png": "[encoded data removed]",
      "text/plain": [
       "<Figure size 640x480 with 1 Axes>"
      ]
     },
     "metadata": {},
     "output_type": "display_data"
    }
   ],
   "source": [
    "sns.histplot(\n",
    "    np.mean(np.random.rand(100,n),axis=1)\n",
    ")"
   ]
  },
  {
   "cell_type": "code",
   "execution_count": 300,
   "id": "d2f30477-c788-4eb6-b5df-b0ebfa042416",
   "metadata": {},
   "outputs": [
    {
     "data": {
      "image/png": "[encoded data removed]",
      "text/plain": [
       "<Figure size 640x480 with 1 Axes>"
      ]
     },
     "metadata": {},
     "output_type": "display_data"
    }
   ],
   "source": [
    "ax = sns.histplot(\n",
    "    np.mean(np.random.rand(100,392),axis=1), stat='density'\n",
    ")"
   ]
  },
  {
   "cell_type": "code",
   "execution_count": 275,
   "id": "3c4fb1ea-e442-4dc4-9f62-c9ae52926d08",
   "metadata": {},
   "outputs": [],
   "source": [
    "from scipy import stats"
   ]
  },
  {
   "cell_type": "code",
   "execution_count": 292,
   "id": "057ee3f2-0f8f-4c66-a05e-dd9d6f73d5d6",
   "metadata": {},
   "outputs": [
    {
     "name": "stdout",
     "output_type": "stream",
     "text": [
      "0.49988337389212667 0.07714534547291368\n"
     ]
    }
   ],
   "source": [
    "seq = np.mean(np.random.rand(100000,n),axis=1)\n",
    "loc = seq.mean()\n",
    "scale = seq.std()\n",
    "print(loc,scale)"
   ]
  },
  {
   "cell_type": "code",
   "execution_count": 293,
   "id": "66780ea7-f6f2-47a4-a540-bd095ca8d7ca",
   "metadata": {},
   "outputs": [
    {
     "data": {
      "text/plain": [
       "[<matplotlib.lines.Line2D at 0x7f2558906700>]"
      ]
     },
     "execution_count": 293,
     "metadata": {},
     "output_type": "execute_result"
    },
    {
     "data": {
      "image/png": "[encoded data removed]",
      "text/plain": [
       "<Figure size 640x480 with 1 Axes>"
      ]
     },
     "metadata": {},
     "output_type": "display_data"
    }
   ],
   "source": [
    "ax = sns.histplot(\n",
    "    seq, stat='density'\n",
    ")\n",
    "x0, x1 = ax.get_xlim()\n",
    "x_pdf = np.linspace(x0, x1, 100)\n",
    "y_pdf = stats.norm.pdf(x_pdf, loc=loc, scale=scale)\n",
    "ax.plot(x_pdf, y_pdf,'r', lw=2)"
   ]
  },
  {
   "cell_type": "code",
   "execution_count": 294,
   "id": "5307d8f8-e5bf-409a-9083-ef0a8f3aa8b2",
   "metadata": {},
   "outputs": [
    {
     "data": {
      "text/plain": [
       "\u001b[0;31mSignature:\u001b[0m \u001b[0mstats\u001b[0m\u001b[0;34m.\u001b[0m\u001b[0mnorm\u001b[0m\u001b[0;34m.\u001b[0m\u001b[0mpdf\u001b[0m\u001b[0;34m(\u001b[0m\u001b[0mx\u001b[0m\u001b[0;34m,\u001b[0m \u001b[0;34m*\u001b[0m\u001b[0margs\u001b[0m\u001b[0;34m,\u001b[0m \u001b[0;34m**\u001b[0m\u001b[0mkwds\u001b[0m\u001b[0;34m)\u001b[0m\u001b[0;34m\u001b[0m\u001b[0;34m\u001b[0m\u001b[0m\n",
       "\u001b[0;31mDocstring:\u001b[0m\n",
       "Probability density function at x of the given RV.\n",
       "\n",
       "Parameters\n",
       "----------\n",
       "x : array_like\n",
       "    quantiles\n",
       "arg1, arg2, arg3,... : array_like\n",
       "    The shape parameter(s) for the distribution (see docstring of the\n",
       "    instance object for more information)\n",
       "loc : array_like, optional\n",
       "    location parameter (default=0)\n",
       "scale : array_like, optional\n",
       "    scale parameter (default=1)\n",
       "\n",
       "Returns\n",
       "-------\n",
       "pdf : ndarray\n",
       "    Probability density function evaluated at x\n",
       "\u001b[0;31mFile:\u001b[0m      ~/anaconda3/lib/python3.9/site-packages/scipy/stats/_distn_infrastructure.py\n",
       "\u001b[0;31mType:\u001b[0m      method\n"
      ]
     },
     "metadata": {},
     "output_type": "display_data"
    }
   ],
   "source": [
    "stats.norm.pdf?"
   ]
  },
  {
   "cell_type": "code",
   "execution_count": null,
   "id": "9665d9f2-f1b0-4362-8756-591b641f27b7",
   "metadata": {},
   "outputs": [],
   "source": []
  }
 ],
 "metadata": {
  "kernelspec": {
   "display_name": "Python 3 (ipykernel)",
   "language": "python",
   "name": "python3"
  },
  "language_info": {
   "codemirror_mode": {
    "name": "ipython",
    "version": 3
   },
   "file_extension": ".py",
   "mimetype": "text/x-python",
   "name": "python",
   "nbconvert_exporter": "python",
   "pygments_lexer": "ipython3",
   "version": "3.9.13"
  }
 },
 "nbformat": 4,
 "nbformat_minor": 5
}
