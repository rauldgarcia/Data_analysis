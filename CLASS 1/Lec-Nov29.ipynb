{
 "cells": [
  {
   "cell_type": "markdown",
   "id": "6f797385-7857-417e-8b2b-d095b46dc4b9",
   "metadata": {},
   "source": [
    "# Lecture Nov 29\n",
    "Date time transformations and features\n"
   ]
  },
  {
   "cell_type": "code",
   "execution_count": 1,
   "id": "3cc7773c-dd9c-47ec-90a4-7262989e2110",
   "metadata": {},
   "outputs": [],
   "source": [
    "import pandas as pd\n",
    "import seaborn as sns"
   ]
  },
  {
   "cell_type": "code",
   "execution_count": 3,
   "id": "6e753e65-62f3-41cb-94a7-f8a541d7acd3",
   "metadata": {},
   "outputs": [
    {
     "name": "stdout",
     "output_type": "stream",
     "text": [
      "/home/horacio/OneDrive/Documents\n"
     ]
    }
   ],
   "source": [
    "!pwd"
   ]
  },
  {
   "cell_type": "code",
   "execution_count": 30,
   "id": "035141f0-43e8-46e3-bde7-626f5a36a14d",
   "metadata": {},
   "outputs": [
    {
     "name": "stdout",
     "output_type": "stream",
     "text": [
      "<class 'pandas.core.frame.DataFrame'>\n",
      "RangeIndex: 486165 entries, 0 to 486164\n",
      "Data columns (total 24 columns):\n",
      " #   Column               Non-Null Count   Dtype  \n",
      "---  ------               --------------   -----  \n",
      " 0   YEAR                 486165 non-null  int64  \n",
      " 1   MONTH                486165 non-null  int64  \n",
      " 2   DAY_OF_MONTH         486165 non-null  int64  \n",
      " 3   OP_CARRIER           486165 non-null  object \n",
      " 4   TAIL_NUM             485811 non-null  object \n",
      " 5   OP_CARRIER_FL_NUM    486165 non-null  int64  \n",
      " 6   ORIGIN               486165 non-null  object \n",
      " 7   DEST                 486165 non-null  object \n",
      " 8   CRS_DEP_TIME         486165 non-null  object \n",
      " 9   DEP_TIME             483826 non-null  float64\n",
      " 10  DEP_DELAY            483826 non-null  float64\n",
      " 11  TAXI_OUT             483730 non-null  float64\n",
      " 12  TAXI_IN              483594 non-null  float64\n",
      " 13  CRS_ARR_TIME         486165 non-null  object \n",
      " 14  ARR_TIME             483594 non-null  float64\n",
      " 15  ARR_DELAY            482878 non-null  float64\n",
      " 16  CANCELLED            486165 non-null  float64\n",
      " 17  CANCELLATION_CODE    2454 non-null    object \n",
      " 18  DIVERTED             486165 non-null  float64\n",
      " 19  CRS_ELAPSED_TIME     486165 non-null  float64\n",
      " 20  ACTUAL_ELAPSED_TIME  482878 non-null  float64\n",
      " 21  AIR_TIME             482878 non-null  float64\n",
      " 22  DISTANCE             486165 non-null  float64\n",
      " 23  Unnamed: 23          0 non-null       float64\n",
      "dtypes: float64(13), int64(4), object(7)\n",
      "memory usage: 89.0+ MB\n"
     ]
    }
   ],
   "source": [
    "df = pd.read_csv(\"Courses/MIA_202x/lectures/data/flightsOct.csv\",\n",
    "                dtype={\"CRS_DEP_TIME\": str,\n",
    "                       \"CRS_ARR_TIME\": str}\n",
    "                )\n",
    "df.info()"
   ]
  },
  {
   "cell_type": "code",
   "execution_count": 38,
   "id": "9587e443-891e-46fc-94fb-b30a8a9da9d3",
   "metadata": {},
   "outputs": [],
   "source": [
    "df[\"CRS_DEP_TIME_HH\"] = df.CRS_DEP_TIME.str[:2]\n",
    "df[\"CRS_DEP_TIME_MM\"] = df.CRS_DEP_TIME.str[2:]"
   ]
  },
  {
   "cell_type": "code",
   "execution_count": 40,
   "id": "0281a506-935b-45a0-9915-e13edbfb5dc4",
   "metadata": {},
   "outputs": [],
   "source": [
    "df[\"CRS_DEP_TIME_SS\"] = [\"00\"]*len(df)"
   ]
  },
  {
   "cell_type": "code",
   "execution_count": 37,
   "id": "2b539129-130b-44f0-82d4-9f0764c295d5",
   "metadata": {},
   "outputs": [
    {
     "data": {
      "text/plain": [
       "array([0., 0., 0., ..., 0., 0., 0.])"
      ]
     },
     "execution_count": 37,
     "metadata": {},
     "output_type": "execute_result"
    }
   ],
   "source": [
    "sec"
   ]
  },
  {
   "cell_type": "code",
   "execution_count": 46,
   "id": "4485d238-04c2-4ecb-b35b-abd74ec9f97a",
   "metadata": {},
   "outputs": [
    {
     "data": {
      "text/plain": [
       "YEAR               2015\n",
       "MONTH                10\n",
       "DAY_OF_MONTH          1\n",
       "CRS_DEP_TIME_HH      09\n",
       "CRS_DEP_TIME_MM      00\n",
       "CRS_DEP_TIME_SS      00\n",
       "Name: 0, dtype: object"
      ]
     },
     "execution_count": 46,
     "metadata": {},
     "output_type": "execute_result"
    }
   ],
   "source": [
    "df[ [\"YEAR\",\"MONTH\",\"DAY_OF_MONTH\",\n",
    "     \"CRS_DEP_TIME_HH\",\n",
    "     \"CRS_DEP_TIME_MM\",\n",
    "     \"CRS_DEP_TIME_SS\"]\n",
    "  ].iloc[0]"
   ]
  },
  {
   "cell_type": "code",
   "execution_count": 54,
   "id": "97ad8f1f-2a8e-4bbb-a935-22aa7563c02f",
   "metadata": {},
   "outputs": [],
   "source": [
    "df[\"CRS_DEP_DATE\"] = pd.to_datetime(\n",
    "    df[\"YEAR\"].astype(str) + \"/\" + \\\n",
    "    df[\"MONTH\"].astype(str) + \"/\" + \\\n",
    "    df[\"DAY_OF_MONTH\"].astype(str)\n",
    ")"
   ]
  },
  {
   "cell_type": "code",
   "execution_count": 56,
   "id": "2efa0671-4174-475d-94c2-5568d0f4badc",
   "metadata": {},
   "outputs": [
    {
     "data": {
      "text/plain": [
       "<AxesSubplot:>"
      ]
     },
     "execution_count": 56,
     "metadata": {},
     "output_type": "execute_result"
    },
    {
     "data": {
      "image/png": "[encoded data removed]",
      "text/plain": [
       "<Figure size 640x480 with 1 Axes>"
      ]
     },
     "metadata": {},
     "output_type": "display_data"
    }
   ],
   "source": [
    "df.CRS_DEP_DATE.hist()"
   ]
  },
  {
   "cell_type": "code",
   "execution_count": null,
   "id": "64ebab5b-8ed2-41b9-babd-dde2a3edb4fa",
   "metadata": {},
   "outputs": [],
   "source": []
  }
 ],
 "metadata": {
  "kernelspec": {
   "display_name": "Python 3 (ipykernel)",
   "language": "python",
   "name": "python3"
  },
  "language_info": {
   "codemirror_mode": {
    "name": "ipython",
    "version": 3
   },
   "file_extension": ".py",
   "mimetype": "text/x-python",
   "name": "python",
   "nbconvert_exporter": "python",
   "pygments_lexer": "ipython3",
   "version": "3.9.13"
  }
 },
 "nbformat": 4,
 "nbformat_minor": 5
}
