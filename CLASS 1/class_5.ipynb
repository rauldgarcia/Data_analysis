{
 "cells": [
  {
   "cell_type": "markdown",
   "metadata": {},
   "source": [
    "# Data Analysis\n",
    "## Class 5\n",
    "### Data cleaning and Exploratory Data Analysis\n",
    "#### September 18th"
   ]
  },
  {
   "cell_type": "code",
   "execution_count": 1,
   "metadata": {},
   "outputs": [],
   "source": [
    "import numpy as np\n",
    "import pandas as pd\n",
    "import matplotlib.pyplot as plt\n",
    "import os\n",
    "import urllib.request"
   ]
  },
  {
   "cell_type": "markdown",
   "metadata": {},
   "source": [
    "data_url = 'https://www.ssa.gov/oact/babynames/state/namesbystate.zip'\n",
    "local_filename = 'namesbystate.zip'\n",
    "\n",
    "if not os.path.exists(local_filename):\n",
    "    with urllib.request.urlopen(data_url) as resp, open(local_filename), 'wb' as f:\n",
    "        f.write(resp.read())"
   ]
  },
  {
   "cell_type": "code",
   "execution_count": 2,
   "metadata": {},
   "outputs": [
    {
     "data": {
      "text/html": [
       "<div>\n",
       "<style scoped>\n",
       "    .dataframe tbody tr th:only-of-type {\n",
       "        vertical-align: middle;\n",
       "    }\n",
       "\n",
       "    .dataframe tbody tr th {\n",
       "        vertical-align: top;\n",
       "    }\n",
       "\n",
       "    .dataframe thead th {\n",
       "        text-align: right;\n",
       "    }\n",
       "</style>\n",
       "<table border=\"1\" class=\"dataframe\">\n",
       "  <thead>\n",
       "    <tr style=\"text-align: right;\">\n",
       "      <th></th>\n",
       "      <th>State</th>\n",
       "      <th>Sex</th>\n",
       "      <th>Year</th>\n",
       "      <th>Name</th>\n",
       "      <th>Count</th>\n",
       "    </tr>\n",
       "  </thead>\n",
       "  <tbody>\n",
       "    <tr>\n",
       "      <th>0</th>\n",
       "      <td>CA</td>\n",
       "      <td>F</td>\n",
       "      <td>1910</td>\n",
       "      <td>Mary</td>\n",
       "      <td>295</td>\n",
       "    </tr>\n",
       "    <tr>\n",
       "      <th>1</th>\n",
       "      <td>CA</td>\n",
       "      <td>F</td>\n",
       "      <td>1910</td>\n",
       "      <td>Helen</td>\n",
       "      <td>239</td>\n",
       "    </tr>\n",
       "    <tr>\n",
       "      <th>2</th>\n",
       "      <td>CA</td>\n",
       "      <td>F</td>\n",
       "      <td>1910</td>\n",
       "      <td>Dorothy</td>\n",
       "      <td>220</td>\n",
       "    </tr>\n",
       "    <tr>\n",
       "      <th>3</th>\n",
       "      <td>CA</td>\n",
       "      <td>F</td>\n",
       "      <td>1910</td>\n",
       "      <td>Margaret</td>\n",
       "      <td>163</td>\n",
       "    </tr>\n",
       "    <tr>\n",
       "      <th>4</th>\n",
       "      <td>CA</td>\n",
       "      <td>F</td>\n",
       "      <td>1910</td>\n",
       "      <td>Frances</td>\n",
       "      <td>134</td>\n",
       "    </tr>\n",
       "  </tbody>\n",
       "</table>\n",
       "</div>"
      ],
      "text/plain": [
       "  State Sex  Year      Name  Count\n",
       "0    CA   F  1910      Mary    295\n",
       "1    CA   F  1910     Helen    239\n",
       "2    CA   F  1910   Dorothy    220\n",
       "3    CA   F  1910  Margaret    163\n",
       "4    CA   F  1910   Frances    134"
      ]
     },
     "execution_count": 2,
     "metadata": {},
     "output_type": "execute_result"
    }
   ],
   "source": [
    "import zipfile\n",
    "\n",
    "zf = zipfile.ZipFile('namesbystate.zip', 'r')\n",
    "ca_name = 'STATE.CA.TXT'\n",
    "fields = ['State', 'Sex', 'Year', 'Name', 'Count']\n",
    "\n",
    "with zf.open(ca_name) as fh:\n",
    "    babynames = pd.read_csv(fh, header=None, names=fields)\n",
    "\n",
    "babynames.head()"
   ]
  },
  {
   "cell_type": "code",
   "execution_count": 3,
   "metadata": {},
   "outputs": [],
   "source": [
    "first_ten_rows = babynames.loc[:9, :]"
   ]
  },
  {
   "cell_type": "markdown",
   "metadata": {},
   "source": [
    "We can use binary commands to obtain only a few rows, and also use logical conditions "
   ]
  },
  {
   "cell_type": "code",
   "execution_count": 4,
   "metadata": {},
   "outputs": [
    {
     "data": {
      "text/html": [
       "<div>\n",
       "<style scoped>\n",
       "    .dataframe tbody tr th:only-of-type {\n",
       "        vertical-align: middle;\n",
       "    }\n",
       "\n",
       "    .dataframe tbody tr th {\n",
       "        vertical-align: top;\n",
       "    }\n",
       "\n",
       "    .dataframe thead th {\n",
       "        text-align: right;\n",
       "    }\n",
       "</style>\n",
       "<table border=\"1\" class=\"dataframe\">\n",
       "  <thead>\n",
       "    <tr style=\"text-align: right;\">\n",
       "      <th></th>\n",
       "      <th>State</th>\n",
       "      <th>Sex</th>\n",
       "      <th>Year</th>\n",
       "      <th>Name</th>\n",
       "      <th>Count</th>\n",
       "    </tr>\n",
       "  </thead>\n",
       "  <tbody>\n",
       "    <tr>\n",
       "      <th>0</th>\n",
       "      <td>CA</td>\n",
       "      <td>F</td>\n",
       "      <td>1910</td>\n",
       "      <td>Mary</td>\n",
       "      <td>295</td>\n",
       "    </tr>\n",
       "    <tr>\n",
       "      <th>1</th>\n",
       "      <td>CA</td>\n",
       "      <td>F</td>\n",
       "      <td>1910</td>\n",
       "      <td>Helen</td>\n",
       "      <td>239</td>\n",
       "    </tr>\n",
       "    <tr>\n",
       "      <th>3</th>\n",
       "      <td>CA</td>\n",
       "      <td>F</td>\n",
       "      <td>1910</td>\n",
       "      <td>Margaret</td>\n",
       "      <td>163</td>\n",
       "    </tr>\n",
       "    <tr>\n",
       "      <th>4</th>\n",
       "      <td>CA</td>\n",
       "      <td>F</td>\n",
       "      <td>1910</td>\n",
       "      <td>Frances</td>\n",
       "      <td>134</td>\n",
       "    </tr>\n",
       "    <tr>\n",
       "      <th>6</th>\n",
       "      <td>CA</td>\n",
       "      <td>F</td>\n",
       "      <td>1910</td>\n",
       "      <td>Evelyn</td>\n",
       "      <td>126</td>\n",
       "    </tr>\n",
       "    <tr>\n",
       "      <th>8</th>\n",
       "      <td>CA</td>\n",
       "      <td>F</td>\n",
       "      <td>1910</td>\n",
       "      <td>Virginia</td>\n",
       "      <td>101</td>\n",
       "    </tr>\n",
       "    <tr>\n",
       "      <th>9</th>\n",
       "      <td>CA</td>\n",
       "      <td>F</td>\n",
       "      <td>1910</td>\n",
       "      <td>Elizabeth</td>\n",
       "      <td>93</td>\n",
       "    </tr>\n",
       "  </tbody>\n",
       "</table>\n",
       "</div>"
      ],
      "text/plain": [
       "  State Sex  Year       Name  Count\n",
       "0    CA   F  1910       Mary    295\n",
       "1    CA   F  1910      Helen    239\n",
       "3    CA   F  1910   Margaret    163\n",
       "4    CA   F  1910    Frances    134\n",
       "6    CA   F  1910     Evelyn    126\n",
       "8    CA   F  1910   Virginia    101\n",
       "9    CA   F  1910  Elizabeth     93"
      ]
     },
     "execution_count": 4,
     "metadata": {},
     "output_type": "execute_result"
    }
   ],
   "source": [
    "first_ten_rows[[True, True, False, True, True, False, True, False, True, True]]"
   ]
  },
  {
   "cell_type": "code",
   "execution_count": 5,
   "metadata": {},
   "outputs": [
    {
     "data": {
      "text/plain": [
       "0         False\n",
       "1         False\n",
       "2         False\n",
       "3         False\n",
       "4         False\n",
       "          ...  \n",
       "407423    False\n",
       "407424    False\n",
       "407425    False\n",
       "407426    False\n",
       "407427    False\n",
       "Name: Name, Length: 407428, dtype: bool"
      ]
     },
     "execution_count": 5,
     "metadata": {},
     "output_type": "execute_result"
    }
   ],
   "source": [
    "logical_operator = (babynames['Name'] == 'Francis')\n",
    "\n",
    "logical_operator"
   ]
  },
  {
   "cell_type": "code",
   "execution_count": 6,
   "metadata": {},
   "outputs": [
    {
     "data": {
      "text/html": [
       "<div>\n",
       "<style scoped>\n",
       "    .dataframe tbody tr th:only-of-type {\n",
       "        vertical-align: middle;\n",
       "    }\n",
       "\n",
       "    .dataframe tbody tr th {\n",
       "        vertical-align: top;\n",
       "    }\n",
       "\n",
       "    .dataframe thead th {\n",
       "        text-align: right;\n",
       "    }\n",
       "</style>\n",
       "<table border=\"1\" class=\"dataframe\">\n",
       "  <thead>\n",
       "    <tr style=\"text-align: right;\">\n",
       "      <th></th>\n",
       "      <th>State</th>\n",
       "      <th>Sex</th>\n",
       "      <th>Year</th>\n",
       "      <th>Name</th>\n",
       "      <th>Count</th>\n",
       "    </tr>\n",
       "  </thead>\n",
       "  <tbody>\n",
       "    <tr>\n",
       "      <th>214</th>\n",
       "      <td>CA</td>\n",
       "      <td>F</td>\n",
       "      <td>1910</td>\n",
       "      <td>Francis</td>\n",
       "      <td>5</td>\n",
       "    </tr>\n",
       "    <tr>\n",
       "      <th>715</th>\n",
       "      <td>CA</td>\n",
       "      <td>F</td>\n",
       "      <td>1912</td>\n",
       "      <td>Francis</td>\n",
       "      <td>7</td>\n",
       "    </tr>\n",
       "    <tr>\n",
       "      <th>1732</th>\n",
       "      <td>CA</td>\n",
       "      <td>F</td>\n",
       "      <td>1915</td>\n",
       "      <td>Francis</td>\n",
       "      <td>11</td>\n",
       "    </tr>\n",
       "    <tr>\n",
       "      <th>2322</th>\n",
       "      <td>CA</td>\n",
       "      <td>F</td>\n",
       "      <td>1916</td>\n",
       "      <td>Francis</td>\n",
       "      <td>6</td>\n",
       "    </tr>\n",
       "    <tr>\n",
       "      <th>2708</th>\n",
       "      <td>CA</td>\n",
       "      <td>F</td>\n",
       "      <td>1917</td>\n",
       "      <td>Francis</td>\n",
       "      <td>10</td>\n",
       "    </tr>\n",
       "    <tr>\n",
       "      <th>...</th>\n",
       "      <td>...</td>\n",
       "      <td>...</td>\n",
       "      <td>...</td>\n",
       "      <td>...</td>\n",
       "      <td>...</td>\n",
       "    </tr>\n",
       "    <tr>\n",
       "      <th>393638</th>\n",
       "      <td>CA</td>\n",
       "      <td>M</td>\n",
       "      <td>2018</td>\n",
       "      <td>Francis</td>\n",
       "      <td>66</td>\n",
       "    </tr>\n",
       "    <tr>\n",
       "      <th>396632</th>\n",
       "      <td>CA</td>\n",
       "      <td>M</td>\n",
       "      <td>2019</td>\n",
       "      <td>Francis</td>\n",
       "      <td>45</td>\n",
       "    </tr>\n",
       "    <tr>\n",
       "      <th>399450</th>\n",
       "      <td>CA</td>\n",
       "      <td>M</td>\n",
       "      <td>2020</td>\n",
       "      <td>Francis</td>\n",
       "      <td>51</td>\n",
       "    </tr>\n",
       "    <tr>\n",
       "      <th>402164</th>\n",
       "      <td>CA</td>\n",
       "      <td>M</td>\n",
       "      <td>2021</td>\n",
       "      <td>Francis</td>\n",
       "      <td>64</td>\n",
       "    </tr>\n",
       "    <tr>\n",
       "      <th>405037</th>\n",
       "      <td>CA</td>\n",
       "      <td>M</td>\n",
       "      <td>2022</td>\n",
       "      <td>Francis</td>\n",
       "      <td>66</td>\n",
       "    </tr>\n",
       "  </tbody>\n",
       "</table>\n",
       "<p>221 rows × 5 columns</p>\n",
       "</div>"
      ],
      "text/plain": [
       "       State Sex  Year     Name  Count\n",
       "214       CA   F  1910  Francis      5\n",
       "715       CA   F  1912  Francis      7\n",
       "1732      CA   F  1915  Francis     11\n",
       "2322      CA   F  1916  Francis      6\n",
       "2708      CA   F  1917  Francis     10\n",
       "...      ...  ..   ...      ...    ...\n",
       "393638    CA   M  2018  Francis     66\n",
       "396632    CA   M  2019  Francis     45\n",
       "399450    CA   M  2020  Francis     51\n",
       "402164    CA   M  2021  Francis     64\n",
       "405037    CA   M  2022  Francis     66\n",
       "\n",
       "[221 rows x 5 columns]"
      ]
     },
     "execution_count": 6,
     "metadata": {},
     "output_type": "execute_result"
    }
   ],
   "source": [
    "babynames[logical_operator]"
   ]
  },
  {
   "cell_type": "code",
   "execution_count": 7,
   "metadata": {},
   "outputs": [
    {
     "data": {
      "text/html": [
       "<div>\n",
       "<style scoped>\n",
       "    .dataframe tbody tr th:only-of-type {\n",
       "        vertical-align: middle;\n",
       "    }\n",
       "\n",
       "    .dataframe tbody tr th {\n",
       "        vertical-align: top;\n",
       "    }\n",
       "\n",
       "    .dataframe thead th {\n",
       "        text-align: right;\n",
       "    }\n",
       "</style>\n",
       "<table border=\"1\" class=\"dataframe\">\n",
       "  <thead>\n",
       "    <tr style=\"text-align: right;\">\n",
       "      <th></th>\n",
       "      <th>State</th>\n",
       "      <th>Sex</th>\n",
       "      <th>Year</th>\n",
       "      <th>Name</th>\n",
       "      <th>Count</th>\n",
       "    </tr>\n",
       "  </thead>\n",
       "  <tbody>\n",
       "    <tr>\n",
       "      <th>0</th>\n",
       "      <td>CA</td>\n",
       "      <td>F</td>\n",
       "      <td>1910</td>\n",
       "      <td>Mary</td>\n",
       "      <td>295</td>\n",
       "    </tr>\n",
       "    <tr>\n",
       "      <th>1</th>\n",
       "      <td>CA</td>\n",
       "      <td>F</td>\n",
       "      <td>1910</td>\n",
       "      <td>Helen</td>\n",
       "      <td>239</td>\n",
       "    </tr>\n",
       "    <tr>\n",
       "      <th>2</th>\n",
       "      <td>CA</td>\n",
       "      <td>F</td>\n",
       "      <td>1910</td>\n",
       "      <td>Dorothy</td>\n",
       "      <td>220</td>\n",
       "    </tr>\n",
       "    <tr>\n",
       "      <th>3</th>\n",
       "      <td>CA</td>\n",
       "      <td>F</td>\n",
       "      <td>1910</td>\n",
       "      <td>Margaret</td>\n",
       "      <td>163</td>\n",
       "    </tr>\n",
       "    <tr>\n",
       "      <th>4</th>\n",
       "      <td>CA</td>\n",
       "      <td>F</td>\n",
       "      <td>1910</td>\n",
       "      <td>Frances</td>\n",
       "      <td>134</td>\n",
       "    </tr>\n",
       "    <tr>\n",
       "      <th>...</th>\n",
       "      <td>...</td>\n",
       "      <td>...</td>\n",
       "      <td>...</td>\n",
       "      <td>...</td>\n",
       "      <td>...</td>\n",
       "    </tr>\n",
       "    <tr>\n",
       "      <th>239532</th>\n",
       "      <td>CA</td>\n",
       "      <td>F</td>\n",
       "      <td>2022</td>\n",
       "      <td>Zemira</td>\n",
       "      <td>5</td>\n",
       "    </tr>\n",
       "    <tr>\n",
       "      <th>239533</th>\n",
       "      <td>CA</td>\n",
       "      <td>F</td>\n",
       "      <td>2022</td>\n",
       "      <td>Ziggy</td>\n",
       "      <td>5</td>\n",
       "    </tr>\n",
       "    <tr>\n",
       "      <th>239534</th>\n",
       "      <td>CA</td>\n",
       "      <td>F</td>\n",
       "      <td>2022</td>\n",
       "      <td>Zimal</td>\n",
       "      <td>5</td>\n",
       "    </tr>\n",
       "    <tr>\n",
       "      <th>239535</th>\n",
       "      <td>CA</td>\n",
       "      <td>F</td>\n",
       "      <td>2022</td>\n",
       "      <td>Zosia</td>\n",
       "      <td>5</td>\n",
       "    </tr>\n",
       "    <tr>\n",
       "      <th>239536</th>\n",
       "      <td>CA</td>\n",
       "      <td>F</td>\n",
       "      <td>2022</td>\n",
       "      <td>Zulay</td>\n",
       "      <td>5</td>\n",
       "    </tr>\n",
       "  </tbody>\n",
       "</table>\n",
       "<p>239537 rows × 5 columns</p>\n",
       "</div>"
      ],
      "text/plain": [
       "       State Sex  Year      Name  Count\n",
       "0         CA   F  1910      Mary    295\n",
       "1         CA   F  1910     Helen    239\n",
       "2         CA   F  1910   Dorothy    220\n",
       "3         CA   F  1910  Margaret    163\n",
       "4         CA   F  1910   Frances    134\n",
       "...      ...  ..   ...       ...    ...\n",
       "239532    CA   F  2022    Zemira      5\n",
       "239533    CA   F  2022     Ziggy      5\n",
       "239534    CA   F  2022     Zimal      5\n",
       "239535    CA   F  2022     Zosia      5\n",
       "239536    CA   F  2022     Zulay      5\n",
       "\n",
       "[239537 rows x 5 columns]"
      ]
     },
     "execution_count": 7,
     "metadata": {},
     "output_type": "execute_result"
    }
   ],
   "source": [
    "babynames.loc[babynames['Sex'] == 'F']"
   ]
  },
  {
   "cell_type": "markdown",
   "metadata": {},
   "source": [
    "and &\n",
    "\n",
    "or |"
   ]
  },
  {
   "cell_type": "code",
   "execution_count": 8,
   "metadata": {},
   "outputs": [
    {
     "data": {
      "text/html": [
       "<div>\n",
       "<style scoped>\n",
       "    .dataframe tbody tr th:only-of-type {\n",
       "        vertical-align: middle;\n",
       "    }\n",
       "\n",
       "    .dataframe tbody tr th {\n",
       "        vertical-align: top;\n",
       "    }\n",
       "\n",
       "    .dataframe thead th {\n",
       "        text-align: right;\n",
       "    }\n",
       "</style>\n",
       "<table border=\"1\" class=\"dataframe\">\n",
       "  <thead>\n",
       "    <tr style=\"text-align: right;\">\n",
       "      <th></th>\n",
       "      <th>State</th>\n",
       "      <th>Sex</th>\n",
       "      <th>Year</th>\n",
       "      <th>Name</th>\n",
       "      <th>Count</th>\n",
       "    </tr>\n",
       "  </thead>\n",
       "  <tbody>\n",
       "    <tr>\n",
       "      <th>0</th>\n",
       "      <td>CA</td>\n",
       "      <td>F</td>\n",
       "      <td>1910</td>\n",
       "      <td>Mary</td>\n",
       "      <td>295</td>\n",
       "    </tr>\n",
       "    <tr>\n",
       "      <th>1</th>\n",
       "      <td>CA</td>\n",
       "      <td>F</td>\n",
       "      <td>1910</td>\n",
       "      <td>Helen</td>\n",
       "      <td>239</td>\n",
       "    </tr>\n",
       "    <tr>\n",
       "      <th>2</th>\n",
       "      <td>CA</td>\n",
       "      <td>F</td>\n",
       "      <td>1910</td>\n",
       "      <td>Dorothy</td>\n",
       "      <td>220</td>\n",
       "    </tr>\n",
       "    <tr>\n",
       "      <th>3</th>\n",
       "      <td>CA</td>\n",
       "      <td>F</td>\n",
       "      <td>1910</td>\n",
       "      <td>Margaret</td>\n",
       "      <td>163</td>\n",
       "    </tr>\n",
       "    <tr>\n",
       "      <th>4</th>\n",
       "      <td>CA</td>\n",
       "      <td>F</td>\n",
       "      <td>1910</td>\n",
       "      <td>Frances</td>\n",
       "      <td>134</td>\n",
       "    </tr>\n",
       "    <tr>\n",
       "      <th>...</th>\n",
       "      <td>...</td>\n",
       "      <td>...</td>\n",
       "      <td>...</td>\n",
       "      <td>...</td>\n",
       "      <td>...</td>\n",
       "    </tr>\n",
       "    <tr>\n",
       "      <th>149050</th>\n",
       "      <td>CA</td>\n",
       "      <td>F</td>\n",
       "      <td>1999</td>\n",
       "      <td>Zareen</td>\n",
       "      <td>5</td>\n",
       "    </tr>\n",
       "    <tr>\n",
       "      <th>149051</th>\n",
       "      <td>CA</td>\n",
       "      <td>F</td>\n",
       "      <td>1999</td>\n",
       "      <td>Zeinab</td>\n",
       "      <td>5</td>\n",
       "    </tr>\n",
       "    <tr>\n",
       "      <th>149052</th>\n",
       "      <td>CA</td>\n",
       "      <td>F</td>\n",
       "      <td>1999</td>\n",
       "      <td>Zhane</td>\n",
       "      <td>5</td>\n",
       "    </tr>\n",
       "    <tr>\n",
       "      <th>149053</th>\n",
       "      <td>CA</td>\n",
       "      <td>F</td>\n",
       "      <td>1999</td>\n",
       "      <td>Zoha</td>\n",
       "      <td>5</td>\n",
       "    </tr>\n",
       "    <tr>\n",
       "      <th>149054</th>\n",
       "      <td>CA</td>\n",
       "      <td>F</td>\n",
       "      <td>1999</td>\n",
       "      <td>Zoila</td>\n",
       "      <td>5</td>\n",
       "    </tr>\n",
       "  </tbody>\n",
       "</table>\n",
       "<p>149055 rows × 5 columns</p>\n",
       "</div>"
      ],
      "text/plain": [
       "       State Sex  Year      Name  Count\n",
       "0         CA   F  1910      Mary    295\n",
       "1         CA   F  1910     Helen    239\n",
       "2         CA   F  1910   Dorothy    220\n",
       "3         CA   F  1910  Margaret    163\n",
       "4         CA   F  1910   Frances    134\n",
       "...      ...  ..   ...       ...    ...\n",
       "149050    CA   F  1999    Zareen      5\n",
       "149051    CA   F  1999    Zeinab      5\n",
       "149052    CA   F  1999     Zhane      5\n",
       "149053    CA   F  1999      Zoha      5\n",
       "149054    CA   F  1999     Zoila      5\n",
       "\n",
       "[149055 rows x 5 columns]"
      ]
     },
     "execution_count": 8,
     "metadata": {},
     "output_type": "execute_result"
    }
   ],
   "source": [
    "babynames[(babynames['Sex'] == 'F') & (babynames['Year'] < 2000)]"
   ]
  },
  {
   "cell_type": "code",
   "execution_count": 9,
   "metadata": {},
   "outputs": [
    {
     "data": {
      "text/html": [
       "<div>\n",
       "<style scoped>\n",
       "    .dataframe tbody tr th:only-of-type {\n",
       "        vertical-align: middle;\n",
       "    }\n",
       "\n",
       "    .dataframe tbody tr th {\n",
       "        vertical-align: top;\n",
       "    }\n",
       "\n",
       "    .dataframe thead th {\n",
       "        text-align: right;\n",
       "    }\n",
       "</style>\n",
       "<table border=\"1\" class=\"dataframe\">\n",
       "  <thead>\n",
       "    <tr style=\"text-align: right;\">\n",
       "      <th></th>\n",
       "      <th>State</th>\n",
       "      <th>Sex</th>\n",
       "      <th>Year</th>\n",
       "      <th>Name</th>\n",
       "      <th>Count</th>\n",
       "    </tr>\n",
       "  </thead>\n",
       "  <tbody>\n",
       "    <tr>\n",
       "      <th>0</th>\n",
       "      <td>CA</td>\n",
       "      <td>F</td>\n",
       "      <td>1910</td>\n",
       "      <td>Mary</td>\n",
       "      <td>295</td>\n",
       "    </tr>\n",
       "    <tr>\n",
       "      <th>75</th>\n",
       "      <td>CA</td>\n",
       "      <td>F</td>\n",
       "      <td>1910</td>\n",
       "      <td>Anne</td>\n",
       "      <td>23</td>\n",
       "    </tr>\n",
       "    <tr>\n",
       "      <th>233</th>\n",
       "      <td>CA</td>\n",
       "      <td>F</td>\n",
       "      <td>1911</td>\n",
       "      <td>Mary</td>\n",
       "      <td>390</td>\n",
       "    </tr>\n",
       "    <tr>\n",
       "      <th>285</th>\n",
       "      <td>CA</td>\n",
       "      <td>F</td>\n",
       "      <td>1911</td>\n",
       "      <td>Anne</td>\n",
       "      <td>34</td>\n",
       "    </tr>\n",
       "    <tr>\n",
       "      <th>484</th>\n",
       "      <td>CA</td>\n",
       "      <td>F</td>\n",
       "      <td>1912</td>\n",
       "      <td>Mary</td>\n",
       "      <td>534</td>\n",
       "    </tr>\n",
       "    <tr>\n",
       "      <th>...</th>\n",
       "      <td>...</td>\n",
       "      <td>...</td>\n",
       "      <td>...</td>\n",
       "      <td>...</td>\n",
       "      <td>...</td>\n",
       "    </tr>\n",
       "    <tr>\n",
       "      <th>331921</th>\n",
       "      <td>CA</td>\n",
       "      <td>M</td>\n",
       "      <td>1995</td>\n",
       "      <td>Kimberly</td>\n",
       "      <td>7</td>\n",
       "    </tr>\n",
       "    <tr>\n",
       "      <th>333594</th>\n",
       "      <td>CA</td>\n",
       "      <td>M</td>\n",
       "      <td>1996</td>\n",
       "      <td>Kimberly</td>\n",
       "      <td>16</td>\n",
       "    </tr>\n",
       "    <tr>\n",
       "      <th>339305</th>\n",
       "      <td>CA</td>\n",
       "      <td>M</td>\n",
       "      <td>1998</td>\n",
       "      <td>Kimberly</td>\n",
       "      <td>7</td>\n",
       "    </tr>\n",
       "    <tr>\n",
       "      <th>352529</th>\n",
       "      <td>CA</td>\n",
       "      <td>M</td>\n",
       "      <td>2003</td>\n",
       "      <td>Kimberly</td>\n",
       "      <td>5</td>\n",
       "    </tr>\n",
       "    <tr>\n",
       "      <th>354899</th>\n",
       "      <td>CA</td>\n",
       "      <td>M</td>\n",
       "      <td>2004</td>\n",
       "      <td>Kimberly</td>\n",
       "      <td>6</td>\n",
       "    </tr>\n",
       "  </tbody>\n",
       "</table>\n",
       "<p>521 rows × 5 columns</p>\n",
       "</div>"
      ],
      "text/plain": [
       "       State Sex  Year      Name  Count\n",
       "0         CA   F  1910      Mary    295\n",
       "75        CA   F  1910      Anne     23\n",
       "233       CA   F  1911      Mary    390\n",
       "285       CA   F  1911      Anne     34\n",
       "484       CA   F  1912      Mary    534\n",
       "...      ...  ..   ...       ...    ...\n",
       "331921    CA   M  1995  Kimberly      7\n",
       "333594    CA   M  1996  Kimberly     16\n",
       "339305    CA   M  1998  Kimberly      7\n",
       "352529    CA   M  2003  Kimberly      5\n",
       "354899    CA   M  2004  Kimberly      6\n",
       "\n",
       "[521 rows x 5 columns]"
      ]
     },
     "execution_count": 9,
     "metadata": {},
     "output_type": "execute_result"
    }
   ],
   "source": [
    "babynames[(babynames['Name'] == 'Mary') |\n",
    "          (babynames['Name'] == 'Kimberly') |\n",
    "          (babynames['Name'] == 'Lisa') |\n",
    "          (babynames['Name'] == 'Anne')]"
   ]
  },
  {
   "cell_type": "markdown",
   "metadata": {},
   "source": [
    "Return if Name is in the list names"
   ]
  },
  {
   "cell_type": "code",
   "execution_count": 10,
   "metadata": {},
   "outputs": [
    {
     "data": {
      "text/html": [
       "<div>\n",
       "<style scoped>\n",
       "    .dataframe tbody tr th:only-of-type {\n",
       "        vertical-align: middle;\n",
       "    }\n",
       "\n",
       "    .dataframe tbody tr th {\n",
       "        vertical-align: top;\n",
       "    }\n",
       "\n",
       "    .dataframe thead th {\n",
       "        text-align: right;\n",
       "    }\n",
       "</style>\n",
       "<table border=\"1\" class=\"dataframe\">\n",
       "  <thead>\n",
       "    <tr style=\"text-align: right;\">\n",
       "      <th></th>\n",
       "      <th>State</th>\n",
       "      <th>Sex</th>\n",
       "      <th>Year</th>\n",
       "      <th>Name</th>\n",
       "      <th>Count</th>\n",
       "    </tr>\n",
       "  </thead>\n",
       "  <tbody>\n",
       "    <tr>\n",
       "      <th>0</th>\n",
       "      <td>CA</td>\n",
       "      <td>F</td>\n",
       "      <td>1910</td>\n",
       "      <td>Mary</td>\n",
       "      <td>295</td>\n",
       "    </tr>\n",
       "    <tr>\n",
       "      <th>75</th>\n",
       "      <td>CA</td>\n",
       "      <td>F</td>\n",
       "      <td>1910</td>\n",
       "      <td>Anne</td>\n",
       "      <td>23</td>\n",
       "    </tr>\n",
       "    <tr>\n",
       "      <th>233</th>\n",
       "      <td>CA</td>\n",
       "      <td>F</td>\n",
       "      <td>1911</td>\n",
       "      <td>Mary</td>\n",
       "      <td>390</td>\n",
       "    </tr>\n",
       "    <tr>\n",
       "      <th>285</th>\n",
       "      <td>CA</td>\n",
       "      <td>F</td>\n",
       "      <td>1911</td>\n",
       "      <td>Anne</td>\n",
       "      <td>34</td>\n",
       "    </tr>\n",
       "    <tr>\n",
       "      <th>484</th>\n",
       "      <td>CA</td>\n",
       "      <td>F</td>\n",
       "      <td>1912</td>\n",
       "      <td>Mary</td>\n",
       "      <td>534</td>\n",
       "    </tr>\n",
       "    <tr>\n",
       "      <th>...</th>\n",
       "      <td>...</td>\n",
       "      <td>...</td>\n",
       "      <td>...</td>\n",
       "      <td>...</td>\n",
       "      <td>...</td>\n",
       "    </tr>\n",
       "    <tr>\n",
       "      <th>331921</th>\n",
       "      <td>CA</td>\n",
       "      <td>M</td>\n",
       "      <td>1995</td>\n",
       "      <td>Kimberly</td>\n",
       "      <td>7</td>\n",
       "    </tr>\n",
       "    <tr>\n",
       "      <th>333594</th>\n",
       "      <td>CA</td>\n",
       "      <td>M</td>\n",
       "      <td>1996</td>\n",
       "      <td>Kimberly</td>\n",
       "      <td>16</td>\n",
       "    </tr>\n",
       "    <tr>\n",
       "      <th>339305</th>\n",
       "      <td>CA</td>\n",
       "      <td>M</td>\n",
       "      <td>1998</td>\n",
       "      <td>Kimberly</td>\n",
       "      <td>7</td>\n",
       "    </tr>\n",
       "    <tr>\n",
       "      <th>352529</th>\n",
       "      <td>CA</td>\n",
       "      <td>M</td>\n",
       "      <td>2003</td>\n",
       "      <td>Kimberly</td>\n",
       "      <td>5</td>\n",
       "    </tr>\n",
       "    <tr>\n",
       "      <th>354899</th>\n",
       "      <td>CA</td>\n",
       "      <td>M</td>\n",
       "      <td>2004</td>\n",
       "      <td>Kimberly</td>\n",
       "      <td>6</td>\n",
       "    </tr>\n",
       "  </tbody>\n",
       "</table>\n",
       "<p>521 rows × 5 columns</p>\n",
       "</div>"
      ],
      "text/plain": [
       "       State Sex  Year      Name  Count\n",
       "0         CA   F  1910      Mary    295\n",
       "75        CA   F  1910      Anne     23\n",
       "233       CA   F  1911      Mary    390\n",
       "285       CA   F  1911      Anne     34\n",
       "484       CA   F  1912      Mary    534\n",
       "...      ...  ..   ...       ...    ...\n",
       "331921    CA   M  1995  Kimberly      7\n",
       "333594    CA   M  1996  Kimberly     16\n",
       "339305    CA   M  1998  Kimberly      7\n",
       "352529    CA   M  2003  Kimberly      5\n",
       "354899    CA   M  2004  Kimberly      6\n",
       "\n",
       "[521 rows x 5 columns]"
      ]
     },
     "execution_count": 10,
     "metadata": {},
     "output_type": "execute_result"
    }
   ],
   "source": [
    "names = ['Mary', 'Kimberly', 'Lisa', 'Anne']\n",
    "babynames[babynames['Name'].isin(names)]"
   ]
  },
  {
   "cell_type": "markdown",
   "metadata": {},
   "source": [
    "%timeit repite 100 times a function to obtain a mean of how much time does the function takes"
   ]
  },
  {
   "cell_type": "code",
   "execution_count": 11,
   "metadata": {},
   "outputs": [
    {
     "name": "stdout",
     "output_type": "stream",
     "text": [
      "11.6 ms ± 47.9 µs per loop (mean ± std. dev. of 7 runs, 100 loops each)\n"
     ]
    }
   ],
   "source": [
    "%timeit babynames['Name'].isin(names)"
   ]
  },
  {
   "cell_type": "code",
   "execution_count": 12,
   "metadata": {},
   "outputs": [
    {
     "data": {
      "text/plain": [
       "126334.26356589147"
      ]
     },
     "execution_count": 12,
     "metadata": {},
     "output_type": "execute_result"
    }
   ],
   "source": [
    "babynames.shape\n",
    "operation = 407428 * 4 #407428 lenght of dataframe * 4 lenght of the list names\n",
    "operation_per_ms = operation / 12.9 # 12.9 the number of ms\n",
    "operation_per_ms"
   ]
  },
  {
   "cell_type": "code",
   "execution_count": 13,
   "metadata": {},
   "outputs": [
    {
     "data": {
      "text/html": [
       "<div>\n",
       "<style scoped>\n",
       "    .dataframe tbody tr th:only-of-type {\n",
       "        vertical-align: middle;\n",
       "    }\n",
       "\n",
       "    .dataframe tbody tr th {\n",
       "        vertical-align: top;\n",
       "    }\n",
       "\n",
       "    .dataframe thead th {\n",
       "        text-align: right;\n",
       "    }\n",
       "</style>\n",
       "<table border=\"1\" class=\"dataframe\">\n",
       "  <thead>\n",
       "    <tr style=\"text-align: right;\">\n",
       "      <th></th>\n",
       "      <th>State</th>\n",
       "      <th>Sex</th>\n",
       "      <th>Year</th>\n",
       "      <th>Name</th>\n",
       "      <th>Count</th>\n",
       "    </tr>\n",
       "  </thead>\n",
       "  <tbody>\n",
       "    <tr>\n",
       "      <th>76</th>\n",
       "      <td>CA</td>\n",
       "      <td>F</td>\n",
       "      <td>1910</td>\n",
       "      <td>Norma</td>\n",
       "      <td>23</td>\n",
       "    </tr>\n",
       "    <tr>\n",
       "      <th>83</th>\n",
       "      <td>CA</td>\n",
       "      <td>F</td>\n",
       "      <td>1910</td>\n",
       "      <td>Nellie</td>\n",
       "      <td>20</td>\n",
       "    </tr>\n",
       "    <tr>\n",
       "      <th>127</th>\n",
       "      <td>CA</td>\n",
       "      <td>F</td>\n",
       "      <td>1910</td>\n",
       "      <td>Nina</td>\n",
       "      <td>11</td>\n",
       "    </tr>\n",
       "    <tr>\n",
       "      <th>198</th>\n",
       "      <td>CA</td>\n",
       "      <td>F</td>\n",
       "      <td>1910</td>\n",
       "      <td>Nora</td>\n",
       "      <td>6</td>\n",
       "    </tr>\n",
       "    <tr>\n",
       "      <th>310</th>\n",
       "      <td>CA</td>\n",
       "      <td>F</td>\n",
       "      <td>1911</td>\n",
       "      <td>Nellie</td>\n",
       "      <td>23</td>\n",
       "    </tr>\n",
       "    <tr>\n",
       "      <th>...</th>\n",
       "      <td>...</td>\n",
       "      <td>...</td>\n",
       "      <td>...</td>\n",
       "      <td>...</td>\n",
       "      <td>...</td>\n",
       "    </tr>\n",
       "    <tr>\n",
       "      <th>407319</th>\n",
       "      <td>CA</td>\n",
       "      <td>M</td>\n",
       "      <td>2022</td>\n",
       "      <td>Nilan</td>\n",
       "      <td>5</td>\n",
       "    </tr>\n",
       "    <tr>\n",
       "      <th>407320</th>\n",
       "      <td>CA</td>\n",
       "      <td>M</td>\n",
       "      <td>2022</td>\n",
       "      <td>Niles</td>\n",
       "      <td>5</td>\n",
       "    </tr>\n",
       "    <tr>\n",
       "      <th>407321</th>\n",
       "      <td>CA</td>\n",
       "      <td>M</td>\n",
       "      <td>2022</td>\n",
       "      <td>Nolen</td>\n",
       "      <td>5</td>\n",
       "    </tr>\n",
       "    <tr>\n",
       "      <th>407322</th>\n",
       "      <td>CA</td>\n",
       "      <td>M</td>\n",
       "      <td>2022</td>\n",
       "      <td>Noriel</td>\n",
       "      <td>5</td>\n",
       "    </tr>\n",
       "    <tr>\n",
       "      <th>407323</th>\n",
       "      <td>CA</td>\n",
       "      <td>M</td>\n",
       "      <td>2022</td>\n",
       "      <td>Norris</td>\n",
       "      <td>5</td>\n",
       "    </tr>\n",
       "  </tbody>\n",
       "</table>\n",
       "<p>12229 rows × 5 columns</p>\n",
       "</div>"
      ],
      "text/plain": [
       "       State Sex  Year    Name  Count\n",
       "76        CA   F  1910   Norma     23\n",
       "83        CA   F  1910  Nellie     20\n",
       "127       CA   F  1910    Nina     11\n",
       "198       CA   F  1910    Nora      6\n",
       "310       CA   F  1911  Nellie     23\n",
       "...      ...  ..   ...     ...    ...\n",
       "407319    CA   M  2022   Nilan      5\n",
       "407320    CA   M  2022   Niles      5\n",
       "407321    CA   M  2022   Nolen      5\n",
       "407322    CA   M  2022  Noriel      5\n",
       "407323    CA   M  2022  Norris      5\n",
       "\n",
       "[12229 rows x 5 columns]"
      ]
     },
     "execution_count": 13,
     "metadata": {},
     "output_type": "execute_result"
    }
   ],
   "source": [
    "babynames[babynames['Name'].str.startswith('N')]"
   ]
  },
  {
   "cell_type": "markdown",
   "metadata": {},
   "source": [
    ".describe returns only information the columns with numbers data"
   ]
  },
  {
   "cell_type": "code",
   "execution_count": 14,
   "metadata": {},
   "outputs": [
    {
     "data": {
      "text/html": [
       "<div>\n",
       "<style scoped>\n",
       "    .dataframe tbody tr th:only-of-type {\n",
       "        vertical-align: middle;\n",
       "    }\n",
       "\n",
       "    .dataframe tbody tr th {\n",
       "        vertical-align: top;\n",
       "    }\n",
       "\n",
       "    .dataframe thead th {\n",
       "        text-align: right;\n",
       "    }\n",
       "</style>\n",
       "<table border=\"1\" class=\"dataframe\">\n",
       "  <thead>\n",
       "    <tr style=\"text-align: right;\">\n",
       "      <th></th>\n",
       "      <th>Year</th>\n",
       "      <th>Count</th>\n",
       "    </tr>\n",
       "  </thead>\n",
       "  <tbody>\n",
       "    <tr>\n",
       "      <th>count</th>\n",
       "      <td>407428.000000</td>\n",
       "      <td>407428.000000</td>\n",
       "    </tr>\n",
       "    <tr>\n",
       "      <th>mean</th>\n",
       "      <td>1985.733609</td>\n",
       "      <td>79.543456</td>\n",
       "    </tr>\n",
       "    <tr>\n",
       "      <th>std</th>\n",
       "      <td>27.007660</td>\n",
       "      <td>293.698654</td>\n",
       "    </tr>\n",
       "    <tr>\n",
       "      <th>min</th>\n",
       "      <td>1910.000000</td>\n",
       "      <td>5.000000</td>\n",
       "    </tr>\n",
       "    <tr>\n",
       "      <th>25%</th>\n",
       "      <td>1969.000000</td>\n",
       "      <td>7.000000</td>\n",
       "    </tr>\n",
       "    <tr>\n",
       "      <th>50%</th>\n",
       "      <td>1992.000000</td>\n",
       "      <td>13.000000</td>\n",
       "    </tr>\n",
       "    <tr>\n",
       "      <th>75%</th>\n",
       "      <td>2008.000000</td>\n",
       "      <td>38.000000</td>\n",
       "    </tr>\n",
       "    <tr>\n",
       "      <th>max</th>\n",
       "      <td>2022.000000</td>\n",
       "      <td>8260.000000</td>\n",
       "    </tr>\n",
       "  </tbody>\n",
       "</table>\n",
       "</div>"
      ],
      "text/plain": [
       "                Year          Count\n",
       "count  407428.000000  407428.000000\n",
       "mean     1985.733609      79.543456\n",
       "std        27.007660     293.698654\n",
       "min      1910.000000       5.000000\n",
       "25%      1969.000000       7.000000\n",
       "50%      1992.000000      13.000000\n",
       "75%      2008.000000      38.000000\n",
       "max      2022.000000    8260.000000"
      ]
     },
     "execution_count": 14,
     "metadata": {},
     "output_type": "execute_result"
    }
   ],
   "source": [
    "babynames.describe()"
   ]
  },
  {
   "cell_type": "markdown",
   "metadata": {},
   "source": [
    "describe also works with object's columns"
   ]
  },
  {
   "cell_type": "code",
   "execution_count": 15,
   "metadata": {},
   "outputs": [
    {
     "data": {
      "text/plain": [
       "count     407428\n",
       "unique         2\n",
       "top            F\n",
       "freq      239537\n",
       "Name: Sex, dtype: object"
      ]
     },
     "execution_count": 15,
     "metadata": {},
     "output_type": "execute_result"
    }
   ],
   "source": [
    "babynames['Sex'].describe()"
   ]
  },
  {
   "cell_type": "markdown",
   "metadata": {},
   "source": [
    "Sample return some number of samples take it randomly"
   ]
  },
  {
   "cell_type": "code",
   "execution_count": 16,
   "metadata": {},
   "outputs": [
    {
     "data": {
      "text/html": [
       "<div>\n",
       "<style scoped>\n",
       "    .dataframe tbody tr th:only-of-type {\n",
       "        vertical-align: middle;\n",
       "    }\n",
       "\n",
       "    .dataframe tbody tr th {\n",
       "        vertical-align: top;\n",
       "    }\n",
       "\n",
       "    .dataframe thead th {\n",
       "        text-align: right;\n",
       "    }\n",
       "</style>\n",
       "<table border=\"1\" class=\"dataframe\">\n",
       "  <thead>\n",
       "    <tr style=\"text-align: right;\">\n",
       "      <th></th>\n",
       "      <th>State</th>\n",
       "      <th>Sex</th>\n",
       "      <th>Year</th>\n",
       "      <th>Name</th>\n",
       "      <th>Count</th>\n",
       "    </tr>\n",
       "  </thead>\n",
       "  <tbody>\n",
       "    <tr>\n",
       "      <th>383986</th>\n",
       "      <td>CA</td>\n",
       "      <td>M</td>\n",
       "      <td>2014</td>\n",
       "      <td>Wilbert</td>\n",
       "      <td>6</td>\n",
       "    </tr>\n",
       "  </tbody>\n",
       "</table>\n",
       "</div>"
      ],
      "text/plain": [
       "       State Sex  Year     Name  Count\n",
       "383986    CA   M  2014  Wilbert      6"
      ]
     },
     "execution_count": 16,
     "metadata": {},
     "output_type": "execute_result"
    }
   ],
   "source": [
    "babynames.sample()"
   ]
  },
  {
   "cell_type": "code",
   "execution_count": 17,
   "metadata": {},
   "outputs": [
    {
     "data": {
      "text/html": [
       "<div>\n",
       "<style scoped>\n",
       "    .dataframe tbody tr th:only-of-type {\n",
       "        vertical-align: middle;\n",
       "    }\n",
       "\n",
       "    .dataframe tbody tr th {\n",
       "        vertical-align: top;\n",
       "    }\n",
       "\n",
       "    .dataframe thead th {\n",
       "        text-align: right;\n",
       "    }\n",
       "</style>\n",
       "<table border=\"1\" class=\"dataframe\">\n",
       "  <thead>\n",
       "    <tr style=\"text-align: right;\">\n",
       "      <th></th>\n",
       "      <th>Year</th>\n",
       "      <th>Name</th>\n",
       "      <th>Count</th>\n",
       "    </tr>\n",
       "  </thead>\n",
       "  <tbody>\n",
       "    <tr>\n",
       "      <th>149579</th>\n",
       "      <td>2000</td>\n",
       "      <td>Yamilet</td>\n",
       "      <td>71</td>\n",
       "    </tr>\n",
       "    <tr>\n",
       "      <th>150605</th>\n",
       "      <td>2000</td>\n",
       "      <td>Eleni</td>\n",
       "      <td>15</td>\n",
       "    </tr>\n",
       "    <tr>\n",
       "      <th>151420</th>\n",
       "      <td>2000</td>\n",
       "      <td>Amia</td>\n",
       "      <td>8</td>\n",
       "    </tr>\n",
       "    <tr>\n",
       "      <th>151583</th>\n",
       "      <td>2000</td>\n",
       "      <td>Merari</td>\n",
       "      <td>8</td>\n",
       "    </tr>\n",
       "    <tr>\n",
       "      <th>152569</th>\n",
       "      <td>2000</td>\n",
       "      <td>Kirsty</td>\n",
       "      <td>5</td>\n",
       "    </tr>\n",
       "  </tbody>\n",
       "</table>\n",
       "</div>"
      ],
      "text/plain": [
       "        Year     Name  Count\n",
       "149579  2000  Yamilet     71\n",
       "150605  2000    Eleni     15\n",
       "151420  2000     Amia      8\n",
       "151583  2000   Merari      8\n",
       "152569  2000   Kirsty      5"
      ]
     },
     "execution_count": 17,
     "metadata": {},
     "output_type": "execute_result"
    }
   ],
   "source": [
    "babynames[babynames['Year']==2000].sample(5).iloc[:,2:]"
   ]
  },
  {
   "cell_type": "markdown",
   "metadata": {},
   "source": [
    "sort_values based on a condition, and can use ascending True or False\n",
    "\n",
    "reset_index change the index based on the condition, and it agregate a column 'index' with the original index"
   ]
  },
  {
   "cell_type": "code",
   "execution_count": 18,
   "metadata": {},
   "outputs": [
    {
     "data": {
      "text/html": [
       "<div>\n",
       "<style scoped>\n",
       "    .dataframe tbody tr th:only-of-type {\n",
       "        vertical-align: middle;\n",
       "    }\n",
       "\n",
       "    .dataframe tbody tr th {\n",
       "        vertical-align: top;\n",
       "    }\n",
       "\n",
       "    .dataframe thead th {\n",
       "        text-align: right;\n",
       "    }\n",
       "</style>\n",
       "<table border=\"1\" class=\"dataframe\">\n",
       "  <thead>\n",
       "    <tr style=\"text-align: right;\">\n",
       "      <th></th>\n",
       "      <th>index</th>\n",
       "      <th>State</th>\n",
       "      <th>Sex</th>\n",
       "      <th>Year</th>\n",
       "      <th>Name</th>\n",
       "      <th>Count</th>\n",
       "    </tr>\n",
       "  </thead>\n",
       "  <tbody>\n",
       "    <tr>\n",
       "      <th>0</th>\n",
       "      <td>404544</td>\n",
       "      <td>CA</td>\n",
       "      <td>M</td>\n",
       "      <td>2021</td>\n",
       "      <td>Zyrus</td>\n",
       "      <td>5</td>\n",
       "    </tr>\n",
       "    <tr>\n",
       "      <th>1</th>\n",
       "      <td>197529</td>\n",
       "      <td>CA</td>\n",
       "      <td>F</td>\n",
       "      <td>2011</td>\n",
       "      <td>Zyrah</td>\n",
       "      <td>5</td>\n",
       "    </tr>\n",
       "    <tr>\n",
       "      <th>2</th>\n",
       "      <td>220691</td>\n",
       "      <td>CA</td>\n",
       "      <td>F</td>\n",
       "      <td>2017</td>\n",
       "      <td>Zyrah</td>\n",
       "      <td>6</td>\n",
       "    </tr>\n",
       "    <tr>\n",
       "      <th>3</th>\n",
       "      <td>232167</td>\n",
       "      <td>CA</td>\n",
       "      <td>F</td>\n",
       "      <td>2020</td>\n",
       "      <td>Zyrah</td>\n",
       "      <td>5</td>\n",
       "    </tr>\n",
       "    <tr>\n",
       "      <th>4</th>\n",
       "      <td>217429</td>\n",
       "      <td>CA</td>\n",
       "      <td>F</td>\n",
       "      <td>2016</td>\n",
       "      <td>Zyrah</td>\n",
       "      <td>5</td>\n",
       "    </tr>\n",
       "    <tr>\n",
       "      <th>...</th>\n",
       "      <td>...</td>\n",
       "      <td>...</td>\n",
       "      <td>...</td>\n",
       "      <td>...</td>\n",
       "      <td>...</td>\n",
       "      <td>...</td>\n",
       "    </tr>\n",
       "    <tr>\n",
       "      <th>407423</th>\n",
       "      <td>362040</td>\n",
       "      <td>CA</td>\n",
       "      <td>M</td>\n",
       "      <td>2007</td>\n",
       "      <td>Aaden</td>\n",
       "      <td>20</td>\n",
       "    </tr>\n",
       "    <tr>\n",
       "      <th>407424</th>\n",
       "      <td>398211</td>\n",
       "      <td>CA</td>\n",
       "      <td>M</td>\n",
       "      <td>2019</td>\n",
       "      <td>Aadarsh</td>\n",
       "      <td>6</td>\n",
       "    </tr>\n",
       "    <tr>\n",
       "      <th>407425</th>\n",
       "      <td>366001</td>\n",
       "      <td>CA</td>\n",
       "      <td>M</td>\n",
       "      <td>2008</td>\n",
       "      <td>Aadan</td>\n",
       "      <td>7</td>\n",
       "    </tr>\n",
       "    <tr>\n",
       "      <th>407426</th>\n",
       "      <td>369120</td>\n",
       "      <td>CA</td>\n",
       "      <td>M</td>\n",
       "      <td>2009</td>\n",
       "      <td>Aadan</td>\n",
       "      <td>6</td>\n",
       "    </tr>\n",
       "    <tr>\n",
       "      <th>407427</th>\n",
       "      <td>384005</td>\n",
       "      <td>CA</td>\n",
       "      <td>M</td>\n",
       "      <td>2014</td>\n",
       "      <td>Aadan</td>\n",
       "      <td>5</td>\n",
       "    </tr>\n",
       "  </tbody>\n",
       "</table>\n",
       "<p>407428 rows × 6 columns</p>\n",
       "</div>"
      ],
      "text/plain": [
       "         index State Sex  Year     Name  Count\n",
       "0       404544    CA   M  2021    Zyrus      5\n",
       "1       197529    CA   F  2011    Zyrah      5\n",
       "2       220691    CA   F  2017    Zyrah      6\n",
       "3       232167    CA   F  2020    Zyrah      5\n",
       "4       217429    CA   F  2016    Zyrah      5\n",
       "...        ...   ...  ..   ...      ...    ...\n",
       "407423  362040    CA   M  2007    Aaden     20\n",
       "407424  398211    CA   M  2019  Aadarsh      6\n",
       "407425  366001    CA   M  2008    Aadan      7\n",
       "407426  369120    CA   M  2009    Aadan      6\n",
       "407427  384005    CA   M  2014    Aadan      5\n",
       "\n",
       "[407428 rows x 6 columns]"
      ]
     },
     "execution_count": 18,
     "metadata": {},
     "output_type": "execute_result"
    }
   ],
   "source": [
    "babynames.sort_values('Name', ascending=False).reset_index()"
   ]
  },
  {
   "cell_type": "markdown",
   "metadata": {},
   "source": [
    "We can agregate lambda function's as criteria to sort_values"
   ]
  },
  {
   "cell_type": "code",
   "execution_count": 19,
   "metadata": {},
   "outputs": [
    {
     "data": {
      "text/html": [
       "<div>\n",
       "<style scoped>\n",
       "    .dataframe tbody tr th:only-of-type {\n",
       "        vertical-align: middle;\n",
       "    }\n",
       "\n",
       "    .dataframe tbody tr th {\n",
       "        vertical-align: top;\n",
       "    }\n",
       "\n",
       "    .dataframe thead th {\n",
       "        text-align: right;\n",
       "    }\n",
       "</style>\n",
       "<table border=\"1\" class=\"dataframe\">\n",
       "  <thead>\n",
       "    <tr style=\"text-align: right;\">\n",
       "      <th></th>\n",
       "      <th>State</th>\n",
       "      <th>Sex</th>\n",
       "      <th>Year</th>\n",
       "      <th>Name</th>\n",
       "      <th>Count</th>\n",
       "    </tr>\n",
       "  </thead>\n",
       "  <tbody>\n",
       "    <tr>\n",
       "      <th>334166</th>\n",
       "      <td>CA</td>\n",
       "      <td>M</td>\n",
       "      <td>1996</td>\n",
       "      <td>Franciscojavier</td>\n",
       "      <td>8</td>\n",
       "    </tr>\n",
       "    <tr>\n",
       "      <th>337301</th>\n",
       "      <td>CA</td>\n",
       "      <td>M</td>\n",
       "      <td>1997</td>\n",
       "      <td>Franciscojavier</td>\n",
       "      <td>5</td>\n",
       "    </tr>\n",
       "    <tr>\n",
       "      <th>339472</th>\n",
       "      <td>CA</td>\n",
       "      <td>M</td>\n",
       "      <td>1998</td>\n",
       "      <td>Franciscojavier</td>\n",
       "      <td>6</td>\n",
       "    </tr>\n",
       "    <tr>\n",
       "      <th>321792</th>\n",
       "      <td>CA</td>\n",
       "      <td>M</td>\n",
       "      <td>1991</td>\n",
       "      <td>Ryanchristopher</td>\n",
       "      <td>7</td>\n",
       "    </tr>\n",
       "    <tr>\n",
       "      <th>327358</th>\n",
       "      <td>CA</td>\n",
       "      <td>M</td>\n",
       "      <td>1993</td>\n",
       "      <td>Johnchristopher</td>\n",
       "      <td>5</td>\n",
       "    </tr>\n",
       "    <tr>\n",
       "      <th>321913</th>\n",
       "      <td>CA</td>\n",
       "      <td>M</td>\n",
       "      <td>1991</td>\n",
       "      <td>Franciscojavier</td>\n",
       "      <td>6</td>\n",
       "    </tr>\n",
       "    <tr>\n",
       "      <th>344440</th>\n",
       "      <td>CA</td>\n",
       "      <td>M</td>\n",
       "      <td>2000</td>\n",
       "      <td>Franciscojavier</td>\n",
       "      <td>6</td>\n",
       "    </tr>\n",
       "  </tbody>\n",
       "</table>\n",
       "</div>"
      ],
      "text/plain": [
       "       State Sex  Year             Name  Count\n",
       "334166    CA   M  1996  Franciscojavier      8\n",
       "337301    CA   M  1997  Franciscojavier      5\n",
       "339472    CA   M  1998  Franciscojavier      6\n",
       "321792    CA   M  1991  Ryanchristopher      7\n",
       "327358    CA   M  1993  Johnchristopher      5\n",
       "321913    CA   M  1991  Franciscojavier      6\n",
       "344440    CA   M  2000  Franciscojavier      6"
      ]
     },
     "execution_count": 19,
     "metadata": {},
     "output_type": "execute_result"
    }
   ],
   "source": [
    "babynames.sort_values('Name', key=lambda x: x.str.len(), ascending=False).head(7)"
   ]
  },
  {
   "cell_type": "code",
   "execution_count": 20,
   "metadata": {},
   "outputs": [
    {
     "data": {
      "text/html": [
       "<div>\n",
       "<style scoped>\n",
       "    .dataframe tbody tr th:only-of-type {\n",
       "        vertical-align: middle;\n",
       "    }\n",
       "\n",
       "    .dataframe tbody tr th {\n",
       "        vertical-align: top;\n",
       "    }\n",
       "\n",
       "    .dataframe thead th {\n",
       "        text-align: right;\n",
       "    }\n",
       "</style>\n",
       "<table border=\"1\" class=\"dataframe\">\n",
       "  <thead>\n",
       "    <tr style=\"text-align: right;\">\n",
       "      <th></th>\n",
       "      <th>State</th>\n",
       "      <th>Sex</th>\n",
       "      <th>Year</th>\n",
       "      <th>Name</th>\n",
       "      <th>Count</th>\n",
       "    </tr>\n",
       "  </thead>\n",
       "  <tbody>\n",
       "    <tr>\n",
       "      <th>0</th>\n",
       "      <td>CA</td>\n",
       "      <td>F</td>\n",
       "      <td>1910</td>\n",
       "      <td>Mary</td>\n",
       "      <td>295</td>\n",
       "    </tr>\n",
       "    <tr>\n",
       "      <th>1</th>\n",
       "      <td>CA</td>\n",
       "      <td>F</td>\n",
       "      <td>1910</td>\n",
       "      <td>Helen</td>\n",
       "      <td>239</td>\n",
       "    </tr>\n",
       "    <tr>\n",
       "      <th>2</th>\n",
       "      <td>CA</td>\n",
       "      <td>F</td>\n",
       "      <td>1910</td>\n",
       "      <td>Dorothy</td>\n",
       "      <td>220</td>\n",
       "    </tr>\n",
       "    <tr>\n",
       "      <th>3</th>\n",
       "      <td>CA</td>\n",
       "      <td>F</td>\n",
       "      <td>1910</td>\n",
       "      <td>Margaret</td>\n",
       "      <td>163</td>\n",
       "    </tr>\n",
       "    <tr>\n",
       "      <th>4</th>\n",
       "      <td>CA</td>\n",
       "      <td>F</td>\n",
       "      <td>1910</td>\n",
       "      <td>Frances</td>\n",
       "      <td>134</td>\n",
       "    </tr>\n",
       "    <tr>\n",
       "      <th>...</th>\n",
       "      <td>...</td>\n",
       "      <td>...</td>\n",
       "      <td>...</td>\n",
       "      <td>...</td>\n",
       "      <td>...</td>\n",
       "    </tr>\n",
       "    <tr>\n",
       "      <th>239532</th>\n",
       "      <td>CA</td>\n",
       "      <td>F</td>\n",
       "      <td>2022</td>\n",
       "      <td>Zemira</td>\n",
       "      <td>5</td>\n",
       "    </tr>\n",
       "    <tr>\n",
       "      <th>239533</th>\n",
       "      <td>CA</td>\n",
       "      <td>F</td>\n",
       "      <td>2022</td>\n",
       "      <td>Ziggy</td>\n",
       "      <td>5</td>\n",
       "    </tr>\n",
       "    <tr>\n",
       "      <th>239534</th>\n",
       "      <td>CA</td>\n",
       "      <td>F</td>\n",
       "      <td>2022</td>\n",
       "      <td>Zimal</td>\n",
       "      <td>5</td>\n",
       "    </tr>\n",
       "    <tr>\n",
       "      <th>239535</th>\n",
       "      <td>CA</td>\n",
       "      <td>F</td>\n",
       "      <td>2022</td>\n",
       "      <td>Zosia</td>\n",
       "      <td>5</td>\n",
       "    </tr>\n",
       "    <tr>\n",
       "      <th>239536</th>\n",
       "      <td>CA</td>\n",
       "      <td>F</td>\n",
       "      <td>2022</td>\n",
       "      <td>Zulay</td>\n",
       "      <td>5</td>\n",
       "    </tr>\n",
       "  </tbody>\n",
       "</table>\n",
       "<p>239537 rows × 5 columns</p>\n",
       "</div>"
      ],
      "text/plain": [
       "       State Sex  Year      Name  Count\n",
       "0         CA   F  1910      Mary    295\n",
       "1         CA   F  1910     Helen    239\n",
       "2         CA   F  1910   Dorothy    220\n",
       "3         CA   F  1910  Margaret    163\n",
       "4         CA   F  1910   Frances    134\n",
       "...      ...  ..   ...       ...    ...\n",
       "239532    CA   F  2022    Zemira      5\n",
       "239533    CA   F  2022     Ziggy      5\n",
       "239534    CA   F  2022     Zimal      5\n",
       "239535    CA   F  2022     Zosia      5\n",
       "239536    CA   F  2022     Zulay      5\n",
       "\n",
       "[239537 rows x 5 columns]"
      ]
     },
     "execution_count": 20,
     "metadata": {},
     "output_type": "execute_result"
    }
   ],
   "source": [
    "fem_babynames = babynames[babynames['Sex'] == 'F']\n",
    "fem_babynames"
   ]
  },
  {
   "cell_type": "code",
   "execution_count": 21,
   "metadata": {},
   "outputs": [
    {
     "data": {
      "application/vnd.plotly.v1+json": {
       "config": {
        "plotlyServerURL": "https://plot.ly"
       },
       "data": [
        {
         "hovertemplate": "Year=%{x}<br>Count=%{y}<extra></extra>",
         "legendgroup": "",
         "line": {
          "color": "#636efa",
          "dash": "solid"
         },
         "marker": {
          "symbol": "circle"
         },
         "mode": "lines",
         "name": "",
         "orientation": "v",
         "showlegend": false,
         "type": "scatter",
         "x": [
          1910,
          1911,
          1912,
          1913,
          1914,
          1915,
          1916,
          1917,
          1918,
          1919,
          1920,
          1921,
          1922,
          1923,
          1924,
          1925,
          1926,
          1927,
          1928,
          1929,
          1930,
          1931,
          1932,
          1933,
          1934,
          1935,
          1936,
          1937,
          1938,
          1939,
          1940,
          1941,
          1942,
          1943,
          1944,
          1945,
          1946,
          1947,
          1948,
          1949,
          1950,
          1951,
          1952,
          1953,
          1954,
          1955,
          1956,
          1957,
          1958,
          1959,
          1960,
          1961,
          1962,
          1963,
          1964,
          1965,
          1966,
          1967,
          1968,
          1969,
          1970,
          1971,
          1972,
          1973,
          1974,
          1975,
          1976,
          1977,
          1978,
          1979,
          1980,
          1981,
          1982,
          1983,
          1984,
          1985,
          1986,
          1987,
          1988,
          1989,
          1990,
          1991,
          1992,
          1993,
          1994,
          1995,
          1996,
          1997,
          1998,
          1999,
          2000,
          2001,
          2002,
          2003,
          2004,
          2005,
          2006,
          2007,
          2008,
          2009,
          2010,
          2011,
          2012,
          2013,
          2014,
          2015,
          2016,
          2017,
          2018,
          2019,
          2020,
          2021,
          2022
         ],
         "xaxis": "x",
         "y": [
          37,
          29,
          52,
          55,
          49,
          82,
          87,
          81,
          86,
          89,
          89,
          80,
          95,
          92,
          94,
          85,
          96,
          99,
          73,
          93,
          98,
          66,
          93,
          71,
          65,
          51,
          49,
          69,
          67,
          56,
          69,
          69,
          52,
          52,
          72,
          44,
          54,
          71,
          54,
          65,
          46,
          59,
          57,
          69,
          42,
          64,
          70,
          72,
          61,
          62,
          62,
          59,
          56,
          57,
          44,
          34,
          39,
          32,
          34,
          32,
          31,
          36,
          34,
          31,
          52,
          36,
          42,
          39,
          29,
          60,
          64,
          43,
          45,
          47,
          49,
          54,
          49,
          55,
          65,
          63,
          75,
          105,
          105,
          111,
          93,
          109,
          102,
          101,
          105,
          116,
          112,
          114,
          129,
          110,
          128,
          125,
          134,
          156,
          155,
          126,
          147,
          178,
          183,
          200,
          222,
          221,
          244,
          239,
          235,
          241,
          229,
          195,
          186
         ],
         "yaxis": "y"
        }
       ],
       "layout": {
        "font": {
         "size": 18
        },
        "legend": {
         "tracegroupgap": 0
        },
        "margin": {
         "t": 60
        },
        "template": {
         "data": {
          "bar": [
           {
            "error_x": {
             "color": "#2a3f5f"
            },
            "error_y": {
             "color": "#2a3f5f"
            },
            "marker": {
             "line": {
              "color": "#E5ECF6",
              "width": 0.5
             },
             "pattern": {
              "fillmode": "overlay",
              "size": 10,
              "solidity": 0.2
             }
            },
            "type": "bar"
           }
          ],
          "barpolar": [
           {
            "marker": {
             "line": {
              "color": "#E5ECF6",
              "width": 0.5
             },
             "pattern": {
              "fillmode": "overlay",
              "size": 10,
              "solidity": 0.2
             }
            },
            "type": "barpolar"
           }
          ],
          "carpet": [
           {
            "aaxis": {
             "endlinecolor": "#2a3f5f",
             "gridcolor": "white",
             "linecolor": "white",
             "minorgridcolor": "white",
             "startlinecolor": "#2a3f5f"
            },
            "baxis": {
             "endlinecolor": "#2a3f5f",
             "gridcolor": "white",
             "linecolor": "white",
             "minorgridcolor": "white",
             "startlinecolor": "#2a3f5f"
            },
            "type": "carpet"
           }
          ],
          "choropleth": [
           {
            "colorbar": {
             "outlinewidth": 0,
             "ticks": ""
            },
            "type": "choropleth"
           }
          ],
          "contour": [
           {
            "colorbar": {
             "outlinewidth": 0,
             "ticks": ""
            },
            "colorscale": [
             [
              0,
              "#0d0887"
             ],
             [
              0.1111111111111111,
              "#46039f"
             ],
             [
              0.2222222222222222,
              "#7201a8"
             ],
             [
              0.3333333333333333,
              "#9c179e"
             ],
             [
              0.4444444444444444,
              "#bd3786"
             ],
             [
              0.5555555555555556,
              "#d8576b"
             ],
             [
              0.6666666666666666,
              "#ed7953"
             ],
             [
              0.7777777777777778,
              "#fb9f3a"
             ],
             [
              0.8888888888888888,
              "#fdca26"
             ],
             [
              1,
              "#f0f921"
             ]
            ],
            "type": "contour"
           }
          ],
          "contourcarpet": [
           {
            "colorbar": {
             "outlinewidth": 0,
             "ticks": ""
            },
            "type": "contourcarpet"
           }
          ],
          "heatmap": [
           {
            "colorbar": {
             "outlinewidth": 0,
             "ticks": ""
            },
            "colorscale": [
             [
              0,
              "#0d0887"
             ],
             [
              0.1111111111111111,
              "#46039f"
             ],
             [
              0.2222222222222222,
              "#7201a8"
             ],
             [
              0.3333333333333333,
              "#9c179e"
             ],
             [
              0.4444444444444444,
              "#bd3786"
             ],
             [
              0.5555555555555556,
              "#d8576b"
             ],
             [
              0.6666666666666666,
              "#ed7953"
             ],
             [
              0.7777777777777778,
              "#fb9f3a"
             ],
             [
              0.8888888888888888,
              "#fdca26"
             ],
             [
              1,
              "#f0f921"
             ]
            ],
            "type": "heatmap"
           }
          ],
          "heatmapgl": [
           {
            "colorbar": {
             "outlinewidth": 0,
             "ticks": ""
            },
            "colorscale": [
             [
              0,
              "#0d0887"
             ],
             [
              0.1111111111111111,
              "#46039f"
             ],
             [
              0.2222222222222222,
              "#7201a8"
             ],
             [
              0.3333333333333333,
              "#9c179e"
             ],
             [
              0.4444444444444444,
              "#bd3786"
             ],
             [
              0.5555555555555556,
              "#d8576b"
             ],
             [
              0.6666666666666666,
              "#ed7953"
             ],
             [
              0.7777777777777778,
              "#fb9f3a"
             ],
             [
              0.8888888888888888,
              "#fdca26"
             ],
             [
              1,
              "#f0f921"
             ]
            ],
            "type": "heatmapgl"
           }
          ],
          "histogram": [
           {
            "marker": {
             "pattern": {
              "fillmode": "overlay",
              "size": 10,
              "solidity": 0.2
             }
            },
            "type": "histogram"
           }
          ],
          "histogram2d": [
           {
            "colorbar": {
             "outlinewidth": 0,
             "ticks": ""
            },
            "colorscale": [
             [
              0,
              "#0d0887"
             ],
             [
              0.1111111111111111,
              "#46039f"
             ],
             [
              0.2222222222222222,
              "#7201a8"
             ],
             [
              0.3333333333333333,
              "#9c179e"
             ],
             [
              0.4444444444444444,
              "#bd3786"
             ],
             [
              0.5555555555555556,
              "#d8576b"
             ],
             [
              0.6666666666666666,
              "#ed7953"
             ],
             [
              0.7777777777777778,
              "#fb9f3a"
             ],
             [
              0.8888888888888888,
              "#fdca26"
             ],
             [
              1,
              "#f0f921"
             ]
            ],
            "type": "histogram2d"
           }
          ],
          "histogram2dcontour": [
           {
            "colorbar": {
             "outlinewidth": 0,
             "ticks": ""
            },
            "colorscale": [
             [
              0,
              "#0d0887"
             ],
             [
              0.1111111111111111,
              "#46039f"
             ],
             [
              0.2222222222222222,
              "#7201a8"
             ],
             [
              0.3333333333333333,
              "#9c179e"
             ],
             [
              0.4444444444444444,
              "#bd3786"
             ],
             [
              0.5555555555555556,
              "#d8576b"
             ],
             [
              0.6666666666666666,
              "#ed7953"
             ],
             [
              0.7777777777777778,
              "#fb9f3a"
             ],
             [
              0.8888888888888888,
              "#fdca26"
             ],
             [
              1,
              "#f0f921"
             ]
            ],
            "type": "histogram2dcontour"
           }
          ],
          "mesh3d": [
           {
            "colorbar": {
             "outlinewidth": 0,
             "ticks": ""
            },
            "type": "mesh3d"
           }
          ],
          "parcoords": [
           {
            "line": {
             "colorbar": {
              "outlinewidth": 0,
              "ticks": ""
             }
            },
            "type": "parcoords"
           }
          ],
          "pie": [
           {
            "automargin": true,
            "type": "pie"
           }
          ],
          "scatter": [
           {
            "fillpattern": {
             "fillmode": "overlay",
             "size": 10,
             "solidity": 0.2
            },
            "type": "scatter"
           }
          ],
          "scatter3d": [
           {
            "line": {
             "colorbar": {
              "outlinewidth": 0,
              "ticks": ""
             }
            },
            "marker": {
             "colorbar": {
              "outlinewidth": 0,
              "ticks": ""
             }
            },
            "type": "scatter3d"
           }
          ],
          "scattercarpet": [
           {
            "marker": {
             "colorbar": {
              "outlinewidth": 0,
              "ticks": ""
             }
            },
            "type": "scattercarpet"
           }
          ],
          "scattergeo": [
           {
            "marker": {
             "colorbar": {
              "outlinewidth": 0,
              "ticks": ""
             }
            },
            "type": "scattergeo"
           }
          ],
          "scattergl": [
           {
            "marker": {
             "colorbar": {
              "outlinewidth": 0,
              "ticks": ""
             }
            },
            "type": "scattergl"
           }
          ],
          "scattermapbox": [
           {
            "marker": {
             "colorbar": {
              "outlinewidth": 0,
              "ticks": ""
             }
            },
            "type": "scattermapbox"
           }
          ],
          "scatterpolar": [
           {
            "marker": {
             "colorbar": {
              "outlinewidth": 0,
              "ticks": ""
             }
            },
            "type": "scatterpolar"
           }
          ],
          "scatterpolargl": [
           {
            "marker": {
             "colorbar": {
              "outlinewidth": 0,
              "ticks": ""
             }
            },
            "type": "scatterpolargl"
           }
          ],
          "scatterternary": [
           {
            "marker": {
             "colorbar": {
              "outlinewidth": 0,
              "ticks": ""
             }
            },
            "type": "scatterternary"
           }
          ],
          "surface": [
           {
            "colorbar": {
             "outlinewidth": 0,
             "ticks": ""
            },
            "colorscale": [
             [
              0,
              "#0d0887"
             ],
             [
              0.1111111111111111,
              "#46039f"
             ],
             [
              0.2222222222222222,
              "#7201a8"
             ],
             [
              0.3333333333333333,
              "#9c179e"
             ],
             [
              0.4444444444444444,
              "#bd3786"
             ],
             [
              0.5555555555555556,
              "#d8576b"
             ],
             [
              0.6666666666666666,
              "#ed7953"
             ],
             [
              0.7777777777777778,
              "#fb9f3a"
             ],
             [
              0.8888888888888888,
              "#fdca26"
             ],
             [
              1,
              "#f0f921"
             ]
            ],
            "type": "surface"
           }
          ],
          "table": [
           {
            "cells": {
             "fill": {
              "color": "#EBF0F8"
             },
             "line": {
              "color": "white"
             }
            },
            "header": {
             "fill": {
              "color": "#C8D4E3"
             },
             "line": {
              "color": "white"
             }
            },
            "type": "table"
           }
          ]
         },
         "layout": {
          "annotationdefaults": {
           "arrowcolor": "#2a3f5f",
           "arrowhead": 0,
           "arrowwidth": 1
          },
          "autotypenumbers": "strict",
          "coloraxis": {
           "colorbar": {
            "outlinewidth": 0,
            "ticks": ""
           }
          },
          "colorscale": {
           "diverging": [
            [
             0,
             "#8e0152"
            ],
            [
             0.1,
             "#c51b7d"
            ],
            [
             0.2,
             "#de77ae"
            ],
            [
             0.3,
             "#f1b6da"
            ],
            [
             0.4,
             "#fde0ef"
            ],
            [
             0.5,
             "#f7f7f7"
            ],
            [
             0.6,
             "#e6f5d0"
            ],
            [
             0.7,
             "#b8e186"
            ],
            [
             0.8,
             "#7fbc41"
            ],
            [
             0.9,
             "#4d9221"
            ],
            [
             1,
             "#276419"
            ]
           ],
           "sequential": [
            [
             0,
             "#0d0887"
            ],
            [
             0.1111111111111111,
             "#46039f"
            ],
            [
             0.2222222222222222,
             "#7201a8"
            ],
            [
             0.3333333333333333,
             "#9c179e"
            ],
            [
             0.4444444444444444,
             "#bd3786"
            ],
            [
             0.5555555555555556,
             "#d8576b"
            ],
            [
             0.6666666666666666,
             "#ed7953"
            ],
            [
             0.7777777777777778,
             "#fb9f3a"
            ],
            [
             0.8888888888888888,
             "#fdca26"
            ],
            [
             1,
             "#f0f921"
            ]
           ],
           "sequentialminus": [
            [
             0,
             "#0d0887"
            ],
            [
             0.1111111111111111,
             "#46039f"
            ],
            [
             0.2222222222222222,
             "#7201a8"
            ],
            [
             0.3333333333333333,
             "#9c179e"
            ],
            [
             0.4444444444444444,
             "#bd3786"
            ],
            [
             0.5555555555555556,
             "#d8576b"
            ],
            [
             0.6666666666666666,
             "#ed7953"
            ],
            [
             0.7777777777777778,
             "#fb9f3a"
            ],
            [
             0.8888888888888888,
             "#fdca26"
            ],
            [
             1,
             "#f0f921"
            ]
           ]
          },
          "colorway": [
           "#636efa",
           "#EF553B",
           "#00cc96",
           "#ab63fa",
           "#FFA15A",
           "#19d3f3",
           "#FF6692",
           "#B6E880",
           "#FF97FF",
           "#FECB52"
          ],
          "font": {
           "color": "#2a3f5f"
          },
          "geo": {
           "bgcolor": "white",
           "lakecolor": "white",
           "landcolor": "#E5ECF6",
           "showlakes": true,
           "showland": true,
           "subunitcolor": "white"
          },
          "hoverlabel": {
           "align": "left"
          },
          "hovermode": "closest",
          "mapbox": {
           "style": "light"
          },
          "paper_bgcolor": "white",
          "plot_bgcolor": "#E5ECF6",
          "polar": {
           "angularaxis": {
            "gridcolor": "white",
            "linecolor": "white",
            "ticks": ""
           },
           "bgcolor": "#E5ECF6",
           "radialaxis": {
            "gridcolor": "white",
            "linecolor": "white",
            "ticks": ""
           }
          },
          "scene": {
           "xaxis": {
            "backgroundcolor": "#E5ECF6",
            "gridcolor": "white",
            "gridwidth": 2,
            "linecolor": "white",
            "showbackground": true,
            "ticks": "",
            "zerolinecolor": "white"
           },
           "yaxis": {
            "backgroundcolor": "#E5ECF6",
            "gridcolor": "white",
            "gridwidth": 2,
            "linecolor": "white",
            "showbackground": true,
            "ticks": "",
            "zerolinecolor": "white"
           },
           "zaxis": {
            "backgroundcolor": "#E5ECF6",
            "gridcolor": "white",
            "gridwidth": 2,
            "linecolor": "white",
            "showbackground": true,
            "ticks": "",
            "zerolinecolor": "white"
           }
          },
          "shapedefaults": {
           "line": {
            "color": "#2a3f5f"
           }
          },
          "ternary": {
           "aaxis": {
            "gridcolor": "white",
            "linecolor": "white",
            "ticks": ""
           },
           "baxis": {
            "gridcolor": "white",
            "linecolor": "white",
            "ticks": ""
           },
           "bgcolor": "#E5ECF6",
           "caxis": {
            "gridcolor": "white",
            "linecolor": "white",
            "ticks": ""
           }
          },
          "title": {
           "x": 0.05
          },
          "xaxis": {
           "automargin": true,
           "gridcolor": "white",
           "linecolor": "white",
           "ticks": "",
           "title": {
            "standoff": 15
           },
           "zerolinecolor": "white",
           "zerolinewidth": 2
          },
          "yaxis": {
           "automargin": true,
           "gridcolor": "white",
           "linecolor": "white",
           "ticks": "",
           "title": {
            "standoff": 15
           },
           "zerolinecolor": "white",
           "zerolinewidth": 2
          }
         }
        },
        "xaxis": {
         "anchor": "y",
         "domain": [
          0,
          1
         ],
         "title": {
          "text": "Year"
         }
        },
        "yaxis": {
         "anchor": "x",
         "domain": [
          0,
          1
         ],
         "title": {
          "text": "Count"
         }
        }
       }
      }
     },
     "metadata": {},
     "output_type": "display_data"
    }
   ],
   "source": [
    "import plotly.express as px\n",
    "fig = px.line(fem_babynames[fem_babynames['Name'] == 'Clara'], x='Year', y='Count')\n",
    "fig.update_layout(font_size=18)"
   ]
  },
  {
   "cell_type": "code",
   "execution_count": 22,
   "metadata": {},
   "outputs": [
    {
     "data": {
      "text/html": [
       "<div>\n",
       "<style scoped>\n",
       "    .dataframe tbody tr th:only-of-type {\n",
       "        vertical-align: middle;\n",
       "    }\n",
       "\n",
       "    .dataframe tbody tr th {\n",
       "        vertical-align: top;\n",
       "    }\n",
       "\n",
       "    .dataframe thead th {\n",
       "        text-align: right;\n",
       "    }\n",
       "</style>\n",
       "<table border=\"1\" class=\"dataframe\">\n",
       "  <thead>\n",
       "    <tr style=\"text-align: right;\">\n",
       "      <th></th>\n",
       "      <th>State</th>\n",
       "      <th>Sex</th>\n",
       "      <th>Year</th>\n",
       "      <th>Name</th>\n",
       "      <th>Count</th>\n",
       "    </tr>\n",
       "  </thead>\n",
       "  <tbody>\n",
       "    <tr>\n",
       "      <th>203</th>\n",
       "      <td>CA</td>\n",
       "      <td>F</td>\n",
       "      <td>1910</td>\n",
       "      <td>Adelaide</td>\n",
       "      <td>5</td>\n",
       "    </tr>\n",
       "    <tr>\n",
       "      <th>204</th>\n",
       "      <td>CA</td>\n",
       "      <td>F</td>\n",
       "      <td>1910</td>\n",
       "      <td>Adele</td>\n",
       "      <td>5</td>\n",
       "    </tr>\n",
       "    <tr>\n",
       "      <th>205</th>\n",
       "      <td>CA</td>\n",
       "      <td>F</td>\n",
       "      <td>1910</td>\n",
       "      <td>Adrienne</td>\n",
       "      <td>5</td>\n",
       "    </tr>\n",
       "    <tr>\n",
       "      <th>206</th>\n",
       "      <td>CA</td>\n",
       "      <td>F</td>\n",
       "      <td>1910</td>\n",
       "      <td>Althea</td>\n",
       "      <td>5</td>\n",
       "    </tr>\n",
       "    <tr>\n",
       "      <th>207</th>\n",
       "      <td>CA</td>\n",
       "      <td>F</td>\n",
       "      <td>1910</td>\n",
       "      <td>Antonia</td>\n",
       "      <td>5</td>\n",
       "    </tr>\n",
       "  </tbody>\n",
       "</table>\n",
       "</div>"
      ],
      "text/plain": [
       "    State Sex  Year      Name  Count\n",
       "203    CA   F  1910  Adelaide      5\n",
       "204    CA   F  1910     Adele      5\n",
       "205    CA   F  1910  Adrienne      5\n",
       "206    CA   F  1910    Althea      5\n",
       "207    CA   F  1910   Antonia      5"
      ]
     },
     "execution_count": 22,
     "metadata": {},
     "output_type": "execute_result"
    }
   ],
   "source": [
    "fem_babynames = fem_babynames.sort_values(['Year', 'Count'])\n",
    "fem_babynames.head()"
   ]
  },
  {
   "cell_type": "code",
   "execution_count": 23,
   "metadata": {},
   "outputs": [
    {
     "data": {
      "text/html": [
       "<div>\n",
       "<style scoped>\n",
       "    .dataframe tbody tr th:only-of-type {\n",
       "        vertical-align: middle;\n",
       "    }\n",
       "\n",
       "    .dataframe tbody tr th {\n",
       "        vertical-align: top;\n",
       "    }\n",
       "\n",
       "    .dataframe thead th {\n",
       "        text-align: right;\n",
       "    }\n",
       "</style>\n",
       "<table border=\"1\" class=\"dataframe\">\n",
       "  <thead>\n",
       "    <tr style=\"text-align: right;\">\n",
       "      <th></th>\n",
       "      <th>State</th>\n",
       "      <th>Sex</th>\n",
       "      <th>Year</th>\n",
       "      <th>Name</th>\n",
       "      <th>Count</th>\n",
       "    </tr>\n",
       "  </thead>\n",
       "  <tbody>\n",
       "    <tr>\n",
       "      <th>12368</th>\n",
       "      <td>CA</td>\n",
       "      <td>F</td>\n",
       "      <td>1932</td>\n",
       "      <td>Lisa</td>\n",
       "      <td>5</td>\n",
       "    </tr>\n",
       "    <tr>\n",
       "      <th>14741</th>\n",
       "      <td>CA</td>\n",
       "      <td>F</td>\n",
       "      <td>1936</td>\n",
       "      <td>Lisa</td>\n",
       "      <td>8</td>\n",
       "    </tr>\n",
       "    <tr>\n",
       "      <th>17084</th>\n",
       "      <td>CA</td>\n",
       "      <td>F</td>\n",
       "      <td>1939</td>\n",
       "      <td>Lisa</td>\n",
       "      <td>5</td>\n",
       "    </tr>\n",
       "    <tr>\n",
       "      <th>17718</th>\n",
       "      <td>CA</td>\n",
       "      <td>F</td>\n",
       "      <td>1940</td>\n",
       "      <td>Lisa</td>\n",
       "      <td>7</td>\n",
       "    </tr>\n",
       "    <tr>\n",
       "      <th>18524</th>\n",
       "      <td>CA</td>\n",
       "      <td>F</td>\n",
       "      <td>1941</td>\n",
       "      <td>Lisa</td>\n",
       "      <td>7</td>\n",
       "    </tr>\n",
       "    <tr>\n",
       "      <th>...</th>\n",
       "      <td>...</td>\n",
       "      <td>...</td>\n",
       "      <td>...</td>\n",
       "      <td>...</td>\n",
       "      <td>...</td>\n",
       "    </tr>\n",
       "    <tr>\n",
       "      <th>221874</th>\n",
       "      <td>CA</td>\n",
       "      <td>F</td>\n",
       "      <td>2018</td>\n",
       "      <td>Lisa</td>\n",
       "      <td>52</td>\n",
       "    </tr>\n",
       "    <tr>\n",
       "      <th>225530</th>\n",
       "      <td>CA</td>\n",
       "      <td>F</td>\n",
       "      <td>2019</td>\n",
       "      <td>Lisa</td>\n",
       "      <td>56</td>\n",
       "    </tr>\n",
       "    <tr>\n",
       "      <th>229635</th>\n",
       "      <td>CA</td>\n",
       "      <td>F</td>\n",
       "      <td>2020</td>\n",
       "      <td>Lisa</td>\n",
       "      <td>26</td>\n",
       "    </tr>\n",
       "    <tr>\n",
       "      <th>232916</th>\n",
       "      <td>CA</td>\n",
       "      <td>F</td>\n",
       "      <td>2021</td>\n",
       "      <td>Lisa</td>\n",
       "      <td>44</td>\n",
       "    </tr>\n",
       "    <tr>\n",
       "      <th>236459</th>\n",
       "      <td>CA</td>\n",
       "      <td>F</td>\n",
       "      <td>2022</td>\n",
       "      <td>Lisa</td>\n",
       "      <td>56</td>\n",
       "    </tr>\n",
       "  </tbody>\n",
       "</table>\n",
       "<p>86 rows × 5 columns</p>\n",
       "</div>"
      ],
      "text/plain": [
       "       State Sex  Year  Name  Count\n",
       "12368     CA   F  1932  Lisa      5\n",
       "14741     CA   F  1936  Lisa      8\n",
       "17084     CA   F  1939  Lisa      5\n",
       "17718     CA   F  1940  Lisa      7\n",
       "18524     CA   F  1941  Lisa      7\n",
       "...      ...  ..   ...   ...    ...\n",
       "221874    CA   F  2018  Lisa     52\n",
       "225530    CA   F  2019  Lisa     56\n",
       "229635    CA   F  2020  Lisa     26\n",
       "232916    CA   F  2021  Lisa     44\n",
       "236459    CA   F  2022  Lisa     56\n",
       "\n",
       "[86 rows x 5 columns]"
      ]
     },
     "execution_count": 23,
     "metadata": {},
     "output_type": "execute_result"
    }
   ],
   "source": [
    "fem_babynames[fem_babynames['Name'] == 'Lisa']"
   ]
  },
  {
   "cell_type": "code",
   "execution_count": 24,
   "metadata": {},
   "outputs": [
    {
     "data": {
      "text/plain": [
       "Clara        113\n",
       "Jennie       113\n",
       "Ella         113\n",
       "Emily        113\n",
       "Geraldine    113\n",
       "            ... \n",
       "Kristol        1\n",
       "Laylene        1\n",
       "Leilaney       1\n",
       "Lezli          1\n",
       "Debanhi        1\n",
       "Name: Name, Length: 13782, dtype: int64"
      ]
     },
     "execution_count": 24,
     "metadata": {},
     "output_type": "execute_result"
    }
   ],
   "source": [
    "fem_babynames['Name'].value_counts()"
   ]
  },
  {
   "cell_type": "code",
   "execution_count": 25,
   "metadata": {},
   "outputs": [
    {
     "data": {
      "text/plain": [
       "13782"
      ]
     },
     "execution_count": 25,
     "metadata": {},
     "output_type": "execute_result"
    }
   ],
   "source": [
    "fem_babynames.groupby('Name').ngroups"
   ]
  },
  {
   "cell_type": "code",
   "execution_count": 26,
   "metadata": {},
   "outputs": [
    {
     "data": {
      "text/plain": [
       "{'Aadhini': [238687], 'Aadhira': [220330, 223283, 231343, 234746, 239045], 'Aadhya': [180380, 188452, 196071, 198837, 202620, 206542, 210341, 214361, 218182, 221936, 225694, 229384, 233165, 236750], 'Aadya': [175389, 188108, 192283, 195599, 199377, 203782, 206873, 210759, 214622, 218618, 222315, 226077, 229652, 233404, 237294], 'Aahana': [179961, 184195, 188109, 191399, 196313, 199088, 203943, 207641, 216026, 219537, 222277, 226973, 235342, 238411], 'Aahna': [208337], 'Aaira': [224072, 228084, 231727, 237879], 'Aairah': [220692], 'Aalani': [235000, 238412], 'Aalaya': [209031], 'Aalayah': [184196, 192973, 196314, 201062, 205032, 212333, 216229, 220074, 224413, 226730, 231728, 233878, 238413], 'Aaleah': [192974, 209032, 216889], 'Aaleyah': [180381, 188110, 190991, 195371, 199038, 203650, 207199, 211051, 215862, 219133, 223284, 226731, 230034, 234193], 'Aalia': [176140, 196984, 204115, 208338, 216230, 219854, 224414, 227733, 235343, 239046], 'Aaliah': [155434, 163143, 166520, 169939, 174778, 178451, 184197, 186770, 191201, 196315, 199856, 204116, 208639, 211270, 216890, 220693, 231344, 235001], 'Aaliya': [141432, 155435, 159520, 162909, 167415, 171531, 175390, 179642, 184634, 192284, 196607, 200066, 203355, 207642, 212621, 216231, 220331, 223285, 226846, 231345, 235344, 238688], 'Aaliyah': [77305, 127955, 131748, 135470, 138695, 142302, 145910, 149405, 152972, 156709, 160579, 164498, 168527, 172617, 176812, 181090, 185316, 189503, 193579, 197567, 201673, 205641, 209658, 213598, 217470, 221242, 224923, 228587, 232210, 235873], 'Aaliyha': [180382], 'Aalyah': [155704, 159223, 162910, 166866, 171202, 174939, 179184, 183051, 187257, 191847, 196608, 200067, 209033, 211922, 220694, 231729, 235002], 'Aalyiah': [180383, 184198, 188864, 192975, 201063, 208117], 'Aamina': [196985], 'Aaminah': [167844, 220332], 'Aamira': [201064, 235003], 'Aamiyah': [200632, 205033, 216891], 'Aanchal': [133982], 'Aanika': [170739, 175135, 213008, 235345], 'Aaniya': [192976], 'Aaniyah': [170458, 175136, 178655, 182745, 187873, 191678, 195474, 203651, 213009, 220695, 227734, 231087, 234357], 'Aanshi': [216892], 'Aanvi': [213010, 215555, 220075, 223286, 227477, 231346, 235004, 238201], 'Aanya': [156055, 159521, 162587, 167416, 173937, 177722, 181992, 186291, 190383, 194422, 198363, 202395, 206309, 210433, 214599, 218509, 222348, 226151, 229808, 233042, 236713], 'Aaradhya': [200068, 203282, 207273, 212100, 215455, 219855, 222661, 226364, 230583, 234747, 238414], 'Aaralyn': [170232, 174319, 179000, 184199, 187380, 195475, 198920, 202907, 207274, 211923, 215863, 220076], 'Aaria': [209034, 212622, 216893, 219856, 223042, 227478, 231088], 'Aariah': [220696], 'Aariana': [167417], 'Aarika': [90591, 104828, 108294, 111107, 114980, 119229, 201065, 211924, 231730, 239047], 'Aarin': [137940], 'Aarini': [208640], 'Aariyah': [188453, 196986, 208339, 212101, 215864, 224073, 227735, 231347, 235346, 238689], 'Aarna': [179001, 183309, 187671, 191067, 194627, 198838, 203019, 206559, 210824, 214600, 218539, 222168, 225922, 229290, 232873, 236733], 'Aarohi': [180384, 188111, 192977, 203550, 206990, 211431, 214984, 219538, 222958, 226488, 230882, 235005, 238690], 'Aaron': [52508, 54754, 60346, 61868, 64463, 66455, 69033, 71143, 72350, 74997, 76975, 79266, 81874, 84249, 86796, 90011, 92396, 95704, 98162, 100660, 104105, 107581, 110985, 114536, 117753, 121171, 125042, 129001, 132890, 136582, 140841, 144201, 147923, 159522, 163832, 216894], 'Aarti': [85463], 'Aarushi': [151649, 154897, 159003, 163833, 166391, 170599, 174320, 179962, 183893, 188112, 191202, 204117, 216895, 220697, 224074, 227479], 'Aarvi': [213011, 220333, 231348, 235006], 'Aarya': [167845, 175708, 179185, 182936, 187510, 191679, 195372, 198783, 202943, 206579, 210863, 214684, 218540, 221965, 225893, 229212, 233126, 236623], 'Aaryn': [105075, 115469, 130760, 159898, 167846, 188865, 192593, 207769, 220334, 224415, 234748], 'Aasha': [171931], 'Aashi': [171932, 179963, 187258, 191400, 200069, 203783, 207935, 212623, 216526, 227106], 'Aashna': [141091, 156056, 159899, 163474, 167418, 171532, 175709, 179002, 183310, 188113, 191848, 195891, 199857, 203784, 209035, 213012, 220077], 'Aashritha': [188866], 'Aashvi': [208340, 211535, 215556, 219857, 223601, 226241, 230098, 233488, 237295], 'Aastha': [163475, 167095, 171533, 184200, 188867], 'Aavya': [213013, 215207, 218781, 222796, 227267, 230171, 233552, 237044], 'Aayat': [220078, 227268, 230883, 234749, 238023], 'Aayla': [201066, 205034, 208641, 216232, 235347, 238024], 'Aayra': [224075, 230584, 235007, 239048], 'Aayushi': [159523], 'Abagail': [126647, 130368, 133714, 136687, 139829, 144038, 147568, 151224, 155215, 159004, 163144, 166521, 170064, 173882, 178547, 182606, 186981, 191129, 195083, 200070, 203785, 208642, 216896, 224416, 228085], 'Abbagail': [196316], 'Abbe': [32462, 38501, 40120], 'Abbey': [71144, 75602, 79951, 82096, 84859, 87069, 89719, 92847, 95566, 98247, 100801, 104640, 107582, 112132, 114111, 118268, 121646, 125325, 128947, 132445, 136013, 139781, 142879, 146426, 149979, 153832, 157567, 161351, 165338, 169464, 173705, 177813, 182018, 186249, 190532, 194408, 198323, 202453, 206835, 210864, 214571, 219424, 223287, 226296, 230585, 234358, 238691], 'Abbie': [5048, 6228, 31090, 32463, 35346, 36553, 37953, 39861, 41923, 43184, 48987, 50881, 64576, 68832, 71145, 79952, 81785, 84752, 87315, 90123, 93562, 99219, 101913, 104491, 107845, 110858, 115172, 118269, 123317, 126369, 129567, 136492, 139830, 143469, 146700, 150927, 153921, 157812, 161575, 165622, 169788, 173513, 177935, 182258, 186159, 190431, 194468, 198221, 202600, 206465, 210641, 214710, 218510, 222797, 227107, 231349, 233970, 237492], 'Abbigail': [126648, 129903, 133341, 136809, 139893, 143470, 147042, 150194, 154173, 157863, 161480, 165623, 169740, 173645, 177814, 181993, 186013, 190267, 194261, 198453, 202701, 206781, 210998, 215208, 218782, 222877, 226732, 230172, 235008, 239049], 'Abbigale': [137559, 148586, 152284, 155436, 159900, 162911, 171933, 174779, 179964, 183658, 192285, 195600, 200071, 208643, 216897], 'Abbigayle': [151911, 179965], 'Abby': [29884, 30913, 33553, 35347, 36863, 38121, 39937, 41506, 42983, 44730, 46601, 48497, 50432, 52187, 54477, 55755, 58606, 60220, 62149, 64464, 66826, 68333, 70592, 72978, 74853, 77027, 78933, 81350, 83809, 86546, 89147, 91969, 94796, 97502, 100528, 103659, 106546, 109758, 113319, 117238, 121114, 124645, 128297, 131889, 135444, 139119, 142561, 145911, 149552, 153268, 157051, 160886, 164731, 168812, 172890, 177052, 181398, 185600, 189767, 193872, 197841, 201938, 205941, 209950, 213907, 217856, 221582, 225264, 228933, 232672, 236349], 'Abbygail': [134350, 140654, 144981, 147197, 151912, 155216, 158683, 161963, 165834, 169884, 173766, 177837, 182412, 186313, 190512, 194469, 198351, 202547, 207032, 210865, 215082, 219134, 224076, 227736, 231089, 234359, 238415], 'Abbygale': [171203, 176141, 191680], 'Abbygayle': [159901], 'Abeer': [130761, 180385], 'Abegail': [152285, 167419, 171934, 176142, 180386], 'Abelina': [88138, 90844, 96368, 99220, 115830, 137941], 'Abella': [175137, 179966, 188114, 191130, 195892, 199089, 203356, 207432, 211536, 215456, 220079, 222959, 226974, 231090, 238025], 'Aberdeen': [205035, 212624], 'Abi': [188868], 'Abigael': [127033, 130762, 141092, 144645, 162912, 171204, 183466, 187874, 192594, 196987, 200633, 204650, 216898, 220698, 223803, 235009, 238202], 'Abigail': [7598, 9627, 12944, 19392, 22452, 24893, 25948, 27061, 29318, 30539, 32023, 33412, 34910, 36245, 37870, 39702, 41381, 42733, 44777, 46477, 48206, 50006, 52295, 53868, 55642, 57456, 59516, 61498, 63563, 65775, 67724, 69777, 71856, 73959, 76304, 78615, 80999, 83487, 86069, 88770, 91471, 94237, 96996, 99905, 102938, 105991, 109221, 112792, 116517, 120236, 123936, 127677, 131331, 134926, 138469, 141966, 145510, 149093, 152852, 156640, 160495, 164398, 168423, 172516, 176729, 181007, 185255, 189446, 193543, 197537, 201640, 205609, 209625, 213567, 217438, 221205, 224902, 228563, 232186, 235855], 'Abigal': [130369], 'Abigale': [127034, 130763, 133193, 136810, 140148, 143890, 147569, 150723, 154552, 157943, 161716, 165835, 170005, 173806, 178002, 182498, 186827, 190840, 194877, 198978, 203098, 207770, 213014, 216527, 219539, 223154, 226645, 230884], 'Abigayl': [159902], 'Abigayle': [71146, 126649, 130113, 133342, 137116, 140346, 143643, 146854, 150432, 154471, 158254, 161680, 165742, 169465, 173706, 178122, 182607, 191068, 195601, 199144, 203786, 208118, 212334, 227108], 'Abilene': [108048, 118725, 122686, 125978, 129904, 134351, 140842, 144982, 156057, 171534, 175138, 187672, 192595, 195743, 199218, 204361, 208644, 212335, 216899, 220699, 227737], 'Abisai': [213015], 'Abra': [75402, 80350, 87410, 93289, 171935], 'Abraham': [130370], 'Abrar': [208341], 'Abreanna': [137942], 'Abree': [212336, 220700], 'Abriana': [122459, 125741, 129568, 133194, 137943, 139831, 144202, 147924, 151225, 154472, 158460, 162343, 166522, 170600, 174640, 178741, 183052, 188454, 192286, 195027, 199463, 203652, 207538, 212625, 219684, 228086], 'Abrianna': [125848, 129720, 133983, 136811, 139970, 143762, 147198, 150540, 154473, 158255, 161922, 166672, 170740, 173883, 178123, 182608, 187064, 190878, 194761, 198717, 202702, 206836, 210953, 215691, 223602, 227738, 231350, 235348], 'Abriella': [188455, 192038, 196072, 199564, 203551, 207643, 212102, 214944, 218997, 223288, 226975, 231091, 234750, 239050], 'Abrielle': [130764, 141093, 147925, 151913, 166673, 171205, 174780, 180387, 183311, 186540, 190879, 194803, 198553, 202754, 206837, 210600, 214814, 218567, 222605, 226566, 230173, 234751, 237663], 'Abril': [75603, 85464, 87871, 90242, 93290, 98954, 101295, 104829, 107700, 110770, 113997, 117418, 121172, 124771, 128948, 132494, 135744, 139553, 142418, 145954, 149575, 153361, 157132, 160988, 164933, 168874, 172972, 176980, 181318, 185622, 189893, 193956, 197990, 202233, 206162, 210259, 214046, 217970, 221830, 225491, 229202, 232985, 236462], 'Abrina': [134352], 'Aby': [209036], 'Abygail': [144983, 147420, 151226, 156058, 159005, 161964, 166178, 169697, 173676, 177783, 182289, 186366, 190589, 195084, 198878, 203099, 206991, 211207, 214651, 219135, 222725, 227480, 234752], 'Acacia': [70812, 75229, 82861, 85009, 95891, 98729, 101018, 104380, 107288, 110190, 113741, 117754, 121416, 125265, 128748, 132612, 136014, 139673, 143296, 146572, 150433, 154553, 158174, 161965, 165787, 170233, 174042, 178742, 182331, 187511, 191514, 195373, 199378, 204118, 207936, 211432, 215557, 219307, 223155, 227109, 230255, 233744, 238416], 'Acadia': [213016], ...}"
      ]
     },
     "execution_count": 26,
     "metadata": {},
     "output_type": "execute_result"
    }
   ],
   "source": [
    "fem_babynames.groupby('Name').groups"
   ]
  },
  {
   "cell_type": "code",
   "execution_count": 27,
   "metadata": {},
   "outputs": [
    {
     "data": {
      "text/plain": [
       "dict_keys(['Aadhini', 'Aadhira', 'Aadhya', 'Aadya', 'Aahana', 'Aahna', 'Aaira', 'Aairah', 'Aalani', 'Aalaya', 'Aalayah', 'Aaleah', 'Aaleyah', 'Aalia', 'Aaliah', 'Aaliya', 'Aaliyah', 'Aaliyha', 'Aalyah', 'Aalyiah', 'Aamina', 'Aaminah', 'Aamira', 'Aamiyah', 'Aanchal', 'Aanika', 'Aaniya', 'Aaniyah', 'Aanshi', 'Aanvi', 'Aanya', 'Aaradhya', 'Aaralyn', 'Aaria', 'Aariah', 'Aariana', 'Aarika', 'Aarin', 'Aarini', 'Aariyah', 'Aarna', 'Aarohi', 'Aaron', 'Aarti', 'Aarushi', 'Aarvi', 'Aarya', 'Aaryn', 'Aasha', 'Aashi', 'Aashna', 'Aashritha', 'Aashvi', 'Aastha', 'Aavya', 'Aayat', 'Aayla', 'Aayra', 'Aayushi', 'Abagail', 'Abbagail', 'Abbe', 'Abbey', 'Abbie', 'Abbigail', 'Abbigale', 'Abbigayle', 'Abby', 'Abbygail', 'Abbygale', 'Abbygayle', 'Abeer', 'Abegail', 'Abelina', 'Abella', 'Aberdeen', 'Abi', 'Abigael', 'Abigail', 'Abigal', 'Abigale', 'Abigayl', 'Abigayle', 'Abilene', 'Abisai', 'Abra', 'Abraham', 'Abrar', 'Abreanna', 'Abree', 'Abriana', 'Abrianna', 'Abriella', 'Abrielle', 'Abril', 'Abrina', 'Aby', 'Abygail', 'Acacia', 'Acadia', 'Ace', 'Acelyn', 'Acelynn', 'Ada', 'Adabella', 'Adabelle', 'Adah', 'Adahli', 'Adahlia', 'Adaia', 'Adaiah', 'Adair', 'Adalay', 'Adaleah', 'Adalee', 'Adaleen', 'Adaleigh', 'Adalena', 'Adalene', 'Adalhi', 'Adali', 'Adalia', 'Adaliah', 'Adalie', 'Adalin', 'Adalina', 'Adalind', 'Adaline', 'Adaliz', 'Adaly', 'Adalyn', 'Adalyna', 'Adalyne', 'Adalynn', 'Adalynne', 'Adam', 'Adamari', 'Adamaris', 'Adamariz', 'Adamary', 'Adamarys', 'Adana', 'Adanely', 'Adanna', 'Adanya', 'Adara', 'Adaya', 'Adayah', 'Addalyn', 'Addalynn', 'Addeline', 'Addelyn', 'Addelynn', 'Addi', 'Addie', 'Addilyn', 'Addilynn', 'Addis', 'Addisen', 'Addison', 'Addisyn', 'Addy', 'Addysen', 'Addyson', 'Adeena', 'Adel', 'Adela', 'Adelaida', 'Adelaide', 'Adelaine', 'Adelayda', 'Adele', 'Adeleine', 'Adelena', 'Adelene', 'Adelia', 'Adelie', 'Adelin', 'Adelina', 'Adeline', 'Adelise', 'Adelita', 'Adell', 'Adella', 'Adelle', 'Adely', 'Adelyn', 'Adelyne', 'Adelynn', 'Adelynne', 'Aden', 'Adena', 'Adeya', 'Adhara', 'Adhira', 'Adhya', 'Adi', 'Adia', 'Adiana', 'Adianna', 'Adilene', 'Adileni', 'Adilenne', 'Adileny', 'Adilyn', 'Adilynn', 'Adina', 'Adira', 'Adison', 'Adisyn', 'Adithi', 'Aditi', 'Aditri', 'Adlee', 'Adleigh', 'Adley', 'Adora', 'Adore', 'Adrea', 'Adreana', 'Adreanna', 'Adreena', 'Adrena', 'Adria', 'Adrian', 'Adriana', 'Adriane', 'Adriann', 'Adrianna', 'Adrianne', 'Adrieanna', 'Adriel', 'Adrielle', 'Adrien', 'Adriene', 'Adrienna', 'Adrienne', 'Adrina', 'Adryana', 'Adryanna', 'Advika', 'Adya', 'Adylene', 'Adyline', 'Adysen', 'Adyson', 'Aela', 'Aeliana', 'Aella', 'Aemilia', 'Aerabella', 'Aerial', 'Aeriel', 'Aerilyn', 'Aerin', 'Aeris', 'Aerith', 'Aeryn', 'Aesha', 'Aeva', 'Africa', 'Afton', 'Agam', 'Agatha', 'Agena', 'Agnes', 'Agripina', 'Agueda', 'Agustina', 'Ahaana', 'Ahana', 'Ahava', 'Ahlam', 'Ahlana', 'Ahlani', 'Ahmari', 'Ahna', 'Ahniah', 'Ahri', 'Ahriana', 'Ahsley', 'Ahsoka', 'Ahtziri', 'Ahtziry', 'Ai', 'Aibhlinn', 'Aida', 'Aidan', 'Aidana', 'Aide', 'Aidee', 'Aideliz', 'Aiden', 'Aidsa', 'Aidyn', 'Aiesha', 'Aika', 'Aiko', 'Aila', 'Ailah', 'Ailana', 'Ailani', 'Ailanie', 'Ailany', 'Ailed', 'Ailee', 'Aileen', 'Aileene', 'Ailen', 'Ailene', 'Aileth', 'Ailey', 'Aili', 'Ailin', 'Ailis', 'Ailish', 'Aily', 'Ailyn', 'Ailynn', 'Aimar', 'Aime', 'Aimee', 'Aimie', 'Aimme', 'Aina', 'Ainara', 'Aine', 'Ainhara', 'Ainhoa', 'Ainslee', 'Ainsley', 'Aira', 'Airam', 'Aireana', 'Aireanna', 'Airi', 'Airiana', 'Airianna', 'Aisha', 'Aishah', 'Aishani', 'Aishwarya', 'Aisla', 'Aisley', 'Aislin', 'Aisling', 'Aislinn', 'Aislyn', 'Aislynn', 'Aissa', 'Aitana', 'Aitanna', 'Aithana', 'Aiva', 'Aivah', 'Aivy', 'Aixa', 'Aiya', 'Aiyana', 'Aiyanah', 'Aiyanna', 'Aiyla', 'Aiza', 'Aizah', 'Aizza', 'Aja', 'Ajah', 'Ajanae', 'Ajane', 'Ajee', 'Ajia', 'Ajooni', 'Akane', 'Akanksha', 'Akansha', 'Akari', 'Akasha', 'Akayla', 'Akaylah', 'Akeelah', 'Akela', 'Akemi', 'Akhila', 'Akia', 'Akiba', 'Akiko', 'Akila', 'Akilah', 'Akina', 'Akira', 'Akirah', 'Akisha', 'Akshara', 'Akshaya', 'Akshita', 'Akyra', 'Alaa', 'Alabama', 'Alahna', 'Alahni', 'Alaia', 'Alaiah', 'Alaiia', 'Alaina', 'Alaine', 'Alaiya', 'Alaiyah', 'Alaiza', 'Alajah', 'Alan', 'Alana', 'Alanah', 'Alandra', 'Alane', 'Alani', 'Alania', 'Alanie', 'Alanii', 'Alanis', 'Alanna', 'Alannah', 'Alanni', 'Alanny', 'Alany', 'Alara', 'Alasia', 'Alaska', 'Alauna', 'Alaura', 'Alaya', 'Alayah', 'Alayiah', 'Alayjah', 'Alayla', 'Alaylah', 'Alayna', 'Alaynah', 'Alayne', 'Alaynna', 'Alaysha', 'Alaysia', 'Alayza', 'Alazay', 'Alazne', 'Alba', 'Albany', 'Albert', 'Alberta', 'Albertina', 'Alberto', 'Albina', 'Alda', 'Alden', 'Alea', 'Aleah', 'Aleana', 'Aleasha', 'Alec', 'Alecia', 'Aleda', 'Aleea', 'Aleeah', 'Aleece', 'Aleecia', 'Aleen', 'Aleena', 'Aleenah', 'Aleesa', 'Aleesha', 'Aleeya', 'Aleeyah', 'Aleeza', 'Alegandra', 'Alegra', 'Alegria', 'Aleia', 'Aleiah', 'Aleida', 'Aleigha', 'Aleina', 'Aleisha', 'Aleiya', 'Aleiyah', 'Aleja', 'Alejah', 'Alejandra', 'Alejandrina', 'Alejandro', 'Alekhya', 'Aleksa', 'Aleksandra', 'Aleksia', 'Aleli', 'Alena', 'Alene', 'Alenna', 'Alesa', 'Alesana', 'Alesandra', 'Alese', 'Alesha', 'Aleshia', 'Alesia', 'Alessa', 'Alessandra', 'Alessandria', 'Alessi', 'Alessia', 'Aleta', 'Aletha', 'Alethea', 'Aletheia', 'Alethia', 'Alex', 'Alexa', 'Alexah', 'Alexander', 'Alexandera', 'Alexanderia', 'Alexandra', 'Alexandrea', 'Alexandria', 'Alexandrina', 'Alexandrya', 'Alexas', 'Alexcia', 'Alexes', 'Alexi', 'Alexia', 'Alexiah', 'Alexiana', 'Alexie', 'Alexis', 'Alexiss', 'Alexius', 'Alexiz', 'Alexsa', 'Alexsandra', 'Alexsia', 'Alexsis', 'Alexssa', 'Alexsys', 'Alexus', 'Alexx', 'Alexxa', 'Alexxia', 'Alexxis', 'Alexxus', 'Alexy', 'Alexya', 'Alexys', 'Alexyss', 'Alexza', 'Alexzandra', 'Alexzandria', 'Aleya', 'Aleyah', 'Aleyda', 'Aleyna', 'Aleysa', 'Aleyssa', 'Aleyza', 'Alfa', 'Alfreda', 'Alfredo', 'Alheli', 'Ali', 'Alia', 'Aliah', 'Aliana', 'Alianah', 'Alianna', 'Aliannah', 'Alica', 'Alice', 'Alicea', 'Alicen', 'Alicia', 'Aliciana', 'Alida', 'Aliea', 'Aliena', 'Aliesha', 'Alijah', 'Alik', 'Alika', 'Alilah', 'Alilet', 'Alin', 'Alina', 'Alinah', 'Aline', 'Alinea', 'Alinna', 'Alique', 'Alis', 'Alisa', 'Alisandra', 'Alise', 'Alisha', 'Alishba', 'Alishia', 'Alisi', 'Alisia', 'Alison', 'Alissa', 'Alissandra', 'Alissia', 'Alisson', 'Alisyn', 'Alita', 'Alitza', 'Alitzel', 'Alivia', 'Aliviah', 'Alix', 'Alixandra', 'Alixandria', 'Aliya', 'Aliyaah', 'Aliyah', 'Aliyana', 'Aliyanah', 'Aliyanna', 'Aliz', 'Aliza', 'Alizabeth', 'Alizae', 'Alizah', 'Alizay', 'Alize', 'Alizea', 'Alizee', 'Alizey', 'Alizon', 'Alla', 'Allana', 'Allanah', 'Allegra', 'Allen', 'Allena', 'Allene', 'Allexa', 'Alley', 'Alli', 'Allia', 'Alliah', 'Alliana', 'Allie', 'Allina', 'Allisa', 'Allisen', 'Allisha', 'Allison', 'Allissa', 'Allisson', 'Allisyn', 'Alliyah', 'Allizon', 'Allura', 'Allure', 'Ally', 'Allyana', 'Allyce', 'Allycia', 'Allyn', 'Allyna', 'Allysa', 'Allyse', 'Allysen', 'Allysha', 'Allysia', 'Allyson', 'Allyssa', 'Allysson', 'Alma', 'Almadelia', 'Almarosa', 'Almendra', 'Almira', 'Aloha', 'Aloma', 'Alona', 'Alonda', 'Alondra', 'Aloni', 'Alonna', 'Alora', 'Alpha', 'Alta', 'Altagracia', 'Althea', 'Aluna', 'Alva', 'Alvera', 'Alvina', 'Aly', 'Alya', 'Alyah', 'Alyana', 'Alyanna', 'Alyannah', 'Alyce', 'Alycia', 'Alydia', 'Alyiah', 'Alyissa', 'Alyn', 'Alyna', 'Alynah', 'Alyne', 'Alynna', 'Alys', 'Alysa', 'Alysah', 'Alyse', 'Alysen', 'Alysha', 'Alyshia', 'Alysia', 'Alyson', 'Alyss', 'Alyssa', 'Alyssah', 'Alyssamae', 'Alyssamarie', 'Alyssandra', 'Alysse', 'Alyssia', 'Alysson', 'Alyvia', 'Alyx', 'Alyxandra', 'Alyxandria', 'Alyza', 'Alyzah', 'Alyzza', 'Amada', 'Amaia', 'Amaiah', 'Amaira', 'Amairani', 'Amairany', 'Amaiya', 'Amaiyah', 'Amal', 'Amala', 'Amali', 'Amalia', 'Amalie', 'Amalya', 'Aman', 'Amana', 'Amanada', 'Amanat', 'Amanda', 'Amandeep', 'Amando', 'Amani', 'Amanpreet', 'Amar', 'Amara', 'Amarachi', 'Amarah', 'Amaranta', 'Amaree', 'Amari', 'Amaria', 'Amariah', 'Amarie', 'Amarii', 'Amarilis', 'Amaris', 'Amarissa', 'Amariyah', 'Amariz', 'Amarra', 'Amaryllis', 'Amauri', 'Amaya', 'Amayah', 'Amayra', 'Amayrani', 'Amayrany', 'Ambar', 'Amber', 'Amberle', 'Amberlee', 'Amberley', 'Amberly', 'Amberlyn', 'Amberlynn', 'Amberrose', 'Ambika', 'Ambra', 'Ambre', 'Ambria', 'Ambrielle', 'Ambrosia', 'Ambur', 'Amee', 'Ameena', 'Ameenah', 'Ameera', 'Ameerah', 'Ameli', 'Amelia', 'Ameliah', 'Ameliana', 'Ameliarose', 'Amelie', 'Ameliya', 'Amellia', 'Amely', 'Amen', 'Amena', 'Amera', 'America', 'Amerie', 'Amerika', 'Amery', 'Amethyst', 'Amey', 'Ameya', 'Ameyalli', 'Ami', 'Amia', 'Amiah', 'Amie', 'Amiee', 'Amila', 'Amilah', 'Amilia', 'Amiliana', 'Amillia', 'Amilliana', 'Amilya', 'Amina', 'Aminah', 'Aminata', 'Amira', 'Amirah', 'Amiri', 'Amirrah', 'Amisadai', 'Amisha', 'Amit', 'Amita', 'Amity', 'Amiya', 'Amiyah', 'Ammi', 'Ammie', 'Ammy', 'Amna', 'Amoni', 'Amor', 'Amora', 'Amorah', 'Amore', 'Amoreena', 'Amorette', 'Amorie', 'Amory', 'Amour', 'Amoura', 'Amparo', 'Amreen', 'Amri', 'Amrit', 'Amrita', 'Amrutha', 'Amulya', 'Amunique', 'Amy', 'Amya', 'Amyah', 'Amyiah', 'Amyla', 'Amyra', 'Amyrah', 'An', 'Ana', 'Anaalicia', 'Anaaya', 'Anabel', 'Anabela', 'Anabelen', 'Anabell', 'Anabella', 'Anabelle', 'Anabeth', 'Anabia', 'Anacamila', 'Anacani', 'Anacaren', 'Anacecilia', 'Anacristina', 'Anadalay', 'Anaeli', 'Anaelle', 'Anagabriela', 'Anagha', 'Anah', 'Anahat', 'Anahi', 'Anahid', 'Anahis', 'Anahit', 'Anahita', 'Anahy', 'Anai', 'Anaia', 'Anaiah', 'Anaid', 'Anaika', 'Anaira', 'Anairis', 'Anais', 'Anaisa', 'Anaisabel', 'Anaisha', 'Anaissa', 'Anaiya', 'Anaiyah', 'Anaiz', 'Anaiza', 'Anakaren', 'Analaura', 'Analaya', 'Analayah', 'Analea', 'Analeah', 'Analee', 'Analeia', 'Analeigh', 'Analeigha', 'Analena', 'Analeya', 'Analeyah', 'Anali', 'Analia', 'Analiah', 'Analicia', 'Analie', 'Analiese', 'Analilia', 'Analina', 'Analis', 'Analisa', 'Analise', 'Analissa', 'Analiya', 'Analiyah', 'Analiz', 'Analiza', 'Analleli', 'Anallely', 'Analucia', 'Analuisa', 'Analy', 'Analya', 'Analyah', 'Analyn', 'Analynn', 'Analysa', 'Analyse', 'Analyssa', 'Anam', 'Anamaria', 'Anamarie', 'Ananda', 'Ananya', 'Anapaola', 'Anapatricia', 'Anapaula', 'Anara', 'Anareli', 'Anari', 'Anarosa', 'Anasofia', 'Anasophia', 'Anastacia', 'Anastasia', 'Anastasiya', 'Anastassia', 'Anastazia', 'Anaveah', 'Anavi', 'Anavictoria', 'Anay', 'Anaya', 'Anayah', 'Anayat', 'Anayeli', 'Anayely', 'Anayra', 'Andee', 'Andera', 'Andi', 'Andie', 'Andra', 'Andraya', 'Andre', 'Andrea', 'Andreah', 'Andreana', 'Andreanna', 'Andree', 'Andreina', 'Andrena', 'Andres', 'Andrew', 'Andreya', 'Andria', 'Andriana', 'Andrianna', 'Andrina', 'Andromeda', 'Andy', 'Anecia', 'Aneesa', 'Aneesah', 'Aneesha', 'Anel', 'Anela', 'Aneli', 'Anelise', 'Aneliz', 'Anella', 'Anelly', 'Anely', 'Anesia', 'Anessa', 'Aneth', 'Anetra', 'Anett', 'Anette', 'Anevay', 'Aneya', 'Angel', 'Angela', 'Angele', 'Angelea', 'Angeleah', 'Angelee', 'Angeleen', 'Angeleena', 'Angelena', 'Angelene', 'Angeles', 'Angeli', 'Angelia', 'Angeliah', 'Angelic', 'Angelica', 'Angelicamaria', 'Angelicamarie', 'Angelicia', 'Angelie', 'Angelik', 'Angelika', 'Angelin', 'Angelina', 'Angelinah', 'Angeline', 'Angelinne', 'Angelique', 'Angelisa', 'Angelise', 'Angelita', 'Angella', 'Angelle', 'Angelli', 'Angellica', 'Angellina', 'Angelly', 'Angelmarie', 'Angelo', 'Angely', 'Angelyn', 'Angelyna', 'Angelyne', 'Angelynn', 'Angeni', 'Angi', 'Angie', 'Angle', 'Anglea', 'Angy', 'Anh', 'Anhelica', 'Anhthu', 'Ani', 'Ania', 'Aniah', 'Anibal', 'Anica', 'Anicia', 'Aniela', 'Anifer', 'Anijah', 'Anika', 'Aniko', 'Anilah', 'Anina', 'Anique', 'Anisa', 'Anisah', 'Anise', 'Anisha', 'Anishka', 'Anissa', 'Aniston', 'Anistyn', 'Anita', 'Anitra', 'Aniya', 'Aniyah', 'Aniyha', 'Aniyla', 'Aniylah', 'Anja', 'Anjalee', 'Anjali', 'Anjana', 'Anjanae', 'Anjanette', 'Anjani', 'Anjannette', 'Anjeanette', 'Anjela', 'Anjelica', 'Anjelika', 'Anjelina', 'Anjenette', 'Anjolie', 'Anjolina', 'Anjuli', 'Ankita', 'Ankitha', 'Anmarie', 'Anmol', 'Ann', 'Anna', 'Annabel', 'Annabell', 'Annabella', 'Annabelle', 'Annabeth', 'Annah', 'Annahi', 'Annai', 'Annais', 'Annaka', 'Annalea', 'Annaleah', 'Annalee', 'Annaleia', 'Annaleigh', 'Annali', 'Annalia', 'Annaliah', 'Annalicia', 'Annalie', 'Annaliese', 'Annalina', 'Annalisa', 'Annalise', 'Annaliyah', 'Annaliz', 'Annaliza', 'Annaly', 'Annalyn', 'Annalynn', 'Annalyse', 'Annamae', 'Annamaria', 'Annamarie', 'Annarose', 'Annasofia', 'Annasophia', 'Annastacia', 'Annastasia', 'Annay', 'Annaya', 'Anndrea', 'Anne', 'Anneka', 'Anneke', 'Annel', 'Anneli', 'Annelie', 'Anneliese', 'Annelise', 'Annelyse', 'Annemarie', 'Annessa', 'Annet', 'Annete', 'Anneth', 'Annett', 'Annetta', 'Annette', 'Anni', 'Annia', 'Anniah', 'Annica', 'Annie', 'Annika', 'Annisa', 'Annissa', 'Anniston', 'Annita', 'Anniyah', 'Annmarie', 'Annora', 'Anny', 'Annya', 'Anora', 'Anouk', 'Anoushka', 'Anshika', 'Ansley', 'Antara', 'Anthea', 'Anthony', 'Antionette', 'Antoinette', 'Antonela', 'Antonella', 'Antonette', 'Antonia', 'Antonieta', 'Antonietta', 'Antoniette', 'Antonina', 'Antonio', 'Antonisha', 'Antwanette', 'Anuhea', 'Anum', 'Anureet', 'Anusha', 'Anushka', 'Anushree', 'Anvi', 'Anvika', 'Anvita', 'Anvitha', 'Anwita', 'Any', 'Anya', 'Anyah', 'Anyeli', 'Anyelin', 'Anyia', 'Anyiah', 'Anyla', 'Anylah', 'Anysa', 'Anysia', 'Anyssa', 'Aoi', 'Aoife', 'Aolani', 'Aolanis', 'Aparna', 'Apollonia', 'Apolonia', 'Apoorva', 'Apple', 'April', 'Aprille', 'Apryl', 'Aqsa', 'Aqueelah', 'Aquilla', 'Ara', 'Arabella', 'Arabelle', 'Araceli', 'Aracelia', 'Aracely', 'Aradhya', 'Araiya', 'Araiyah', 'Aralyn', 'Aralynn', 'Arami', 'Aramis', 'Arantxa', 'Arantza', 'Aranza', 'Araseli', 'Arasely', 'Araya', 'Arayah', 'Arcelia', 'Archer', 'Archita', 'Ardath', 'Ardell', 'Ardelle', 'Arden', 'Ardeth', 'Ardis', 'Ardith', 'Ardyce', 'Ardys', 'Areana', 'Areanna', 'Areej', 'Areen', 'Areesha', 'Areil', 'Areisy', 'Areli', 'Arelie', 'Arelis', 'Arella', 'Arelly', 'Arely', 'Arelys', 'Areni', 'Ares', 'Aretha', 'Areya', 'Arfa', 'Argelia', 'Arha', 'Ari', 'Aria', 'Ariabella', 'Ariadna', 'Ariadne', 'Ariah', 'Ariahna', 'Arial', 'Ariam', 'Arian', 'Ariana', 'Arianah', 'Ariane', 'Arianelly', 'Ariani', 'Arianie', 'Arianna', 'Ariannah', 'Arianne', 'Arianni', 'Ariannie', 'Arianny', 'Ariany', 'Ariarose', 'Ariatna', 'Ariauna', 'Ariba', 'Aribella', 'Aribelle', 'Arica', 'Ariday', 'Arie', 'Arieana', 'Arieanna', 'Ariel', 'Ariela', 'Ariele', 'Ariell', 'Ariella', 'Arielle', 'Ariely', 'Aries', 'Arihana', 'Arihanna', 'Arika', 'Arilene', 'Arilynn', 'Arin', 'Arina', 'Arion', 'Ariona', 'Arionna', 'Aris', 'Arisa', 'Arisbeth', 'Arisha', 'Arissa', 'Arista', 'Ariya', 'Ariyah', 'Ariyan', 'Ariyana', 'Ariyanna', 'Arizbeth', 'Arizona', 'Arla', 'Arleen', 'Arleene', 'Arlen', 'Arlena', 'Arlene', 'Arlenne', 'Arlet', 'Arleta', 'Arleth', 'Arlett', 'Arletta', 'Arlette', 'Arley', 'Arlin', 'Arlinda', 'Arline', 'Arliz', 'Arlo', 'Arly', 'Arlyn', 'Arlyne', 'Arlynn', 'Armanda', 'Armandina', 'Armando', 'Armani', 'Armida', 'Arminda', 'Armine', 'Armoni', 'Arna', 'Arnelle', 'Arnetia', 'Arnetta', 'Arnika', 'Arnita', 'Arohi', 'Arora', 'Arpi', 'Arpine', 'Arpita', 'Arriana', 'Arrianna', 'Arrielle', 'Arrow', 'Arsema', 'Arshdeep', 'Arshia', 'Artemis', 'Artemisa', 'Arthur', 'Arti', 'Artie', 'Artisha', 'Arturo', 'Aruna', 'Arushi', 'Arwa', 'Arwen', 'Arwyn', 'Ary', 'Arya', 'Aryah', 'Aryam', 'Aryan', 'Aryana', 'Aryanah', 'Aryanna', 'Aryannah', 'Aryel', 'Aryella', 'Aryia', 'Aryiah', 'Aryn', 'Arynn', 'Aryona', 'Aryonna', 'Aryssa', 'Arzoey', 'Arzoi', 'Arzoyi', 'Arzu', 'Asa', 'Asako', 'Asal', 'Asante', 'Ascencion', 'Ascension', 'Aseel', 'Asees', 'Asenat', 'Asenath', 'Asenet', 'Aseneth', 'Asha', 'Ashante', 'Ashanti', 'Ashanty', 'Ashby', 'Ashe', 'Asheley', 'Ashely', 'Asher', 'Ashia', 'Ashika', 'Ashira', 'Ashlan', 'Ashland', 'Ashle', 'Ashlea', 'Ashlee', 'Ashleen', 'Ashlei', 'Ashleigh', 'Ashlen', 'Ashley', 'Ashleyann', 'Ashleymarie', 'Ashleynicole', 'Ashli', 'Ashlie', 'Ashliegh', 'Ashlin', 'Ashly', 'Ashlye', 'Ashlyn', 'Ashlynn', 'Ashlynne', 'Ashmita', 'Ashna', 'Ashten', 'Ashtin', 'Ashton', 'Ashtyn', 'Ashvi', 'Ashvika', 'Ashwika', 'Asia', 'Asiah', 'Asiana', 'Asiya', 'Asiyah', 'Asley', 'Aslyn', 'Asma', 'Asmaa', 'Asmara', 'Asmi', 'Aspen', 'Aspyn', 'Asra', 'Assata', 'Astella', 'Aster', 'Asteria', 'Astha', 'Astoria', 'Astra', 'Astraea', 'Astrid', 'Asucena', 'Asuka', 'Asuna', 'Asusena', 'Asuzena', 'Asya', 'Atalia', 'Atalie', 'Atara', 'Atarah', 'Atenas', 'Atenea', 'Athalia', 'Athaliah', 'Atheena', 'Athena', 'Athina', 'Athira', 'Athyna', 'Athziri', 'Athziry', 'Atiana', 'Atianna', 'Atiya', 'Atlas', 'Atzi', 'Atziri', 'Atziry', 'Aubreanna', 'Aubree', 'Aubreigh', 'Aubrey', 'Aubreyana', 'Aubri', 'Aubriana', 'Aubrianna', 'Aubrie', 'Aubriee', 'Aubriella', 'Aubrielle', 'Aubry', 'Aubryana', 'Aubryanna', 'Auburn', 'Audelia', 'Auden', 'Audra', 'Audre', 'Audrea', 'Audreanna', 'Audree', 'Audreena', 'Audrena', 'Audrey', 'Audreyana', 'Audri', 'Audria', 'Audriana', 'Audrianna', 'Audrie', 'Audrielle', 'Audrina', 'Audrinna', 'Audris', 'Audry', 'Audryna', 'August', 'Augusta', 'Augustina', 'Aujanae', 'Aulani', 'Aundrea', 'Aundria', 'Aunika', 'Aunna', 'Aura', 'Aurea', 'Aurelia', 'Aurelie', 'Auri', 'Auria', 'Auriana', 'Aurianna', 'Auriel', 'Auriella', 'Aurielle', 'Aurora', 'Aurorah', 'Austen', 'Austin', 'Austyn', 'Austynn', 'Autum', 'Autumn', 'Ava', 'Avagrace', 'Avah', 'Avaiyah', 'Avalee', 'Avaleen', 'Avaleigh', 'Avalene', 'Avalina', 'Avaline', 'Avalon', 'Avalyn', 'Avalynn', 'Avamarie', 'Avana', 'Avangeline', 'Avani', 'Avanna', 'Avanni', 'Avantika', 'Avaree', 'Avari', 'Avarie', 'Avarose', 'Avary', 'Avaya', 'Avayah', 'Avea', 'Aveah', 'Avelina', 'Aveline', 'Avelyn', 'Avelynn', 'Aven', 'Averee', 'Averey', 'Averi', 'Averie', 'Averly', 'Avery', 'Averyrose', 'Aveya', 'Aveyah', 'Avi', 'Avia', 'Aviah', 'Aviana', 'Avianah', 'Avianna', 'Aviannah', 'Avie', 'Aviella', 'Avielle', 'Avigail', 'Avigayil', 'Avika', 'Avila', 'Avilene', 'Avina', 'Avira', 'Avis', 'Avital', 'Aviv', 'Aviva', 'Aviyah', 'Avleen', 'Avneet', 'Avni', 'Avnoor', 'Avonlea', 'Avory', 'Avree', 'Avrie', 'Avril', 'Avry', 'Avy', 'Avya', 'Avyana', 'Avyanna', 'Aya', 'Ayah', 'Ayaka', 'Ayako', 'Ayala', 'Ayame', 'Ayana', 'Ayanah', 'Ayane', 'Ayani', 'Ayanna', 'Ayannah', 'Ayano', 'Ayari', 'Ayat', 'Ayda', 'Aydan', 'Ayde', 'Aydee', 'Ayden', 'Ayelen', 'Ayelet', 'Ayerim', 'Ayesha', 'Ayiana', 'Ayisha', 'Ayla', 'Aylah', 'Aylani', 'Aylanie', 'Aylee', 'Ayleen', 'Aylen', 'Aylene', 'Aylet', 'Ayleth', 'Aylin', 'Ayline', 'Aylinn', 'Aylssa', 'Aymar', 'Ayme', 'Aymee', 'Ayomi', 'Ayra', 'Ayram', 'Aysel', 'Aysha', 'Aysia', 'Aytana', 'Ayumi', 'Ayushi', 'Ayva', 'Ayvah', 'Ayven', 'Ayzal', 'Ayzel', 'Azadeh', 'Azalea', 'Azaleah', 'Azalia', 'Azaliah', 'Azalie', 'Azara', 'Azari', 'Azaria', 'Azariah', 'Azariyah', 'Azayla', 'Azaylah', 'Azelea', 'Azelia', 'Azelie', 'Azeneth', 'Azhane', 'Azia', 'Azita', 'Aziyah', 'Aziza', 'Azlyn', 'Azlynn', 'Azra', 'Azrael', 'Azriel', 'Azrielle', 'Azucena', 'Azul', 'Azula', 'Azura', 'Azure', 'Azusena', 'Baani', 'Babette', 'Baby', 'Babygirl', 'Bahar', 'Bailee', 'Baileigh', 'Bailey', 'Bailie', 'Baillie', 'Baily', 'Baker', 'Baleria', 'Balinda', 'Bambi', 'Banesa', 'Banessa', 'Bani', 'Banks', 'Bao', 'Baran', 'Barb', 'Barbara', 'Barbi', 'Barbie', 'Barbra', 'Bareen', 'Bari', 'Barrett', 'Barri', 'Barrie', 'Barry', 'Basia', 'Basil', 'Batsheva', 'Batya', 'Bay', 'Baya', 'Bayan', 'Bayla', 'Baylee', 'Bayleigh', 'Bayley', 'Bayli', 'Baylie', 'Baylor', 'Bea', 'Beatrice', 'Beatris', 'Beatrix', 'Beatriz', 'Beau', 'Beautiful', 'Beauty', 'Beaux', 'Bebe', 'Becca', 'Beckett', 'Becki', 'Beckie', 'Becky', 'Bedelia', 'Bee', 'Bela', 'Belanna', 'Belem', 'Belen', 'Belia', 'Belicia', 'Belina', 'Belinda', 'Belkis', 'Belky', 'Bella', 'Belladonna', 'Bellah', 'Bellamarie', 'Bellami', 'Bellamy', 'Bellanie', 'Bellarose', 'Bellatrix', 'Belle', 'Bellina', 'Belva', 'Benicia', 'Benita', 'Benjamin', 'Bennett', 'Bennie', 'Benny', 'Bentlee', 'Bentley', 'Berania', 'Berenice', 'Berenis', 'Berenise', 'Bereniz', 'Berenize', 'Bergen', 'Berkeley', 'Berkley', 'Berlin', 'Berlyn', 'Berlynn', 'Berna', 'Bernadette', 'Bernadine', 'Bernardette', 'Bernardine', 'Berneice', 'Bernice', 'Bernie', 'Berniece', 'Bernita', 'Beronica', 'Berta', 'Bertha', 'Bertie', 'Bertina', 'Beryl', 'Bess', 'Bessie', 'Bessy', 'Betania', 'Beth', 'Bethani', 'Bethanie', 'Bethann', 'Bethanny', 'Bethany', 'Bethel', 'Bethenny', 'Bethlehem', 'Bethsaida', 'Bethsy', 'Bethzaida', 'Bethzi', 'Bethzy', 'Betina', 'Betsabe', 'Betsaida', 'Betsey', 'Betsy', 'Bette', 'Betti', 'Bettie', 'Bettina', 'Betty', 'Bettye', 'Bettylou', 'Betzabe', 'Betzabeth', 'Betzaida', 'Betzaira', 'Betzayda', 'Betzayra', 'Betzi', 'Betzy', 'Beulah', 'Bev', 'Beverlee', 'Beverley', 'Beverly', 'Bevin', 'Bexley', 'Beya', 'Beyonce', 'Bhavya', 'Bianca', 'Bianey', 'Bianka', 'Bibi', 'Bibiana', 'Bibianna', 'Bich', 'Bijou', 'Billee', 'Billi', 'Billie', 'Billiejo', 'Billy', 'Billye', 'Bilma', 'Bindi', 'Binh', 'Bionca', 'Birdie', 'Birgit', 'Biridiana', 'Bita', 'Biviana', 'Blair', 'Blaire', 'Blaise', 'Blake', 'Blakeley', 'Blakely', 'Blakelyn', 'Blanca', 'Blanch', 'Blanche', 'Blayke', 'Blen', 'Bless', 'Blessing', 'Blessyn', 'Bleu', 'Blia', 'Bliss', 'Bloom', 'Blossom', 'Blu', 'Blue', 'Blythe', 'Bo', 'Bobbe', 'Bobbette', 'Bobbi', 'Bobbie', 'Bobby', 'Bobbye', 'Bobette', 'Bodhi', 'Boni', 'Bonita', 'Bonni', 'Bonnie', 'Bonny', 'Boston', 'Bostyn', 'Bowie', 'Bracha', 'Bradie', 'Bradlee', 'Bradley', 'Brady', 'Braeden', 'Braedyn', 'Braelyn', 'Braelynn', 'Brailyn', 'Branda', 'Brandalyn', 'Brande', 'Brandee', 'Brandi', 'Brandice', 'Brandie', 'Brandilyn', 'Brandis', 'Brandon', 'Brandy', 'Brandye', 'Brandyn', 'Brayden', 'Braylee', 'Brayleigh', 'Braylin', 'Braylyn', 'Braylynn', 'Brazil', 'Brea', 'Breah', 'Breahna', 'Breana', 'Breanah', 'Breanda', 'Breann', 'Breanna', 'Breannah', 'Breanne', 'Breauna', 'Breaunna', 'Breckyn', 'Bree', 'Breeana', 'Breeann', 'Breeanna', 'Breeanne', 'Breelyn', 'Breena', 'Breeze', 'Breezy', 'Breiana', 'Brelynn', 'Brena', 'Brenae', 'Brenda', 'Brendan', 'Brendy', 'Brenna', 'Brennah', 'Brennan', 'Brennen', 'Brent', 'Breona', 'Breonna', 'Brett', 'Brettany', 'Breya', 'Breyana', 'Breyanna', 'Breyona', 'Brezhane', 'Bria', 'Briah', 'Briahna', 'Brian', 'Briana', 'Brianah', 'Brianda', 'Briane', 'Briann', 'Brianna', 'Briannah', 'Brianne', 'Brianny', 'Briar', 'Briarrose', 'Briauna', 'Briceida', 'Briceyda', 'Bricia', 'Bridget', 'Bridgett', 'Bridgette', 'Bridgit', 'Bridgitt', 'Bridgitte', 'Brie', 'Brieana', 'Brieann', 'Brieanna', 'Brieanne', 'Briella', 'Brielle', 'Brienna', 'Brienne', 'Briget', 'Brigette', 'Brighton', 'Brigid', 'Brigida', 'Brigit', 'Brigitta', 'Brigitte', 'Brihana', 'Brihanna', 'Brilee', 'Briley', 'Brilyn', 'Brilynn', 'Brina', 'Brinda', 'Brinkley', 'Brinlee', 'Brinley', 'Briona', 'Brionna', 'Brionne', 'Brisa', 'Brisamar', 'Briseida', 'Briseis', 'Briselda', 'Briseyda', 'Brisia', 'Brissa', 'Brissia', 'Bristol', 'Brit', 'Brita', 'Britain', 'Britani', 'Britania', 'Britanie', 'Britanny', 'Britany', 'Brithanny', 'Brithany', 'Brithney', 'Britini', 'Britne', 'Britnee', 'Britney', 'Britni', 'Britnie', 'Britny', 'Britt', 'Britta', 'Brittainy', 'Brittan', 'Brittanee', 'Brittaney', 'Brittani', 'Brittania', 'Brittanie', 'Brittanny', 'Brittany', 'Brittanya', 'Britteny', 'Brittiany', 'Brittiney', 'Brittini', 'Brittiny', 'Brittnay', 'Brittnee', 'Brittnei', 'Brittney', 'Brittni', 'Brittnie', 'Brittny', 'Britton', 'Brixlee', 'Brixley', 'Brixton', 'Brixtyn', 'Briyana', 'Briza', 'Brizeida', 'Brizeyda', 'Brizia', 'Brizza', 'Brodie', 'Brogan', 'Bronte', 'Bronwen', 'Bronwyn', 'Brook', 'Brooke', 'Brookelyn', 'Brookelynn', 'Brooklin', 'Brooklyn', 'Brooklyne', 'Brooklynn', 'Brooklynne', 'Brooks', 'Bruce', 'Bruna', 'Bryan', 'Bryana', 'Bryanah', 'Bryanda', 'Bryanna', 'Bryannah', 'Bryanne', 'Bryce', 'Brylee', 'Bryleigh', 'Brylie', 'Bryn', 'Bryna', 'Brynlee', 'Brynleigh', 'Brynley', 'Brynlie', 'Brynn', 'Brynna', 'Brynne', 'Brynnlee', 'Brynnley', 'Bryonna', 'Bryony', 'Bryssa', 'Brystol', 'Buffi', 'Buffie', 'Buffy', 'Bunnie', 'Bunny', 'Bushra', 'Byanca', 'Byanka', 'Cadance', 'Caden', 'Cadence', 'Cadhla', 'Cady', 'Caelan', 'Caeley', 'Caeli', 'Caelin', 'Caelyn', 'Cai', 'Caia', 'Caiden', 'Caidence', 'Caila', 'Cailee', 'Caileigh', 'Cailey', 'Cailin', 'Cailyn', 'Cailynn', 'Caira', 'Cairo', 'Caitlan', 'Caitlen', 'Caitlin', 'Caitlyn', 'Caitlynn', 'Caiya', 'Calandra', 'Caleb', 'Caleigh', 'Caley', 'Cali', 'Calia', 'Caliah', 'Caliana', 'Calianna', 'Calie', 'California', 'Calina', 'Calirose', 'Calise', 'Calisi', 'Calissa', 'Calista', 'Caliyah', 'Calla', 'Callan', 'Calleen', 'Calleigh', 'Calley', 'Calli', 'Callia', 'Callie', 'Calliope', 'Callista', 'Cally', 'Caludia', 'Calvin', 'Calyn', 'Calypso', 'Calysta', 'Cam', 'Cambria', 'Cambrie', 'Camden', 'Camdyn', 'Camela', 'Camelia', 'Camellia', 'Cameo', 'Cameran', 'Camerina', 'Cameron', 'Cameryn', 'Cami', 'Camie', 'Camila', 'Camilah', 'Camile', 'Camilia', 'Camilla', 'Camille', 'Camillia', 'Camily', 'Camisha', 'Camiyah', 'Cammi', 'Cammie', 'Cammy', 'Campbell', 'Camren', 'Camry', 'Camryn', 'Camrynn', 'Camyla', 'Candace', 'Candance', 'Candee', 'Candelaria', 'Candi', 'Candice', 'Candida', 'Candie', 'Candis', 'Candise', 'Candiss', 'Candra', 'Candy', 'Candyce', 'Caoimhe', 'Capri', 'Caprice', 'Cara', 'Caralee', 'Caraline', 'Caralyn', 'Carely', 'Caren', 'Caressa', 'Caresse', 'Carey', 'Cari', 'Caricia', 'Caridad', 'Carie', 'Carin', 'Carina', 'Carine', 'Carinna', 'Carinne', 'Caris', 'Carisa', 'Carisma', 'Carissa', 'Carl', 'Carla', 'Carlee', 'Carleen', 'Carleigh', 'Carlena', 'Carlene', 'Carletta', 'Carlette', 'Carley', 'Carli', 'Carlie', 'Carlin', 'Carlina', 'Carlisha', 'Carlita', 'Carlos', 'Carlota', 'Carlotta', 'Carly', 'Carlye', 'Carlyn', 'Carma', 'Carman', 'Carmel', 'Carmela', 'Carmelina', 'Carmelita', 'Carmella', 'Carmen', 'Carmin', 'Carmina', 'Carnation', 'Carol', 'Carola', 'Carolann', 'Carolanne', 'Carole', 'Carolee', 'Carolena', 'Carolin', 'Carolina', 'Caroline', 'Caroll', 'Carolyn', 'Carolyna', 'Carolyne', 'Carolynn', 'Carolynne', 'Caron', 'Carri', 'Carrie', 'Carrigan', 'Carrin', 'Carrina', 'Carrington', 'Carrisa', 'Carrissa', 'Carrol', 'Carroll', 'Carry', 'Carsen', 'Carson', 'Carsyn', 'Carter', 'Cary', 'Caryl', 'Caryn', 'Carys', 'Casandra', 'Casara', 'Casarah', 'Casaundra', 'Casey', 'Cashmere', 'Casie', 'Casondra', 'Cassadee', 'Cassady', 'Cassandra', 'Cassandre', 'Cassara', 'Cassaundra', 'Cassey', 'Cassi', 'Cassia', 'Cassidee', 'Cassidi', 'Cassidie', 'Cassidy', 'Cassie', 'Cassondra', 'Cassy', 'Catalaya', 'Catalea', 'Cataleah', 'Cataleya', 'Cataleyah', 'Catalia', 'Catalina', 'Catalyna', 'Catarina', 'Cate', 'Cateleya', 'Catelyn', 'Catelynn', 'Catera', 'Caterin', 'Caterina', 'Cathaleya', 'Catharine', 'Cathe', 'Catherin', 'Catherina', 'Catherine', 'Catheryn', 'Cathey', 'Cathi', 'Cathie', 'Cathleen', 'Cathlene', 'Cathrine', 'Cathryn', 'Cathy', 'Catie', 'Catina', 'Catlin', 'Catlyn', 'Catrice', 'Catrina', 'Catriona', 'Cattaleya', 'Cattleya', 'Cayce', 'Caycee', 'Cayden', 'Caydence', 'Cayenne', 'Cayetana', 'Cayla', 'Caylah', 'Caylee', 'Cayleigh', 'Caylen', 'Cayley', 'Caylie', 'Caylin', 'Ceaira', 'Ceana', 'Ceanna', 'Ceara', 'Cece', 'Ceceilia', 'Cecelia', 'Cecil', 'Cecila', 'Cecile', 'Cecilia', 'Cecilie', 'Cecille', 'Cecily', 'Cecy', 'Cedar', 'Cedrina', 'Celena', 'Celene', 'Celenia', 'Celest', 'Celeste', 'Celestia', 'Celestial', 'Celestina', 'Celestine', 'Celia', 'Celica', 'Celida', 'Celina', 'Celinda', 'Celine', 'Celisse', 'Celyna', 'Cendy', 'Cennet', 'Centhia', 'Cera', 'Cerena', 'Cerenity', 'Cerina', 'Cerise', 'Cerissa', 'Cesar', 'Cesia', 'Cesilia', 'Chabeli', 'Chad', 'Chai', 'Chaise', 'Chaitra', 'Chaka', 'Chalise', 'Chalon', 'Champagne', 'Chan', 'Chana', 'Chanae', 'Chance', 'Chanda', 'Chandi', 'Chandler', 'Chandni', 'Chandra', 'Chandrika', 'Chanel', 'Chanell', 'Chanelle', 'Chanice', 'Chanin', 'Chanise', 'Chaniya', 'Channa', 'Channel', 'Channell', 'Channelle', 'Channing', 'Channon', 'Channy', 'Chantae', 'Chantal', 'Chantalle', 'Chantay', 'Chante', 'Chantel', 'Chantell', 'Chantelle', 'Chantil', 'Chara', 'Charae', 'Chardae', 'Charday', 'Charde', 'Chardonnay', 'Chari', 'Charice', 'Charis', 'Charisa', 'Charise', 'Charisma', 'Charissa', 'Charisse', 'Charito', 'Charity', 'Charla', 'Charlaine', 'Charlee', 'Charleen', 'Charleigh', 'Charlena', 'Charlene', 'Charles', 'Charlesetta', 'Charleston', 'Charlette', 'Charley', 'Charli', 'Charlie', 'Charline', 'Charlisa', 'Charlise', 'Charlize', 'Charlotte', 'Charly', 'Charlyn', 'Charlyne', 'Charlynn', 'Charm', 'Charmain', 'Charmaine', 'Charmane', 'Charmayne', 'Charmian', 'Charnae', 'Charnesha', 'Charolette', 'Charon', 'Charvi', 'Charyl', 'Chase', 'Chasity', 'Chassidy', 'Chastelin', 'Chastelyn', 'Chastity', 'Chau', 'Chaundra', 'Chaunte', 'Chauntel', 'Chava', 'Chavon', 'Chavonne', 'Chaya', 'Chayanne', 'Chayla', 'Chayse', 'Chaz', 'Che', 'Chee', 'Chekesha', 'Chela', 'Chelby', 'Chelcie', 'Chelcy', 'Chelesa', 'Chelle', 'Chelsa', 'Chelse', 'Chelsea', 'Chelsee', 'Chelsey', 'Chelsi', 'Chelsie', 'Chelsy', 'Chenay', 'Chenelle', 'Cheng', 'Chenin', 'Chenoa', 'Cher', 'Chere', 'Cheree', 'Cherelle', 'Cherene', 'Cherese', 'Cheri', 'Cherice', 'Cherie', 'Cherika', 'Cherilyn', 'Cherisa', 'Cherise', 'Cherish', 'Cherisse', 'Cherlene', 'Cherly', 'Cherlyn', 'Cherokee', 'Cheron', 'Cherrell', 'Cherrelle', 'Cherri', 'Cherrie', 'Cherrish', 'Cherry', 'Cherryl', 'Chery', 'Cheryal', 'Cheryl', 'Cheryle', 'Cherylene', 'Cheryll', 'Chesney', 'Chessa', 'Chevelle', 'Chevon', 'Chevonne', 'Chevy', 'Cheyann', 'Cheyanna', 'Cheyanne', 'Cheyene', 'Cheyenna', 'Cheyenne', 'Chi', 'Chia', 'Chiamaka', 'Chiana', 'Chiara', 'Chidera', 'Chieko', 'Chihiro', 'Chika', 'Chimamanda', 'Chimene', 'Chimere', 'China', 'Chinyere', 'Chioma', 'Chiquita', 'Chirstina', 'Chisa', 'Chisom', 'Chistina', 'Chiyeko', 'Chiyo', 'Chiyoko', 'Chizara', 'Chizaram', 'Chizuko', 'Chloe', 'Chloee', 'Chloey', 'Chloie', 'Chole', 'Chong', 'Choua', 'Chris', 'Chrisette', 'Chrissie', 'Chrissy', 'Christa', 'Christabel', 'Christabella', 'Christabelle', 'Christal', 'Christan', 'Christeen', 'Christel', 'Christelle', 'Christen', 'Christena', 'Christene', 'Christi', 'Christian', 'Christiana', 'Christiane', 'Christianna', 'Christianne', 'Christie', 'Christin', 'Christina', 'Christinamarie', 'Christine', 'Christinejoy', 'Christinia', 'Christle', 'Christna', 'Christol', 'Christopher', 'Christy', 'Christyn', 'Christyna', 'Christyne', 'Chrys', 'Chrysta', 'Chrystal', 'Chrystie', 'Chrystina', 'Chrystle', 'Chua', 'Chyann', 'Chyanne', 'Chyenne', 'Chyna', 'Chynna', 'Chyrl', 'Ciana', 'Cianna', 'Ciara', 'Ciarah', 'Ciarra', 'Cicely', 'Cici', 'Ciclali', 'Ciclaly', 'Cidney', 'Ciel', 'Ciela', 'Ciella', 'Cielo', 'Ciena', 'Cienna', 'Ciera', 'Cierra', 'Cierrah', 'Ciji', 'Cilicia', 'Cina', 'Cinamon', 'Cinda', 'Cinde', 'Cindee', 'Cinderella', 'Cindi', 'Cindia', 'Cindie', 'Cindra', 'Cindy', 'Cinnamon', 'Cinthia', 'Cinthya', 'Cintia', 'Cipriana', 'Cira', 'Circe', 'Cirilla', 'Citlali', 'Citlalic', 'Citlalli', 'Citlally', 'Citlaly', 'Clair', 'Claira', 'Claire', 'Clairissa', 'Clara', 'Clarabelle', 'Clare', 'Claribel', 'Clarice', 'Clarie', 'Clarinda', 'Claris', 'Clarisa', 'Clarise', 'Clarissa', 'Clarisse', 'Clarita', 'Clarity', 'Claritza', 'Clarivel', 'Clariza', 'Clarke', 'Clarrisa', 'Clarrissa', 'Claryssa', 'Claudette', 'Claudia', 'Claudina', 'Claudine', 'Claudio', 'Clea', 'Clementina', 'Clementine', 'Cleo', 'Cleopatra', 'Cleotilde', 'Cleta', 'Clifford', 'Clio', 'Cloe', 'Cloey', 'Cloie', 'Clorinda', 'Clorissa', 'Clotilde', 'Clover', 'Clowie', 'Cobie', 'Coco', 'Codi', 'Codie', 'Cody', 'Colbie', 'Colby', 'Cole', 'Coleen', 'Colene', 'Colette', 'Colin', 'Colleen', 'Collette', 'Collins', 'Columba', 'Comfort', 'Concepcion', 'Conception', 'Concetta', 'Concha', 'Conchita', 'Coni', 'Conni', 'Connie', 'Connor', 'Conny', 'Consepcion', 'Constance', 'Constanza', 'Consuela', 'Consuelo', 'Contessa', 'Cookie', 'Cooper', 'Cora', 'Corah', 'Coraima', 'Coral', 'Coralee', 'Coralie', 'Coraline', 'Coralyn', 'Coralynn', 'Corayma', 'Corazon', 'Corby', 'Cordelia', 'Coreen', 'Coreena', 'Corena', 'Corene', 'Coretta', 'Corey', 'Cori', 'Corie', 'Corin', 'Corina', 'Corine', 'Corinn', 'Corinna', 'Corinne', 'Corinthia', 'Corissa', 'Corliss', 'Cornelia', 'Corra', 'Correna', 'Correne', 'Corri', 'Corrie', 'Corrin', 'Corrina', 'Corrine', 'Corrinna', 'Corrinne', 'Corryn', 'Cortnee', 'Cortney', 'Cortni', 'Cortnie', 'Corvette', 'Cory', 'Coryn', 'Corynn', 'Cosette', 'Cosima', 'Coty', 'Coua', 'Courney', 'Courtenay', 'Courteney', 'Courtnee', 'Courtney', 'Courtni', 'Courtnie', 'Courtny', 'Cozette', 'Craig', 'Cree', 'Crimson', 'Cris', 'Criselda', 'Crisol', 'Crissy', 'Crista', 'Cristabel', 'Cristal', 'Cristalle', 'Cristel', 'Cristela', 'Cristen', 'Cristi', 'Cristian', 'Cristiana', 'Cristie', 'Cristin', 'Cristina', 'Cristine', 'Cristy', 'Cristyn', 'Crosby', 'Cruz', 'Crysta', 'Crystal', 'Crystall', 'Crystalyn', 'Crystel', 'Crystelle', 'Crystina', 'Crystle', 'Curtis', 'Cyan', 'Cyana', 'Cyann', 'Cyanne', 'Cybele', 'Cybil', 'Cyd', 'Cydnee', 'Cydney', 'Cyerra', 'Cymone', 'Cynde', 'Cyndee', 'Cyndi', 'Cyndie', 'Cyndle', 'Cyndy', 'Cyntha', 'Cynthia', 'Cynthya', 'Cyntia', 'Cypress', 'Cyra', 'Cyrena', 'Cyrene', 'Cyrine', 'Cyrstal', 'Cystal', 'Cytlaly', 'Czarina', 'Dacia', 'Daeja', 'Daejah', 'Daelyn', 'Daelynn', 'Daena', 'Daenerys', 'Daesha', 'Daffne', 'Dafina', 'Dafne', 'Dafnee', 'Dafney', 'Dagmar', 'Dagny', 'Dahlia', 'Dahlila', 'Daiana', 'Daicy', 'Daija', 'Daijah', 'Daila', 'Dailani', 'Dailany', 'Dailin', 'Dailyn', 'Dailynn', 'Daina', 'Daira', 'Daisey', 'Daisha', 'Daisi', 'Daisia', 'Daisie', 'Daissy', 'Daisy', 'Daizhane', 'Daizy', 'Daja', 'Dajah', 'Dajanae', 'Dajia', 'Dakoda', 'Dakota', 'Dakotah', 'Daksha', 'Dalana', 'Dalani', 'Dalarie', 'Dalary', 'Dalayza', 'Dale', 'Daleah', 'Dalena', 'Dalene', 'Dalet', 'Daleth', 'Dalett', 'Dalette', 'Dalexa', 'Daleysa', 'Daleyssa', 'Daleyza', 'Dalia', 'Daliah', 'Dalida', 'Dalila', 'Dalilah', 'Dalina', 'Dalisa', 'Dalisha', 'Daliyah', 'Dallana', 'Dallanara', 'Dallas', 'Dallis', 'Dalya', 'Dalyla', 'Dalylah', 'Damali', 'Damara', 'Damaris', 'Damariz', 'Damary', 'Damarys', 'Damia', 'Damian', 'Damiana', 'Damisha', 'Damita', 'Damiyah', 'Damon', 'Damya', 'Dana', 'Danae', 'Danah', 'Danai', 'Danaly', 'Danay', 'Danaya', 'Danee', 'Daneen', 'Daneille', 'Daneisha', 'Danell', 'Danelle', 'Danelly', 'Danely', 'Danesha', 'Danessa', 'Danett', 'Danetta', 'Danette', 'Dani', 'Dania', 'Daniah', 'Danica', 'Danice', 'Daniel', 'Daniela', 'Daniele', 'Daniell', 'Daniella', 'Danielle', 'Daniesha', 'Danika', 'Danille', 'Danilynn', 'Danine', 'Danise', 'Danisha', 'Danita', 'Danity', 'Danitza', 'Daniya', 'Daniyah', 'Dann', 'Danna', 'Dannae', 'Dannah', 'Danne', 'Dannell', 'Dannelle', 'Dannette', 'Danni', 'Dannia', 'Dannica', 'Dannie', 'Danniela', 'Dannielle', 'Dannika', 'Danny', 'Dannya', 'Dany', 'Danya', 'Danyale', 'Danyel', 'Danyela', 'Danyell', 'Danyelle', 'Dao', 'Daphane', 'Daphine', 'Daphne', 'Daphnee', 'Daphney', 'Daphnie', 'Dara', 'Darah', 'Darbie', 'Darby', 'Darcel', 'Darcell', 'Darcey', 'Darci', 'Darcie', 'Darcy', 'Darely', 'Daria', 'Darian', 'Dariana', 'Darianna', 'Darice', 'Dariela', 'Darien', 'Darienne', 'Darilyn', 'Darin', 'Darina', 'Darion', 'Dariya', 'Darla', 'Darlah', 'Darlean', 'Darleen', 'Darlena', 'Darlene', 'Darleth', 'Darlette', 'Darlin', 'Darline', 'Darling', 'Darlyn', 'Darlyne', 'Darlynn', 'Darnell', 'Darnesha', 'Darnisha', 'Darrah', 'Darrell', 'Darrian', 'Darryl', 'Darya', 'Daryana', 'Daryl', 'Daryn', 'Dasani', 'Dasha', 'Dashanique', 'Dashawn', 'Dasia', 'Daun', 'Dava', 'Davette', 'Davey', 'Davi', 'Davia', 'Daviana', 'Davianna', 'David', 'Davida', 'Davie', 'Davina', 'Davinah', 'Davisha', 'Davonna', 'Davy', 'Dawana', 'Dawn', 'Dawna', 'Dawne', 'Dawnell', 'Dawnelle', 'Dawnette', 'Dawnielle', 'Dawnn', 'Dawson', 'Daya', 'Dayami', 'Dayamy', 'Dayan', 'Dayana', 'Dayanara', 'Dayani', 'Dayanira', 'Dayanna', 'Dayannara', 'Dayanne', 'Dayelin', 'Dayja', 'Dayjah', 'Dayla', 'Daylani', 'Dayle', 'Dayleen', 'Daylene', 'Daylin', 'Dayna', 'Dayra', 'Dayrin', 'Daysha', 'Daysi', 'Daysia', 'Daysy', 'Dazhane', 'De', 'Dea', 'Deadra', 'Dean', 'Deana', 'Deandra', 'Deandrea', 'Deane', 'Deangela', 'Deanie', 'Deann', 'Deanna', 'Deanne', 'Deasia', 'Deatrice', 'Deb', 'Debanhi', 'Debanhy', 'Debbe', 'Debbi', 'Debbie', 'Debborah', 'Debbra', 'Debby', 'Debera', 'Deberah', 'Debhora', 'Debi', 'Debie', 'Debora', 'Deborah', 'Deboraha', 'Deborha', 'Deborra', 'Deborrah', 'Debra', 'Debrah', 'Debroah', 'Deby', 'December', 'Decklyn', 'Declan', 'Dede', 'Dedra', 'Dee', 'Deeana', 'Deeann', 'Deeanna', 'Deeanne', 'Deedee', 'Deedra', 'Deeksha', 'Deema', 'Deena', 'Deepa', 'Deepika', 'Deethya', 'Deetta', 'Deette', 'Deetya', 'Deeya', 'Defne', 'Deicy', 'Deidra', 'Deidre', 'Deija', 'Deilany', 'Deirdra', 'Deirdre', 'Deise', 'Deisi', 'Deisy', 'Deitra', 'Deja', 'Dejah', 'Dejanae', 'Dejanay', 'Dejane', 'Dejanee', 'Dejanique', 'Dejia', 'Delaila', 'Delailah', 'Delaina', 'Delaine', 'Delainey', 'Delana', 'Delaney', 'Delani', 'Delanie', 'Delany', 'Delara', 'Delayla', 'Delayna', 'Delaynie', 'Delayza', 'Delena', 'Delene', 'Deleyza', 'Delfina', 'Delia', 'Delicia', 'Delila', 'Delilah', 'Delina', 'Delinah', 'Delinda', 'Delisa', 'Delise', 'Dell', 'Della', 'Delma', 'Delmi', 'Delmy', 'Delois', 'Delora', 'Delores', 'Deloris', 'Delphia', 'Delphina', 'Delphine', 'Delsa', 'Delta', 'Delyla', 'Delylah', 'Delynn', 'Demarie', 'Demaris', 'Demetra', 'Demetria', 'Demetrius', 'Demi', 'Demiana', 'Demitra', 'Demitria', 'Demiyah', 'Dempsey', 'Dena', 'Denae', 'Denali', 'Denay', 'Dene', 'Denean', 'Denee', 'Deneen', 'Denell', 'Denelle', 'Denene', 'Denese', 'Denesha', 'Denette', 'Denia', 'Denice', 'Deniece', 'Denielle', 'Denika', 'Denim', 'Denine', 'Denis', 'Denisa', 'Denise', 'Denisha', 'Denishia', 'Denisse', 'Denita', 'Deniz', 'Denna', 'Dennice', 'Dennis', 'Dennise', 'Denny', 'Denver', 'Denyce', 'Denys', 'Denyse', 'Deon', 'Deondra', 'Deonna', 'Der', 'Derek', 'Derinda', 'Derricka', 'Derrisha', 'Desarae', 'Desaray', 'Desaree', 'Deserae', 'Deseray', 'Desere', 'Deseree', 'Deserie', 'Desha', 'Deshanae', 'Deshawn', 'Deshawna', 'Deshonna', 'Desi', 'Desirae', 'Desiray', 'Desire', 'Desirea', 'Desiree', 'Desirey', 'Desirie', 'Desree', 'Dessa', 'Dessie', 'Destanee', 'Destani', 'Destanie', 'Destany', 'Desteni', 'Destenie', 'Desteny', 'Destine', 'Destinee', 'Destiney', 'Destini', 'Destinie', 'Destiny', 'Destynee', 'Destyni', 'Destynie', 'Detra', 'Deva', 'Devan', 'Devani', 'Devanie', 'Devany', 'Deven', 'Devera', 'Devi', 'Devika', 'Devin', 'Devina', 'Devine', 'Deviny', 'Devon', 'Devona', 'Devonna', 'Devonne', 'Devora', 'Devorah', 'Devra', 'Devyn', 'Devynn', 'Deyanira', 'Deysi', 'Deysy', 'Dezarae', 'Dezaray', 'Dezaree', 'Dezerae', 'Dezeray', 'Dezhane', 'Dezi', 'Dezirae', 'Deziray', 'Dezire', 'Deziree', 'Dhalia', 'Dhamar', 'Dhana', 'Dhanya', 'Dhara', 'Dharma', 'Dhriti', 'Dhwani', 'Dia', 'Diahann', 'Diala', 'Diamante', 'Diamond', 'Diamonique', 'Dian', 'Diana', 'Diandra', 'Diane', 'Dianelly', 'Diann', 'Dianna', 'Dianne', 'Diannia', 'Diara', 'Diasy', 'Diedra', 'Diedre', 'Diego', 'Diem', 'Dierdre', 'Dietra', 'Dilara', 'Dilcia', 'Dilia', 'Dillan', 'Dillon', 'Dilpreet', 'Dilynn', 'Dimitra', 'Dimond', 'Dimple', 'Dina', 'Dinah', 'Dinora', 'Dinorah', 'Dion', 'Diona', 'Dione', 'Dionicia', 'Dionna', 'Dionne', 'Dior', 'Dioselina', 'Disa', 'Disha', 'Ditya', 'Diva', 'Divina', 'Divine', 'Divinity', 'Divisha', 'Divya', 'Dixie', 'Diya', 'Djuana', 'Djuna', 'Dodie', 'Dody', 'Dollie', 'Dolly', 'Dolores', 'Domanique', 'Domenica', 'Domenique', 'Dominga', 'Domingue', 'Dominic', 'Dominica', 'Dominigue', 'Dominika', 'Dominique', 'Domino', 'Dominque', 'Domonique', 'Dona', 'Donald', 'Donalee', 'Donatella', 'Dondi', 'Doneisha', 'Donell', 'Donella', 'Donelle', 'Donetta', 'Donette', 'Doni', 'Donia', 'Donica', 'Donielle', 'Donisha', 'Donita', 'Donna', 'Donnalee', 'Donnell', 'Donnetta', 'Donnette', 'Donnie', 'Donnisha', 'Donya', 'Donyale', 'Dora', 'Dorcas', 'Dore', 'Doree', 'Doreen', 'Doreena', 'Doreene', 'Dorena', 'Dorene', 'Doretha', 'Doretta', 'Dori', 'Doria', 'Dorian', 'Dorie', 'Dorina', 'Dorinda', 'Dorine', 'Doris', 'Dorise', 'Dorismar', 'Dorita', 'Dorla', 'Dorothea', 'Dorothey', 'Dorothy', 'Dorri', 'Dorrie', 'Dorris', 'Dorsa', 'Dortha', 'Dorthea', 'Dorthy', 'Dory', 'Dottie', 'Doua', 'Douglas', 'Dove', 'Dovie', 'Draya', 'Drea', 'Dream', 'Dreama', 'Dreanna', 'Drena', 'Drew', 'Drina', 'Drinda', 'Dru', 'Drucilla', 'Drusilla', 'Dua', 'Duaa', 'Dulce', 'Dulcemaria', 'Dulcie', 'Dulcinea', 'Dulse', 'Dung', 'Dunia', 'Dunya', 'Dusti', 'Dustie', 'Dustin', 'Dusty', 'Duyen', 'Dwan', 'Dwana', 'Dyamond', 'Dyan', 'Dyana', 'Dyanara', 'Dyane', 'Dyani', 'Dyann', 'Dyanna', 'Dyanne', 'Dylan', 'Dylann', 'Dyllan', 'Dymond', 'Dynasty', 'Earleen', 'Earlene', 'Earline', 'Earnestine', 'Easton', 'Eastyn', 'Ebelia', 'Ebelin', 'Ebelina', 'Ebone', 'Ebonee', 'Eboney', 'Eboni', 'Ebonie', 'Ebony', 'Echo', 'Eda', 'Eddie', 'Edeline', 'Edelmira', 'Edelyn', 'Eden', 'Edgar', 'Edid', 'Edie', 'Edit', 'Edith', 'Edlin', 'Edlyn', 'Edna', 'Ednita', 'Edris', 'Eduardo', 'Edward', 'Edwin', 'Edwina', 'Edyn', 'Edyth', 'Edythe', 'Eesha', 'Eevee', 'Eevie', 'Effie', 'Egypt', 'Ehlani', 'Eiko', 'Eila', 'Eilah', 'Eileen', 'Eilene', 'Eiliana', 'Eiliyah', 'Eilleen', 'Eily', 'Eilyn', 'Eimi', 'Eimy', 'Eira', 'Eirene', 'Eisley', 'Eiza', 'Ekam', 'Ekaterina', 'Eknoor', 'Ela', 'Elah', 'Elahi', 'Elahni', 'Elaina', 'Elaine', 'Elainna', 'Elan', 'Elana', 'Elane', 'Elani', 'Elanie', 'Elanna', 'Elanor', 'Elany', 'Elara', 'Elaura', 'Elaya', 'Elayah', 'Elayna', 'Elayne', 'Elba', 'Elbia', 'Elda', 'Eldana', 'Eldora', 'Elea', 'Eleana', 'Eleanna', 'Eleanor', 'Eleanora', 'Eleanore', 'Electra', 'Eleen', 'Eleena', 'Eleia', 'Eleina', 'Elektra', 'Elen', 'Elena', 'Elene', 'Eleni', 'Elenna', 'Elenoa', 'Elenor', 'Elenore', 'Eleny', 'Eleonor', 'Eleonora', 'Eleonore', 'Eleora', 'Elesha', 'Elexa', 'Elexia', 'Elexis', 'Elexus', 'Eleyna', 'Eli', 'Elia', 'Eliah', 'Elian', 'Eliana', 'Elianah', 'Eliane', 'Eliani', 'Elianna', 'Eliannah', 'Elianny', 'Eliany', 'Elicia', 'Elida', 'Elide', 'Elideth', 'Elidia', 'Elie', 'Elienai', 'Eliette', 'Elif', 'Elijah', 'Elika', 'Elin', 'Elina', 'Eline', 'Elinor', 'Elinore', 'Eliora', 'Eliot', 'Elis', 'Elisa', 'Elisabel', 'Elisabet', 'Elisabeth', 'Elisabetta', 'Elise', 'Eliset', 'Elisha', 'Elisheva', 'Elishia', 'Elisia', 'Elissa', 'Elisse', 'Elita', 'Eliya', 'Eliyah', 'Eliyana', 'Eliyanah', 'Eliyanna', 'Eliz', 'Eliza', 'Elizabella', 'Elizabet', 'Elizabeth', 'Elizah', 'Elizaveta', 'Elize', 'Elizebeth', 'Elizeth', 'Elke', 'Ella', 'Ellah', 'Ellaina', 'Ellamae', 'Ellamarie', 'Ellani', 'Ellanie', 'Ellanor', 'Ellanora', 'Ellanore', 'Ellarae', 'Ellarie', 'Ellarose', 'Elle', 'Elleana', 'Elleanna', 'Elleanor', 'Ellee', 'Ellen', 'Ellena', 'Elleri', 'Ellerie', 'Ellery', 'Ellesse', 'Elley', 'Elli', 'Ellia', 'Elliana', 'Ellianna', 'Ellianne', 'Ellie', 'Ellieana', 'Elliemae', 'Ellierose', 'Elliette', 'Ellina', 'Ellington', 'Ellinor', 'Elliot', 'Elliott', 'Elliotte', 'Ellis', 'Ellisa', 'Ellise', 'Ellison', 'Ellora', 'Ellory', 'Ellowyn', 'Elly', 'Ellyana', 'Ellyanna', 'Ellyn', 'Ellyse', 'Ellyssa', 'Elma', 'Elmira', 'Elna', 'Elnora', 'Elodia', 'Elodie', 'Elody', 'Eloisa', 'Eloise', 'Elona', 'Elonda', 'Elonna', 'Elora', 'Elouise', 'Elowen', 'Elowyn', 'Elsa', 'Elsi', 'Elsie', 'Elspeth', 'Elsy', 'Elva', 'Elvera', 'Elvia', 'Elvina', 'Elvira', 'Ely', 'Elyana', 'Elyanna', 'Elyce', 'Elyn', 'Elynn', 'Elynor', 'Elysa', 'Elyse', 'Elysha', 'Elysia', 'Elyssa', 'Elysse', 'Elyssia', 'Elyza', 'Elyzabeth', 'Elza', 'Ema', 'Emaan', 'Emalee', 'Emalie', 'Emaly', 'Emalyn', 'Emalynn', 'Eman', 'Emani', 'Emanuel', 'Emanuela', 'Emari', 'Emarie', 'Emaya', 'Ember', 'Emberlee', 'Emberleigh', 'Emberly', 'Emberlyn', 'Emberlynn', 'Embry', 'Emelda', 'Emeli', 'Emelia', 'Emelie', 'Emelin', 'Emelina', 'Emeline', 'Emelly', 'Emely', 'Emelyn', 'Emerald', 'Emeraude', 'Emeri', 'Emerie', 'Emerita', 'Emerly', 'Emersen', 'Emerson', 'Emersyn', 'Emersynn', 'Emery', 'Emi', 'Emie', 'Emika', 'Emiko', 'Emilce', 'Emile', 'Emilee', 'Emiley', 'Emili', 'Emilia', 'Emiliana', 'Emilianna', 'Emilie', 'Emillee', 'Emillia', 'Emillie', 'Emilly', 'Emilse', 'Emily', 'Emilyann', 'Emilyanne', 'Emilyn', 'Emilyrose', 'Emina', 'Emira', 'Emireth', 'Emiyah', 'Emma', 'Emmagrace', 'Emmah', 'Emmajean', 'Emmalee', 'Emmaleigh', 'Emmalia', 'Emmalie', 'Emmalin', 'Emmalina', 'Emmaline', 'Emmaly', 'Emmalyn', 'Emmalynn', 'Emmamarie', 'Emmanuel', 'Emmanuelle', 'Emmarae', 'Emmarie', 'Emmarose', 'Emme', 'Emmelia', 'Emmeline', 'Emmely', 'Emmelyn', 'Emmerie', 'Emmerson', 'Emmersyn', 'Emmery', 'Emmi', 'Emmie', 'Emmily', 'Emmilyn', 'Emmy', 'Emmylou', 'Emoni', 'Emonie', 'Emori', 'Emorie', 'Emory', 'Empress', 'Emree', 'Emri', 'Emrie', 'Emry', 'Emrys', 'Emsley', 'Emunah', 'Emy', 'Emya', 'Emylee', 'Emylia', 'Ena', 'Enalina', 'Enaya', 'Encarnacion', 'Enedina', 'Eneida', 'Enes', 'Engracia', 'Enid', 'Eniya', 'Eniyah', 'Enjoli', 'Enna', 'Enola', 'Enrique', 'Enriqueta', 'Ensley', 'Envy', 'Enya', 'Eowyn', 'Epiphany', 'Era', 'Erabella', 'Eraina', 'Erandi', 'Erandy', 'Erendida', 'Erendira', 'Eri', 'Eriana', 'Erianna', 'Eric', 'Erica', 'Ericca', 'Erick', 'Ericka', 'Eriel', 'Erielle', 'Erienne', 'Erik', 'Erika', 'Erikah', 'Erikka', 'Eriko', 'Erilyn', 'Erin', 'Erina', 'Erinn', 'Eris', 'Erleen', 'Erlene', 'Erlinda', 'Erline', 'Erma', 'Ermalinda', 'Ermelinda', 'Erminia', 'Erna', 'Ernest', 'Ernestina', 'Ernestine', 'Ernesto', 'Errin', 'Erryn', 'Eryka', 'Erykah', 'Eryn', 'Erynn', 'Erza', 'Esabella', 'Esbeidy', 'Esha', 'Eshaal', 'Eshal', 'Esli', 'Esly', 'Esmae', 'Esmay', 'Esme', 'Esmee', 'Esmeralda', 'Esmeray', 'Esmerelda', 'Esmirna', 'Esperansa', 'Esperanza', 'Esra', 'Essence', 'Essica', 'Essie', 'Esteban', 'Estee', 'Estefani', 'Estefania', 'Estefanie', 'Estefany', 'Esteffany', 'Estela', 'Estella', 'Estelle', 'Estephani', 'Estephania', 'Estephanie', 'Estephany', 'Ester', 'Esthefany', 'Esthela', 'Esther', 'Estrella', 'Estrellita', 'Estreya', 'Eternity', 'Ethel', 'Ethelyn', 'Ethyl', 'Etsuko', 'Etta', 'Eudora', 'Eugena', 'Eugene', 'Eugenia', 'Eugenie', 'Eugina', 'Eula', 'Eulalia', 'Eun', 'Euna', 'Eunice', 'Eunique', 'Eura', 'Eva', 'Evah', 'Evalee', 'Evalena', 'Evalette', 'Evalin', 'Evalina', 'Evaline', 'Evaluna', 'Evalyn', 'Evalyna', 'Evalynn', 'Evamarie', 'Evan', 'Evana', 'Evanee', 'Evangaline', 'Evangelia', 'Evangelina', 'Evangeline', 'Evangelyn', 'Evani', 'Evania', 'Evanie', 'Evanjelina', 'Evann', 'Evanna', 'Evany', 'Evarose', 'Eve', 'Evee', 'Eveleen', 'Eveleigh', 'Evelen', 'Evelett', 'Evelia', 'Evelin', 'Evelina', 'Eveline', 'Evely', 'Evelyn', 'Evelyne', 'Evelynn', 'Evelynne', 'Evenny', 'Eveny', 'Ever', 'Everest', 'Everett', 'Everette', 'Everlee', 'Everleigh', 'Everley', 'Everli', 'Everlie', 'Everly', 'Everlyn', 'Everlynn', 'Evett', 'Evette', 'Evey', 'Eviana', 'Evianna', 'Evie', 'Evin', 'Evita', 'Evoleht', 'Evolet', 'Evoleth', 'Evolette', 'Evon', 'Evonna', 'Evonne', 'Evony', 'Evvie', 'Evy', 'Evyn', 'Eydie', 'Eyleen', 'Ezabella', 'Ezlyn', 'Ezlynn', 'Ezme', 'Ezmeralda', 'Ezra', 'Ezrah', 'Ezri', 'Eztli', 'Fabian', 'Fabiana', 'Fabienne', 'Fabiola', 'Fadumo', 'Fae', 'Fahm', 'Faith', 'Faiza', 'Faizah', 'Falicia', 'Faline', 'Falisha', 'Fallon', 'Fallyn', 'Falon', 'Falyn', 'Falynn', 'Fancy', 'Fannie', 'Fanny', 'Fantasia', 'Fara', 'Farah', 'Faren', 'Farida', 'Fariha', 'Farm', 'Farrah', 'Farren', 'Fatema', 'Fathima', 'Fatima', 'Fatimah', 'Fatma', 'Faustina', 'Faustine', 'Faviola', 'Fawn', 'Fay', 'Faye', 'Fayth', 'Faythe', 'Feather', 'Febe', 'Felecia', 'Felica', 'Felice', 'Felicia', 'Feliciana', 'Felicita', 'Felicitas', 'Felicity', 'Felina', 'Felipa', 'Felipe', 'Felisa', 'Felisha', 'Felix', 'Feliza', 'Fenix', 'Fergie', 'Fern', 'Fernanda', 'Fernando', 'Ferne', 'Fey', 'Fia', 'Fiadh', 'Fianna', 'Fidelia', 'Finlee', 'Finley', 'Finn', 'Finnley', 'Fion', 'Fiona', 'Fionna', 'Fiora', 'Fiorela', 'Fiorella', 'Fiza', 'Flannery', 'Flavia', 'Flor', 'Flora', 'Florence', 'Florencia', 'Florene', 'Florentina', 'Floretta', 'Florinda', 'Florine', 'Florita', 'Flory', 'Flossie', 'Floy', 'Flynn', 'Folasade', 'Fonda', 'Forever', 'Forrest', 'Fran', 'Francella', 'Francely', 'Francene', 'Frances', 'Francesca', 'Franceska', 'Francessca', 'Franchesca', 'Francheska', 'Francia', 'Francie', 'Francina', 'Francine', 'Francis', 'Francisca', 'Francisco', 'Francoise', 'Frania', 'Frank', 'Frankee', 'Franki', 'Frankie', 'Freda', 'Fredda', 'Freddie', 'Frederica', 'Fredericka', 'Fredricka', 'Freedom', 'Freida', 'Freja', 'Freya', 'Freyja', 'Frida', 'Frieda', 'Fritzi', 'Fujiko', 'Fumi', 'Fumie', 'Fumiko', 'Fumiye', 'Fusako', 'Fusaye', 'Gabbanelli', 'Gabby', 'Gabiela', 'Gabriel', 'Gabriela', 'Gabriele', 'Gabriell', 'Gabriella', 'Gabrielle', 'Gabryella', 'Gaby', 'Gae', 'Gagandeep', 'Gaia', 'Gail', 'Gaile', 'Gal', 'Gala', 'Galadriel', 'Galaxy', 'Gale', 'Galen', 'Gali', 'Galia', 'Galilea', 'Galileah', 'Galilee', 'Galina', 'Galya', 'Gao', 'Gardenia', 'Gari', 'Garine', 'Garnet', 'Garrett', 'Gary', 'Gauri', 'Gavriela', 'Gay', 'Gayane', 'Gayathri', 'Gayatri', 'Gaye', 'Gayl', 'Gayla', 'Gayle', 'Gayleen', 'Gaylen', 'Gaylene', 'Gaylyn', 'Gaylynn', 'Gaynell', 'Geanna', 'Geannie', 'Gearldine', 'Geena', 'Geetika', 'Gelsey', 'Gema', 'Gemini', 'Gemma', 'Gena', 'Genavie', 'Genavieve', 'Gene', 'Genea', 'Genecis', 'Genee', 'Genelle', 'Genese', 'Genesee', 'Genesis', 'Genesiss', 'Genessa', 'Genessis', 'Genesys', 'Geneva', 'Genevie', 'Genevieve', 'Genevive', 'Genevy', 'Genia', 'Genice', 'Genie', 'Genine', 'Genise', 'Genisis', 'Genna', 'Gennesis', 'Gennifer', 'Genny', 'Genova', 'Genoveva', 'Gentry', 'Georgann', 'Georganna', 'Georganne', 'George', 'Georgeann', 'Georgeanna', 'Georgeanne', 'Georgene', 'Georgetta', 'Georgette', 'Georgi', 'Georgia', 'Georgiana', 'Georgiann', 'Georgianna', 'Georgianne', 'Georgie', 'Georgina', 'Georgine', 'Geovana', 'Geovanna', 'Ger', 'Gerald', 'Geraldine', 'Geraldy', 'Geralyn', 'Gerardo', 'Gerda', 'Geri', 'Gerilyn', 'Germaine', 'Gerri', 'Gerrie', 'Gerry', 'Gertrude', 'Geselle', 'Gesenia', 'Gesselle', 'Gessica', 'Getsemani', 'Ghalia', 'Ghazal', 'Gia', 'Giada', 'Giana', 'Gianella', 'Gianelle', 'Gianina', 'Gianna', 'Giannah', 'Gianni', 'Giannina', 'Giavana', 'Giavanna', 'Giavonna', 'Gicela', 'Gidget', 'Gigi', 'Gilbert', 'Gilberto', 'Gilda', 'Gillian', 'Gilma', 'Gimena', 'Gina', 'Ginamarie', 'Ginelle', 'Ginette', 'Ginger', 'Gini', 'Ginna', 'Ginnie', 'Ginny', 'Gioia', 'Gionna', 'Giorgia', 'Giovana', 'Giovanna', 'Giovanni', 'Gisel', 'Gisela', 'Gisele', 'Gisell', 'Gisella', 'Giselle', 'Gissel', 'Gissela', 'Gissele', 'Gissell', 'Gisselle', 'Gita', 'Giulia', 'Giuliana', 'Giulianna', 'Giulietta', 'Gizel', 'Gizell', 'Gizelle', 'Gizzelle', 'Gladis', 'Gladys', 'Glee', 'Glenda', 'Glendora', 'Glendy', 'Glenisha', 'Glenn', 'Glenna', 'Glennda', 'Glennis', 'Glenora', 'Glinda', 'Glori', 'Gloria', 'Gloriana', 'Glory', 'Glynda', 'Glynis', 'Glynnis', 'Goddess', 'Gohar', 'Golda', 'Golden', 'Goldie', 'Goretti', 'Grabiela', 'Grace', 'Graceann', 'Gracee', 'Gracelin', 'Gracelyn', 'Gracelynn', 'Gracen', 'Gracey', 'Graci', 'Gracia', 'Gracie', 'Graciela', 'Graciella', 'Gracy', 'Gracyn', 'Grasiela', 'Graviela', 'Gray', 'Grayce', 'Graycen', 'Graysen', 'Grayson', 'Grecia', 'Gredmarie', 'Greeicy', 'Greenlee', 'Greer', 'Gregoria', 'Gregory', 'Greicy', 'Greidy', 'Greidys', 'Gresia', 'Greta', 'Gretchen', 'Gretel', 'Grethel', 'Gretta', 'Grettel', 'Grey', 'Greydis', 'Greyson', 'Gricel', 'Gricelda', 'Grier', 'Grisel', 'Griselda', 'Grisell', 'Griselle', 'Grissel', 'Grizel', 'Grizelda', 'Guadalupe', 'Guadelupe', 'Gudalupe', 'Gudelia', 'Guiliana', 'Guillermina', 'Guillermo', 'Guinevere', 'Guisela', 'Guiselle', 'Gulianna', 'Gurasees', 'Gurbani', 'Gurjot', 'Gurleen', 'Gurnaaz', 'Gurneet', 'Gurnoor', 'Gurpreet', 'Gurseerat', 'Gursirat', 'Gustavo', 'Gwen', 'Gwenda', 'Gwendalyn', 'Gwendolyn', 'Gwendolynn', 'Gweneth', 'Gwenevere', 'Gwenivere', 'Gwenn', 'Gwenyth', 'Gwyn', 'Gwyneth', 'Gwynn', 'Gwynne', 'Gwynneth', 'Gyanna', 'Gypsy', 'Gyselle', 'Gyzelle', 'Ha', 'Haasini', 'Habiba', 'Hadar', 'Hadasa', 'Hadasha', 'Hadassa', 'Hadassah', 'Haddie', 'Hade', 'Hadeel', 'Hadia', 'Hadiya', 'Hadlee', 'Hadleigh', 'Hadley', 'Hae', 'Haeley', 'Hafsa', 'Hafsah', 'Haide', 'Haidee', 'Haiden', 'Haidi', 'Haidy', 'Haidyn', 'Haifa', 'Haile', 'Hailee', 'Hailei', 'Haileigh', 'Hailey', 'Haili', 'Hailie', 'Haille', 'Hailley', 'Haillie', 'Haily', 'Hailyn', 'Haisley', 'Haizel', 'Haizley', 'Hajar', 'Hala', 'Halee', 'Haleema', 'Haleigh', 'Halen', 'Halena', 'Haley', 'Hali', 'Halia', 'Halie', 'Halima', 'Halina', 'Halle', 'Hallee', 'Hallel', 'Halley', 'Halli', 'Hallie', 'Halo', 'Halsey', 'Halston', 'Halyn', 'Han', 'Hana', 'Hanah', 'Hanako', 'Hanalei', 'Hanan', 'Haneen', 'Hang', 'Hanh', 'Hania', 'Haniya', 'Hanna', 'Hannah', 'Hannahgrace', 'Hannaley', 'Hannan', 'Hannia', 'Hannya', 'Hansika', 'Harbor', 'Hareem', 'Hargun', 'Harini', 'Harir', 'Harjot', 'Harkiran', 'Harlan', 'Harlee', 'Harleen', 'Harleigh', 'Harlem', 'Harlene', 'Harley', 'Harleyquinn', 'Harli', 'Harlie', 'Harlo', 'Harlow', 'Harlowe', 'Harlyn', 'Harlynn', 'Harman', 'Harmehar', 'Harmonee', 'Harmoney', 'Harmoni', 'Harmonie', 'Harmony', 'Harnaaz', 'Harneet', 'Harnoor', 'Harold', 'Harper', 'Harpreet', 'Harriet', 'Harriett', 'Harriette', 'Harshini', 'Harshita', 'Harsimran', 'Hartley', 'Haru', 'Haruka', 'Haruko', 'Harumi', 'Haruna', 'Haruye', 'Harveen', 'Hasina', 'Hasini', 'Hasmik', 'Hathaway', 'Hatsuko', 'Hatsumi', 'Hatsuye', 'Hattie', 'Hava', 'Havana', 'Havanna', 'Haven', 'Havyn', 'Hawa', 'Haya', 'Hayat', 'Hayde', 'Haydee', 'Hayden', 'Hayes', 'Hayle', 'Haylee', 'Haylei', 'Hayleigh', 'Haylen', 'Hayley', 'Hayli', 'Haylie', 'Haylin', 'Hayven', 'Hayzel', 'Hazel', 'Hazell', 'Hazelle', 'Hazelyn', 'Heather', 'Heaven', 'Heavenlee', 'Heavenly', 'Heavyn', 'Heba', 'Hebe', 'Hector', 'Hedy', 'Heela', 'Heena', 'Heer', 'Heide', 'Heidi', 'Heidie', 'Heidy', 'Heiley', 'Heily', 'Heiress', 'Helaina', 'Helaine', 'Helayna', 'Helen', 'Helena', 'Helene', 'Helga', 'Hellen', 'Helyn', 'Hena', 'Hendrix', 'Henessy', 'Henley', 'Henna', 'Hennessey', 'Hennessy', 'Hennesy', 'Henrietta', 'Henry', 'Hensley', 'Hera', 'Herlinda', 'Hermelinda', 'Hermila', 'Herminia', 'Hermione', 'Hester', 'Hether', 'Heydi', 'Heydy', 'Hiba', 'Hideko', 'Hiedi', 'Hien', 'Hikari', 'Hila', 'Hilaria', 'Hilarie', 'Hilary', 'Hilda', 'Hiliana', 'Hillarie', 'Hillary', 'Hillery', 'Hilma', 'Himani', 'Hina', 'Hinata', 'Hira', 'Hiraya', 'Hiroko', 'Hiromi', 'Hisako', 'Hisaye', 'Hiya', 'Hiyab', 'Hlee', 'Hoa', 'Hoai', 'Hoang', 'Holiday', 'Holland', 'Hollee', 'Holley', 'Holli', 'Hollie', 'Hollis', 'Holly', 'Hollyann', 'Hollyn', 'Honesty', 'Honey', 'Hong', 'Honor', 'Hoorain', 'Hope', 'Hopie', 'Hortencia', 'Hortense', 'Hortensia', 'Hosanna', 'Hosna', 'Houa', 'Hripsime', 'Huda', 'Hudson', 'Hudsyn', 'Hugo', 'Hulda', 'Hunter', 'Huntley', 'Huong', 'Husna', 'Huxley', 'Huyen', 'Hydeia', 'Ia', 'Ian', 'Iana', 'Ianna', 'Ibeth', 'Icel', 'Icela', 'Icey', 'Icsel', 'Ida', 'Idalia', 'Idalie', 'Idalis', 'Idaly', 'Idalys', 'Idania', 'Idell', 'Idella', 'Ieasha', 'Iesha', 'Ieshia', 'Ignacia', 'Ikea', 'Ila', 'Ilah', 'Ilaisaane', 'Ilana', 'Ilani', 'Ilany', 'Ilaria', 'Ilce', 'Ilda', 'Ilea', 'Ileana', 'Ileanna', 'Ileen', 'Ileene', 'Ilena', 'Ilene', 'Ilette', 'Ilia', 'Iliana', 'Ilianna', 'Illeana', 'Illiana', 'Illyana', 'Ilona', 'Ilsa', 'Ilse', 'Ily', 'Ilyana', 'Ilyanna', 'Ilyssa', 'Ima', 'Imaan', 'Imalay', 'Iman', 'Imani', 'Imara', 'Imari', 'Imee', 'Imelda', 'Imogen', 'Imogene', 'Imunique', 'Ina', 'Inaaya', 'Inara', 'Inari', 'Inaya', 'Inayah', 'Inayat', 'Indi', 'India', 'Indiana', 'Indica', 'Indie', 'Indigo', 'Indira', 'Indra', 'Indy', 'Indya', 'Ines', 'Inessa', 'Inez', 'Infinity', 'Inga', 'Inge', 'Inger', 'Ingrid', 'Ingris', 'Inika', 'Iniya', 'Inna', 'Inori', 'Io', 'Iola', 'Iolana', 'Iona', 'Ione', 'Iqra', 'Ira', 'Iracema', 'Iraida', 'Irais', 'Iran', 'Irania', 'Irasema', 'Irazema', 'Ireland', 'Irelia', 'Irelyn', 'Irelynn', 'Irena', 'Irene', 'Ireri', 'Irha', 'Iriana', 'Iridian', 'Iridiana', 'Irie', 'Irina', 'Iris', 'Irlanda', 'Irma', 'Isa', 'Isaac', 'Isabel', 'Isabela', 'Isabell', 'Isabella', 'Isabellah', 'Isabellamarie', 'Isabelle', 'Isadora', 'Isaiah', 'Isamar', 'Isamara', 'Isaura', 'Isel', 'Isela', 'Isella', 'Isha', 'Ishana', 'Ishani', 'Ishanvi', 'Ishika', 'Ishita', 'Isidora', 'Isis', 'Isla', 'Islah', 'Island', 'Islay', 'Isley', 'Ismar', 'Ismenia', 'Ismerai', 'Isobel', 'Isolde', 'Isra', 'Israa', 'Israel', 'Issa', 'Issabela', 'Issabella', 'Issis', 'Isys', 'Isyss', 'Italia', 'Italy', 'Itati', 'Itcel', 'Ithzel', 'Itsel', 'Itxel', 'Itza', 'Itzabella', 'Itzae', 'Itzamara', 'Itzanami', 'Itzayana', 'Itzayanna', 'Itzel', 'Itzela', 'Itzell', 'Itzelle', 'Itzia', 'Itzy', 'Iva', 'Ivan', 'Ivana', 'Ivania', 'Ivanka', 'Ivanna', 'Ivannia', 'Ivee', 'Ivet', 'Iveth', 'Ivett', 'Ivette', 'Ivey', 'Ivie', 'Ivon', 'Ivone', 'Ivonna', 'Ivonne', 'Ivori', 'Ivory', 'Ivry', 'Ivy', 'Ivyrose', 'Ixchel', 'Ixel', 'Iyana', 'Iyanah', 'Iyanna', 'Iyannah', 'Iyari', 'Iyla', 'Iylah', 'Iyonna', 'Iza', 'Izabel', 'Izabela', 'Izabell', 'Izabella', 'Izabellah', 'Izabelle', 'Izamar', 'Izamary', 'Izel', 'Izela', 'Izellah', 'Izelle', 'Izumi', 'Izzabella', 'Izzah', 'Izzy', 'Jaanai', 'Jaanvi', 'Jacalyn', 'Jace', 'Jacee', 'Jacelyn', 'Jacey', 'Jaci', 'Jacie', 'Jacinda', 'Jacinta', 'Jack', 'Jackelin', 'Jackeline', 'Jackelyn', 'Jackelyne', 'Jacki', 'Jackie', 'Jacklin', 'Jackline', 'Jacklyn', 'Jacklynn', 'Jackqueline', 'Jackson', 'Jacky', 'Jaclyn', 'Jaclynn', 'Jacob', 'Jacolyn', 'Jacqlyn', 'Jacqualine', 'Jacqualyn', 'Jacque', 'Jacqueleen', 'Jacquelene', 'Jacquelin', 'Jacquelina', 'Jacqueline', 'Jacquelyn', 'Jacquelyne', 'Jacquelynn', 'Jacquelynne', 'Jacqui', 'Jacquie', 'Jacquiline', 'Jacquilyn', 'Jacquline', 'Jacqulyn', 'Jacy', 'Jada', 'Jadah', 'Jadalyn', 'Jadalynn', 'Jade', 'Jadelyn', 'Jadelynn', 'Jaden', 'Jadey', 'Jadeyn', 'Jadie', 'Jadin', 'Jadine', 'Jadira', 'Jadore', 'Jadyn', 'Jadynn', 'Jadzia', 'Jae', 'Jaeda', 'Jaeden', 'Jaedyn', 'Jael', 'Jaela', 'Jaelah', 'Jaelani', 'Jaeleen', 'Jaelen', 'Jaelene', 'Jaeliana', 'Jaelin', 'Jaelle', 'Jaelyn', 'Jaelynn', 'Jaelynne', 'Jagger', 'Jahaira', 'Jahayra', 'Jahira', 'Jahna', 'Jahnae', 'Jahnavi', 'Jahniya', 'Jahzara', 'Jai', 'Jaia', 'Jaida', 'Jaidah', 'Jaidan', 'Jaide', 'Jaiden', 'Jaidin', 'Jaidy', 'Jaidyn', 'Jaidynn', 'Jaila', 'Jailah', 'Jailani', 'Jaileen', 'Jailene', 'Jailenne', 'Jailia', 'Jailin', 'Jailine', 'Jailyn', 'Jailyne', 'Jailynn', 'Jaime', 'Jaimee', 'Jaimi', 'Jaimie', 'Jaimy', 'Jaina', 'Jaira', 'Jaiya', 'Jaiyana', 'Jakayla', 'Jake', 'Jakelin', 'Jakeline', 'Jakelyn', 'Jakia', 'Jala', 'Jalani', 'Jalaya', 'Jalayah', 'Jalea', 'Jaleah', 'Jaleen', 'Jaleesa', 'Jalen', 'Jalena', 'Jalene', 'Jalessa', 'Jaleyah', 'Jaleyza', 'Jalia', 'Jaliah', 'Jalina', 'Jalisa', 'Jalissa', 'Jaliyah', 'Jalyn', 'Jalynn', 'Jalyssa', 'Jamaica', 'Jamara', 'Jamaya', 'Jamee', 'Jameela', 'Jameelah', 'Jameika', 'Jameisha', 'Jameka', 'Jamela', 'Jamelia', 'James', 'Jamesha', 'Jameson', 'Jamey', 'Jami', 'Jamia', 'Jamiah', 'Jamica', 'Jamie', 'Jamielee', 'Jamika', 'Jamila', 'Jamilah', 'Jamile', 'Jamilee', 'Jamilet', 'Jamileth', 'Jamilett', 'Jamilette', 'Jamilex', 'Jamilla', 'Jamillah', 'Jamine', 'Jamisha', 'Jamison', 'Jamiya', 'Jamiyah', 'Jammie', 'Jamya', 'Jan', 'Jana', 'Janae', 'Janai', 'Janalee', 'Janan', 'Janani', 'Janay', 'Janaya', 'Janayah', 'Janaye', 'Jane', 'Janea', 'Janean', 'Janee', 'Janeen', 'Janel', 'Janele', 'Janeli', 'Janell', 'Janella', 'Janelle', 'Janelli', 'Janelly', 'Janely', 'Janene', 'Janesa', 'Janese', 'Janesha', 'Janessa', 'Janet', 'Janete', 'Janeth', 'Janett', 'Janetta', 'Janette', 'Janey', 'Jani', 'Jania', 'Janiah', 'Janica', 'Janice', 'Janie', 'Janiece', 'Janiel', 'Janielle', 'Janika', 'Janin', 'Janina', 'Janine', 'Janira', 'Janis', 'Janisa', 'Janise', 'Janisha', 'Janissa', 'Janita', 'Janiya', 'Janiyah', 'Jann', 'Janna', 'Jannah', 'Jannat', 'Jannel', 'Jannell', 'Jannelle', 'Jannely', 'Jannessa', 'Jannet', 'Jannete', 'Janneth', 'Jannett', 'Jannette', 'Janney', 'Jannie', 'Jannifer', 'Jannine', 'Janny', 'January', 'Janvi', 'Jany', 'Janya', 'Janyah', 'Janyce', 'Japji', 'Japleen', 'Jaquay', 'Jaquelin', 'Jaqueline', 'Jaquelinne', 'Jaquelyn', 'Jaquelyne', 'Jared', 'Jareli', 'Jarelly', 'Jarely', 'Jarethzy', 'Jaretzi', 'Jaretzy', 'Jariah', 'Jaritza', 'Jariyah', 'Jasdeep', 'Jaselle', 'Jasia', 'Jasibe', 'Jasimine', 'Jasira', 'Jaskiran', 'Jaskirat', 'Jasleen', 'Jaslene', 'Jaslin', 'Jasline', 'Jaslyn', 'Jaslyne', 'Jaslynn', 'Jaslynne', 'Jasmaine', 'Jasmarie', 'Jasmeen', 'Jasmeet', 'Jasmen', 'Jasmin', 'Jasmina', 'Jasmine', 'Jasminemarie', 'Jasminerose', 'Jasminne', 'Jasmyn', 'Jasmyne', 'Jasneet', 'Jasnoor', 'Jason', 'Jasper', 'Jaspreet', 'Jassmin', 'Jassmine', 'Jatziri', 'Jatziry', 'Javier', 'Javon', 'Javonna', 'Jawanna', 'Jaxon', 'Jay', 'Jaya', 'Jayah', 'Jayana', 'Jayani', 'Jayanna', 'Jayce', 'Jaycee', 'Jayci', 'Jaycie', 'Jayda', 'Jaydah', 'Jaydalynn', 'Jaydan', 'Jayde', 'Jaydee', 'Jaydeen', 'Jayden', 'Jaydenn', 'Jaydin', 'Jaydn', 'Jaydy', 'Jaydyn', 'Jaye', 'Jayla', 'Jaylah', 'Jaylan', 'Jaylani', 'Jaylanie', 'Jaylanni', 'Jaylean', 'Jaylee', 'Jayleen', 'Jayleene', 'Jaylen', 'Jaylene', 'Jaylenn', 'Jaylenne', 'Jayli', 'Jayliah', 'Jayliana', 'Jaylie', 'Jaylin', 'Jaylina', 'Jayline', 'Jaylinn', 'Jaylyn', 'Jaylynn', 'Jaylynne', 'Jayme', 'Jaymee', 'Jaymi', 'Jaymie', 'Jayna', 'Jaynae', 'Jayne', 'Jaynee', 'Jaynie', 'Jazalyn', 'Jazel', 'Jazell', 'Jazelle', 'Jazira', 'Jazleen', 'Jazlene', 'Jazlin', 'Jazline', 'Jazlyn', 'Jazlyne', 'Jazlynn', 'Jazlynne', 'Jazman', 'Jazmeen', 'Jazmen', 'Jazmene', 'Jazmin', 'Jazmine', 'Jazmyn', 'Jazmyne', 'Jazmynn', 'Jazz', 'Jazzel', 'Jazzelle', 'Jazzleen', 'Jazzlene', 'Jazzlin', 'Jazzlyn', 'Jazzlynn', 'Jazzmen', 'Jazzmin', 'Jazzmine', 'Jazzmyn', 'Jazzy', 'Jean', 'Jeana', 'Jeanae', 'Jeane', 'Jeaneen', 'Jeanell', 'Jeanelle', 'Jeanene', 'Jeaneth', 'Jeanett', 'Jeanetta', 'Jeanette', 'Jeani', 'Jeanice', 'Jeanie', 'Jeanine', 'Jeanmarie', 'Jeanna', 'Jeanne', 'Jeannett', 'Jeannetta', 'Jeannette', 'Jeannie', 'Jeannine', 'Jeanny', 'Jeena', 'Jeffery', 'Jeffrey', 'Jehan', 'Jehilyn', 'Jeidy', 'Jeilyn', 'Jeimy', 'Jelani', 'Jelena', 'Jelisa', 'Jelissa', 'Jema', 'Jemima', 'Jemimah', 'Jemma', 'Jena', 'Jenae', 'Jenah', 'Jenai', 'Jenalee', 'Jenalyn', 'Jenasis', 'Jenavee', 'Jenaveve', 'Jenavie', 'Jenavieve', 'Jenay', 'Jenaya', 'Jene', 'Jenea', 'Jenean', 'Jenee', 'Jeneen', 'Jenefer', 'Jeneffer', 'Jenel', 'Jenell', 'Jenelle', 'Jenene', 'Jenesis', 'Jenessa', 'Jenessy', 'Jenesys', 'Jenette', 'Jeneva', 'Jenevie', 'Jenevieve', 'Jeni', 'Jenica', 'Jenice', 'Jenicka', 'Jenie', 'Jeniece', 'Jenifer', 'Jeniffer', 'Jenika', 'Jenilee', 'Jenille', 'Jenin', 'Jenine', 'Jenipher', 'Jenise', 'Jenisis', 'Jenita', 'Jenna', 'Jennae', 'Jennafer', 'Jennah', 'Jennalyn', 'Jennavecia', 'Jennavie', 'Jennavieve', 'Jenne', 'Jennefer', 'Jennel', 'Jennell', 'Jennelle', 'Jennessa', 'Jennessy', 'Jennett', 'Jennette', 'Jenney', 'Jennfier', 'Jenni', 'Jennica', 'Jennie', 'Jenniefer', 'Jennifer', 'Jenniferann', 'Jenniffer', 'Jennifier', 'Jennika', 'Jennilee', 'Jennine', 'Jennipher', 'Jenny', 'Jennyfer', 'Jensen', 'Jensine', 'Jeny', 'Jenyfer', 'Jera', 'Jeraldin', 'Jeraldine', 'Jeralyn', 'Jere', 'Jeremy', 'Jerene', 'Jeri', 'Jerica', 'Jericha', 'Jerika', 'Jerilyn', 'Jerilynn', 'Jerlene', 'Jermaine', 'Jerri', 'Jerrica', 'Jerrie', 'Jerrika', 'Jerrilyn', 'Jerry', 'Jersey', 'Jerusalem', 'Jerusha', 'Jeryl', 'Jeselle', 'Jesenia', 'Jesiah', 'Jesica', 'Jesika', 'Jeslyn', 'Jessa', 'Jessabelle', 'Jessalyn', 'Jessalynn', 'Jessamyn', 'Jesscia', 'Jesse', 'Jesseca', 'Jessel', 'Jesselle', 'Jesselyn', 'Jessenia', 'Jessi', 'Jessia', 'Jessica', 'Jessicaann', 'Jessicamae', 'Jessicamarie', 'Jessicca', 'Jessie', 'Jessika', 'Jessilyn', 'Jesslyn', 'Jesslynn', 'Jessy', 'Jessyca', 'Jessyka', 'Jestine', 'Jesus', 'Jesusita', 'Jesyka', 'Jett', 'Jetzabel', 'Jewel', 'Jewelia', 'Jeweliana', 'Jewelisa', 'Jewelissa', 'Jewell', 'Jewels', 'Jeyla', 'Jeylah', 'Jeylin', 'Jezabel', 'Jezabelle', 'Jezebel', 'Jezebelle', 'Jezel', 'Jezelle', 'Jezreel', 'Jhanvi', 'Jhene', 'Jhoana', 'Jhoanna', 'Jhoselyn', 'Jhovana', 'Ji', 'Jia', 'Jiana', 'Jianna', 'Jiaqi', 'Jiayi', 'Jiayue', 'Jihan', 'Jil', 'Jilian', 'Jill', 'Jillene', 'Jillian', 'Jilliana', 'Jilliane', 'Jilliann', 'Jillianne', 'Jimena', 'Jimin', 'Jimmie', 'Jimmy', 'Jin', 'Jina', 'Jind', 'Jinelle', 'Jinny', 'Jinora', 'Jinx', 'Jireh', 'Jisel', 'Jisela', 'Jisell', 'Jiselle', 'Jissel', 'Jissell', 'Jisselle', 'Jiya', 'Jizel', 'Jizelle', 'Jlynn', 'Jniyah', 'Jo', 'Joan', 'Joana', 'Joandra', 'Joane', 'Joani', 'Joanie', 'Joann', 'Joanna', 'Joannamarie', 'Joanne', 'Joannie', 'Joaquina', 'Jobina', 'Jocabed', 'Jocelin', 'Joceline', 'Jocell', 'Jocely', 'Jocelyn', 'Jocelyne', 'Jocelynn', 'Jocelynne', 'Jocilyn', 'Joclyn', 'Jodeci', 'Jodee', 'Jodene', 'Jodi', 'Jodie', 'Jodine', 'Jody', 'Joe', 'Joeann', 'Joei', 'Joel', 'Joelene', 'Joelie', 'Joell', 'Joella', 'Joelle', 'Joellen', 'Joellyn', 'Joely', 'Joetta', 'Joette', 'Joey', 'Johana', 'Johanna', 'Johannah', 'John', 'Johna', 'Johnae', 'Johnanna', 'Johnathan', 'Johnesha', 'Johnetta', 'Johnette', 'Johnisha', 'Johnna', 'Johnnie', 'Johnny', 'Joi', 'Joie', 'Jojo', 'Jolanda', 'Jolee', 'Joleen', 'Joleena', 'Jolena', 'Jolene', 'Jolette', 'Joley', 'Joli', 'Jolie', 'Jolin', 'Jolina', 'Jolinda', 'Joline', 'Jolisa', 'Jolissa', 'Jolyn', 'Jolyne', 'Jolynn', 'Jomayra', 'Jon', 'Jona', 'Jonae', 'Jonah', 'Jonathan', 'Jonathon', 'Jonda', 'Jonell', 'Jonelle', 'Jonette', 'Joni', 'Jonie', 'Jonique', 'Jonisha', 'Jonna', 'Jonni', 'Jonnie', 'Jonte', 'Jood', 'Jordan', 'Jordana', 'Jordann', 'Jordanna', 'Jordanne', 'Jorden', 'Jordin', 'Jordon', 'Jordy', 'Jordyn', 'Jordynn', 'Jorene', 'Jorge', 'Jorgina', 'Jori', 'Jorja', 'Jorley', 'Jory', 'Josabet', 'Josabeth', 'Josalyn', 'Josalynn', 'Joscelin', 'Joscelyn', 'Jose', 'Josefa', 'Josefina', 'Josefine', 'Joselin', 'Joseline', 'Joselinne', 'Joselle', 'Joselyn', 'Joselyne', 'Joselynn', 'Joseph', 'Josephina', 'Josephine', 'Josephyne', 'Josette', 'Josey', 'Joshlyn', 'Joshua', 'Josie', 'Josilyn', 'Joslin', 'Joslyn', 'Joslynn', 'Jossalyn', 'Josselin', 'Josseline', 'Josselyn', 'Josselyne', 'Jossie', 'Josslyn', 'Josslynn', 'Josue', 'Joua', 'Joud', 'Jourdan', 'Jourdyn', 'Journee', 'Journei', 'Journey', 'Journi', 'Journie', 'Journii', 'Jovan', 'Jovana', 'Jovani', 'Jovanna', 'Jovi', 'Jovie', 'Jovita', 'Jovon', 'Jovonna', 'Joy', 'Joya', 'Joyanna', 'Joyce', 'Joycelin', 'Joycelyn', 'Joye', 'Joylyn', 'Jozelyn', 'Jozette', 'Jozie', 'Jozlyn', 'Jream', 'Juan', 'Juana', 'Juanisha', 'Juanita', 'Jubilee', 'Judah', 'Jude', 'Judee', 'Judi', 'Judie', 'Judit', 'Judith', 'Judy', 'Judyth', 'Julee', 'Julene', 'Jules', 'Juli', 'Julia', 'Julian', 'Juliana', 'Juliane', 'Juliann', 'Julianna', 'Julianne', 'Julie', 'Julieana', 'Julieann', 'Julieanna', 'Julieanne', 'Juliene', 'Julienne', 'Juliet', 'Julieta', 'Julieth', 'Juliett', 'Julietta', 'Juliette', 'Julina', 'Julio', 'Julisa', 'Julissa', 'Julitza', 'Juliza', 'Julizza', 'Jullian', 'Julliana', 'Jullianna', 'Jullie', 'Jully', 'July', 'Julya', 'Julyana', 'Julyanna', 'Julyssa', 'Jumana', 'Juna', 'June', 'Juni', 'Junia', 'Junie', 'Juniper', 'Junko', 'Juno', 'Jupiter', 'Jurea', 'Jurnee', 'Jury', 'Justeen', 'Justene', 'Justice', 'Justin', 'Justina', 'Justine', 'Justis', 'Justus', 'Justyce', 'Justyne', 'Juvia', 'Jyl', 'Jyoti', 'Ka', 'Kaaliyah', 'Kaaren', 'Kaavya', 'Kabao', 'Kabrina', 'Kacee', 'Kacey', 'Kachina', 'Kaci', 'Kacia', 'Kacie', 'Kacy', 'Kadance', 'Kadee', 'Kaden', 'Kadence', 'Kadi', 'Kadie', 'Kadijah', 'Kadisha', 'Kady', 'Kadyn', 'Kadynce', 'Kaede', 'Kaedence', 'Kaedyn', 'Kaela', 'Kaelah', 'Kaelani', 'Kaelee', 'Kaeleigh', 'Kaeley', 'Kaeli', 'Kaelie', 'Kaelin', 'Kaelly', 'Kaely', 'Kaelyn', 'Kaelynn', 'Kaelynne', 'Kaetlyn', 'Kahealani', 'Kahla', 'Kahlan', 'Kahlani', 'Kahlen', 'Kahlia', 'Kai', 'Kaia', 'Kaiah', 'Kaida', 'Kaiden', 'Kaidence', 'Kaidyn', 'Kaija', 'Kaila', 'Kailah', 'Kailan', 'Kailana', 'Kailani', 'Kailanie', 'Kailany', 'Kaile', 'Kailea', 'Kaileah', 'Kailee', 'Kaileen', 'Kailei', 'Kaileia', 'Kaileigh', 'Kailen', 'Kailene', 'Kailey', 'Kaili', 'Kailia', 'Kailie', 'Kailin', 'Kaily', 'Kailyn', 'Kailynn', 'Kaimana', 'Kaina', 'Kaira', 'Kairi', 'Kaisha', 'Kaisley', 'Kaithlyn', 'Kaitlan', 'Kaitlen', 'Kaitlin', 'Kaitlyn', 'Kaitlyne', 'Kaitlynn', 'Kaitlynne', 'Kaiulani', 'Kaiya', 'Kaiyah', 'Kaja', 'Kajal', 'Kala', 'Kalah', 'Kalani', 'Kalanie', 'Kalaya', 'Kalayah', 'Kalea', 'Kaleah', 'Kalee', 'Kaleen', 'Kaleena', 'Kaleesi', 'Kalei', 'Kaleia', 'Kaleigh', 'Kaleigha', 'Kalen', 'Kalena', 'Kalene', 'Kaley', 'Kaleya', 'Kali', 'Kalia', 'Kaliah', 'Kaliana', 'Kalie', 'Kalila', 'Kalilah', 'Kalin', 'Kalina', 'Kalise', 'Kalisha', 'Kalissa', 'Kalista', 'Kaliya', 'Kaliyah', 'Kaliyanei', 'Kalleigh', 'Kalli', 'Kallie', 'Kalliope', 'Kallista', 'Kalliyan', 'Kally', 'Kaloni', 'Kalyn', 'Kalynn', 'Kalynne', 'Kalyssa', 'Kalysta', 'Kam', 'Kama', 'Kamaiyah', 'Kamala', 'Kamani', 'Kamara', 'Kamari', 'Kamaria', 'Kamaya', 'Kambree', 'Kambria', 'Kamden', 'Kamdyn', 'Kamea', 'Kameelah', 'Kamela', 'Kameron', 'Kameryn', 'Kamesha', 'Kami', 'Kamia', 'Kamiah', 'Kamie', 'Kamika', 'Kamila', 'Kamilah', 'Kamilla', 'Kamillah', 'Kamille', 'Kamisha', 'Kamiya', 'Kamiyah', 'Kammie', 'Kamora', 'Kamori', 'Kamri', 'Kamrie', 'Kamrin', 'Kamron', 'Kamry', 'Kamryn', 'Kamrynn', 'Kamya', 'Kamyah', 'Kamyla', 'Kamylah', 'Kana', 'Kanani', 'Kandace', 'Kandee', 'Kandi', 'Kandice', 'Kandie', 'Kandis', 'Kandra', 'Kandy', 'Kandyce', 'Kaneisha', 'Kanesha', 'Kang', 'Kanika', 'Kanisha', 'Kaniya', 'Kaniyah', 'Kanna', 'Kanon', 'Kansas', 'Kanwal', 'Kao', 'Kaori', 'Kaoru', 'Kapri', 'Kara', 'Karah', 'Karalee', 'Karalyn', 'Karalynn', 'Karan', 'Karee', 'Kareemah', 'Kareen', 'Kareena', 'Karel', 'Kareli', 'Karelly', 'Karely', 'Karem', 'Karen', 'Karena', 'Karene', 'Karenna', 'Karess', 'Karessa', 'Karey', 'Kari', 'Karia', 'Kariana', 'Kariann', 'Karianne', 'Karicia', 'Karie', 'Karilyn', 'Karima', 'Karime', 'Karin', 'Karina', 'Karine', 'Karinna', 'Karinne', 'Karis', 'Karisa', 'Karisha', 'Karishma', 'Karisma', 'Karissa', 'Karizma', 'Karl', 'Karla', 'Karlee', 'Karleen', 'Karleigh', 'Karlene', 'Karley', 'Karli', 'Karlie', 'Karly', 'Karlyn', 'Karma', 'Karmen', 'Karmina', 'Karna', 'Karol', 'Karole', 'Karolina', 'Karoline', 'Karolyn', 'Karolynn', 'Karon', 'Karra', 'Karrah', 'Karren', 'Karri', 'Karrie', 'Karrin', 'Karrina', 'Karrington', 'Karrisa', 'Karry', 'Karsen', 'Karson', 'Karsyn', 'Karter', 'Kary', 'Karyl', 'Karyme', 'Karyn', 'Karyna', 'Karyssa', 'Kasandra', 'Kasara', 'Kasarah', 'Kasaundra', 'Kasey', 'Kasha', 'Kashia', 'Kashish', 'Kashmere', 'Kashmir', 'Kashvi', 'Kasi', 'Kasia', 'Kasie', 'Kasondra', 'Kassandra', 'Kassaundra', 'Kassey', 'Kassi', 'Kassia', 'Kassidi', 'Kassidy', 'Kassie', 'Kassondra', 'Kassy', 'Katalaya', 'Katalea', 'Kataleah', 'Kataleia', 'Kataleya', 'Kataleyah', 'Katalia', 'Katalina', 'Katalyna', 'Katana', 'Katara', 'Katarina', 'Kate', 'Katee', 'Kateland', 'Kateleen', 'Katelen', 'Katelin', 'Katelyn', 'Katelyne', 'Katelynn', 'Katelynne', 'Kateri', 'Katerin', 'Katerina', 'Katerine', 'Katey', 'Kathaleen', 'Kathaleya', 'Kathalina', 'Katharina', 'Katharine', 'Katharyn', 'Kathe', 'Katheleen', 'Kathelyn', 'Katherin', 'Katherina', 'Katherine', 'Katherinne', 'Kathern', 'Katheryn', 'Katheryne', 'Kathey', 'Kathi', 'Kathia', 'Kathie', 'Kathleen', 'Kathleena', 'Kathleene', 'Kathlene', 'Kathlyn', 'Kathlynn', 'Kathren', 'Kathrin', 'Kathrina', 'Kathrine', 'Kathryn', 'Kathryne', 'Kathrynn', 'Kathy', 'Kathya', 'Kathyleen', 'Kathyrn', 'Kati', 'Katia', 'Katiana', 'Katie', 'Katieann', 'Katilyn', 'Katina', 'Katiria', 'Katisha', 'Katja', 'Katlin', 'Katlyn', 'Katlynn', 'Katniss', 'Katrena', 'Katriana', 'Katrice', 'Katriel', 'Katrin', 'Katrina', 'Katrine', 'Katryn', 'Katryna', 'Kattaleya', 'Kattie', 'Kattleya', 'Katty', 'Katy', 'Katya', 'Kaula', 'Kavita', 'Kavya', 'Kay', 'Kaya', 'Kayah', 'Kayal', 'Kayan', 'Kayana', 'Kayanna', 'Kayce', 'Kaycee', 'Kayci', 'Kaycie', 'Kayda', 'Kaydance', 'Kaydee', 'Kayden', 'Kaydence', 'Kaydin', 'Kaydince', 'Kaye', 'Kayla', 'Kaylah', 'Kaylamarie', 'Kaylan', 'Kaylana', 'Kaylani', 'Kaylanie', 'Kaylany', 'Kayle', 'Kaylea', 'Kayleah', 'Kaylee', 'Kayleeann', 'Kayleen', 'Kayleena', 'Kaylei', 'Kayleigh', 'Kaylen', 'Kaylena', 'Kaylene', 'Kayley', 'Kayli', 'Kaylia', 'Kayliana', 'Kaylie', 'Kayliegh', 'Kaylin', 'Kaylina', 'Kaylinn', 'Kayloni', 'Kaylonnie', 'Kayly', 'Kaylyn', 'Kaylynn', 'Kaylynne', 'Kayra', 'Kaysee', 'Kaysha', 'Kaysie', 'Kaytee', 'Kaytie', 'Kaytlin', 'Kaytlyn', 'Kaytlynn', 'Kazandra', 'Kazue', 'Kazuko', 'Kazuye', 'Kazzandra', 'Kc', 'Kea', 'Keagan', 'Keaira', 'Keala', 'Kealani', 'Keana', 'Keandra', 'Keani', 'Keanna', 'Keara', 'Kearra', 'Keaton', 'Kebrina', 'Kecia', 'Keeana', 'Keegan', 'Keeley', 'Keeli', 'Keelie', 'Keelin', 'Keely', 'Keena', 'Keera', 'Keerat', 'Keerthana', 'Keesha', 'Keeva', 'Kehlani', 'Kehlany', 'Keiana', 'Keianna', 'Keiara', 'Keidy', 'Keiko', 'Keila', 'Keilah', 'Keilana', 'Keilani', 'Keilany', 'Keilee', 'Keiley', 'Keili', 'Keilly', 'Keily', 'Keilyn', 'Keiona', 'Keionna', 'Keira', 'Keirah', 'Keirra', 'Keirsten', 'Keiry', 'Keisa', 'Keisha', 'Keisi', 'Keisy', 'Keith', 'Keitha', 'Kekoa', 'Kela', 'Kelani', 'Kelcee', 'Kelcey', 'Kelci', 'Kelcie', 'Kelcy', 'Kelee', 'Kelene', 'Keli', 'Kelia', 'Kelis', 'Kelle', 'Kellee', 'Kelleen', 'Kellen', 'Kellene', 'Kelley', 'Kelli', 'Kelliann', 'Kellianne', 'Kellie', 'Kellsie', 'Kelly', 'Kellyanne', 'Kellye', 'Kellyn', 'Kelsea', 'Kelsee', 'Kelsey', 'Kelsi', 'Kelsie', 'Kelsy', 'Kemberly', 'Kemily', 'Kemora', 'Kena', 'Kenadee', 'Kenadi', 'Kenadie', 'Kenda', 'Kendahl', 'Kendal', 'Kendall', 'Kendel', 'Kendell', 'Kendis', 'Kendra', 'Kendrah', 'Kendria', 'Kendy', 'Kendyl', 'Kendyll', 'Kenedi', 'Kenesha', 'Kenia', 'Kenisha', 'Keniya', 'Keniyah', 'Kenlee', 'Kenleigh', 'Kenley', 'Kenna', 'Kennadi', 'Kennadie', 'Kennady', 'Kennedi', 'Kennedie', 'Kennedy', 'Kennesha', 'Kenneth', 'Kennia', 'Kennisha', 'Kenny', 'Kennya', 'Kensey', 'Kensi', 'Kensie', 'Kensington', 'Kensley', 'Kenya', 'Kenyah', 'Kenyatta', 'Kenyetta', 'Kenza', 'Kenzi', 'Kenzie', 'Kenzington', 'Kenzlee', 'Kenzley', 'Kenzy', 'Keona', 'Keonna', 'Keosha', 'Kera', 'Keren', 'Kerensa', 'Keri', 'Keriann', 'Kerianne', 'Kerie', 'Kerin', 'Kerissa', 'Kerith', 'Kerra', 'Kerri', 'Kerrie', 'Kerrigan', 'Kerrin', 'Kerrington', 'Kerry', 'Kersten', 'Kerstin', 'Keryn', 'Kesha', 'Keshana', 'Keshia', 'Kesia', 'Kestrel', 'Keturah', 'Ketzaly', 'Keva', 'Kevin', 'Keya', 'Keyaira', 'Keyana', 'Keyanna', 'Keyara', 'Keyarah', 'Keyera', 'Keyla', 'Keylani', 'Keylee', 'Keylen', 'Keyli', 'Keylin', 'Keyly', 'Keyona', 'Keyonna', 'Keyra', 'Keyri', 'Keysha', 'Kezia', 'Keziah', 'Khadejah', 'Khadija', 'Khadijah', 'Khaila', 'Khalani', 'Khalea', 'Khaleesi', 'Khalessi', 'Khali', 'Khalia', 'Khaliah', 'Khalilah', 'Khaliyah', 'Khalyla', 'Khamani', 'Khamila', 'Khanh', 'Khara', 'Khari', 'Khayla', 'Khelani', 'Kherington', 'Khianna', 'Khiara', 'Khloe', 'Khloee', 'Khloey', 'Khloie', 'Khole', 'Khristina', 'Khristine', 'Khrystina', 'Khrystyna', 'Khrystyne', 'Khushi', 'Khushpreet', 'Khyla', 'Khylee', 'Khylie', 'Kia', 'Kiah', 'Kiahna', 'Kiaira', 'Kiana', 'Kiandra', 'Kianga', 'Kiani', 'Kianna', 'Kiannah', 'Kiara', 'Kiarah', 'Kiari', 'Kiarra', 'Kiaya', 'Kieara', 'Kiela', 'Kiele', 'Kiely', 'Kiera', 'Kierah', 'Kieran', 'Kierra', 'Kiersten', 'Kierstin', 'Kierstyn', 'Kiesha', 'Kieu', 'Kiki', 'Kikue', 'Kikuye', 'Kila', 'Kilani', 'Kilee', 'Kiley', 'Kim', 'Kimanh', 'Kimani', 'Kimara', 'Kimari', 'Kimaya', 'Kimbella', 'Kimber', 'Kimberely', 'Kimberle', 'Kimberlee', 'Kimberley', 'Kimberli', 'Kimberlie', 'Kimberlin', 'Kimberlina', 'Kimberly', 'Kimberlyann', 'Kimberlyanne', 'Kimberlyn', 'Kimberlynn', 'Kimbra', 'Kimi', 'Kimia', 'Kimie', 'Kimiko', 'Kimiya', 'Kimiye', 'Kimiyo', 'Kimm', 'Kimmi', 'Kimmie', 'Kimmy', 'Kimora', 'Kimya', 'Kina', 'Kinberly', 'Kindle', 'Kindra', 'Kingsley', 'Kinley', 'Kinsey', 'Kinslee', 'Kinsleigh', 'Kinsley', 'Kinza', 'Kinzie', 'Kinzlee', 'Kinzley', 'Kiona', 'Kionna', 'Kiora', 'Kira', 'Kirah', 'Kiran', 'Kirandeep', 'Kirby', 'Kiri', 'Kirin', 'Kirpa', 'Kirra', 'Kirsten', 'Kirsti', 'Kirstie', 'Kirstin', 'Kirsty', 'Kirstyn', 'Kirti', 'Kisha', 'Kit', 'Kitana', 'Kitt', 'Kittie', 'Kitty', 'Kitzia', 'Kiva', 'Kiya', 'Kiyah', 'Kiyana', 'Kiyanna', 'Kiyara', 'Kiyo', 'Kiyoko', 'Kiyomi', 'Kizzie', 'Kizzy', 'Kla', 'Klaire', 'Klara', 'Klarisa', 'Klarissa', 'Klaryssa', 'Klaudia', 'Kleo', 'Kloe', 'Kloee', 'Kloey', 'Kloie', 'Klynn', 'Koa', 'Kobe', 'Kobi', 'Kobie', 'Koda', 'Kodi', 'Kodie', 'Kody', 'Kohana', 'Kolbie', 'Kolby', 'Kolette', 'Kolina', 'Kolleen', 'Kollins', 'Kollyns', 'Komal', 'Komalpreet', 'Kona', 'Koni', 'Konnie', 'Kora', 'Koraima', 'Koral', 'Koraline', 'Koreen', 'Koren', 'Korena', 'Korey', 'Kori', 'Korie', 'Korin', 'Korina', 'Korinna', 'Korinne', 'Korissa', 'Korla', 'Korra', 'Korri', 'Korrie', 'Korrina', 'Korrine', 'Kortnee', 'Kortney', 'Kortni', 'Kortnie', 'Kory', 'Koryn', 'Koryna', 'Kourtnee', 'Kourtney', 'Kourtni', 'Koy', 'Kris', 'Krisann', 'Krisha', 'Krishna', 'Krisinda', 'Krislyn', 'Krislynn', 'Kriss', 'Krissy', 'Krista', 'Kristal', 'Kristan', 'Kriste', 'Kristeen', 'Kristeena', 'Kristel', 'Kristell', 'Kristelle', 'Kristen', 'Kristena', 'Kristene', 'Kristi', 'Kristian', 'Kristiana', 'Kristiane', 'Kristiann', 'Kristianna', 'Kristianne', 'Kristie', 'Kristin', 'Kristina', 'Kristinamarie', 'Kristine', 'Kristle', 'Kristol', 'Kriston', 'Kristopher', 'Kristy', 'Kristyl', 'Kristyn', 'Kristyna', 'Kristyne', 'Krithi', 'Kriti', 'Kritika', 'Krizia', 'Krupa', 'Krysta', 'Krystal', 'Krystale', 'Krystalyn', 'Krystalynn', 'Krystel', 'Krystelle', 'Krysten', 'Krysti', 'Krystiana', 'Krystie', 'Krystin', 'Krystina', 'Krystine', 'Krystle', 'Krystyn', 'Krystyna', 'Krystyne', 'Ksenia', 'Kya', 'Kyah', 'Kyaira', 'Kyana', 'Kyanna', 'Kyara', 'Kyarra', 'Kyia', 'Kyla', 'Kylah', 'Kylani', 'Kyle', 'Kylea', 'Kyleah', 'Kylee', 'Kyleen', 'Kylei', 'Kyleigh', 'Kylen', 'Kylene', 'Kyler', 'Kyley', 'Kyli', 'Kylia', 'Kylie', 'Kyliee', 'Kyliegh', 'Kylin', 'Kylynn', 'Kym', 'Kymani', 'Kymber', 'Kymberlee', 'Kymberli', 'Kymberly', 'Kymora', 'Kyna', 'Kyndal', 'Kyndall', 'Kyndra', 'Kynlee', 'Kynslee', 'Kynsley', 'Kynzie', 'Kynzlee', 'Kyoko', 'Kyomi', 'Kyra', 'Kyrah', 'Kyrie', 'Kyrsten', 'Kyrstie', 'Kyrstin', 'La', 'Laasya', 'Labrea', 'Lacee', 'Lacey', 'Lachelle', 'Laci', 'Lacie', 'Lacresha', 'Lacretia', 'Lacy', 'Ladana', 'Ladawn', 'Ladena', 'Ladona', 'Ladonna', 'Lady', 'Lael', 'Laela', 'Laelah', 'Laelani', 'Laelia', 'Lafondra', 'Lagina', 'Lahna', 'Lahoma', 'Lai', 'Laia', 'Laiah', 'Laiba', 'Laila', 'Lailah', 'Lailani', 'Lailany', 'Lailoni', 'Laina', 'Laine', 'Lainee', 'Lainey', 'Laini', 'Lainie', 'Laisa', 'Laisha', 'Laiyah', 'Laiza', 'Lajuana', 'Lakayla', 'Lake', 'Lakeesha', 'Lakeisha', 'Lakelyn', 'Laken', 'Lakendra', 'Lakenya', 'Lakesha', 'Lakeshia', 'Lakeya', 'Lakeysha', 'Lakia', 'Lakiesha', 'Lakisha', 'Lakishia', 'Lakita', 'Lakota', 'Lakshmi', 'Laksmi', 'Lalani', 'Lalanya', 'Lalena', 'Lalita', 'Lamar', 'Lamaya', 'Lamees', 'Lamia', 'Lamiya', 'Lamiyah', 'Lamona', 'Lamonica', 'Lamya', 'Lan', 'Lana', 'Lanae', 'Lanah', 'Lanai', 'Lanay', 'Lanaya', 'Landon', 'Landry', 'Landy', 'Landyn', 'Lane', 'Lanea', 'Lanee', 'Laneisha', 'Lanell', 'Lanesha', 'Laneshia', 'Lanessa', 'Lanetta', 'Lanette', 'Laney', 'Lani', 'Lania', 'Laniah', 'Lanie', 'Laniece', 'Lanika', 'Lanisha', 'Lanita', 'Laniya', 'Laniyah', 'Lanna', 'Lannette', 'Lannie', 'Lanora', 'Lany', 'Lanya', 'Lanyah', 'Laporsha', 'Laquesha', 'Laquinta', 'Laquisha', 'Laquita', 'Lara', 'Larae', 'Laraine', 'Laree', 'Lareen', 'Lareina', 'Laren', 'Larena', 'Larhonda', 'Lari', 'Lariah', 'Larina', 'Larisa', 'Larissa', 'Larita', 'Laritza', 'Lariyah', 'Lariza', 'Lark', 'Larkin', 'Laronda', 'Larraine', 'Larrie', 'Larry', 'Larue', 'Laruen', 'Laryssa', 'Lasandra', 'Lasaundra', 'Lasha', 'Lashae', 'Lashan', 'Lashana', 'Lashanae', 'Lashanay', 'Lashanda', 'Lashane', 'Lashanique', 'Lashanna', 'Lashanti', 'Lashaun', 'Lashaunda', 'Lashawn', 'Lashawna', 'Lashawnda', 'Lashay', 'Lashea', 'Lashell', 'Lashelle', 'Lashon', 'Lashonda', 'Lashondra', 'Lashone', 'Lashonna', 'Lashun', 'Lashunda', 'Lashundra', 'Lashune', 'Lasonya', 'Lasya', 'Latania', 'Latanya', 'Latara', 'Latasha', 'Latashia', 'Latausha', 'Latavia', 'Latecia', 'Lateefah', 'Lateisha', 'Latesha', 'Latia', 'Latiana', 'Laticia', 'Latiera', 'Latifah', 'Latijera', 'Latina', 'Latisha', 'Latishia', 'Latoi', 'Latonia', 'Latonja', 'Latonya', 'Latosha', 'Latoshia', 'Latoya', 'Latoyia', 'Latrece', 'Latrenda', 'Latrese', 'Latrice', 'Latricia', 'Latrina', 'Latrisha', 'Latunya', 'Launa', 'Laura', 'Lauraine', 'Laural', 'Lauralee', 'Lauran', 'Laure', 'Lauree', 'Laureen', 'Laurel', 'Lauren', 'Laurena', 'Laurene', 'Lauretta', 'Laurette', 'Laurey', 'Lauri', 'Laurice', 'Laurie', 'Laurin', 'Laurinda', 'Laurine', 'Laurissa', 'Laurita', 'Laury', 'Lauryn', 'Laurynn', 'Lavada', 'Lavanya', 'Laveah', 'Lavelle', 'Lavena', 'Lavender', 'Lavera', 'Lavern', 'Laverna', 'Laverne', 'Lavette', 'Lavina', 'Lavinia', 'Lavon', 'Lavonda', 'Lavonna', 'Lavonne', 'Lavren', 'Lawana', 'Lawanda', 'Lawanna', 'Lawren', 'Lawrence', 'Laya', 'Layah', 'Layal', 'Layan', 'Layana', 'Laycee', 'Layla', 'Laylah', 'Laylani', 'Laylanie', 'Layleen', 'Laylene', 'Layloni', 'Laylonie', 'Layna', 'Layne', 'Laynee', 'Laynie', 'Laysha', 'Layton', 'Le', 'Lea', 'Leah', 'Leahna', 'Leala', 'Lean', 'Leana', 'Leandra', 'Leandrea', 'Leane', 'Leann', 'Leanna', 'Leanne', 'Leanny', 'Leanora', 'Leanore', 'Leanza', 'Leasa', 'Leasia', 'Leatha', 'Leatrice', 'Lecia', 'Leda', 'Lee', 'Leea', 'Leeah', 'Leeana', 'Leeann', 'Leeanna', 'Leeanne', 'Leela', 'Leelah', 'Leelee', 'Leen', 'Leena', 'Leesa', 'Leesha', 'Leeya', 'Leeyah', 'Leeza', 'Legaci', 'Legacy', 'Legend', 'Lei', 'Leia', 'Leiah', 'Leiana', 'Leianna', 'Leida', 'Leidi', 'Leidy', 'Leigh', 'Leigha', 'Leighann', 'Leighanna', 'Leighanne', 'Leighla', 'Leighton', 'Leila', 'Leilah', 'Leilana', 'Leilanee', 'Leilaney', 'Leilani', 'Leilanie', 'Leilanni', 'Leilany', 'Leileen', 'Leilene', 'Leiloni', 'Leily', 'Leina', 'Leisa', 'Leisha', 'Leiya', 'Leiyah', 'Lekisha', 'Lela', 'Lelah', 'Lelani', 'Lelania', 'Lelia', 'Lemon', 'Lena', 'Lenae', 'Lenda', 'Lenee', 'Lenette', 'Leni', 'Lenina', 'Lenita', 'Lenna', 'Lennie', 'Lennix', 'Lennon', 'Lennox', 'Lenny', 'Lennyn', 'Lenora', 'Lenore', 'Lenox', 'Lenya', 'Leo', 'Leola', 'Leon', 'Leona', 'Leonarda', 'Leonardo', 'Leondra', 'Leone', 'Leonela', 'Leoni', 'Leonie', 'Leonila', 'Leonna', 'Leonor', 'Leonora', 'Leonore', 'Leora', 'Leota', 'Lesa', 'Lesha', 'Leshawn', 'Lesia', 'Leslee', 'Lesley', 'Lesli', 'Leslie', 'Leslieann', 'Lesly', 'Leslye', 'Lessie', 'Lesslie', 'Lessly', 'Leta', 'Letecia', 'Letha', 'Letica', 'Leticia', 'Letisha', 'Letisia', 'Letitia', 'Letrice', 'Letricia', 'Letticia', 'Lettie', 'Letty', 'Lety', 'Letzy', 'Levana', 'Levi', 'Levy', 'Lexa', 'Lexani', 'Lexi', 'Lexia', 'Lexie', 'Lexii', 'Lexine', 'Lexington', 'Lexis', 'Lexus', 'Lexxie', 'Lexy', 'Leya', 'Leyah', 'Leyda', 'Leydi', 'Leyla', 'Leylah', 'Leylani', 'Leylanie', 'Leylany', 'Leyna', 'Leyre', 'Leza', 'Lezli', 'Lezlie', 'Lezly', 'Lia', 'Liah', 'Liahna', 'Lian', 'Liana', 'Liandra', 'Liane', 'Liani', 'Lianna', 'Liannah', 'Lianne', 'Liara', 'Liat', 'Libby', 'Libertad', 'Liberty', 'Libni', 'Libra', 'Librada', 'Licet', 'Licette', 'Licia', 'Lida', 'Lidia', 'Liduvina', 'Lidya', 'Liel', 'Lielle', 'Lien', 'Liese', 'Liesel', 'Liesl', 'Liezl', 'Ligia', 'Lila', 'Lilac', 'Lilah', 'Lilee', 'Lili', 'Lilia', 'Lilian', 'Liliana', 'Liliane', 'Liliann', 'Lilianna', 'Lilianne', 'Lilibet', 'Lilibeth', 'Lilie', 'Lilieth', 'Lilit', 'Lilith', 'Liliya', 'Lilja', 'Lilla', 'Lillee', 'Lilli', 'Lillia', 'Lillian', 'Lilliana', 'Lilliann', 'Lillianna', 'Lillianne', 'Lillie', 'Lillith', 'Lilly', 'Lillyan', 'Lillyana', 'Lillyann', 'Lillyanna', 'Lillyanne', 'Lillybeth', 'Lilo', 'Lilou', 'Lilu', 'Lily', 'Lilya', 'Lilyan', 'Lilyana', 'Lilyanah', 'Lilyann', 'Lilyanna', 'Lilyanne', 'Lilybeth', 'Lilyrose', 'Lilyth', 'Limairy', 'Limayri', 'Lin', 'Lina', 'Lincoln', 'Lincy', 'Linda', 'Linden', 'Lindi', 'Lindley', 'Lindsay', 'Lindsee', 'Lindsey', 'Lindsi', 'Lindsie', 'Lindsy', 'Lindy', 'Linell', 'Linette', 'Ling', 'Linh', 'Linn', 'Linna', 'Linnae', 'Linnea', 'Linnette', 'Linsay', 'Linsey', 'Linsy', 'Linzy', 'Lior', 'Liora', 'Lira', 'Lirio', 'Liron', 'Lisa', 'Lisabeth', 'Lisamarie', 'Lisandra', 'Lisania', 'Lisanne', 'Lisbet', 'Lisbeth', 'Lise', 'Liset', 'Liseth', 'Lisett', 'Lisette', 'Lisha', 'Lissa', 'Lissandra', 'Lisset', 'Lissete', 'Lisseth', 'Lissett', 'Lissette', 'Lita', 'Lithzy', 'Litsy', 'Litzi', 'Litzy', 'Liv', 'Livana', 'Lively', 'Livi', 'Livia', 'Liviana', 'Livie', 'Livier', 'Liya', 'Liyah', 'Liyana', 'Liz', 'Liza', 'Lizabeth', 'Lizandra', 'Lizania', 'Lizanne', 'Lizbet', 'Lizbeth', 'Lizbett', 'Lizel', 'Lizet', 'Lizeth', 'Lizett', 'Lizette', 'Lizvet', 'Lizveth', 'Lizvette', 'Lizzet', 'Lizzete', 'Lizzeth', 'Lizzett', 'Lizzette', 'Lizzie', 'Lizzy', 'Lladira', 'Llesenia', 'Lloana', 'Lluliana', 'Lluvia', 'Loa', 'Loan', 'Logan', 'Logann', 'Loida', 'Lois', 'Lola', 'Lolah', 'Lolita', 'Lolly', 'Loma', 'Lona', 'Londa', 'London', 'Londyn', 'Londynn', 'Loni', 'Lonie', 'Lonna', 'Lonnie', 'Lora', 'Loraine', 'Loralee', 'Loralei', 'Loralie', 'Lorayne', 'Lore', 'Loreal', 'Loree', 'Loreen', 'Lorelai', 'Lorelei', 'Loreli', 'Lorely', 'Loren', 'Lorena', 'Lorenda', 'Lorene', 'Lorenia', 'Lorenza', 'Loretta', 'Lorette', 'Lori', 'Loria', 'Loriann', 'Lorianne', 'Lorie', 'Lorien', 'Loriene', 'Lorilee', 'Lorilei', 'Lorilyn', 'Lorin', 'Lorina', 'Lorinda', 'Lorine', 'Loris', 'Lorisa', 'Lorissa', 'Lorita', 'Lorna', 'Lorraina', 'Lorraine', 'Lorrayne', 'Lorre', 'Lorren', 'Lorrene', 'Lorretta', 'Lorri', 'Lorriane', 'Lorrie', 'Lorrine', 'Lorry', 'Lory', 'Loryn', 'Lotoya', 'Lottie', 'Lotus', 'Lou', 'Louann', 'Louanna', 'Louanne', 'Louella', 'Louie', 'Louis', 'Louisa', 'Louise', 'Loukisha', 'Louna', 'Loura', 'Lourdes', 'Lourie', 'Love', 'Loveah', 'Lovella', 'Lovely', 'Lovelyn', 'Lovelynn', 'Lovette', 'Lovina', 'Lowana', 'Loy', 'Loyal', 'Loyalty', 'Loyce', 'Ltanya', 'Lu', 'Lua', 'Luana', 'Luann', 'Luanna', 'Luanne', 'Luca', 'Lucas', 'Lucca', 'Lucciana', 'Lucerito', 'Lucero', 'Luci', 'Lucia', 'Luciana', 'Lucianna', 'Lucie', 'Lucienne', 'Lucila', 'Lucile', 'Lucille', 'Lucina', 'Lucinda', 'Lucine', 'Lucky', 'Lucrecia', 'Lucretia', 'Lucy', 'Ludivina', 'Luella', 'Luis', 'Luisa', 'Luisana', 'Luiza', 'Lujain', 'Luka', 'Luke', 'Lula', 'Lulu', 'Luma', 'Lumen', 'Lumi', 'Luna', 'Lunabella', 'Lunabelle', 'Lunah', 'Lunarose', 'Lunden', 'Lundyn', 'Lunna', 'Lupe', 'Lupie', 'Lupita', 'Lura', 'Lurdes', 'Lurline', 'Lus', 'Lusero', 'Lusia', 'Lusine', 'Luwana', 'Lux', 'Luxe', 'Luz', 'Luzelena', 'Luzia', 'Luzmaria', 'Ly', 'Lya', 'Lyah', 'Lyana', 'Lyanna', 'Lyanne', 'Lyda', 'Lydia', 'Lyla', 'Lylah', 'Lylia', 'Lyliana', 'Lyly', 'Lyn', 'Lyna', 'Lynae', 'Lynda', 'Lyndee', 'Lyndell', 'Lynden', 'Lyndi', 'Lyndia', 'Lyndie', 'Lyndsay', 'Lyndsey', 'Lyndsi', 'Lyndsie', 'Lyndsy', 'Lynea', 'Lynee', 'Lynell', 'Lynelle', 'Lynetta', 'Lynette', 'Lynn', 'Lynna', 'Lynnae', 'Lynnda', 'Lynne', 'Lynnea', 'Lynnel', 'Lynnell', 'Lynnetta', 'Lynnette', 'Lynsey', 'Lynsie', 'Lynzee', 'Lynzie', 'Lyra', 'Lyric', 'Lyrica', 'Lyrik', 'Lyriq', 'Lysa', 'Lysandra', 'Lysette', 'Lyssa', 'Lytzy', 'Lyvia', 'Lyza', 'Lyzeth', 'Lyzette', 'Ma', 'Maahi', 'Maaliyah', 'Maanvi', 'Maanya', 'Maayan', 'Mabel', 'Mabelle', 'Mable', 'Macaela', 'Macayla', 'Macee', 'Macey', 'Machele', 'Machelle', 'Maci', 'Macie', 'Maciel', 'Mackayla', 'Mackenna', 'Mackensie', 'Mackenzee', 'Mackenzi', 'Mackenzie', 'Mackenzy', 'Mackinzie', 'Macrina', 'Macy', 'Macyn', 'Madai', 'Madaleine', 'Madalena', 'Madalin', 'Madaline', 'Madalyn', 'Madalyne', 'Madalynn', 'Madalynne', 'Maddalena', 'Maddalyn', 'Maddelyn', 'Maddelynn', 'Madden', 'Maddie', 'Maddilyn', 'Maddilynn', 'Maddisen', 'Maddison', 'Maddisyn', 'Maddox', 'Maddy', 'Maddyn', 'Maddyson', 'Madeira', 'Madelaine', 'Madelein', 'Madeleine', 'Madelene', 'Madeley', 'Madelin', 'Madeline', 'Madelon', 'Madelyn', 'Madelyne', 'Madelynn', 'Madelynne', 'Madge', 'Madilyn', 'Madilynn', 'Madilynne', 'Madina', 'Madisen', 'Madison', 'Madisson', 'Madisyn', 'Madolyn', 'Madonna', 'Madylin', 'Madysen', 'Madysin', 'Madyson', 'Mae', 'Maegan', 'Maegen', 'Maeghan', 'Maela', 'Maelani', 'Maelee', 'Maelie', 'Maelle', 'Maelyn', 'Maelynn', 'Maeva', 'Maeve', 'Maeven', 'Magaby', 'Magali', 'Magally', 'Magaly', 'Magan', 'Magda', 'Magdalen', 'Magdalena', 'Magdalene', 'Magdelena', 'Magen', 'Maggi', 'Maggie', 'Maggy', 'Maghan', 'Magnolia', 'Maguadalupe', 'Maha', 'Mahala', 'Mahalia', 'Mahathi', 'Mahati', 'Mahayla', 'Mahealani', 'Maheen', 'Mahek', 'Mahelet', 'Mahi', 'Mahika', 'Mahima', 'Mahina', 'Mahira', 'Mahlia', 'Mahnoor', 'Mahogany', 'Mahsa', 'Mahum', 'Mai', 'Maia', 'Maiah', 'Maiana', 'Maida', 'Maija', 'Maika', 'Maila', 'Mailani', 'Maile', 'Mailee', 'Mailen', 'Mailey', 'Maili', 'Mailin', 'Maille', 'Maily', 'Mailyn', 'Maiquel', 'Maira', 'Mairani', 'Mairany', 'Mairead', 'Mairin', 'Mairyn', 'Maisee', 'Maisey', 'Maisha', 'Maisie', 'Maison', 'Maisy', 'Maisyn', 'Maite', 'Maiya', 'Maiyah', 'Maiyer', 'Maizie', 'Maizy', 'Maja', 'Majestic', 'Majesty', 'Makaela', 'Makaila', 'Makailah', 'Makaiya', 'Makala', 'Makalah', 'Makana', 'Makaya', 'Makayla', 'Makaylah', 'Makaylee', 'Makaylin', 'Makeba', 'Makeda', 'Makena', 'Makenah', 'Makenna', 'Makennah', 'Makenzee', 'Makenzi', 'Makenzie', 'Makenzy', 'Makeyla', 'Maki', 'Makiah', 'Makinley', 'Makinzie', 'Makisha', 'Makiya', 'Makiyah', 'Makya', 'Makyla', 'Makynzie', 'Mala', 'Malaak', 'Malai', 'Malaia', 'Malaika', 'Malaina', 'Malaiyah', 'Malak', 'Malana', 'Malani', 'Malanie', 'Malarie', 'Malaya', 'Malayah', 'Malayna', 'Malaynah', 'Malaysia', 'Malea', 'Maleah', 'Maleeha', 'Maleena', 'Maleia', 'Maleiah', 'Maleigha', 'Malena', 'Maleni', 'Maleny', 'Malerie', 'Maleya', 'Maleyah', 'Mali', 'Malia', 'Maliah', 'Malibu', 'Maliha', 'Malika', 'Malikah', 'Malillany', 'Malin', 'Malina', 'Malinda', 'Malini', 'Malisa', 'Malisha', 'Malissa', 'Maliya', 'Maliyah', 'Malka', 'Mallary', 'Mallika', 'Mallori', 'Mallorie', 'Mallory', 'Maloni', 'Malori', 'Malorie', 'Malory', 'Maly', 'Malynda', 'Malyssa', 'Mamie', 'Mana', 'Manaal', 'Manaia', 'Manal', 'Manar', 'Manasa', 'Manasi', 'Manasvi', 'Manda', 'Mandalyn', 'Mandee', 'Mandeep', 'Mandi', 'Mandie', 'Mandisa', 'Mandy', 'Mane', 'Maneh', 'Manette', 'Manha', 'Maniah', 'Manisha', 'Maniya', 'Maniyah', 'Manjot', 'Manmeet', 'Mannat', 'Manon', 'Manpreet', 'Manreet', 'Mansi', 'Mansirat', 'Manuel', 'Manuela', 'Manvi', 'Manvir', 'Manya', 'Mao', 'Maple', 'Mar', 'Mara', 'Marah', 'Maral', 'Maralee', 'Maralyn', 'Maram', 'Maranda', 'Maraya', 'Marayah', 'Marbella', 'Marcee', 'Marcel', 'Marcela', 'Marcelina', 'Marceline', 'Marcella', 'Marcelle', 'Marcellina', 'Marcene', 'Marcey', 'Marche', 'Marchelle', 'Marcheta', 'Marci', 'Marcia', 'Marcie', 'Marcine', 'Marco', 'Marcos', 'Marcus', 'Marcy', 'Mardel', 'Mardell', 'Mardi', 'Mareena', 'Mareli', 'Marelie', 'Marelin', 'Marelly', 'Marely', 'Marelyn', 'Maren', 'Marena', 'Maresa', 'Maressa', 'Margaret', 'Margarete', 'Margarett', 'Margarette', 'Margarita', 'Margarite', 'Margaux', 'Marge', 'Margeaux', 'Margene', 'Margery', 'Margie', 'Margit', 'Margo', 'Margot', 'Margret', 'Marguerita', 'Marguerite', 'Marguita', 'Margy', 'Mari', 'Maria', 'Mariaangelica', 'Mariabelen', 'Mariaceleste', 'Mariacristina', 'Mariade', 'Mariadejesus', 'Mariadel', 'Mariadelaluz', 'Mariadelcarmen', 'Mariadelosang', 'Mariadelosangel', 'Mariadelourdes', 'Mariaelena', 'Mariaesther', 'Mariafernanda', 'Mariaguadalupe', 'Mariah', 'Mariaisabel', 'Mariajose', 'Mariali', 'Marializ', 'Marialuisa', 'Mariam', 'Mariama', 'Marian', 'Mariana', 'Mariangel', 'Mariangela', 'Mariann', 'Marianna', 'Marianne', 'Mariapaula', 'Mariateresa', 'Mariatheresa', 'Maribel', 'Maribell', 'Maribella', 'Maribelle', 'Maribeth', 'Marica', 'Maricar', 'Maricarmen', 'Maricel', 'Maricela', 'Maricella', 'Maricris', 'Maricruz', 'Maricsa', 'Marie', 'Mariel', 'Mariela', 'Mariele', 'Marielena', 'Marieli', 'Mariella', 'Marielle', 'Mariellen', 'Mariely', 'Marietta', 'Marifer', 'Marigold', 'Mariha', 'Marijane', 'Marijo', 'Marijose', 'Marika', 'Mariko', 'Marilee', 'Marilena', 'Marili', 'Marilin', 'Marillyn', 'Marilou', 'Marilouise', 'Marilu', 'Mariluz', 'Marily', 'Marilyn', 'Marilyne', 'Marilynn', 'Marilynne', 'Marimar', 'Marin', 'Marina', 'Marinda', 'Marine', 'Marinna', 'Mario', 'Marion', 'Maripaz', 'Mariposa', 'Maris', 'Marisa', 'Marisabel', 'Marisela', 'Marisella', 'Marisha', 'Mariska', 'Marisleysis', 'Marisol', 'Marison', 'Marissa', 'Marita', 'Maritere', 'Marites', 'Maritsa', 'Maritssa', 'Maritza', 'Marivel', 'Marivi', 'Marivic', 'Marixa', 'Mariya', 'Mariyah', 'Mariza', 'Marizela', 'Marizol', 'Marja', 'Marjan', 'Marjani', 'Marji', 'Marjie', 'Marjorie', 'Marjory', 'Mark', 'Markayla', 'Markeisha', 'Markesha', 'Marki', 'Markia', 'Markie', 'Markiesha', 'Markisha', 'Markita', 'Marla', 'Marlaina', 'Marlaine', 'Marlana', 'Marlane', 'Marlayna', 'Marlee', 'Marleen', 'Marleena', 'Marlei', 'Marleigh', 'Marlen', 'Marlena', 'Marlene', 'Marleni', 'Marlenne', 'Marleny', 'Marlet', 'Marley', 'Marli', 'Marlie', 'Marlies', 'Marlin', 'Marlina', 'Marlinda', 'Marline', 'Marlisa', 'Marlise', 'Marlisha', 'Marlissa', 'Marlo', 'Marlow', 'Marlowe', 'Marly', 'Marlyn', 'Marlyne', 'Marlynn', 'Marlys', 'Marna', 'Marne', 'Marnee', 'Marney', 'Marni', 'Marnie', 'Marnisha', 'Marnita', 'Marolyn', 'Marquelle', 'Marquesha', 'Marquetta', 'Marqui', 'Marquia', 'Marquis', 'Marquisha', 'Marquita', 'Marquitta', 'Marriah', 'Marrisa', 'Marrissa', 'Marry', 'Mars', 'Marsela', 'Marsha', 'Marshae', 'Marshay', 'Marsi', 'Marta', 'Martha', 'Marti', 'Martie', 'Martika', 'Martin', 'Martina', 'Martine', 'Martinique', 'Martisha', 'Martiza', 'Marty', 'Marva', 'Marvel', 'Marvella', 'Marvin', 'Marvis', 'Marwa', 'Marwah', 'Mary', 'Marya', 'Maryah', 'Maryalice', 'Maryam', 'Maryan', 'Maryana', 'Maryann', 'Maryanna', 'Maryanne', 'Marybel', 'Marybell', 'Marybella', 'Marybelle', 'Marybeth', 'Marycarmen', 'Marycruz', 'Marye', 'Maryelizabeth', 'Maryellen', 'Maryfer', 'Marygrace', 'Maryhelen', 'Maryjane', 'Maryjo', 'Marykate', 'Marykatherine', 'Maryl', 'Marylee', 'Marylin', 'Marylou', 'Marylouise', 'Marylu', 'Marylyn', 'Marylynn', 'Maryn', 'Maryrose', 'Marysa', 'Marysol', 'Maryssa', 'Marytza', 'Masa', 'Masae', 'Masako', 'Masaye', 'Masha', 'Mason', 'Massiel', 'Masyn', 'Matalie', 'Mataya', 'Matea', 'Mathea', 'Mathilda', 'Mathilde', 'Matilda', 'Matilde', 'Matisse', 'Matsuko', 'Matsuye', 'Mattea', 'Matthew', 'Mattie', 'Mattison', 'Maude', 'Maudie', 'Maura', 'Maureen', 'Maurene', 'Mauricia', 'Maurine', 'Maurissa', 'Maven', 'Maverick', 'Mavi', 'Mavis', 'Max', 'Maxene', 'Maxima', 'Maxine', 'Maxwell', 'May', 'Maya', 'Mayah', 'Mayan', 'Mayar', 'Mayari', 'Maybelle', 'Maybelline', 'Maycee', 'Maycie', 'Mayda', 'Mayela', 'Mayeli', 'Mayerli', 'Mayerly', 'Maygan', 'Mayla', 'Maylani', 'Maylea', 'Maylee', 'Mayleen', 'Maylen', 'Maylene', 'Mayli', 'Maylin', 'Mayline', 'Maylyn', 'Maylynn', 'Mayme', 'Mayra', 'Mayraalejandra', 'Mayrani', 'Mayrin', 'Maysa', 'Mayson', 'Mayte', 'Maytte', 'Mayumi', 'Mayuri', 'Mayvis', 'Mayzie', 'Mazie', 'Mazikeen', 'Mazzy', 'Mccall', 'Mckayla', 'Mckenna', 'Mckenzee', 'Mckenzi', 'Mckenzie', 'Mckinlee', 'Mckinley', 'Mckinzie', 'Mckynlee', 'Mckynzie', 'Mea', 'Meadow', 'Meagan', 'Meagen', 'Meaghan', 'Meah', 'Meara', 'Mecca', 'Mechele', 'Mechelle', 'Medha', 'Medina', 'Mee', 'Meegan', 'Meeka', 'Meela', 'Meelah', 'Meena', 'Meenakshi', 'Meera', 'Meesha', 'Meeya', 'Meg', 'Megan', 'Meganelizabeth', 'Megann', 'Megen', 'Meggan', 'Megha', 'Meghan', 'Meghana', 'Meghann', 'Meghna', 'Megin', 'Megumi', 'Megyn', 'Mehak', 'Mehar', 'Mehek', 'Meher', 'Mehgan', 'Mehr', 'Mehreen', 'Mei', 'Meichele', 'Meika', 'Meila', 'Meilan', 'Meilani', 'Meilany', 'Meili', 'Meiling', 'Meily', 'Meilyn', 'Meira', 'Meisha', 'Meka', 'Mekayla', 'Mekenna', 'Mekenzie', 'Meklit', 'Mel', 'Mela', 'Melaina', 'Melaine', 'Melana', 'Melane', 'Melanee', 'Melaney', 'Melani', 'Melania', 'Melanie', 'Melanieann', 'Melannie', 'Melanny', 'Melany', 'Melanye', 'Melayah', 'Melayna', 'Melba', 'Mele', 'Melea', 'Meleah', 'Meleane', 'Meleena', 'Melek', 'Melena', 'Meleni', 'Melenie', 'Meleny', 'Melessa', 'Melia', 'Meliah', 'Melida', 'Melika', 'Melina', 'Melinda', 'Meline', 'Melinna', 'Melisa', 'Melisha', 'Meliss', 'Melissa', 'Melissaann', 'Melissia', 'Melita', 'Meliyah', 'Meliza', 'Melizza', 'Mellanie', 'Mellany', 'Mellisa', 'Mellissa', 'Melodee', 'Melodi', 'Melodie', 'Melody', 'Melodye', 'Melonee', 'Meloney', 'Melonie', 'Melony', 'Melrose', 'Melva', 'Melvina', 'Melyna', 'Melynda', 'Melysa', 'Melyssa', 'Memory', 'Memphis', 'Mena', 'Mendi', 'Mendy', 'Menucha', 'Mera', 'Meranda', 'Merari', 'Merary', 'Merced', 'Mercede', 'Mercedes', 'Mercedez', 'Merci', 'Mercie', 'Mercy', 'Meredith', 'Merelyn', 'Meri', 'Meriah', 'Merida', 'Merideth', 'Meridith', 'Merilee', 'Merilyn', 'Merina', 'Merisa', 'Merissa', 'Merle', 'Merlene', 'Merlin', 'Merlina', 'Merly', 'Merlyn', 'Merna', 'Meron', 'Merri', 'Merrie', 'Merrilee', 'Merrily', 'Merrilyn', 'Merritt', 'Merry', 'Mery', 'Meryem', 'Meryl', 'Mesha', 'Meshell', 'Meshelle', 'Messiah', 'Meta', 'Metzli', 'Metztli', 'Meuy', 'Mey', 'Meya', 'Meyah', 'Meylin', 'Meztli', 'Mi', 'Mia', 'Miaa', 'Miabella', 'Miabelle', 'Miagrace', 'Miah', 'Miaisabella', 'Mialani', 'Miamor', 'Miana', 'Miangel', 'Miani', 'Mianna', 'Miarose', 'Mica', 'Micaela', 'Micah', 'Micaiah', 'Micayla', 'Micel', 'Michael', 'Michaela', 'Michaele', 'Michaella', 'Michaelle', 'Michaelyn', 'Michaila', 'Michal', 'Michala', 'Michayla', 'Micheal', 'Micheala', 'Michel', 'Michela', 'Michele', 'Michelene', 'Micheline', 'Michell', 'Michella', 'Michelle', 'Michelleann', 'Michellee', 'Michi', 'Michiko', 'Michiye', 'Michon', 'Mickaela', 'Mickayla', 'Mickey', 'Micki', 'Mickie', 'Micky', 'Micole', 'Midge', 'Midori', 'Mieko', 'Miel', 'Miesha', 'Miette', 'Migdalia', 'Mignon', 'Miguel', 'Mihika', 'Mihira', 'Miia', 'Mija', 'Mika', 'Mikaela', 'Mikaella', 'Mikah', 'Mikaila', 'Mikala', 'Mikalah', 'Mikayla', 'Mikaylah', 'Mike', 'Mikeila', 'Mikeisha', 'Mikel', 'Mikela', 'Mikell', 'Mikelle', 'Mikenna', 'Mikenzie', 'Mikeyla', 'Mikhaela', 'Mikhaila', 'Miki', 'Mikia', 'Mikki', 'Miko', 'Miku', 'Mikyla', 'Mila', 'Milagro', 'Milagros', 'Milah', 'Milan', 'Milana', 'Milani', 'Milania', 'Milanie', 'Milarose', 'Milca', 'Mildred', 'Mileah', 'Milee', 'Mileena', 'Mileidy', 'Milena', 'Milenia', 'Milenka', 'Miles', 'Miley', 'Mileydi', 'Mili', 'Miliana', 'Miliani', 'Mililani', 'Milinda', 'Milissa', 'Milka', 'Milla', 'Millenia', 'Miller', 'Milli', 'Milliana', 'Millicent', 'Millie', 'Milly', 'Milo', 'Mily', 'Milynn', 'Mimi', 'Min', 'Mina', 'Minahil', 'Minami', 'Minda', 'Mindee', 'Mindi', 'Mindy', 'Minerva', 'Minette', 'Minh', 'Minha', 'Minka', 'Minna', 'Minnie', 'Mio', 'Mira', 'Miraal', 'Mirabai', 'Mirabel', 'Mirabella', 'Mirabelle', 'Miracle', 'Mirai', 'Miral', 'Miranda', 'Miraya', 'Mirca', 'Mireille', 'Mirella', 'Mirely', 'Mireya', 'Mirha', 'Miri', 'Miriah', 'Miriam', 'Mirian', 'Mirielle', 'Mirka', 'Mirna', 'Miroslava', 'Mirta', 'Mirtha', 'Miryam', 'Mirza', 'Misa', 'Misaki', 'Misako', 'Misao', 'Mischa', 'Mischelle', 'Misel', 'Misha', 'Mishel', 'Mishell', 'Mishelle', 'Mishika', 'Mishka', 'Misk', 'Missy', 'Misti', 'Mistica', 'Mistie', 'Misty', 'Mitali', 'Mitchell', 'Mitchelle', 'Mithra', 'Mitra', 'Mitsue', 'Mitsuko', 'Mitsuye', 'Mitsy', 'Mitzi', 'Mitzie', 'Mitzy', 'Miu', 'Mixtli', 'Miya', 'Miyah', 'Miyako', 'Miyana', 'Miye', 'Miyeko', 'Miyo', 'Miyoko', 'Miyu', 'Miyuki', 'Mizuki', 'Mliss', 'Moana', 'Modesta', 'Moesha', 'Mohini', 'Moira', 'Moises', 'Moksha', 'Molina', 'Molli', 'Mollie', 'Molly', 'Momoka', 'Mona', 'Monae', 'Monalisa', 'Monay', 'Moncerat', 'Moncerrat', 'Moncerrath', 'Moncia', 'Mone', 'Monee', 'Monesha', 'Monet', 'Monette', 'Monic', 'Monica', 'Monigue', 'Monik', 'Monika', 'Moniqua', 'Monique', 'Monisha', 'Monita', 'Monroe', 'Monse', 'Monserat', 'Monserath', 'Monserrat', 'Monserrath', 'Monserratt', 'Montana', 'Montanna', 'Monte', 'Montoya', 'Montserrat', 'Montserrath', 'Montzerrat', 'Monzeratt', 'Monzerrat', 'Monzerrath', 'Moon', 'Moorea', 'Moraima', 'Moranda', 'Morelia', 'Morena', 'Morgan', 'Morgana', 'Morgane', 'Morgann', 'Morganne', 'Morgen', 'Morghan', 'Morgyn', 'Moria', 'Moriah', 'Morning', 'Morrigan', 'Morrison', 'Moxie', 'Moya', 'Mui', 'Mulan', 'Muna', 'Muntaha', 'Muriel', 'Murphy', 'Mursal', 'Muskaan', 'Muskan', 'My', 'Mya', 'Myah', 'Mychaela', 'Mychal', 'Mychelle', 'Myeisha', 'Myesha', 'Myeshia', 'Myia', 'Myiah', 'Myiesha', 'Myisha', 'Myka', 'Mykaela', 'Mykah', 'Mykaila', 'Mykala', 'Mykayla', 'Mykel', 'Mykenzie', 'Mykia', 'Myla', 'Mylah', 'Mylani', 'Myleah', 'Mylee', 'Myleen', 'Mylene', 'Myley', 'Myli', 'Mylia', 'Mylie', 'Mylin', 'Mylinda', 'Mylinh', 'Mylissa', 'Myra', 'Myracle', 'Myrah', 'Myranda', 'Myriah', 'Myriam', 'Myrian', 'Myrissa', 'Myrka', 'Myrle', 'Myrna', 'Myrtle', 'Mysha', 'Myshia', 'Mysti', 'Mystic', 'Mystica', 'Mystique', 'Na', 'Naara', 'Naavya', 'Nabiha', 'Nabil', 'Nabila', 'Nachelle', 'Nacole', 'Nacy', 'Nada', 'Nadean', 'Nadeen', 'Nadene', 'Nadia', 'Nadiah', 'Nadina', 'Nadine', 'Nadira', 'Nadiya', 'Nadiyah', 'Nadja', 'Nadya', 'Naeemah', 'Naelani', 'Naevia', 'Nahal', 'Nahia', 'Nahla', 'Nahlia', 'Nahomi', 'Nahomy', 'Nai', 'Naia', 'Naiara', 'Naibe', 'Naidelin', 'Naidely', 'Naidelyn', 'Naiema', 'Naila', 'Nailah', 'Nailani', 'Nailea', 'Naileah', 'Naima', 'Naimah', 'Naina', 'Nainika', 'Naiomi', 'Naira', 'Nairi', 'Nairobi', 'Naisha', 'Naiya', 'Naiyah', 'Naizeth', 'Naja', 'Najae', 'Najah', 'Najla', 'Najwa', 'Nakayla', 'Nakeisha', 'Nakesha', 'Nakeya', 'Nakia', 'Nakisha', 'Nakita', 'Nakiya', 'Nala', 'Nalah', 'Nalani', 'Nalanie', 'Nalayah', 'Naleah', 'Nalee', 'Naleya', 'Nalia', 'Naliah', 'Nalina', 'Nalini', 'Naliyah', 'Nalleli', 'Nallely', 'Nalley', 'Naly', 'Namaari', 'Namari', 'Nami', 'Namiko', 'Namrata', 'Nan', 'Nana', 'Nanami', 'Nance', 'Nancee', 'Nancey', 'Nanci', 'Nancie', 'Nancy', 'Nandi', 'Nandini', 'Nandita', 'Nane', 'Nanette', 'Nani', 'Nannette', 'Nansi', 'Naoko', 'Naoma', 'Naomi', 'Naomie', 'Naomy', 'Nara', 'Narali', 'Naraly', 'Narda', 'Nare', 'Nareh', 'Narely', 'Nari', 'Nariah', 'Narine', 'Narissa', 'Nariyah', 'Nary', 'Naseeb', 'Naseem', 'Nashali', 'Nashaly', 'Nashira', 'Nashla', 'Nashley', 'Nashly', 'Nasia', 'Nasim', 'Nassim', 'Nastasha', 'Nastassia', 'Nastassja', 'Nasya', 'Natacha', 'Natalee', 'Nataley', 'Natali', 'Natalia', 'Nataliah', 'Natalie', 'Natalina', 'Nataliya', 'Natallie', 'Natally', 'Nataly', 'Natalya', 'Natalye', 'Natalyn', 'Natalynn', 'Natania', 'Natascha', 'Natasha', 'Natashia', 'Natasia', 'Natassha', 'Natassia', 'Natassja', 'Nathalee', 'Nathali', 'Nathalia', 'Nathalie', 'Nathaly', 'Nathalya', 'Nathalye', 'Nathan', 'Nathania', 'Nathaniel', 'Natisha', 'Natividad', 'Natosha', 'Natoya', 'Natsumi', 'Nattalie', 'Nattaly', 'Naudia', 'Nautica', 'Nautika', 'Nava', 'Navaeh', 'Navah', 'Navany', 'Navdeep', 'Naveah', 'Naveen', 'Naveyah', 'Navi', 'Navid', 'Navil', 'Navina', 'Navjot', 'Navneet', 'Navpreet', 'Navreet', 'Navy', 'Navya', 'Nawal', 'Naya', 'Nayah', 'Nayana', 'Nayara', 'Naydeen', 'Naydeli', 'Naydelin', 'Naydeline', 'Naydelyn', 'Nayeli', 'Nayelie', 'Nayelli', 'Nayelly', 'Nayely', 'Nayla', 'Naylah', 'Naylani', 'Naylea', 'Nayleah', 'Nayleen', 'Naylene', 'Nayomi', 'Nayra', 'Naysa', 'Nayzeth', 'Nazanin', 'Nazareth', 'Nazaria', 'Nazeli', 'Nazia', 'Nazli', 'Nazly', 'Nazyia', 'Nea', 'Neah', 'Neala', 'Nechama', 'Necole', 'Neda', 'Nedra', 'Neeka', 'Neela', 'Neelam', 'Neely', 'Neema', 'Neena', 'Neesha', 'Neeva', 'Nefertari', 'Nefertiti', 'Neftali', 'Neftaly', 'Negar', 'Negin', 'Neha', 'Nehemiah', 'Neiba', 'Neida', 'Neidy', 'Neila', 'Neira', 'Neisha', 'Neiva', 'Nekia', 'Neko', 'Nelda', 'Neli', 'Nelia', 'Nelida', 'Nell', 'Nella', 'Nelle', 'Nelli', 'Nellie', 'Nelly', 'Nely', 'Nemesis', 'Nena', 'Neoma', 'Neomi', 'Nereida', 'Nereyda', 'Neri', 'Neriah', 'Nerissa', 'Nery', 'Neslihan', 'Nessa', 'Neta', 'Netanya', 'Nethra', 'Netra', 'Nettie', 'Neva', 'Nevada', 'Nevaeh', 'Nevaeha', 'Nevah', 'Neve', 'Neveah', 'Neveen', 'Neviah', 'Neya', 'Neyda', 'Neyla', 'Neylan', 'Neyra', 'Neysa', 'Neyva', 'Nezuko', 'Nga', 'Ngan', 'Ngoc', 'Ngozi', 'Nguyet', 'Nhi', 'Nhia', 'Nhu', 'Nhung', 'Nia', 'Niah', 'Niamh', 'Niana', 'Niaomi', 'Niara', 'Niccole', 'Nichele', 'Nichelle', 'Nichol', 'Nichola', 'Nicholas', 'Nichole', 'Nicholette', 'Nicholl', 'Nicholle', 'Nicki', 'Nickie', 'Nickole', 'Nicky', 'Nico', 'Nicol', 'Nicola', 'Nicolasa', 'Nicole', 'Nicoleanne', 'Nicolemarie', 'Nicolet', 'Nicoletta', 'Nicolette', 'Nicolina', 'Nicolle', 'Nicollette', 'Nida', 'Nidhi', 'Nidia', 'Nidya', 'Niesha', 'Nieves', 'Nihan', 'Niharika', 'Nihira', 'Nijah', 'Nika', 'Nikayla', 'Nikesha', 'Nikeya', 'Nikhita', 'Niki', 'Nikia', 'Nikisha', 'Nikita', 'Nikitha', 'Nikka', 'Nikki', 'Nikkia', 'Nikkie', 'Nikkita', 'Nikkole', 'Niko', 'Nikol', 'Nikole', 'Nikolette', 'Nil', 'Nila', 'Nilah', 'Nilani', 'Nilda', 'Nile', 'Niloofar', 'Nima', 'Nimrat', 'Nimrit', 'Nina', 'Ninel', 'Ninette', 'Ninfa', 'Niobe', 'Niomi', 'Nira', 'Nirel', 'Nirvana', 'Nirvi', 'Nisa', 'Nisha', 'Nishika', 'Nishka', 'Nissa', 'Nissi', 'Nita', 'Nitara', 'Nitasha', 'Nithila', 'Nithya', 'Nitika', 'Nitya', 'Nitza', 'Niurka', 'Niva', 'Nivea', 'Niveah', 'Nivia', 'Nivisha', 'Nixie', 'Nixon', 'Niya', 'Niyah', 'Niyati', 'Niyla', 'Niylah', 'Niza', 'Nizhoni', 'Nneka', 'Noa', 'Noah', 'Noami', 'Nobu', 'Nobuko', 'Nocole', 'Noe', 'Noel', 'Noelani', 'Noeli', 'Noelia', 'Noell', 'Noella', 'Noelle', 'Noellie', 'Noelly', 'Noely', 'Noemi', 'Noemie', 'Noemy', 'Noga', 'Nohea', 'Noheli', 'Nohelia', 'Nohely', 'Nohemi', 'Nohemy', 'Nola', 'Nolani', 'Nomi', 'Nona', 'Noni', 'Nonie', 'Nonnie', 'Noor', 'Noora', 'Nora', 'Norah', 'Noralee', 'Noreen', 'Norene', 'Nori', 'Noriah', 'Noriko', 'Norine', 'Norita', 'Norma', 'Norman', 'Normani', 'Nou', 'Nour', 'Noura', 'Nova', 'Novah', 'Novalee', 'Novaleigh', 'Novalie', 'Novalynn', 'Novella', 'November', 'Noya', 'Nubia', 'Nuha', 'Nura', 'Nuri', 'Nuria', 'Nurvi', 'Nury', 'Nuvia', 'Nya', 'Nyah', 'Nyana', 'Nyanza', 'Nyari', 'Nyasia', 'Nycole', 'Nydia', 'Nyeli', 'Nyelli', 'Nyellie', 'Nyema', 'Nyemah', 'Nyesha', 'Nyima', 'Nyisha', 'Nyjah', 'Nykia', 'Nykole', 'Nyla', 'Nylah', 'Nylani', 'Nylee', 'Nyomi', 'Nyra', 'Nyree', 'Nysa', 'Nysha', 'Nyssa', 'Nyx', 'Oaklee', 'Oakleigh', 'Oakley', 'Oaklyn', 'Oaklynn', 'Oanh', 'Oasis', 'Obdulia', 'Ocean', 'Oceana', 'Oceanna', 'Octavia', 'October', 'Odalis', 'Odaliz', 'Odalys', 'Odelia', 'Odessa', 'Odette', 'Odilia', 'Odyssey', 'Ofelia', 'Ohana', 'Oksana', 'Ola', 'Olanna', 'Oleta', 'Olga', 'Oliana', 'Olimpia', 'Olina', 'Olinda', 'Oliva', 'Olive', 'Olivea', 'Olivia', 'Oliviagrace', 'Oliviah', 'Oliviamae', 'Oliviana', 'Oliviarose', 'Ollie', 'Olympia', 'Olyvia', 'Oma', 'Omar', 'Omunique', 'Ona', 'Ondine', 'Ondrea', 'Oneida', 'Onica', 'Onika', 'Onyx', 'Oona', 'Opal', 'Ophelia', 'Ora', 'Oralia', 'Ori', 'Oriana', 'Orianna', 'Orion', 'Orla', 'Orlene', 'Orly', 'Orquidea', 'Ortencia', 'Ortensia', 'Oscar', 'Osiris', 'Osmara', 'Otilia', 'Ottilie', 'Oviya', 'Owen', 'Oyuki', 'Ozzie', 'Ozzy', 'Pa', 'Pablo', 'Pachia', 'Padma', 'Paetyn', 'Page', 'Pahola', 'Pahoua', 'Paige', 'Paislee', 'Paisleigh', 'Paisley', 'Paiton', 'Paityn', 'Paitynn', 'Paizlee', 'Paizley', 'Pakou', 'Palak', 'Pallavi', 'Palma', 'Palmer', 'Palmira', 'Paloma', 'Pam', 'Pamala', 'Pamela', 'Pamelia', 'Pamella', 'Pamila', 'Pamla', 'Pandora', 'Pang', 'Panhia', 'Pansy', 'Paola', 'Paolina', 'Paradise', 'Pari', 'Paris', 'Parisa', 'Parissa', 'Parker', 'Parneet', 'Parnika', 'Parris', 'Parrish', 'Parveen', 'Pascha', 'Passion', 'Pat', 'Pati', 'Patience', 'Patrcia', 'Patrica', 'Patrice', 'Patricia', 'Patrick', 'Patrina', 'Patrisha', 'Patrisia', 'Patsie', 'Patsy', 'Patt', 'Patti', 'Pattie', 'Patty', 'Patzy', 'Paul', 'Paula', 'Paulene', 'Pauleth', 'Pauletta', 'Paulette', 'Paulina', 'Pauline', 'Paxton', 'Payal', 'Payden', 'Payge', 'Payson', 'Payten', 'Payton', 'Paytyn', 'Paz', 'Peace', 'Peaches', 'Pearl', 'Pearla', 'Pebbles', 'Pedro', 'Peg', 'Pegah', 'Peggi', 'Peggie', 'Peggy', 'Peighton', 'Pema', 'Penelope', 'Penina', 'Pennelope', 'Penney', 'Penni', 'Pennie', 'Penny', 'Pepper', 'Percilla', 'Peri', 'Perla', 'Perlita', 'Perri', 'Perris', 'Perry', 'Persephone', 'Persia', 'Peter', 'Petra', 'Petrina', 'Peyten', 'Peytin', 'Peyton', 'Phaedra', 'Phebe', 'Philicia', 'Philip', 'Philippa', 'Phillip', 'Phillis', 'Philomena', 'Phoebe', 'Phoenix', 'Phoenyx', 'Phoua', 'Phuc', 'Phung', 'Phuong', 'Phylicia', 'Phylis', 'Phyliss', 'Phyllis', 'Pia', 'Piedad', 'Pier', 'Pilar', 'Piper', 'Pippa', 'Pixie', 'Poet', 'Pola', 'Polett', 'Polette', 'Polina', 'Polly', 'Pollyanna', 'Pooja', 'Poonam', 'Poppy', 'Porcha', 'Porche', 'Porchea', 'Porscha', 'Porsche', 'Porschea', 'Porsha', 'Porshay', 'Porshia', 'Porter', 'Portia', 'Portland', 'Posey', 'Posie', 'Prabhleen', 'Prachi', 'Pragya', 'Prairie', 'Praise', 'Prajna', 'Pranathi', 'Pranavi', 'Precilla', 'Preciosa', 'Precious', 'Preet', 'Preethi', 'Preeti', 'Prerana', 'Prescilla', 'Preslee', 'Presleigh', 'Presley', 'Preslie', 'Pressley', 'Pricila', 'Pricilla', 'Primrose', 'Princesa', 'Princess', 'Princessa', 'Priscella', 'Priscila', 'Priscilla', 'Priseis', 'Prisha', 'Prisila', 'Prisilla', 'Prisma', 'Priya', 'Priyanka', 'Promise', 'Prudence', 'Puja', 'Puneet', 'Purity', 'Pyper', 'Qamar', 'Qiana', 'Quanisha', 'Queen', 'Queena', 'Queenie', 'Quetzal', 'Quetzali', 'Quetzalli', 'Quetzally', 'Quetzaly', 'Quiana', 'Quianna', 'Quin', 'Quincey', 'Quinci', 'Quincy', 'Quinlan', 'Quinley', 'Quinn', 'Quinnley', 'Quorra', 'Quyen', 'Quynh', 'Raahi', 'Rabecca', 'Rabia', 'Rachael', 'Rachal', 'Rachana', 'Racheal', 'Rachel', 'Rachelann', 'Rachelanne', 'Rachele', 'Rachell', 'Rachelle', 'Rachyl', 'Racine', 'Racquel', 'Radha', 'Radhika', 'Radiah', 'Rae', 'Raeana', 'Raeann', 'Raeanna', 'Raeanne', 'Raechel', 'Raegan', 'Rael', 'Raeleen', 'Raeleigh', 'Raelene', 'Raelin', 'Raelle', 'Raelyn', 'Raelynn', 'Raelynne', 'Raena', 'Raengel', 'Raeven', 'Raevyn', 'Raeya', 'Rafael', 'Rafaela', 'Rafaella', 'Raffaella', 'Ragan', 'Raghad', 'Raguel', 'Raha', 'Rahaf', 'Rahcel', 'Rahel', 'Rahil', 'Rahma', 'Rahwa', 'Rai', 'Raiden', 'Railey', 'Rain', 'Raina', 'Rainbow', 'Raine', 'Rainee', 'Rainey', 'Rainie', 'Raisa', 'Raissa', 'Raiya', 'Raiza', 'Raizel', 'Rajanee', 'Rajdeep', 'Rakel', 'Rakia', 'Raleigh', 'Rama', 'Ramandeep', 'Ramie', 'Ramiyah', 'Ramon', 'Ramona', 'Ramsey', 'Ramya', 'Rana', 'Ranae', 'Randa', 'Randal', 'Randall', 'Randee', 'Randi', 'Randie', 'Randy', 'Ranee', 'Raneem', 'Ranesha', 'Rani', 'Rania', 'Ranisha', 'Raniya', 'Raniyah', 'Ranya', 'Raquel', 'Raquelin', 'Raquell', 'Raquelle', 'Rashada', 'Rashanda', 'Rashaun', 'Rashawn', 'Rasheda', 'Rasheeda', 'Rasheedah', 'Rashel', 'Rashell', 'Rashelle', 'Rashida', 'Rashonda', 'Rathana', 'Raul', 'Raveena', 'Raven', 'Ravenna', 'Ravin', 'Ravina', 'Ravleen', 'Ravneet', 'Ravyn', 'Rawan', 'Ray', 'Raya', 'Rayah', 'Rayan', 'Rayana', 'Rayann', 'Rayanna', 'Rayanne', 'Raychel', 'Raychelle', 'Raye', 'Raygan', 'Rayla', 'Raylee', 'Rayleen', 'Rayleigh', 'Raylena', 'Raylene', 'Raylin', 'Raylina', 'Raylynn', 'Rayma', 'Raymond', 'Rayna', 'Rayne', 'Raynelle', 'Raynesha', 'Raynette', 'Raynisha', 'Rayonna', 'Rayshawn', 'Rayven', 'Razan', 'Rea', 'Reagan', 'Reana', 'Reann', 'Reanna', 'Reanne', 'Reannon', 'Reba', 'Rebbeca', 'Rebbecca', 'Rebeca', 'Rebecah', 'Rebecca', 'Rebeccah', 'Rebecka', 'Rebeckah', 'Rebeka', 'Rebekah', 'Rebekka', 'Rebekkah', 'Rebel', 'Rechelle', 'Reece', 'Reed', 'Reegan', 'Reem', 'Reema', 'Reena', 'Reese', 'Reet', 'Reeva', 'Reeya', 'Refugio', 'Regan', 'Regena', 'Regenia', 'Reggie', 'Reghan', 'Regina', 'Reginae', 'Reginald', 'Regine', 'Reginia', 'Rehanna', 'Rehmat', 'Rei', 'Reia', 'Reid', 'Reign', 'Reiko', 'Reiley', 'Reilly', 'Reina', 'Rekha', 'Relina', 'Rema', 'Remedy', 'Remi', 'Remie', 'Remington', 'Remmi', 'Remmie', 'Remmy', 'Remy', 'Ren', 'Rena', 'Renae', 'Renata', 'Renate', 'Renatta', 'Renay', 'Renda', 'Rene', 'Renea', 'Renee', 'Renell', 'Renesmae', 'Renesme', 'Renesmee', 'Renetta', 'Renette', 'Renie', 'Renika', 'Renisha', 'Renita', 'Renley', 'Renne', 'Rennie', 'Reonna', 'Resa', 'Reshma', 'Reta', 'Retal', 'Retha', 'Retta', 'Reva', 'Revel', 'Reverie', 'Rey', 'Reya', 'Reyanna', 'Reyes', 'Reylene', 'Reyna', 'Reynalda', 'Reyyan', 'Rhea', 'Rheana', 'Rheanna', 'Rheba', 'Rhema', 'Rheya', 'Rhian', 'Rhiana', 'Rhianna', 'Rhiannon', 'Rhianon', 'Rhiley', 'Rhina', 'Rhoda', 'Rhodora', 'Rhona', 'Rhonda', 'Rhondalyn', 'Rhonna', 'Rhyan', 'Rhylee', 'Rhylie', 'Rhylin', 'Rhys', 'Rhythm', 'Ria', 'Riah', 'Rian', 'Riana', 'Riane', 'Riann', 'Rianna', 'Riannah', 'Rianne', 'Rica', 'Ricarda', 'Ricardo', 'Ricci', 'Richa', 'Richard', 'Richele', 'Richelle', 'Rickey', 'Ricki', 'Rickie', 'Ricky', 'Rida', 'Riddhi', 'Riddhima', 'Ridhi', 'Ridhima', 'Ridley', 'Rielle', 'Rigoberto', 'Rihana', 'Rihanna', 'Rika', 'Riki', 'Rikki', 'Rilee', 'Rileigh', 'Riley', 'Rilla', 'Rilyn', 'Rilynn', 'Rima', 'Rin', 'Rina', 'Rinda', 'Rinoa', 'Rio', 'Riona', 'Riot', 'Ripley', 'Risa', 'Rise', 'Risha', 'Rishika', 'Rita', 'Rithika', 'Ritika', 'Riva', 'River', 'Riverlynn', 'Rivers', 'Rivka', 'Rivkah', 'Riya', 'Riyah', 'Riyan', 'Riyana', 'Roanne', 'Robbi', 'Robbie', 'Robbin', 'Robbyn', 'Roben', 'Robert', 'Roberta', 'Roberto', 'Robin', 'Robyn', 'Robyne', 'Robynn', 'Robynne', 'Rochel', 'Rochele', 'Rochell', 'Rochelle', 'Rocio', 'Rocky', 'Rocquel', 'Rodney', 'Rodolfo', 'Roger', 'Rogue', 'Rohini', 'Roisin', 'Rolanda', 'Rolinda', 'Roma', 'Roman', 'Romana', 'Rome', 'Romee', 'Romelia', 'Romi', 'Romie', 'Romina', 'Romona', 'Romy', 'Rona', 'Ronald', 'Ronda', 'Rondi', 'Ronee', 'Roneisha', 'Ronelle', 'Ronesha', 'Ronette', 'Roni', 'Ronica', 'Ronika', 'Ronin', 'Ronique', 'Ronisha', 'Ronit', 'Ronna', 'Ronnah', 'Ronnesha', 'Ronnette', 'Ronni', 'Ronnie', 'Ronniesha', 'Ronnisha', 'Roohi', 'Rooney', 'Rori', 'Rory', 'Rosa', 'Rosabella', 'Rosabelle', 'Rosaelena', 'Rosaicela', 'Rosaisela', 'Rosalba', 'Rosalee', 'Rosaleen', 'Rosaleigh', 'Rosali', 'Rosalia', 'Rosalie', 'Rosalin', 'Rosalina', 'Rosalind', 'Rosalinda', 'Rosaline', 'Rosalva', 'Rosaly', 'Rosalyn', 'Rosalynn', 'Rosamaria', 'Rosamond', 'Rosamund', 'Rosana', 'Rosangela', 'Rosangelica', 'Rosann', 'Rosanna', 'Rosanne', 'Rosario', 'Rosaura', 'Rosaysela', 'Rose', 'Roseana', 'Roseann', 'Roseanna', 'Roseanne', 'Roselani', 'Roselee', 'Roseleigh', 'Roselia', 'Roselie', 'Roselin', 'Roselinda', 'Roseline', 'Rosella', 'Roselle', 'Rosely', 'Roselyn', 'Roselyne', 'Roselynn', 'Rosemarie', 'Rosemary', 'Rosenda', 'Rosetta', 'Rosette', 'Rosey', 'Rosha', 'Roshanda', 'Roshawn', 'Roshell', 'Roshelle', 'Roshni', 'Roshon', 'Rosi', 'Rosibel', 'Rosicela', 'Rosie', 'Rosina', 'Rosio', 'Rosisela', 'Rosita', 'Roslyn', 'Roslynn', 'Rosmery', 'Ross', 'Rossana', 'Rosselyn', 'Rosslyn', 'Rossy', 'Rosy', 'Roux', 'Rowan', 'Rowen', 'Rowena', 'Rowyn', 'Rowynn', 'Roxan', 'Roxana', 'Roxane', 'Roxann', 'Roxanna', 'Roxanne', 'Roxi', 'Roxie', 'Roxsana', 'Roxy', 'Roy', 'Roya', 'Royal', 'Royale', 'Royalty', 'Royce', 'Rozalyn', 'Rozalynn', 'Rozanna', 'Rozanne', 'Rozlyn', 'Rozlynn', 'Rubani', 'Rubee', 'Ruben', 'Rubi', 'Rubicela', 'Rubie', 'Rubina', 'Rubit', 'Ruby', 'Rubyrose', 'Ruchi', 'Rudi', 'Rudy', 'Rue', 'Rufina', 'Ruhani', 'Ruhi', 'Rumaysa', 'Rumi', 'Runa', 'Rupa', 'Rupinder', 'Rusty', 'Rut', 'Ruth', 'Ruthann', 'Ruthanne', 'Ruthe', 'Ruthie', 'Ruthy', 'Ruvi', 'Rya', 'Ryah', 'Ryan', 'Ryane', 'Ryann', 'Ryanna', 'Ryanne', 'Ryatt', 'Ryder', 'Ryen', 'Ryenn', 'Ryhanna', 'Ryla', 'Rylan', 'Ryland', 'Rylann', 'Rylee', 'Ryleeann', 'Rylei', 'Ryleigh', 'Rylen', 'Ryley', 'Ryli', 'Rylie', 'Rylin', 'Rylinn', 'Rylyn', 'Rylynn', 'Rynn', 'Rysa', 'Saachi', 'Saadia', 'Saanjh', 'Saanvi', 'Saanvika', 'Saara', 'Saarah', 'Saavi', 'Saba', 'Sabah', 'Sabella', 'Sabina', 'Sabine', 'Sable', 'Sabra', 'Sabree', 'Sabreen', 'Sabreena', 'Sabrena', 'Sabrian', 'Sabrina', 'Sabrinna', 'Sabryna', 'Sacha', 'Sacheen', 'Sachi', 'Sachiko', 'Sada', 'Sadaf', 'Sadako', 'Sade', 'Sadee', 'Sadey', 'Sadhana', 'Sadia', 'Sadie', 'Sadiee', 'Sadira', 'Sady', 'Sadye', 'Safa', 'Safaa', 'Saffron', 'Safia', 'Safina', 'Safira', 'Safiya', 'Safiyah', 'Safiyyah', 'Sagan', 'Sage', 'Sagrario', 'Sahana', 'Sahar', 'Sahara', 'Sahasra', 'Sahian', 'Sahily', 'Sahira', 'Sahiti', 'Sahori', 'Sahra', 'Saida', 'Saidee', 'Saidy', 'Saige', 'Sailor', 'Saima', 'Saina', 'Saira', 'Saisha', 'Saiya', 'Saja', 'Sakari', 'Sakaye', 'Saki', 'Sakina', 'Sakinah', 'Sakshi', 'Sakura', 'Saleen', 'Saleena', 'Salem', 'Salena', 'Saliha', 'Salina', 'Salli', 'Sallie', 'Sally', 'Salma', 'Salome', 'Saloni', 'Salote', 'Salvador', 'Salwa', 'Sam', 'Sama', 'Samadhi', 'Samah', 'Samai', 'Samaira', 'Samaiya', 'Samanatha', 'Samanta', 'Samanth', 'Samantha', 'Samanthamarie', 'Samanthia', 'Samanvi', 'Samar', 'Samara', 'Samarah', 'Samari', 'Samaria', 'Samarra', 'Samatha', 'Samaya', 'Samayah', 'Samayra', 'Sameera', 'Samehesha', 'Samera', 'Samhita', 'Samhitha', 'Sami', 'Samia', 'Samiah', 'Samika', 'Samina', 'Samira', 'Samirah', 'Samiya', 'Samiyah', 'Sammantha', 'Sammi', 'Sammie', 'Sammy', 'Samone', 'Samra', 'Samreen', 'Samuel', 'Samya', 'Samyah', 'Samyra', 'Samyuktha', 'San', 'Sana', 'Sanaa', 'Sanae', 'Sanah', 'Sanai', 'Sanaia', 'Sanaii', 'Sanaiya', 'Sanam', 'Sanaya', 'Sanaz', 'Sandee', 'Sandeep', 'Sandhya', 'Sandi', 'Sandie', 'Sandra', 'Sandrine', 'Sandy', 'Sanem', 'Sang', 'Sania', 'Saniah', 'Sanika', 'Saniya', 'Saniyah', 'Sanjana', 'Sanjuana', 'Sanjuanita', 'Sanna', 'Sansa', 'Santa', 'Santana', 'Santiago', 'Santina', 'Santos', 'Sanvi', 'Sanvika', 'Sanvitha', 'Sanya', 'Sanyah', 'Saoirse', 'Saori', 'Saory', 'Saphira', 'Saphire', 'Sapna', 'Sapphira', 'Sapphire', 'Sara', 'Sarabeth', 'Sarafina', 'Sarah', 'Sarahann', 'Sarahgrace', 'Sarahi', 'Sarahjane', 'Sarahy', 'Sarai', 'Saraiah', 'Saraih', 'Saralee', 'Saralyn', 'Saran', 'Saranya', 'Saray', 'Saraya', 'Sarayah', 'Sarayu', 'Sareen', 'Sareena', 'Sarena', 'Sarenity', 'Sargun', 'Sarha', 'Sari', 'Saria', 'Sariah', 'Sarika', 'Sarin', 'Sarina', 'Sarine', 'Sarita', 'Sariya', 'Sariyah', 'Saron', 'Sarra', 'Sarrah', 'Saryah', 'Sascha', 'Sasha', 'Sasheen', 'Saskia', 'Sativa', 'Satori', 'Satsuki', 'Satya', 'Saul', 'Saumya', 'Saundra', 'Savana', 'Savanah', 'Savanna', 'Savannah', 'Savi', 'Savina', 'Savonna', 'Savreen', 'Savvy', 'Sawyer', 'Saya', 'Sayaka', 'Sayana', 'Sayda', 'Sayde', 'Saydee', 'Saydie', 'Sayla', 'Saylah', 'Sayler', 'Saylor', 'Sayoko', 'Sayra', 'Sayuri', 'Scarlet', 'Scarleth', 'Scarlett', 'Scarlette', 'Scarlettrose', 'Scherrie', 'Scheryl', 'Schuyler', 'Schyler', 'Scotland', 'Scotlyn', 'Scott', 'Scottie', 'Scottlyn', 'Scout', 'Seaira', 'Sean', 'Seana', 'Seaneen', 'Seanna', 'Season', 'Sebastian', 'Sebrina', 'Secilia', 'Secret', 'Sedona', 'Sedra', 'See', 'Seema', 'Seerat', 'Sefora', 'Sehaj', 'Seher', 'Seidy', 'Sejal', 'Sekani', 'Sela', 'Selah', 'Seleen', 'Seleena', 'Selena', 'Selene', 'Seleni', 'Selenia', 'Selenne', 'Seleste', 'Selia', 'Selin', 'Selina', 'Selinda', 'Seline', 'Selma', 'Semaj', 'Semira', 'Sena', 'Senaida', 'Sendi', 'Sendy', 'Seneca', 'Seng', 'Senia', 'Seniyah', 'Senna', 'Sensi', 'Senta', 'Sephora', 'September', 'Sequoia', 'Sequoyah', 'Sera', 'Serafina', 'Serah', 'Seraiah', 'Seraphina', 'Seraphine', 'Serayah', 'Sereen', 'Sereena', 'Seren', 'Serena', 'Serenah', 'Serene', 'Sereniti', 'Serenity', 'Sergio', 'Seri', 'Seriah', 'Serina', 'Serinity', 'Seriyah', 'Serly', 'Serra', 'Serrena', 'Serrina', 'Seryna', 'Setareh', 'Setayesh', 'Seth', 'Setsuko', 'Sevana', 'Sevanna', 'Seven', 'Sevilla', 'Sevyn', 'Seylah', 'Sha', 'Shaaron', 'Shabana', 'Shabnam', 'Shada', 'Shadae', 'Shade', 'Shaden', 'Shadi', 'Shadia', 'Shadonna', 'Shady', 'Shae', 'Shaela', 'Shaelyn', 'Shaelynn', 'Shaena', 'Shahd', 'Shaheen', 'Shahrzad', 'Shai', 'Shaiann', 'Shaianne', 'Shaila', 'Shailee', 'Shailene', 'Shaily', 'Shailyn', 'Shaina', 'Shaira', 'Shakia', 'Shakila', 'Shakira', 'Shakiyla', 'Shakthi', 'Shakti', 'Shala', 'Shalamar', 'Shalana', 'Shalanda', 'Shalane', 'Shalee', 'Shaleen', 'Shaleena', 'Shalena', 'Shalene', 'Shalia', 'Shalimar', 'Shalina', 'Shalini', 'Shalisa', 'Shalise', 'Shalita', 'Shaliyah', 'Shalom', 'Shalon', 'Shalonda', 'Shalyn', 'Shalynn', 'Shamara', 'Shamari', 'Shameika', 'Shameka', 'Shamia', 'Shamica', 'Shamika', 'Shamila', 'Shamira', 'Shamra', 'Shams', 'Shamya', 'Shan', 'Shana', 'Shanae', 'Shanah', 'Shanan', 'Shanay', 'Shanaya', 'Shanda', 'Shandale', 'Shandell', 'Shandi', 'Shandra', 'Shandy', 'Shane', 'Shanea', 'Shanece', 'Shanee', 'Shaneen', 'Shaneice', 'Shaneka', 'Shanel', 'Shanell', 'Shanelle', 'Shanequa', 'Shanese', 'Shanesha', 'Shanetta', 'Shanette', 'Shaney', 'Shani', 'Shania', 'Shaniah', 'Shanice', 'Shanie', 'Shaniece', 'Shanik', 'Shanika', 'Shanin', 'Shaniqua', 'Shanique', 'Shanise', 'Shanisha', 'Shanita', 'Shaniya', 'Shaniyah', 'Shanley', 'Shanna', 'Shannah', 'Shannan', 'Shannel', 'Shannell', 'Shannen', 'Shannon', 'Shannyn', 'Shanon', 'Shanta', 'Shantae', 'Shantal', 'Shantall', 'Shantay', 'Shante', 'Shantee', 'Shantel', 'Shantell', 'Shantelle', 'Shanti', 'Shanty', 'Shanvi', 'Shanya', 'Shanyn', 'Shanzay', 'Shaquille', 'Shaquita', 'Shara', 'Sharae', 'Sharah', 'Sharai', 'Sharan', 'Sharanya', 'Sharay', 'Sharaya', 'Sharayah', 'Sharda', 'Shardae', 'Shardai', 'Sharday', 'Sharde', 'Sharee', 'Shareen', 'Sharell', 'Sharen', 'Sharese', 'Sharhonda', 'Shari', 'Shariah', 'Sharice', 'Sharie', 'Sharika', 'Sharilyn', 'Sharina', 'Sharise', 'Sharissa', 'Sharisse', 'Sharita', 'Sharla', 'Sharlee', 'Sharleen', 'Sharlene', 'Sharlet', 'Sharlize', 'Sharlotte', 'Sharlyn', 'Sharmaine', 'Sharman', 'Sharnae', 'Sharnell', 'Sharol', 'Sharolyn', 'Sharon', 'Sharona', 'Sharonda', 'Sharone', 'Sharra', 'Sharrell', 'Sharri', 'Sharrie', 'Sharron', 'Sharry', 'Sharvi', 'Sharyl', 'Sharyn', 'Shasta', 'Shastelyn', 'Shastina', 'Shatara', 'Shaterra', 'Shatoya', 'Shaun', 'Shauna', 'Shaunda', 'Shaundra', 'Shauni', 'Shaunice', 'Shaunna', 'Shaunta', 'Shauntae', 'Shauntay', 'Shaunte', 'Shauntel', 'Shavaun', 'Shavon', 'Shavona', 'Shavonda', 'Shavone', 'Shavonn', 'Shavonna', 'Shavonne', 'Shawana', 'Shawanna', 'Shawn', 'Shawna', 'Shawnda', 'Shawndee', 'Shawndra', 'Shawne', 'Shawnee', 'Shawneen', 'Shawnette', 'Shawnice', 'Shawnie', 'Shawniece', 'Shawnna', 'Shawnta', 'Shawntae', 'Shawntay', 'Shawnte', 'Shawntee', 'Shawntel', 'Shawntell', 'Shay', 'Shaya', 'Shayal', 'Shayanne', 'Shayda', 'Shaye', 'Shayla', 'Shaylah', 'Shaylee', 'Shayleen', 'Shaylene', 'Shaylin', 'Shaylyn', 'Shaylynn', 'Shayna', 'Shayne', 'Shazia', 'Shea', 'Shealyn', 'Shealynn', 'Sheana', 'Sheba', 'Sheccid', 'Sheela', 'Sheena', 'Sheetal', 'Sheeva', 'Shefali', 'Sheida', 'Sheila', 'Sheilah', 'Sheilla', 'Sheily', 'Shekinah', 'Shela', 'Shelbee', 'Shelbey', 'Shelbi', 'Shelbie', 'Shelby', 'Shelena', 'Shelene', 'Sheli', 'Shelia', 'Shelina', 'Shella', 'Shellby', 'Shelle', 'Shellee', 'Shelley', 'Shelli', 'Shellie', 'Shellsea', 'Shelly', 'Shelsea', 'Shelsey', 'Shelsy', 'Shemeka', 'Shemika', 'Shena', 'Shenae', 'Shenandoah', 'Shenee', 'Shenelle', 'Sheng', 'Shenika', 'Shenise', 'Shenna', 'Shera', 'Sherah', 'Sheralyn', 'Sheran', 'Sheree', 'Shereen', 'Sherell', 'Sherelle', 'Sherene', 'Sherese', 'Sheri', 'Sherian', 'Sherice', 'Sherida', 'Sheridan', 'Sherie', 'Sherika', 'Sheril', 'Sherill', 'Sherilyn', 'Sherina', 'Sherine', 'Sherise', 'Sherisse', 'Sherita', 'Sherlene', 'Sherlin', 'Sherline', 'Sherly', 'Sherlyn', 'Sherlyne', 'Sherlynn', 'Sheron', 'Sherre', 'Sherree', 'Sherrel', 'Sherrell', 'Sherri', 'Sherrie', 'Sherril', 'Sherrill', 'Sherrilyn', 'Sherrin', 'Sherron', 'Sherry', 'Sherryl', 'Sheryl', 'Sheryle', 'Sheryll', 'Sheryn', 'Shevonne', 'Sheyanne', 'Sheyenne', 'Sheyla', 'Sheylin', 'Sheyna', 'Shia', 'Shian', 'Shiane', 'Shiann', 'Shianne', 'Shiela', 'Shigeko', 'Shila', 'Shilah', 'Shilo', 'Shiloh', 'Shilpa', 'Shina', 'Shindana', 'Shine', 'Shiori', 'Shir', 'Shira', 'Shiree', 'Shireen', 'Shirel', 'Shirelle', 'Shiri', 'Shirin', 'Shirl', 'Shirlee', 'Shirleen', 'Shirlene', 'Shirley', 'Shirlie', 'Shirly', 'Shiva', 'Shivali', 'Shivani', 'Shizu', 'Shizue', 'Shizuko', 'Shizuye', 'Shley', 'Shloka', 'Shona', 'Shonda', 'Shondra', 'Shonna', 'Shonta', 'Shontae', 'Shontay', 'Shonte', 'Shontel', 'Shontell', 'Shoshana', 'Shoshanna', 'Shoshannah', 'Shoua', 'Shraddha', 'Shravya', 'Shree', 'Shreeya', 'Shresta', 'Shreya', 'Shrinika', 'Shriya', 'Shruthi', 'Shruti', 'Shya', 'Shyan', 'Shyann', 'Shyanna', 'Shyanne', 'Shyenne', 'Shyla', 'Shylah', 'Shylee', 'Shyloh', 'Shyra', 'Sia', 'Siah', 'Siahna', 'Sian', 'Siana', 'Sianna', 'Siara', 'Siarah', 'Siarra', 'Sibyl', 'Sibylla', 'Sicily', 'Siclali', 'Siddhi', 'Sidnee', 'Sidney', 'Sidnie', 'Sidra', 'Sieanna', 'Siedah', 'Siena', 'Sienna', 'Siennah', 'Siera', 'Sierah', 'Sierra', 'Sierrah', 'Signe', 'Sigourney', 'Sigrid', 'Sila', 'Silbia', 'Silva', 'Silvana', 'Silver', 'Silvia', 'Silvina', 'Sima', 'Simar', 'Simarpreet', 'Simona', 'Simone', 'Simonne', 'Simra', 'Simran', 'Simranjit', 'Simrat', 'Simrit', 'Sina', 'Sinahi', 'Sinai', 'Sincere', 'Sinclaire', 'Sindhu', 'Sindi', 'Sindia', 'Sindy', 'Sinead', 'Sinthia', 'Sintia', 'Siobhan', 'Siomara', 'Siona', 'Sirat', 'Siren', 'Sirena', 'Sirenia', 'Siri', 'Siria', 'Sissi', 'Sissy', 'Sita', 'Sitara', 'Sitlali', 'Sitlaly', 'Sivan', 'Siya', 'Siyona', 'Skai', 'Skarlet', 'Skarlett', 'Skarlette', 'Skie', 'Sky', 'Skye', 'Skyelar', 'Skyla', 'Skylah', 'Skylar', 'Skylee', 'Skyler', 'Skylie', 'Skylin', 'Skyllar', 'Skylyn', 'Skylynn', 'Skyrah', 'Skyy', 'Slater', 'Sloan', 'Sloane', 'Sloka', 'Smantha', 'Smaya', 'Smita', 'Smrithi', 'Smriti', 'Sneha', 'Snoh', 'Snow', 'Sobeida', 'Socorro', 'Sofi', 'Sofia', 'Sofiah', 'Sofie', 'Sofija', 'Sofiya', 'Sofya', 'Soha', 'Soila', 'Sokha', 'Sokhom', 'Sol', 'Solana', 'Solange', 'Solara', 'Solash', 'Solay', 'Sole', 'Soledad', 'Soleen', 'Solei', 'Soleia', 'Soleil', 'Solene', 'Solenn', 'Solenne', 'Soliana', 'Solimar', 'Solina', 'Solmayra', 'Solstice', 'Somalia', 'Somaly', 'Somaya', 'Somer', 'Sommer', 'Sona', 'Sonakshi', 'Sonal', 'Sonali', 'Sonam', 'Sonda', 'Sondi', 'Sondra', 'Song', 'Sonia', 'Sonja', 'Sonji', 'Sonjia', 'Sonna', 'Sonnet', 'Sonny', 'Sonoma', 'Sonora', 'Sonya', 'Soo', 'Sophana', 'Sophea', 'Sopheap', 'Sophear', 'Sophi', 'Sophia', 'Sophiagrace', 'Sophiah', 'Sophiamarie', 'Sophiarose', 'Sophie', 'Sophy', 'Sophya', 'Sora', 'Soraida', 'Sorangel', 'Soraya', 'Sorayah', 'Soren', 'Soriah', 'Soriya', 'Sotheary', 'Soua', 'Soul', 'Souline', 'Soumya', 'Soyla', 'Sparkle', 'Sparrow', 'Special', 'Spencer', 'Spenser', 'Spirit', 'Spring', 'Spruha', 'Sravya', 'Sreya', 'Srija', 'Srinidhi', 'Srinika', 'Srishti', 'Sriya', 'Sruthi', 'Stacee', 'Stacey', 'Staci', 'Stacia', 'Stacie', 'Stacy', 'Stacye', 'Stanley', 'Staphanie', 'Staphany', 'Star', 'Starkisha', 'Starla', 'Starlene', 'Starlet', 'Starlett', 'Starlette', 'Starlyn', 'Starr', 'Stasha', 'Stasia', 'Stassi', 'Stefani', 'Stefania', 'Stefanie', 'Stefanny', 'Stefany', 'Steffani', 'Steffanie', 'Steffany', 'Steffi', 'Stehanie', 'Stella', 'Stellarose', 'Stepahnie', 'Stepanie', 'Stephaine', 'Stephane', 'Stephanee', 'Stephaney', 'Stephani', 'Stephania', 'Stephanie', 'Stephanieann', 'Stephannie', 'Stephanny', 'Stephany', 'Stephen', 'Stephenie', 'Stepheny', 'Stephine', 'Stephnie', 'Sterling', 'Steve', 'Stevee', 'Steven', 'Stevi', 'Stevie', 'Stori', 'Storm', 'Stormi', 'Stormie', 'Stormy', 'Story', 'Stphanie', 'Stuti', 'Sua', 'Suann', 'Suanne', 'Subrina', 'Success', 'Sucely', 'Sue', 'Sueann', 'Sueellen', 'Sueling', 'Suellen', 'Sugey', 'Suha', 'Suhana', 'Suhani', 'Suhavi', 'Suheidy', 'Suhey', 'Sujey', 'Sukari', 'Sukhman', 'Sukhmani', 'Sukhpreet', 'Suki', 'Suleima', 'Sulema', 'Suley', 'Suleyma', 'Sullivan', 'Sully', 'Sulma', 'Sumaiya', 'Sumaya', 'Sumayah', 'Sumayya', 'Sumayyah', 'Sumedha', 'Sumer', 'Sumi', 'Sumiko', 'Sumiye', 'Summer', 'Sun', 'Sundae', 'Sunday', 'Sundra', 'Sundus', 'Sunita', 'Sunni', 'Sunnie', 'Sunny', 'Sunshine', 'Suong', 'Supriya', 'Surabhi', 'Surah', 'Suraya', 'Surena', 'Suri', 'Suriah', 'Surina', 'Suriya', 'Surveen', 'Sury', 'Surya', 'Susan', 'Susana', 'Susann', 'Susanna', 'Susannah', 'Susanne', 'Susette', 'Susi', 'Susie', 'Susy', 'Sutton', 'Suvi', 'Suzan', 'Suzana', 'Suzann', 'Suzanna', 'Suzannah', 'Suzanne', 'Suzette', 'Suzi', 'Suzie', 'Suzy', 'Suzzane', 'Suzzanne', 'Suzzette', 'Svea', 'Svetlana', 'Swara', 'Swati', 'Swayze', 'Swetha', 'Syann', 'Syanna', 'Sybella', 'Sybil', 'Sydne', 'Sydnee', 'Sydney', 'Sydni', 'Sydnie', 'Syeda', 'Syliva', 'Sylvana', 'Sylvia', 'Sylvie', 'Symantha', 'Symone', 'Symphony', 'Synai', 'Syncere', 'Syndey', 'Syniah', 'Synthia', 'Syra', 'Syrah', 'Syreeta', 'Syrena', 'Syria', 'Syriah', 'Syriana', 'Tabatha', 'Tabbatha', 'Tabbitha', 'Tabetha', 'Tabita', 'Tabitha', 'Tabytha', 'Tacara', 'Tacy', 'Taegan', 'Taeko', 'Taeler', 'Taelor', 'Taelyn', 'Taelynn', 'Taeya', 'Taffy', 'Tahani', 'Tahira', 'Tahirah', 'Tahiry', 'Tahlia', 'Tahnee', 'Tai', 'Taia', 'Taija', 'Tailor', 'Taina', 'Taira', 'Tais', 'Taisha', 'Taishmara', 'Taitum', 'Taiya', 'Taiz', 'Taj', 'Taja', 'Tajah', 'Tajanae', 'Tajuana', 'Takako', 'Takara', 'Takesha', 'Takisha', 'Takiyah', 'Tal', 'Tala', 'Talar', 'Talaya', 'Talayah', 'Talea', 'Taleah', 'Taleen', 'Tali', 'Talia', 'Taliah', 'Talin', 'Talina', 'Taline', 'Talisa', 'Talise', 'Talisha', 'Talissa', 'Talitha', 'Taliya', 'Taliyah', 'Tallula', 'Tallulah', 'Talor', 'Talula', 'Talulah', 'Talya', 'Talyah', 'Talyn', 'Tam', 'Tama', 'Tamala', 'Tamana', 'Tamanika', 'Tamanna', 'Tamar', 'Tamara', 'Tamarah', 'Tamarie', 'Tamarra', 'Tamasha', 'Tamatha', 'Tamaya', 'Tamberly', 'Tambra', 'Tameca', 'Tameeka', 'Tameika', 'Tameka', 'Tamekia', 'Tameko', 'Tamela', 'Tamera', 'Tameria', 'Tamesha', 'Tami', 'Tamia', 'Tamica', 'Tamie', 'Tamieka', 'Tamika', 'Tamiko', 'Tamila', 'Tamira', 'Tamisha', 'Tamlyn', 'Tammara', 'Tammatha', 'Tammee', 'Tammera', 'Tammey', 'Tammi', 'Tammie', 'Tammra', 'Tammy', 'Tamora', 'Tamra', 'Tamre', 'Tamsen', 'Tamu', 'Tamura', 'Tamy', 'Tamya', 'Tamyra', 'Tana', 'Tanairi', 'Tanairy', 'Tanasha', 'Tanay', 'Tanaya', 'Tanda', 'Tandi', 'Tandra', 'Tandy', 'Tanea', 'Taneil', 'Taneisha', 'Taneka', 'Tanesha', 'Taneshia', 'Taneya', 'Tangela', 'Tangi', 'Tangie', 'Tani', 'Tania', 'Taniah', 'Taniesha', 'Tanika', 'Taniqua', 'Tanis', 'Tanisha', 'Tanishi', 'Tanishia', 'Tanishka', 'Taniya', 'Taniyah', 'Tanja', 'Tanna', 'Tannaz', 'Tanner', 'Tannia', 'Tannya', 'Tanveer', 'Tanvi', 'Tanya', 'Tanzania', 'Tara', 'Tarah', 'Taraji', 'Taralyn', 'Taran', 'Taraneh', 'Taren', 'Tari', 'Tariah', 'Tarin', 'Tarina', 'Tarra', 'Tarrah', 'Tarryn', 'Tarsha', 'Taryn', 'Tarynn', 'Tasha', 'Tashana', 'Tashawna', 'Tasheena', 'Tashia', 'Tashiana', 'Tashima', 'Tashina', 'Tasia', 'Tasneem', 'Tasnim', 'Tatanisha', 'Tate', 'Tatem', 'Tatevik', 'Tatia', 'Tatiana', 'Tatianna', 'Tatiyana', 'Tatjana', 'Tatsuko', 'Tatum', 'Tatyana', 'Tatyanna', 'Tauna', 'Taunya', 'Taura', 'Tauriel', 'Tausha', 'Tavia', 'Tawana', 'Tawanna', 'Tawna', 'Tawnee', 'Tawney', 'Tawni', 'Tawnia', 'Tawnie', 'Tawny', 'Tawnya', 'Taya', 'Tayah', 'Tayana', 'Tayanna', 'Tayde', 'Tayeko', 'Tayla', 'Taylar', 'Taylee', 'Taylen', 'Tayler', 'Taylin', 'Taylor', 'Taylore', 'Taylour', 'Taylyn', 'Taylynn', 'Tayna', 'Taytum', 'Tazuko', 'Tea', 'Teagan', 'Teagen', 'Teaghan', 'Teah', 'Teaira', 'Teairra', 'Teal', 'Teala', 'Teana', 'Teanna', 'Teara', 'Tearra', 'Teasha', 'Teddi', 'Teddie', 'Teddy', 'Tedi', 'Tedra', 'Teegan', 'Teela', 'Teena', 'Teera', 'Tegan', 'Tehani', 'Tehila', 'Tehya', 'Teia', 'Teigan', 'Teigen', 'Teila', 'Teisha', 'Teja', 'Telisha', 'Temeka', 'Temika', 'Temperance', 'Tempest', 'Tempestt', 'Temple', 'Temre', 'Tena', 'Tenaya', 'Tenea', 'Teneka', 'Tenesha', 'Tenia', 'Tenika', 'Tenille', 'Tenise', 'Tenisha', 'Tenley', 'Tennessee', 'Tennille', 'Tenzin', 'Teodora', 'Tequila', 'Tera', 'Terah', 'Terasa', 'Tere', 'Tereasa', 'Teresa', 'Terese', 'Teresia', 'Teresita', 'Teressa', 'Tereza', 'Teri', 'Terie', 'Terilyn', 'Terin', 'Terina', 'Terisa', 'Terra', 'Terre', 'Terrea', 'Terrell', 'Terren', 'Terresa', 'Terri', 'Terrie', 'Terrill', 'Terrilyn', 'Terrisa', 'Terrisha', 'Terry', 'Terryl', 'Terryn', 'Teruko', 'Teryl', 'Teryn', 'Tesa', 'Tesha', 'Teshia', 'Tesia', 'Tesla', 'Tess', 'Tessa', 'Tessie', 'Teya', 'Teyanna', 'Teyla', 'Teylor', 'Thaily', 'Thais', 'Thalia', 'Thamara', 'Thanh', 'Thania', 'Thanya', 'Thao', 'Thavy', 'Thea', 'Theadora', 'Theda', 'Theia', 'Thelma', 'Theo', 'Theodora', 'Theresa', 'Therese', 'Theresia', 'Theressa', 'Thersa', 'Thi', 'Thien', 'Thomas', 'Thomasina', 'Thora', 'Thresa', 'Thu', 'Thuan', 'Thuy', 'Thuytien', 'Thy', 'Tia', 'Tiahna', 'Tiaira', 'Tiana', 'Tianah', 'Tiani', 'Tianna', 'Tianne', 'Tiara', 'Tiarah', 'Tiare', 'Tiarra', 'Tiauna', 'Tichina', 'Tien', 'Tiera', 'Tierney', 'Tierra', 'Tiesha', 'Tifani', 'Tifanie', 'Tifanny', 'Tifany', 'Tiffanee', 'Tiffaney', 'Tiffani', 'Tiffanie', 'Tiffany', 'Tiffanyann', 'Tiffeny', 'Tiffiany', 'Tiffiney', 'Tiffini', 'Tiffinie', 'Tiffiny', 'Tiffney', 'Tigerlily', 'Tijera', 'Tika', 'Tikisha', 'Tila', 'Tilda', 'Tillie', 'Tilly', 'Timberly', 'Timi', 'Timia', 'Timika', 'Timisha', 'Timmie', 'Timothy', 'Tina', 'Tinamarie', 'Tinesha', 'Tinisha', 'Tinley', 'Tinna', 'Tinsley', 'Tiny', 'Tiona', 'Tionna', 'Tionne', 'Tiphani', 'Tiphanie', 'Tippi', 'Tira', 'Tirzah', 'Tisa', 'Tish', 'Tisha', 'Titiana', 'Titianna', 'Tiya', 'Tiyana', 'Tkeyah', 'Tobey', 'Tobi', 'Tobie', 'Toby', 'Toccara', 'Todd', 'Toi', 'Tokie', 'Tomasa', 'Tomasita', 'Tomeka', 'Tomi', 'Tomika', 'Tomiko', 'Tomisha', 'Tommi', 'Tommie', 'Tommy', 'Tomoko', 'Tona', 'Tonantzin', 'Tonda', 'Tonette', 'Toni', 'Tonia', 'Tonie', 'Tonika', 'Tonisha', 'Tonja', 'Tonna', 'Tonnette', 'Tonnie', 'Tony', 'Tonya', 'Topacio', 'Topanga', 'Tora', 'Toree', 'Torey', 'Tori', 'Toriana', 'Torie', 'Torrance', 'Torrey', 'Torri', 'Torrie', 'Torvi', 'Tory', 'Tosca', 'Tosha', 'Toshi', 'Toshia', 'Toshiba', 'Toshie', 'Toshiko', 'Toshiye', 'Tova', 'Tovah', 'Toy', 'Toya', 'Toyoko', 'Trace', 'Tracee', 'Tracey', 'Traci', 'Tracia', 'Tracie', 'Tracy', 'Tracye', 'Tram', 'Tramaine', 'Tran', 'Trang', 'Tranisha', 'Travis', 'Treanna', 'Treasa', 'Treasure', 'Treena', 'Trena', 'Trenisha', 'Trenity', 'Trenna', 'Tresa', 'Trese', 'Tresha', 'Tressa', 'Tressie', 'Treva', 'Trevor', 'Tria', 'Triana', 'Trianna', 'Tricia', 'Trina', 'Trinette', 'Trinh', 'Trini', 'Trinidad', 'Trinidy', 'Trinitee', 'Triniti', 'Trinity', 'Trish', 'Trisha', 'Trishia', 'Trista', 'Tristan', 'Tristen', 'Tristin', 'Tristina', 'Tristine', 'Tristyn', 'Tritia', 'Trixie', 'Troi', 'Troy', 'Troylene', 'Tru', 'Truc', 'Trude', 'Trudi', 'Trudie', 'Trudy', 'True', 'Trulee', 'Truly', 'Truth', 'Trynity', 'Tsuyako', 'Tu', 'Tuesday', 'Tula', 'Tulsi', 'Tunisia', 'Tuongvi', 'Turquoise', 'Tuyen', 'Tuyet', 'Tvisha', 'Twana', 'Twanna', 'Twila', 'Twisha', 'Twyla', 'Tya', 'Tyana', 'Tyanna', 'Tyara', 'Tyeisha', 'Tyesha', 'Tyeshia', 'Tyiesha', 'Tyisha', 'Tyla', 'Tylar', 'Tyleah', 'Tylee', 'Tylene', 'Tyler', 'Tylie', 'Tylor', 'Tylyn', 'Tyna', 'Tyneisha', 'Tynesha', 'Tynisa', 'Tynisha', 'Tyra', 'Tyrah', 'Tyree', 'Tyresha', 'Tyrisha', 'Tyronda', 'Tysha', 'Tytiana', 'Ulani', 'Ulanni', 'Uliana', 'Ulyana', 'Ulyssa', 'Uma', 'Umaiza', 'Umi', 'Una', 'Unique', 'Unity', 'Unknown', 'Uriah', 'Uriel', 'Uriyah', 'Ursula', 'Urvi', 'Uyen', 'Vaani', 'Vaanya', 'Vada', 'Vaeda', 'Vaida', 'Vail', 'Vaishnavi', 'Val', 'Valarie', 'Valda', 'Vale', 'Valen', 'Valencia', 'Valency', 'Valene', 'Valentina', 'Valentine', 'Valeri', 'Valeria', 'Valerie', 'Valery', 'Valerya', 'Valerye', 'Valeska', 'Valinda', 'Valisa', 'Valkyrie', 'Vallerie', 'Vallery', 'Valli', 'Vallorie', 'Valorie', 'Vamika', 'Van', 'Vana', 'Vanda', 'Vandy', 'Vanellope', 'Vanesa', 'Vanesha', 'Vaness', 'Vanessa', 'Vanessamarie', 'Vanetta', 'Vaneza', 'Vanezza', 'Vangie', 'Vani', 'Vania', 'Vanisha', 'Vanita', 'Vanity', 'Vanna', 'Vannary', 'Vannesa', 'Vannessa', 'Vannia', 'Vanshika', 'Vanya', 'Varnika', 'Varsha', 'Varshini', 'Vashti', 'Vasilisa', 'Vasthi', 'Vasti', 'Vaughn', 'Vayda', 'Veda', 'Vedha', 'Vedika', 'Veeksha', 'Veena', 'Veera', 'Vega', 'Vela', 'Velda', 'Velen', 'Velia', 'Velina', 'Velinda', 'Vella', 'Velma', 'Velta', 'Velva', 'Velvet', 'Vena', 'Venba', 'Venecia', 'Venesa', 'Venessa', 'Venetia', 'Venezia', 'Venice', 'Venicia', 'Venise', 'Venita', 'Venus', 'Vera', 'Verania', 'Verda', 'Verena', 'Verenice', 'Verenis', 'Verenise', 'Veridiana', 'Verity', 'Verla', 'Verna', 'Vernell', 'Vernetta', 'Vernice', 'Vernita', 'Verona', 'Veroncia', 'Veronica', 'Veronika', 'Veronique', 'Vesper', 'Vesta', 'Veta', 'Veyda', 'Vi', 'Via', 'Viana', 'Vianca', 'Vianet', 'Vianey', 'Vianka', 'Vianna', 'Vianne', 'Vianney', 'Vibha', 'Vibiana', 'Vicci', 'Vicenta', 'Vichelle', 'Vickey', 'Vicki', 'Vickie', 'Vicktoria', 'Vicky', 'Victor', 'Victoria', 'Victory', 'Victorya', 'Vida', 'Vidalia', 'Videl', 'Vidhi', 'Vidushi', 'Vielka', 'Vienna', 'Viha', 'Vihaana', 'Vihana', 'Vika', 'Viki', 'Vikki', 'Viktoria', 'Vilma', 'Vina', 'Vincent', 'Viola', 'Violet', 'Violeta', 'Violett', 'Violetta', 'Violette', 'Virdiana', 'Virgie', 'Virgina', 'Virginia', 'Viridiana', 'Virjinia', 'Virna', 'Vita', 'Vitalia', 'Vittoria', 'Viva', 'Viveca', 'Vivi', 'Vivia', 'Vivian', 'Viviana', 'Viviane', 'Viviann', 'Vivianna', 'Vivianne', 'Vivica', 'Vivien', 'Vivienne', 'Vivika', 'Vivyana', 'Viyona', 'Vonda', 'Vonetta', 'Vonna', 'Vonnie', 'Vrinda', 'Vy', 'Walker', 'Wanda', 'Wannetta', 'Waverly', 'Waynisha', 'Wednesday', 'Wenda', 'Wende', 'Wendee', 'Wendi', 'Wendie', 'Wendolyn', 'Wendy', 'Wenona', 'Wenonah', 'Wesley', 'Weslie', 'Weslyn', 'Weslynn', 'Westlyn', 'Whisper', 'Whitley', 'Whitnee', 'Whitney', 'Whitnie', 'Whittney', 'Wilda', 'Wilder', 'Wiley', 'Wilhelmina', 'Willa', 'Willamina', 'Willette', 'William', 'Willie', 'Willow', 'Wilma', 'Windi', 'Windie', 'Windsor', 'Windy', 'Winifred', 'Winnie', 'Winnifred', 'Winona', 'Winry', 'Winslow', 'Winter', 'Wisdom', 'Witney', 'Wren', 'Wrenlee', 'Wrenley', 'Wrenly', 'Wrenn', 'Wyatt', 'Wylie', 'Wynn', 'Wynne', 'Wynona', 'Wynonna', 'Wynter', 'Xaila', 'Xan', 'Xandria', 'Xara', 'Xareni', 'Xaria', 'Xavier', 'Xaviera', 'Xayah', 'Xcaret', 'Xee', 'Xela', 'Xena', 'Xenia', 'Xenovia', 'Xia', 'Xiadani', 'Xiamara', 'Xiana', 'Xianna', 'Xiclaly', 'Xilenia', 'Ximena', 'Ximenna', 'Xinyi', 'Xiomara', 'Xitlali', 'Xitlalic', 'Xitlalli', 'Xitlally', 'Xitlaly', 'Xitllali', 'Xochi', 'Xochil', 'Xochilt', 'Xochilth', 'Xochitl', 'Xoe', 'Xoey', 'Xolani', 'Xotchil', 'Xuan', 'Xyla', 'Xylah', 'Xylia', 'Xylina', 'Xymena', 'Yadhira', 'Yadira', 'Yadria', 'Yaeko', 'Yael', 'Yahaira', 'Yahayra', 'Yahir', 'Yahira', 'Yahritza', 'Yailin', 'Yailyn', 'Yaindhi', 'Yaira', 'Yaire', 'Yairis', 'Yaiza', 'Yajahira', 'Yajaira', 'Yajayra', 'Yakelin', 'Yakeline', 'Yakira', 'Yalda', 'Yalitza', 'Yalonda', 'Yameli', 'Yamila', 'Yamile', 'Yamilet', 'Yamileth', 'Yamilett', 'Yamilette', 'Yamilex', 'Yaminah', 'Yamna', 'Yana', 'Yanai', 'Yanay', 'Yancy', 'Yanel', 'Yaneli', 'Yanell', 'Yanelli', 'Yanelly', 'Yanely', 'Yanessa', 'Yanet', 'Yaneth', 'Yanett', 'Yanette', 'Yang', 'Yani', 'Yanilen', 'Yanin', 'Yanina', 'Yanine', 'Yanira', 'Yanitza', 'Yanna', 'Yannely', 'Yannis', 'Yaquelin', 'Yaqueline', 'Yaquelyn', 'Yara', 'Yared', 'Yarel', 'Yareli', 'Yarelie', 'Yarelin', 'Yarelli', 'Yarelly', 'Yarely', 'Yarelyn', 'Yaremi', 'Yareni', 'Yareth', 'Yarethzi', 'Yarethzy', 'Yaretsi', 'Yaretsy', 'Yaretzi', 'Yaretzie', 'Yaretzy', 'Yarexi', 'Yari', 'Yaribeth', 'Yaricza', 'Yarima', 'Yaris', 'Yarisbel', 'Yarisbeth', 'Yarishna', 'Yarissa', 'Yarithza', 'Yaritza', 'Yaritzel', 'Yaritzi', 'Yaritzy', 'Yarixa', 'Yasaman', 'Yasamin', 'Yasemin', 'Yashica', 'Yashika', 'Yashvi', 'Yaslin', 'Yasmeen', 'Yasmen', 'Yasmin', 'Yasmina', 'Yasmine', 'Yasna', 'Yasuko', 'Yatana', 'Yatzari', 'Yatzil', 'Yatziri', 'Yatziry', 'Yaxeni', 'Yayeko', 'Yayoi', 'Yazaira', 'Yazleen', 'Yazlin', 'Yazlyn', 'Yazmeen', 'Yazmin', 'Yazmine', 'Yecenia', 'Yee', 'Yehudis', 'Yeila', 'Yeilin', 'Yeimi', 'Yeimy', 'Yeira', 'Yelena', 'Yelitza', 'Yemaya', 'Yen', 'Yena', 'Yeneisy', 'Yeng', 'Yeni', 'Yenia', 'Yenifer', 'Yenna', 'Yennifer', 'Yenny', 'Yer', 'Yeraldin', 'Yerania', 'Yesenia', 'Yesica', 'Yeslin', 'Yesmin', 'Yessenia', 'Yessica', 'Yetzali', 'Yeva', 'Yevette', 'Yexalen', 'Yezenia', 'Yicel', 'Yihan', 'Yilda', 'Yilia', 'Yilin', 'Ying', 'Yinuo', 'Yisel', 'Yissel', 'Yiyi', 'Yizel', 'Yizza', 'Yliana', 'Ymani', 'Ynez', 'Yoali', 'Yoana', 'Yoandra', 'Yoanna', 'Yoatzi', 'Yobana', 'Yocelin', 'Yoceline', 'Yocelyn', 'Yocelyne', 'Yocheved', 'Yohana', 'Yohanna', 'Yoko', 'Yolanda', 'Yolando', 'Yolette', 'Yolonda', 'Yoltzin', 'Yomaira', 'Yomara', 'Yomayra', 'Yomira', 'Yoneko', 'Yorley', 'Yoselin', 'Yoseline', 'Yoselyn', 'Yoshi', 'Yoshie', 'Yoshiko', 'Yoshimi', 'Yoshiye', 'Yosra', 'Yosselin', 'Yosselyn', 'Youa', 'Youlanda', 'Young', 'Yousra', 'Yovana', 'Yovanna', 'Yoyo', 'Ysabel', 'Ysabella', 'Ysabelle', 'Ysamar', 'Ysenia', 'Ytzel', 'Yu', 'Yudany', 'Yudith', 'Yue', 'Yuhan', 'Yui', 'Yuka', 'Yukari', 'Yuki', 'Yukiko', 'Yukiye', 'Yuko', 'Yulanda', 'Yuleimy', 'Yuli', 'Yulia', 'Yuliana', 'Yulianna', 'Yulie', 'Yuliet', 'Yulieth', 'Yulisa', 'Yulissa', 'Yulitza', 'Yuliza', 'Yuma', 'Yumalai', 'Yumalay', 'Yumi', 'Yumiko', 'Yumna', 'Yuna', 'Yunuen', 'Yurani', 'Yurany', 'Yuri', 'Yuriana', 'Yurico', 'Yuridia', 'Yuridiana', 'Yuriko', 'Yuritza', 'Yuritzi', 'Yuritzy', 'Yury', 'Yusra', 'Yutong', 'Yuval', 'Yuvia', 'Yuxi', 'Yvanna', 'Yvett', 'Yvette', 'Yvonna', 'Yvonne', 'Yvonnie', 'Yzabel', 'Yzabella', 'Yzabelle', 'Zaara', 'Zabdi', 'Zabrina', 'Zachary', 'Zada', 'Zadie', 'Zaela', 'Zahara', 'Zahava', 'Zahira', 'Zahra', 'Zahraa', 'Zahrah', 'Zaia', 'Zaiah', 'Zaida', 'Zaidee', 'Zaidy', 'Zaila', 'Zailey', 'Zailyn', 'Zaina', 'Zainab', 'Zainah', 'Zaira', 'Zairah', 'Zaire', 'Zaiya', 'Zaiyah', 'Zakia', 'Zakiah', 'Zakiya', 'Zakiyah', 'Zakiyyah', 'Zala', 'Zalaya', 'Zalayah', 'Zalina', 'Zaliyah', 'Zalma', 'Zamantha', 'Zamara', 'Zamari', 'Zamaya', 'Zamiah', 'Zamira', 'Zamirah', 'Zamiyah', 'Zamora', 'Zamya', 'Zamyra', 'Zana', 'Zanaya', 'Zanayah', 'Zandra', 'Zaneta', 'Zanetta', 'Zania', 'Zaniah', 'Zaniya', 'Zaniyah', 'Zanna', 'Zara', 'Zarah', 'Zarahi', 'Zarai', 'Zaraya', 'Zarayah', 'Zareen', 'Zareena', 'Zarela', 'Zari', 'Zaria', 'Zariah', 'Zarina', 'Zariya', 'Zariyah', 'Zarria', 'Zarya', 'Zaryah', 'Zavannah', 'Zaya', 'Zayah', 'Zayana', 'Zayda', 'Zaydee', 'Zayla', 'Zaylah', 'Zaylani', 'Zaylee', 'Zaylie', 'Zaylynn', 'Zayna', 'Zaynab', 'Zaynah', 'Zayra', 'Zazie', 'Zeba', 'Zeena', 'Zeenat', 'Zehra', 'Zeina', 'Zeinab', 'Zelda', 'Zelena', 'Zelene', 'Zelia', 'Zelie', 'Zella', 'Zelma', 'Zeltzin', 'Zemira', 'Zemirah', 'Zen', 'Zena', 'Zenab', 'Zenaida', 'Zenaya', 'Zendaya', 'Zenia', 'Zeniah', 'Zeniyah', 'Zenobia', 'Zephaniah', 'Zephyr', 'Zeppelin', 'Zeriah', 'Zeya', 'Zeynep', 'Zhane', 'Zharia', 'Zhavia', 'Zhuri', 'Zia', 'Ziah', 'Ziana', 'Zianna', 'Zienna', 'Ziggy', 'Zimal', 'Zina', 'Zinnia', 'Zion', 'Ziona', 'Zipporah', 'Zita', 'Zitlali', 'Zitlalic', 'Zitlalli', 'Zitlaly', 'Ziva', 'Zixuan', 'Ziya', 'Ziyah', 'Zlata', 'Zoe', 'Zoee', 'Zoei', 'Zoejane', 'Zoella', 'Zoelle', 'Zoey', 'Zofia', 'Zoha', 'Zohal', 'Zohar', 'Zohemy', 'Zohra', 'Zoie', 'Zoila', 'Zola', 'Zona', 'Zonia', 'Zooey', 'Zophia', 'Zora', 'Zoraida', 'Zoraya', 'Zoriah', 'Zosia', 'Zoua', 'Zowie', 'Zoya', 'Zula', 'Zulay', 'Zuleica', 'Zuleidy', 'Zuleika', 'Zuleima', 'Zulema', 'Zuley', 'Zuleyka', 'Zuleyma', 'Zully', 'Zulma', 'Zuly', 'Zunaira', 'Zuni', 'Zuri', 'Zuria', 'Zuriel', 'Zurisadai', 'Zury', 'Zuzu', 'Zya', 'Zyah', 'Zyana', 'Zyanna', 'Zyanya', 'Zyla', 'Zylah', 'Zyra', 'Zyrah'])"
      ]
     },
     "execution_count": 27,
     "metadata": {},
     "output_type": "execute_result"
    }
   ],
   "source": [
    "fem_babynames.groupby('Name').groups.keys()"
   ]
  },
  {
   "cell_type": "code",
   "execution_count": 28,
   "metadata": {},
   "outputs": [
    {
     "data": {
      "text/html": [
       "<div>\n",
       "<style scoped>\n",
       "    .dataframe tbody tr th:only-of-type {\n",
       "        vertical-align: middle;\n",
       "    }\n",
       "\n",
       "    .dataframe tbody tr th {\n",
       "        vertical-align: top;\n",
       "    }\n",
       "\n",
       "    .dataframe thead th {\n",
       "        text-align: right;\n",
       "    }\n",
       "</style>\n",
       "<table border=\"1\" class=\"dataframe\">\n",
       "  <thead>\n",
       "    <tr style=\"text-align: right;\">\n",
       "      <th></th>\n",
       "      <th>State</th>\n",
       "      <th>Sex</th>\n",
       "      <th>Year</th>\n",
       "      <th>Name</th>\n",
       "      <th>Count</th>\n",
       "    </tr>\n",
       "  </thead>\n",
       "  <tbody>\n",
       "    <tr>\n",
       "      <th>41</th>\n",
       "      <td>CA</td>\n",
       "      <td>F</td>\n",
       "      <td>1910</td>\n",
       "      <td>Clara</td>\n",
       "      <td>37</td>\n",
       "    </tr>\n",
       "    <tr>\n",
       "      <th>292</th>\n",
       "      <td>CA</td>\n",
       "      <td>F</td>\n",
       "      <td>1911</td>\n",
       "      <td>Clara</td>\n",
       "      <td>29</td>\n",
       "    </tr>\n",
       "    <tr>\n",
       "      <th>529</th>\n",
       "      <td>CA</td>\n",
       "      <td>F</td>\n",
       "      <td>1912</td>\n",
       "      <td>Clara</td>\n",
       "      <td>52</td>\n",
       "    </tr>\n",
       "    <tr>\n",
       "      <th>842</th>\n",
       "      <td>CA</td>\n",
       "      <td>F</td>\n",
       "      <td>1913</td>\n",
       "      <td>Clara</td>\n",
       "      <td>55</td>\n",
       "    </tr>\n",
       "    <tr>\n",
       "      <th>1193</th>\n",
       "      <td>CA</td>\n",
       "      <td>F</td>\n",
       "      <td>1914</td>\n",
       "      <td>Clara</td>\n",
       "      <td>49</td>\n",
       "    </tr>\n",
       "    <tr>\n",
       "      <th>...</th>\n",
       "      <td>...</td>\n",
       "      <td>...</td>\n",
       "      <td>...</td>\n",
       "      <td>...</td>\n",
       "      <td>...</td>\n",
       "    </tr>\n",
       "    <tr>\n",
       "      <th>221348</th>\n",
       "      <td>CA</td>\n",
       "      <td>F</td>\n",
       "      <td>2018</td>\n",
       "      <td>Clara</td>\n",
       "      <td>235</td>\n",
       "    </tr>\n",
       "    <tr>\n",
       "      <th>225033</th>\n",
       "      <td>CA</td>\n",
       "      <td>F</td>\n",
       "      <td>2019</td>\n",
       "      <td>Clara</td>\n",
       "      <td>241</td>\n",
       "    </tr>\n",
       "    <tr>\n",
       "      <th>228687</th>\n",
       "      <td>CA</td>\n",
       "      <td>F</td>\n",
       "      <td>2020</td>\n",
       "      <td>Clara</td>\n",
       "      <td>229</td>\n",
       "    </tr>\n",
       "    <tr>\n",
       "      <th>232341</th>\n",
       "      <td>CA</td>\n",
       "      <td>F</td>\n",
       "      <td>2021</td>\n",
       "      <td>Clara</td>\n",
       "      <td>195</td>\n",
       "    </tr>\n",
       "    <tr>\n",
       "      <th>236013</th>\n",
       "      <td>CA</td>\n",
       "      <td>F</td>\n",
       "      <td>2022</td>\n",
       "      <td>Clara</td>\n",
       "      <td>186</td>\n",
       "    </tr>\n",
       "  </tbody>\n",
       "</table>\n",
       "<p>113 rows × 5 columns</p>\n",
       "</div>"
      ],
      "text/plain": [
       "       State Sex  Year   Name  Count\n",
       "41        CA   F  1910  Clara     37\n",
       "292       CA   F  1911  Clara     29\n",
       "529       CA   F  1912  Clara     52\n",
       "842       CA   F  1913  Clara     55\n",
       "1193      CA   F  1914  Clara     49\n",
       "...      ...  ..   ...    ...    ...\n",
       "221348    CA   F  2018  Clara    235\n",
       "225033    CA   F  2019  Clara    241\n",
       "228687    CA   F  2020  Clara    229\n",
       "232341    CA   F  2021  Clara    195\n",
       "236013    CA   F  2022  Clara    186\n",
       "\n",
       "[113 rows x 5 columns]"
      ]
     },
     "execution_count": 28,
     "metadata": {},
     "output_type": "execute_result"
    }
   ],
   "source": [
    "claras = fem_babynames.groupby('Name').get_group('Clara')\n",
    "claras"
   ]
  },
  {
   "cell_type": "markdown",
   "metadata": {},
   "source": [
    "Separar el grupo de clara por decadas \n",
    "\n",
    "calcular el total de claras por decada\n",
    "\n",
    "calcular el promedio de claras por decada"
   ]
  },
  {
   "cell_type": "code",
   "execution_count": 29,
   "metadata": {},
   "outputs": [
    {
     "data": {
      "text/plain": [
       "[1910, 1920, 1930, 1940, 1950, 1960, 1970, 1980, 1990, 2000, 2010, 2020]"
      ]
     },
     "execution_count": 29,
     "metadata": {},
     "output_type": "execute_result"
    }
   ],
   "source": [
    "decades = list(range(1910, 2022, 10))\n",
    "decades"
   ]
  },
  {
   "cell_type": "code",
   "execution_count": 30,
   "metadata": {},
   "outputs": [
    {
     "data": {
      "text/html": [
       "<div>\n",
       "<style scoped>\n",
       "    .dataframe tbody tr th:only-of-type {\n",
       "        vertical-align: middle;\n",
       "    }\n",
       "\n",
       "    .dataframe tbody tr th {\n",
       "        vertical-align: top;\n",
       "    }\n",
       "\n",
       "    .dataframe thead th {\n",
       "        text-align: right;\n",
       "    }\n",
       "</style>\n",
       "<table border=\"1\" class=\"dataframe\">\n",
       "  <thead>\n",
       "    <tr style=\"text-align: right;\">\n",
       "      <th></th>\n",
       "      <th>State</th>\n",
       "      <th>Sex</th>\n",
       "      <th>Year</th>\n",
       "      <th>Name</th>\n",
       "      <th>Count</th>\n",
       "    </tr>\n",
       "  </thead>\n",
       "  <tbody>\n",
       "    <tr>\n",
       "      <th>41</th>\n",
       "      <td>CA</td>\n",
       "      <td>F</td>\n",
       "      <td>1910</td>\n",
       "      <td>Clara</td>\n",
       "      <td>37</td>\n",
       "    </tr>\n",
       "    <tr>\n",
       "      <th>292</th>\n",
       "      <td>CA</td>\n",
       "      <td>F</td>\n",
       "      <td>1911</td>\n",
       "      <td>Clara</td>\n",
       "      <td>29</td>\n",
       "    </tr>\n",
       "    <tr>\n",
       "      <th>529</th>\n",
       "      <td>CA</td>\n",
       "      <td>F</td>\n",
       "      <td>1912</td>\n",
       "      <td>Clara</td>\n",
       "      <td>52</td>\n",
       "    </tr>\n",
       "    <tr>\n",
       "      <th>842</th>\n",
       "      <td>CA</td>\n",
       "      <td>F</td>\n",
       "      <td>1913</td>\n",
       "      <td>Clara</td>\n",
       "      <td>55</td>\n",
       "    </tr>\n",
       "    <tr>\n",
       "      <th>1193</th>\n",
       "      <td>CA</td>\n",
       "      <td>F</td>\n",
       "      <td>1914</td>\n",
       "      <td>Clara</td>\n",
       "      <td>49</td>\n",
       "    </tr>\n",
       "    <tr>\n",
       "      <th>1543</th>\n",
       "      <td>CA</td>\n",
       "      <td>F</td>\n",
       "      <td>1915</td>\n",
       "      <td>Clara</td>\n",
       "      <td>82</td>\n",
       "    </tr>\n",
       "    <tr>\n",
       "      <th>2000</th>\n",
       "      <td>CA</td>\n",
       "      <td>F</td>\n",
       "      <td>1916</td>\n",
       "      <td>Clara</td>\n",
       "      <td>87</td>\n",
       "    </tr>\n",
       "    <tr>\n",
       "      <th>2477</th>\n",
       "      <td>CA</td>\n",
       "      <td>F</td>\n",
       "      <td>1917</td>\n",
       "      <td>Clara</td>\n",
       "      <td>81</td>\n",
       "    </tr>\n",
       "    <tr>\n",
       "      <th>2955</th>\n",
       "      <td>CA</td>\n",
       "      <td>F</td>\n",
       "      <td>1918</td>\n",
       "      <td>Clara</td>\n",
       "      <td>86</td>\n",
       "    </tr>\n",
       "    <tr>\n",
       "      <th>3463</th>\n",
       "      <td>CA</td>\n",
       "      <td>F</td>\n",
       "      <td>1919</td>\n",
       "      <td>Clara</td>\n",
       "      <td>89</td>\n",
       "    </tr>\n",
       "  </tbody>\n",
       "</table>\n",
       "</div>"
      ],
      "text/plain": [
       "     State Sex  Year   Name  Count\n",
       "41      CA   F  1910  Clara     37\n",
       "292     CA   F  1911  Clara     29\n",
       "529     CA   F  1912  Clara     52\n",
       "842     CA   F  1913  Clara     55\n",
       "1193    CA   F  1914  Clara     49\n",
       "1543    CA   F  1915  Clara     82\n",
       "2000    CA   F  1916  Clara     87\n",
       "2477    CA   F  1917  Clara     81\n",
       "2955    CA   F  1918  Clara     86\n",
       "3463    CA   F  1919  Clara     89"
      ]
     },
     "execution_count": 30,
     "metadata": {},
     "output_type": "execute_result"
    }
   ],
   "source": [
    "claras[(claras['Year'] >= decades[0]) & (claras['Year'] < decades[0]+10)]"
   ]
  },
  {
   "cell_type": "code",
   "execution_count": 46,
   "metadata": {},
   "outputs": [
    {
     "data": {
      "text/plain": [
       "{1910: 647,\n",
       " 1920: 896,\n",
       " 1930: 685,\n",
       " 1940: 602,\n",
       " 1950: 602,\n",
       " 1960: 449,\n",
       " 1970: 390,\n",
       " 1980: 534,\n",
       " 1990: 1022,\n",
       " 2000: 1289,\n",
       " 2010: 2110,\n",
       " 2020: 610}"
      ]
     },
     "execution_count": 46,
     "metadata": {},
     "output_type": "execute_result"
    }
   ],
   "source": [
    "claras_decades = {}\n",
    "for decade in range(len(decades)):\n",
    "    claras_decades[decades[decade]] = (claras[(claras['Year'] >= decades[decade]) & (claras['Year'] < decades[decade]+10)])['Count'].sum()\n",
    "claras_decades"
   ]
  },
  {
   "cell_type": "code",
   "execution_count": 64,
   "metadata": {},
   "outputs": [
    {
     "data": {
      "text/html": [
       "<div>\n",
       "<style scoped>\n",
       "    .dataframe tbody tr th:only-of-type {\n",
       "        vertical-align: middle;\n",
       "    }\n",
       "\n",
       "    .dataframe tbody tr th {\n",
       "        vertical-align: top;\n",
       "    }\n",
       "\n",
       "    .dataframe thead th {\n",
       "        text-align: right;\n",
       "    }\n",
       "</style>\n",
       "<table border=\"1\" class=\"dataframe\">\n",
       "  <thead>\n",
       "    <tr style=\"text-align: right;\">\n",
       "      <th></th>\n",
       "      <th>Decade</th>\n",
       "      <th>Count</th>\n",
       "    </tr>\n",
       "  </thead>\n",
       "  <tbody>\n",
       "    <tr>\n",
       "      <th>0</th>\n",
       "      <td>1910</td>\n",
       "      <td>647</td>\n",
       "    </tr>\n",
       "    <tr>\n",
       "      <th>1</th>\n",
       "      <td>1920</td>\n",
       "      <td>896</td>\n",
       "    </tr>\n",
       "    <tr>\n",
       "      <th>2</th>\n",
       "      <td>1930</td>\n",
       "      <td>685</td>\n",
       "    </tr>\n",
       "    <tr>\n",
       "      <th>3</th>\n",
       "      <td>1940</td>\n",
       "      <td>602</td>\n",
       "    </tr>\n",
       "    <tr>\n",
       "      <th>4</th>\n",
       "      <td>1950</td>\n",
       "      <td>602</td>\n",
       "    </tr>\n",
       "    <tr>\n",
       "      <th>5</th>\n",
       "      <td>1960</td>\n",
       "      <td>449</td>\n",
       "    </tr>\n",
       "    <tr>\n",
       "      <th>6</th>\n",
       "      <td>1970</td>\n",
       "      <td>390</td>\n",
       "    </tr>\n",
       "    <tr>\n",
       "      <th>7</th>\n",
       "      <td>1980</td>\n",
       "      <td>534</td>\n",
       "    </tr>\n",
       "    <tr>\n",
       "      <th>8</th>\n",
       "      <td>1990</td>\n",
       "      <td>1022</td>\n",
       "    </tr>\n",
       "    <tr>\n",
       "      <th>9</th>\n",
       "      <td>2000</td>\n",
       "      <td>1289</td>\n",
       "    </tr>\n",
       "    <tr>\n",
       "      <th>10</th>\n",
       "      <td>2010</td>\n",
       "      <td>2110</td>\n",
       "    </tr>\n",
       "    <tr>\n",
       "      <th>11</th>\n",
       "      <td>2020</td>\n",
       "      <td>610</td>\n",
       "    </tr>\n",
       "  </tbody>\n",
       "</table>\n",
       "</div>"
      ],
      "text/plain": [
       "    Decade  Count\n",
       "0     1910    647\n",
       "1     1920    896\n",
       "2     1930    685\n",
       "3     1940    602\n",
       "4     1950    602\n",
       "5     1960    449\n",
       "6     1970    390\n",
       "7     1980    534\n",
       "8     1990   1022\n",
       "9     2000   1289\n",
       "10    2010   2110\n",
       "11    2020    610"
      ]
     },
     "execution_count": 64,
     "metadata": {},
     "output_type": "execute_result"
    }
   ],
   "source": [
    "claras_decades = np.array([[0,0]])\n",
    "for decade in range(len(decades)):\n",
    "    aux = (claras[(claras['Year'] >= decades[decade]) & (claras['Year'] < decades[decade]+10)])['Count'].sum()\n",
    "    aux = np.array([[decades[decade], aux]])\n",
    "    claras_decades = np.append(claras_decades, aux, axis=0)\n",
    "claras_decades = np.delete(claras_decades, 0, 0)\n",
    "claras_decades = pd.DataFrame(claras_decades, columns = ['Decade', 'Count'])\n",
    "claras_decades"
   ]
  },
  {
   "cell_type": "code",
   "execution_count": 67,
   "metadata": {},
   "outputs": [
    {
     "data": {
      "text/plain": [
       "9836"
      ]
     },
     "execution_count": 67,
     "metadata": {},
     "output_type": "execute_result"
    }
   ],
   "source": [
    "claras_decades['Count'].sum()"
   ]
  },
  {
   "cell_type": "code",
   "execution_count": null,
   "metadata": {},
   "outputs": [],
   "source": []
  }
 ],
 "metadata": {
  "kernelspec": {
   "display_name": "Python 3",
   "language": "python",
   "name": "python3"
  },
  "language_info": {
   "codemirror_mode": {
    "name": "ipython",
    "version": 3
   },
   "file_extension": ".py",
   "mimetype": "text/x-python",
   "name": "python",
   "nbconvert_exporter": "python",
   "pygments_lexer": "ipython3",
   "version": "3.10.12"
  },
  "orig_nbformat": 4
 },
 "nbformat": 4,
 "nbformat_minor": 2
}
