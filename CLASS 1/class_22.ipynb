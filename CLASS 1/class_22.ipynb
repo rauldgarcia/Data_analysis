{
 "cells": [
  {
   "cell_type": "markdown",
   "metadata": {},
   "source": [
    "# Data Analysis\n",
    "## Class 22\n",
    "#### November 27th"
   ]
  },
  {
   "cell_type": "code",
   "execution_count": 1,
   "metadata": {},
   "outputs": [],
   "source": [
    "import pandas as pd\n",
    "import numpy as np\n",
    "import matplotlib.pyplot as plt\n",
    "import seaborn as sns"
   ]
  },
  {
   "cell_type": "code",
   "execution_count": 2,
   "metadata": {},
   "outputs": [],
   "source": [
    "df = pd.read_csv('flightsFeb.csv')"
   ]
  },
  {
   "cell_type": "code",
   "execution_count": 3,
   "metadata": {},
   "outputs": [
    {
     "data": {
      "text/html": [
       "<div>\n",
       "<style scoped>\n",
       "    .dataframe tbody tr th:only-of-type {\n",
       "        vertical-align: middle;\n",
       "    }\n",
       "\n",
       "    .dataframe tbody tr th {\n",
       "        vertical-align: top;\n",
       "    }\n",
       "\n",
       "    .dataframe thead th {\n",
       "        text-align: right;\n",
       "    }\n",
       "</style>\n",
       "<table border=\"1\" class=\"dataframe\">\n",
       "  <thead>\n",
       "    <tr style=\"text-align: right;\">\n",
       "      <th></th>\n",
       "      <th>YEAR</th>\n",
       "      <th>MONTH</th>\n",
       "      <th>DAY_OF_MONTH</th>\n",
       "      <th>OP_CARRIER</th>\n",
       "      <th>TAIL_NUM</th>\n",
       "      <th>OP_CARRIER_FL_NUM</th>\n",
       "      <th>ORIGIN</th>\n",
       "      <th>DEST</th>\n",
       "      <th>CRS_DEP_TIME</th>\n",
       "      <th>DEP_TIME</th>\n",
       "      <th>...</th>\n",
       "      <th>ARR_TIME</th>\n",
       "      <th>ARR_DELAY</th>\n",
       "      <th>CANCELLED</th>\n",
       "      <th>CANCELLATION_CODE</th>\n",
       "      <th>DIVERTED</th>\n",
       "      <th>CRS_ELAPSED_TIME</th>\n",
       "      <th>ACTUAL_ELAPSED_TIME</th>\n",
       "      <th>AIR_TIME</th>\n",
       "      <th>DISTANCE</th>\n",
       "      <th>Unnamed: 23</th>\n",
       "    </tr>\n",
       "  </thead>\n",
       "  <tbody>\n",
       "    <tr>\n",
       "      <th>0</th>\n",
       "      <td>2015</td>\n",
       "      <td>2</td>\n",
       "      <td>11</td>\n",
       "      <td>OO</td>\n",
       "      <td>N702SK</td>\n",
       "      <td>4968</td>\n",
       "      <td>IAH</td>\n",
       "      <td>ASE</td>\n",
       "      <td>900</td>\n",
       "      <td>857.0</td>\n",
       "      <td>...</td>\n",
       "      <td>1056.0</td>\n",
       "      <td>4.0</td>\n",
       "      <td>0.0</td>\n",
       "      <td>NaN</td>\n",
       "      <td>0.0</td>\n",
       "      <td>172.0</td>\n",
       "      <td>179.0</td>\n",
       "      <td>136.0</td>\n",
       "      <td>913.0</td>\n",
       "      <td>NaN</td>\n",
       "    </tr>\n",
       "    <tr>\n",
       "      <th>1</th>\n",
       "      <td>2015</td>\n",
       "      <td>2</td>\n",
       "      <td>7</td>\n",
       "      <td>OO</td>\n",
       "      <td>N745SK</td>\n",
       "      <td>4968</td>\n",
       "      <td>IAH</td>\n",
       "      <td>BZN</td>\n",
       "      <td>1056</td>\n",
       "      <td>1051.0</td>\n",
       "      <td>...</td>\n",
       "      <td>1340.0</td>\n",
       "      <td>16.0</td>\n",
       "      <td>0.0</td>\n",
       "      <td>NaN</td>\n",
       "      <td>0.0</td>\n",
       "      <td>208.0</td>\n",
       "      <td>229.0</td>\n",
       "      <td>205.0</td>\n",
       "      <td>1385.0</td>\n",
       "      <td>NaN</td>\n",
       "    </tr>\n",
       "    <tr>\n",
       "      <th>2</th>\n",
       "      <td>2015</td>\n",
       "      <td>2</td>\n",
       "      <td>24</td>\n",
       "      <td>OO</td>\n",
       "      <td>N702SK</td>\n",
       "      <td>4968</td>\n",
       "      <td>IAH</td>\n",
       "      <td>CLT</td>\n",
       "      <td>1250</td>\n",
       "      <td>1506.0</td>\n",
       "      <td>...</td>\n",
       "      <td>1811.0</td>\n",
       "      <td>124.0</td>\n",
       "      <td>0.0</td>\n",
       "      <td>NaN</td>\n",
       "      <td>0.0</td>\n",
       "      <td>137.0</td>\n",
       "      <td>125.0</td>\n",
       "      <td>109.0</td>\n",
       "      <td>912.0</td>\n",
       "      <td>NaN</td>\n",
       "    </tr>\n",
       "    <tr>\n",
       "      <th>3</th>\n",
       "      <td>2015</td>\n",
       "      <td>2</td>\n",
       "      <td>27</td>\n",
       "      <td>OO</td>\n",
       "      <td>N705SK</td>\n",
       "      <td>4968</td>\n",
       "      <td>IAH</td>\n",
       "      <td>CMH</td>\n",
       "      <td>1250</td>\n",
       "      <td>1254.0</td>\n",
       "      <td>...</td>\n",
       "      <td>1617.0</td>\n",
       "      <td>0.0</td>\n",
       "      <td>0.0</td>\n",
       "      <td>NaN</td>\n",
       "      <td>0.0</td>\n",
       "      <td>147.0</td>\n",
       "      <td>143.0</td>\n",
       "      <td>114.0</td>\n",
       "      <td>986.0</td>\n",
       "      <td>NaN</td>\n",
       "    </tr>\n",
       "    <tr>\n",
       "      <th>4</th>\n",
       "      <td>2015</td>\n",
       "      <td>2</td>\n",
       "      <td>17</td>\n",
       "      <td>OO</td>\n",
       "      <td>N727SK</td>\n",
       "      <td>4968</td>\n",
       "      <td>IAH</td>\n",
       "      <td>CMH</td>\n",
       "      <td>1250</td>\n",
       "      <td>1258.0</td>\n",
       "      <td>...</td>\n",
       "      <td>1621.0</td>\n",
       "      <td>4.0</td>\n",
       "      <td>0.0</td>\n",
       "      <td>NaN</td>\n",
       "      <td>0.0</td>\n",
       "      <td>147.0</td>\n",
       "      <td>143.0</td>\n",
       "      <td>110.0</td>\n",
       "      <td>986.0</td>\n",
       "      <td>NaN</td>\n",
       "    </tr>\n",
       "  </tbody>\n",
       "</table>\n",
       "<p>5 rows × 24 columns</p>\n",
       "</div>"
      ],
      "text/plain": [
       "   YEAR  MONTH  DAY_OF_MONTH OP_CARRIER TAIL_NUM  OP_CARRIER_FL_NUM ORIGIN  \\\n",
       "0  2015      2            11         OO   N702SK               4968    IAH   \n",
       "1  2015      2             7         OO   N745SK               4968    IAH   \n",
       "2  2015      2            24         OO   N702SK               4968    IAH   \n",
       "3  2015      2            27         OO   N705SK               4968    IAH   \n",
       "4  2015      2            17         OO   N727SK               4968    IAH   \n",
       "\n",
       "  DEST  CRS_DEP_TIME  DEP_TIME  ...  ARR_TIME  ARR_DELAY  CANCELLED  \\\n",
       "0  ASE           900     857.0  ...    1056.0        4.0        0.0   \n",
       "1  BZN          1056    1051.0  ...    1340.0       16.0        0.0   \n",
       "2  CLT          1250    1506.0  ...    1811.0      124.0        0.0   \n",
       "3  CMH          1250    1254.0  ...    1617.0        0.0        0.0   \n",
       "4  CMH          1250    1258.0  ...    1621.0        4.0        0.0   \n",
       "\n",
       "   CANCELLATION_CODE  DIVERTED  CRS_ELAPSED_TIME  ACTUAL_ELAPSED_TIME  \\\n",
       "0                NaN       0.0             172.0                179.0   \n",
       "1                NaN       0.0             208.0                229.0   \n",
       "2                NaN       0.0             137.0                125.0   \n",
       "3                NaN       0.0             147.0                143.0   \n",
       "4                NaN       0.0             147.0                143.0   \n",
       "\n",
       "  AIR_TIME  DISTANCE  Unnamed: 23  \n",
       "0    136.0     913.0          NaN  \n",
       "1    205.0    1385.0          NaN  \n",
       "2    109.0     912.0          NaN  \n",
       "3    114.0     986.0          NaN  \n",
       "4    110.0     986.0          NaN  \n",
       "\n",
       "[5 rows x 24 columns]"
      ]
     },
     "execution_count": 3,
     "metadata": {},
     "output_type": "execute_result"
    }
   ],
   "source": [
    "df.head()"
   ]
  },
  {
   "cell_type": "code",
   "execution_count": 4,
   "metadata": {},
   "outputs": [
    {
     "data": {
      "text/plain": [
       "<AxesSubplot: xlabel='ACTUAL_ELAPSED_TIME', ylabel='Count'>"
      ]
     },
     "execution_count": 4,
     "metadata": {},
     "output_type": "execute_result"
    },
    {
     "data": {
      "image/png": "[encoded data removed]",
      "text/plain": [
       "<Figure size 640x480 with 1 Axes>"
      ]
     },
     "metadata": {},
     "output_type": "display_data"
    }
   ],
   "source": [
    "sns.histplot(df['ACTUAL_ELAPSED_TIME'])"
   ]
  },
  {
   "cell_type": "code",
   "execution_count": 5,
   "metadata": {},
   "outputs": [
    {
     "data": {
      "text/plain": [
       "count    407663.000000\n",
       "mean        137.079924\n",
       "std          73.972446\n",
       "min          15.000000\n",
       "25%          83.000000\n",
       "50%         119.000000\n",
       "75%         170.000000\n",
       "max         766.000000\n",
       "Name: ACTUAL_ELAPSED_TIME, dtype: float64"
      ]
     },
     "execution_count": 5,
     "metadata": {},
     "output_type": "execute_result"
    }
   ],
   "source": [
    "df['ACTUAL_ELAPSED_TIME'].describe()"
   ]
  },
  {
   "cell_type": "code",
   "execution_count": 6,
   "metadata": {},
   "outputs": [
    {
     "data": {
      "text/plain": [
       "count    407199.000000\n",
       "mean        136.632087\n",
       "std          72.778381\n",
       "min          15.000000\n",
       "25%          83.000000\n",
       "50%         119.000000\n",
       "75%         169.000000\n",
       "max         449.000000\n",
       "Name: ACTUAL_ELAPSED_TIME, dtype: float64"
      ]
     },
     "execution_count": 6,
     "metadata": {},
     "output_type": "execute_result"
    }
   ],
   "source": [
    "df.ACTUAL_ELAPSED_TIME[df.ACTUAL_ELAPSED_TIME<450].describe()"
   ]
  },
  {
   "cell_type": "code",
   "execution_count": 7,
   "metadata": {},
   "outputs": [
    {
     "data": {
      "text/plain": [
       "<AxesSubplot: xlabel='ACTUAL_ELAPSED_TIME', ylabel='Count'>"
      ]
     },
     "execution_count": 7,
     "metadata": {},
     "output_type": "execute_result"
    },
    {
     "data": {
      "image/png": "[encoded data removed]",
      "text/plain": [
       "<Figure size 640x480 with 1 Axes>"
      ]
     },
     "metadata": {},
     "output_type": "display_data"
    }
   ],
   "source": [
    "sns.histplot(df.ACTUAL_ELAPSED_TIME[df.ACTUAL_ELAPSED_TIME<200], bins=50)"
   ]
  },
  {
   "cell_type": "code",
   "execution_count": 17,
   "metadata": {},
   "outputs": [
    {
     "name": "stdout",
     "output_type": "stream",
     "text": [
      "<class 'pandas.core.frame.DataFrame'>\n",
      "RangeIndex: 429191 entries, 0 to 429190\n",
      "Data columns (total 24 columns):\n",
      " #   Column               Non-Null Count   Dtype  \n",
      "---  ------               --------------   -----  \n",
      " 0   YEAR                 429191 non-null  int64  \n",
      " 1   MONTH                429191 non-null  int64  \n",
      " 2   DAY_OF_MONTH         429191 non-null  int64  \n",
      " 3   OP_CARRIER           429191 non-null  object \n",
      " 4   TAIL_NUM             425597 non-null  object \n",
      " 5   OP_CARRIER_FL_NUM    429191 non-null  int64  \n",
      " 6   ORIGIN               429191 non-null  object \n",
      " 7   DEST                 429191 non-null  object \n",
      " 8   CRS_DEP_TIME         429191 non-null  int64  \n",
      " 9   DEP_TIME             409132 non-null  float64\n",
      " 10  DEP_DELAY            409132 non-null  float64\n",
      " 11  TAXI_OUT             408779 non-null  float64\n",
      " 12  TAXI_IN              408369 non-null  float64\n",
      " 13  CRS_ARR_TIME         429191 non-null  int64  \n",
      " 14  ARR_TIME             408369 non-null  float64\n",
      " 15  ARR_DELAY            407663 non-null  float64\n",
      " 16  CANCELLED            429191 non-null  float64\n",
      " 17  CANCELLATION_CODE    20517 non-null   object \n",
      " 18  DIVERTED             429191 non-null  float64\n",
      " 19  CRS_ELAPSED_TIME     429189 non-null  float64\n",
      " 20  ACTUAL_ELAPSED_TIME  407663 non-null  float64\n",
      " 21  AIR_TIME             407663 non-null  float64\n",
      " 22  DISTANCE             429191 non-null  float64\n",
      " 23  Unnamed: 23          0 non-null       float64\n",
      "dtypes: float64(13), int64(6), object(5)\n",
      "memory usage: 78.6+ MB\n"
     ]
    }
   ],
   "source": [
    "df.info()"
   ]
  },
  {
   "cell_type": "code",
   "execution_count": 31,
   "metadata": {},
   "outputs": [
    {
     "data": {
      "text/plain": [
       "0         -43.0\n",
       "1          -5.0\n",
       "2         256.0\n",
       "3           4.0\n",
       "4           8.0\n",
       "          ...  \n",
       "429186     -9.0\n",
       "429187    -11.0\n",
       "429188     -9.0\n",
       "429189     -5.0\n",
       "429190     -5.0\n",
       "Length: 429191, dtype: float64"
      ]
     },
     "execution_count": 31,
     "metadata": {},
     "output_type": "execute_result"
    }
   ],
   "source": [
    "df['DEP_TIME']-df['CRS_DEP_TIME'] "
   ]
  },
  {
   "cell_type": "markdown",
   "metadata": {},
   "source": [
    "la resta la hace de manera decimal, no horaria"
   ]
  },
  {
   "cell_type": "code",
   "execution_count": 19,
   "metadata": {},
   "outputs": [
    {
     "data": {
      "text/plain": [
       "0          -3.0\n",
       "1          -5.0\n",
       "2         136.0\n",
       "3           4.0\n",
       "4           8.0\n",
       "          ...  \n",
       "429186     -9.0\n",
       "429187    -11.0\n",
       "429188     -9.0\n",
       "429189     -5.0\n",
       "429190     -5.0\n",
       "Name: DEP_DELAY, Length: 429191, dtype: float64"
      ]
     },
     "execution_count": 19,
     "metadata": {},
     "output_type": "execute_result"
    }
   ],
   "source": [
    "df.DEP_DELAY"
   ]
  },
  {
   "cell_type": "code",
   "execution_count": 35,
   "metadata": {},
   "outputs": [
    {
     "data": {
      "text/plain": [
       "0           4.0\n",
       "1          16.0\n",
       "2         204.0\n",
       "3           0.0\n",
       "4           4.0\n",
       "          ...  \n",
       "429186     69.0\n",
       "429187     10.0\n",
       "429188    -48.0\n",
       "429189      1.0\n",
       "429190      3.0\n",
       "Length: 429191, dtype: float64"
      ]
     },
     "execution_count": 35,
     "metadata": {},
     "output_type": "execute_result"
    }
   ],
   "source": [
    "df['ARR_TIME'] - df['CRS_ARR_TIME']"
   ]
  },
  {
   "cell_type": "code",
   "execution_count": 36,
   "metadata": {},
   "outputs": [
    {
     "data": {
      "text/plain": [
       "0           4.0\n",
       "1          16.0\n",
       "2         124.0\n",
       "3           0.0\n",
       "4           4.0\n",
       "          ...  \n",
       "429186     29.0\n",
       "429187     10.0\n",
       "429188     -8.0\n",
       "429189      1.0\n",
       "429190      3.0\n",
       "Name: ARR_DELAY, Length: 429191, dtype: float64"
      ]
     },
     "execution_count": 36,
     "metadata": {},
     "output_type": "execute_result"
    }
   ],
   "source": [
    "df['ARR_DELAY']"
   ]
  },
  {
   "cell_type": "code",
   "execution_count": null,
   "metadata": {},
   "outputs": [],
   "source": []
  }
 ],
 "metadata": {
  "kernelspec": {
   "display_name": "Python 3",
   "language": "python",
   "name": "python3"
  },
  "language_info": {
   "codemirror_mode": {
    "name": "ipython",
    "version": 3
   },
   "file_extension": ".py",
   "mimetype": "text/x-python",
   "name": "python",
   "nbconvert_exporter": "python",
   "pygments_lexer": "ipython3",
   "version": "3.10.12"
  }
 },
 "nbformat": 4,
 "nbformat_minor": 2
}
