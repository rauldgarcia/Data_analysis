{
 "cells": [
  {
   "cell_type": "markdown",
   "metadata": {},
   "source": [
    "# Data Analysis\n",
    "## Class 7\n",
    "### Data cleaning and Exploratory Data Analysis\n",
    "#### September 25th"
   ]
  },
  {
   "cell_type": "code",
   "execution_count": 118,
   "metadata": {},
   "outputs": [],
   "source": [
    "import pandas as pd\n",
    "import numpy as np\n",
    "import plotly.express as px\n",
    "import os"
   ]
  },
  {
   "cell_type": "code",
   "execution_count": 119,
   "metadata": {},
   "outputs": [
    {
     "data": {
      "text/html": [
       "<div>\n",
       "<style scoped>\n",
       "    .dataframe tbody tr th:only-of-type {\n",
       "        vertical-align: middle;\n",
       "    }\n",
       "\n",
       "    .dataframe tbody tr th {\n",
       "        vertical-align: top;\n",
       "    }\n",
       "\n",
       "    .dataframe thead th {\n",
       "        text-align: right;\n",
       "    }\n",
       "</style>\n",
       "<table border=\"1\" class=\"dataframe\">\n",
       "  <thead>\n",
       "    <tr style=\"text-align: right;\">\n",
       "      <th></th>\n",
       "      <th>id_ok</th>\n",
       "      <th>longitude</th>\n",
       "      <th>latitude</th>\n",
       "      <th>km2</th>\n",
       "      <th>DESECON1</th>\n",
       "      <th>DESECON2</th>\n",
       "      <th>DESECON3</th>\n",
       "      <th>DESECON4</th>\n",
       "      <th>X2000032</th>\n",
       "      <th>X2000061</th>\n",
       "      <th>...</th>\n",
       "      <th>X2022274</th>\n",
       "      <th>X2022305</th>\n",
       "      <th>X2022335</th>\n",
       "      <th>X2023001</th>\n",
       "      <th>X2023032</th>\n",
       "      <th>X2023060</th>\n",
       "      <th>X2023091</th>\n",
       "      <th>X2023121</th>\n",
       "      <th>X2023152</th>\n",
       "      <th>X2023182</th>\n",
       "    </tr>\n",
       "  </thead>\n",
       "  <tbody>\n",
       "    <tr>\n",
       "      <th>0</th>\n",
       "      <td>2</td>\n",
       "      <td>-92.240154</td>\n",
       "      <td>14.616329</td>\n",
       "      <td>192.307795</td>\n",
       "      <td>Selvas Calido-Humedas</td>\n",
       "      <td>Planicie Costera y Lomerios del Soconusco</td>\n",
       "      <td>Planicie y Lomerios Costeros del Soconusco con...</td>\n",
       "      <td>Planicie Costera y Lomerios con selva alta per...</td>\n",
       "      <td>0.381080</td>\n",
       "      <td>0.393750</td>\n",
       "      <td>...</td>\n",
       "      <td>0.554377</td>\n",
       "      <td>0.565392</td>\n",
       "      <td>0.490920</td>\n",
       "      <td>0.459002</td>\n",
       "      <td>0.426879</td>\n",
       "      <td>0.431051</td>\n",
       "      <td>0.492495</td>\n",
       "      <td>0.515070</td>\n",
       "      <td>0.526481</td>\n",
       "      <td>0.549757</td>\n",
       "    </tr>\n",
       "    <tr>\n",
       "      <th>1</th>\n",
       "      <td>4</td>\n",
       "      <td>-92.380254</td>\n",
       "      <td>14.756429</td>\n",
       "      <td>217.519671</td>\n",
       "      <td>Selvas Calido-Humedas</td>\n",
       "      <td>Planicie Costera y Lomerios del Soconusco</td>\n",
       "      <td>Planicie y Lomerios Costeros del Soconusco con...</td>\n",
       "      <td>Planicie Costera y Lomerios con selva alta per...</td>\n",
       "      <td>0.273232</td>\n",
       "      <td>0.276971</td>\n",
       "      <td>...</td>\n",
       "      <td>0.550199</td>\n",
       "      <td>0.508108</td>\n",
       "      <td>0.388205</td>\n",
       "      <td>0.374693</td>\n",
       "      <td>0.330288</td>\n",
       "      <td>0.332288</td>\n",
       "      <td>0.338711</td>\n",
       "      <td>0.341860</td>\n",
       "      <td>0.437368</td>\n",
       "      <td>0.487972</td>\n",
       "    </tr>\n",
       "    <tr>\n",
       "      <th>2</th>\n",
       "      <td>5</td>\n",
       "      <td>-92.240154</td>\n",
       "      <td>14.756429</td>\n",
       "      <td>233.276335</td>\n",
       "      <td>Selvas Calido-Humedas</td>\n",
       "      <td>Planicie Costera y Lomerios del Soconusco</td>\n",
       "      <td>Planicie y Lomerios Costeros del Soconusco con...</td>\n",
       "      <td>Planicie Costera y Lomerios con selva alta per...</td>\n",
       "      <td>0.262070</td>\n",
       "      <td>0.266783</td>\n",
       "      <td>...</td>\n",
       "      <td>0.545053</td>\n",
       "      <td>0.522816</td>\n",
       "      <td>0.422735</td>\n",
       "      <td>0.355143</td>\n",
       "      <td>0.308989</td>\n",
       "      <td>0.307110</td>\n",
       "      <td>0.337750</td>\n",
       "      <td>0.383881</td>\n",
       "      <td>0.513476</td>\n",
       "      <td>0.571744</td>\n",
       "    </tr>\n",
       "    <tr>\n",
       "      <th>3</th>\n",
       "      <td>7</td>\n",
       "      <td>-92.520354</td>\n",
       "      <td>14.896529</td>\n",
       "      <td>218.244196</td>\n",
       "      <td>Selvas Calido-Humedas</td>\n",
       "      <td>Planicie Costera y Lomerios del Soconusco</td>\n",
       "      <td>Planicie y Lomerios Costeros del Soconusco con...</td>\n",
       "      <td>Planicie Costera y Lomerios con selva alta per...</td>\n",
       "      <td>0.358763</td>\n",
       "      <td>0.363754</td>\n",
       "      <td>...</td>\n",
       "      <td>0.596631</td>\n",
       "      <td>0.511776</td>\n",
       "      <td>0.437208</td>\n",
       "      <td>0.414366</td>\n",
       "      <td>0.380600</td>\n",
       "      <td>0.400286</td>\n",
       "      <td>0.399786</td>\n",
       "      <td>0.477237</td>\n",
       "      <td>0.521931</td>\n",
       "      <td>0.512213</td>\n",
       "    </tr>\n",
       "    <tr>\n",
       "      <th>4</th>\n",
       "      <td>8</td>\n",
       "      <td>-92.380254</td>\n",
       "      <td>14.896529</td>\n",
       "      <td>236.353493</td>\n",
       "      <td>Selvas Calido-Humedas</td>\n",
       "      <td>Planicie Costera y Lomerios del Soconusco</td>\n",
       "      <td>Planicie y Lomerios Costeros del Soconusco con...</td>\n",
       "      <td>Planicie Costera y Lomerios con selva alta per...</td>\n",
       "      <td>0.335840</td>\n",
       "      <td>0.338886</td>\n",
       "      <td>...</td>\n",
       "      <td>0.564563</td>\n",
       "      <td>0.531301</td>\n",
       "      <td>0.457160</td>\n",
       "      <td>0.411877</td>\n",
       "      <td>0.372756</td>\n",
       "      <td>0.389247</td>\n",
       "      <td>0.402691</td>\n",
       "      <td>0.470922</td>\n",
       "      <td>0.548722</td>\n",
       "      <td>0.556070</td>\n",
       "    </tr>\n",
       "  </tbody>\n",
       "</table>\n",
       "<p>5 rows × 290 columns</p>\n",
       "</div>"
      ],
      "text/plain": [
       "   id_ok  longitude   latitude         km2               DESECON1  \\\n",
       "0      2 -92.240154  14.616329  192.307795  Selvas Calido-Humedas   \n",
       "1      4 -92.380254  14.756429  217.519671  Selvas Calido-Humedas   \n",
       "2      5 -92.240154  14.756429  233.276335  Selvas Calido-Humedas   \n",
       "3      7 -92.520354  14.896529  218.244196  Selvas Calido-Humedas   \n",
       "4      8 -92.380254  14.896529  236.353493  Selvas Calido-Humedas   \n",
       "\n",
       "                                    DESECON2  \\\n",
       "0  Planicie Costera y Lomerios del Soconusco   \n",
       "1  Planicie Costera y Lomerios del Soconusco   \n",
       "2  Planicie Costera y Lomerios del Soconusco   \n",
       "3  Planicie Costera y Lomerios del Soconusco   \n",
       "4  Planicie Costera y Lomerios del Soconusco   \n",
       "\n",
       "                                            DESECON3  \\\n",
       "0  Planicie y Lomerios Costeros del Soconusco con...   \n",
       "1  Planicie y Lomerios Costeros del Soconusco con...   \n",
       "2  Planicie y Lomerios Costeros del Soconusco con...   \n",
       "3  Planicie y Lomerios Costeros del Soconusco con...   \n",
       "4  Planicie y Lomerios Costeros del Soconusco con...   \n",
       "\n",
       "                                            DESECON4  X2000032  X2000061  ...  \\\n",
       "0  Planicie Costera y Lomerios con selva alta per...  0.381080  0.393750  ...   \n",
       "1  Planicie Costera y Lomerios con selva alta per...  0.273232  0.276971  ...   \n",
       "2  Planicie Costera y Lomerios con selva alta per...  0.262070  0.266783  ...   \n",
       "3  Planicie Costera y Lomerios con selva alta per...  0.358763  0.363754  ...   \n",
       "4  Planicie Costera y Lomerios con selva alta per...  0.335840  0.338886  ...   \n",
       "\n",
       "   X2022274  X2022305  X2022335  X2023001  X2023032  X2023060  X2023091  \\\n",
       "0  0.554377  0.565392  0.490920  0.459002  0.426879  0.431051  0.492495   \n",
       "1  0.550199  0.508108  0.388205  0.374693  0.330288  0.332288  0.338711   \n",
       "2  0.545053  0.522816  0.422735  0.355143  0.308989  0.307110  0.337750   \n",
       "3  0.596631  0.511776  0.437208  0.414366  0.380600  0.400286  0.399786   \n",
       "4  0.564563  0.531301  0.457160  0.411877  0.372756  0.389247  0.402691   \n",
       "\n",
       "   X2023121  X2023152  X2023182  \n",
       "0  0.515070  0.526481  0.549757  \n",
       "1  0.341860  0.437368  0.487972  \n",
       "2  0.383881  0.513476  0.571744  \n",
       "3  0.477237  0.521931  0.512213  \n",
       "4  0.470922  0.548722  0.556070  \n",
       "\n",
       "[5 rows x 290 columns]"
      ]
     },
     "execution_count": 119,
     "metadata": {},
     "output_type": "execute_result"
    }
   ],
   "source": [
    "eviMean = pd.read_csv('EVImean.csv')\n",
    "eviMean.head()"
   ]
  },
  {
   "cell_type": "code",
   "execution_count": 120,
   "metadata": {},
   "outputs": [
    {
     "data": {
      "text/plain": [
       "<AxesSubplot: >"
      ]
     },
     "execution_count": 120,
     "metadata": {},
     "output_type": "execute_result"
    },
    {
     "data": {
      "image/png": "[encoded data removed]",
      "text/plain": [
       "<Figure size 640x480 with 1 Axes>"
      ]
     },
     "metadata": {},
     "output_type": "display_data"
    }
   ],
   "source": [
    "eviMean.sample().iloc[:,8:].transpose().plot()"
   ]
  },
  {
   "cell_type": "code",
   "execution_count": 121,
   "metadata": {},
   "outputs": [
    {
     "data": {
      "application/vnd.plotly.v1+json": {
       "config": {
        "plotlyServerURL": "https://plot.ly"
       },
       "data": [
        {
         "hovertemplate": "variable=8700<br>index=%{x}<br>value=%{y}<extra></extra>",
         "legendgroup": "8700",
         "line": {
          "color": "#636efa",
          "dash": "solid"
         },
         "marker": {
          "symbol": "circle"
         },
         "mode": "lines",
         "name": "8700",
         "orientation": "v",
         "showlegend": true,
         "type": "scatter",
         "x": [
          "X2000032",
          "X2000061",
          "X2000092",
          "X2000122",
          "X2000153",
          "X2000183",
          "X2000214",
          "X2000245",
          "X2000275",
          "X2000306",
          "X2000336",
          "X2001001",
          "X2001032",
          "X2001060",
          "X2001091",
          "X2001121",
          "X2001152",
          "X2001182",
          "X2001213",
          "X2001244",
          "X2001274",
          "X2001305",
          "X2001335",
          "X2002001",
          "X2002032",
          "X2002060",
          "X2002091",
          "X2002121",
          "X2002152",
          "X2002182",
          "X2002213",
          "X2002244",
          "X2002274",
          "X2002305",
          "X2002335",
          "X2003001",
          "X2003032",
          "X2003060",
          "X2003091",
          "X2003121",
          "X2003152",
          "X2003182",
          "X2003213",
          "X2003244",
          "X2003274",
          "X2003305",
          "X2003335",
          "X2004001",
          "X2004032",
          "X2004061",
          "X2004092",
          "X2004122",
          "X2004153",
          "X2004183",
          "X2004214",
          "X2004245",
          "X2004275",
          "X2004306",
          "X2004336",
          "X2005001",
          "X2005032",
          "X2005060",
          "X2005091",
          "X2005121",
          "X2005152",
          "X2005182",
          "X2005213",
          "X2005244",
          "X2005274",
          "X2005305",
          "X2005335",
          "X2006001",
          "X2006032",
          "X2006060",
          "X2006091",
          "X2006121",
          "X2006152",
          "X2006182",
          "X2006213",
          "X2006244",
          "X2006274",
          "X2006305",
          "X2006335",
          "X2007001",
          "X2007032",
          "X2007060",
          "X2007091",
          "X2007121",
          "X2007152",
          "X2007182",
          "X2007213",
          "X2007244",
          "X2007274",
          "X2007305",
          "X2007335",
          "X2008001",
          "X2008032",
          "X2008061",
          "X2008092",
          "X2008122",
          "X2008153",
          "X2008183",
          "X2008214",
          "X2008245",
          "X2008275",
          "X2008306",
          "X2008336",
          "X2009001",
          "X2009032",
          "X2009060",
          "X2009091",
          "X2009121",
          "X2009152",
          "X2009182",
          "X2009213",
          "X2009244",
          "X2009274",
          "X2009305",
          "X2009335",
          "X2010001",
          "X2010032",
          "X2010060",
          "X2010091",
          "X2010121",
          "X2010152",
          "X2010182",
          "X2010213",
          "X2010244",
          "X2010274",
          "X2010305",
          "X2010335",
          "X2011001",
          "X2011032",
          "X2011060",
          "X2011091",
          "X2011121",
          "X2011152",
          "X2011182",
          "X2011213",
          "X2011244",
          "X2011274",
          "X2011305",
          "X2011335",
          "X2012001",
          "X2012032",
          "X2012061",
          "X2012092",
          "X2012122",
          "X2012153",
          "X2012183",
          "X2012214",
          "X2012245",
          "X2012275",
          "X2012306",
          "X2012336",
          "X2013001",
          "X2013032",
          "X2013060",
          "X2013091",
          "X2013121",
          "X2013152",
          "X2013182",
          "X2013213",
          "X2013244",
          "X2013274",
          "X2013305",
          "X2013335",
          "X2014001",
          "X2014032",
          "X2014060",
          "X2014091",
          "X2014121",
          "X2014152",
          "X2014182",
          "X2014213",
          "X2014244",
          "X2014274",
          "X2014305",
          "X2014335",
          "X2015001",
          "X2015032",
          "X2015060",
          "X2015091",
          "X2015121",
          "X2015152",
          "X2015182",
          "X2015213",
          "X2015244",
          "X2015274",
          "X2015305",
          "X2015335",
          "X2016001",
          "X2016032",
          "X2016061",
          "X2016092",
          "X2016122",
          "X2016153",
          "X2016183",
          "X2016214",
          "X2016245",
          "X2016275",
          "X2016306",
          "X2016336",
          "X2017001",
          "X2017032",
          "X2017060",
          "X2017091",
          "X2017121",
          "X2017152",
          "X2017182",
          "X2017213",
          "X2017244",
          "X2017274",
          "X2017305",
          "X2017335",
          "X2018001",
          "X2018032",
          "X2018060",
          "X2018091",
          "X2018121",
          "X2018152",
          "X2018182",
          "X2018213",
          "X2018244",
          "X2018274",
          "X2018305",
          "X2018335",
          "X2019001",
          "X2019032",
          "X2019060",
          "X2019091",
          "X2019121",
          "X2019152",
          "X2019182",
          "X2019213",
          "X2019244",
          "X2019274",
          "X2019305",
          "X2019335",
          "X2020001",
          "X2020032",
          "X2020061",
          "X2020092",
          "X2020122",
          "X2020153",
          "X2020183",
          "X2020214",
          "X2020245",
          "X2020275",
          "X2020306",
          "X2020336",
          "X2021001",
          "X2021032",
          "X2021060",
          "X2021091",
          "X2021121",
          "X2021152",
          "X2021182",
          "X2021213",
          "X2021244",
          "X2021274",
          "X2021305",
          "X2021335",
          "X2022001",
          "X2022032",
          "X2022060",
          "X2022091",
          "X2022121",
          "X2022152",
          "X2022182",
          "X2022213",
          "X2022244",
          "X2022274",
          "X2022305",
          "X2022335",
          "X2023001",
          "X2023032",
          "X2023060",
          "X2023091",
          "X2023121",
          "X2023152",
          "X2023182"
         ],
         "xaxis": "x",
         "y": [
          0.121592361,
          0.1165875,
          0.1177875,
          0.118778125,
          0.120717361,
          0.119881597,
          0.117421875,
          0.112737153,
          0.113859375,
          0.126047569,
          0.116254513,
          0.111752778,
          0.113227778,
          0.109639931,
          0.121180208,
          0.122964583,
          0.122865278,
          0.122859028,
          0.125148611,
          0.120403125,
          0.126233333,
          0.124553819,
          0.119385416,
          0.109344792,
          0.110837153,
          0.110523264,
          0.110345834,
          0.114048958,
          0.115614584,
          0.117661806,
          0.117956597,
          0.116647916,
          0.114947917,
          0.118512153,
          0.116847917,
          0.109965278,
          0.105789236,
          0.106752778,
          0.109395486,
          0.108124305,
          0.110919444,
          0.120888195,
          0.1168625,
          0.112043403,
          0.106652778,
          0.106518055,
          0.102926736,
          0.098845834,
          0.095537848,
          0.100079167,
          0.103894445,
          0.101659723,
          0.102115625,
          0.106377778,
          0.105993403,
          0.104252431,
          0.104026736,
          0.105282292,
          0.095636111,
          0.091917708,
          0.086880903,
          0.089605903,
          0.097513194,
          0.09988507,
          0.105191667,
          0.109005555,
          0.108158333,
          0.115627778,
          0.116226389,
          0.115205556,
          0.104046528,
          0.097326409,
          0.096969366,
          0.100716901,
          0.10242676,
          0.103339437,
          0.108728169,
          0.111234507,
          0.10837993,
          0.105040493,
          0.106820423,
          0.106529577,
          0.101924296,
          0.093991901,
          0.096075352,
          0.096669718,
          0.103157042,
          0.104506338,
          0.106230986,
          0.108319014,
          0.108605282,
          0.112363732,
          0.105458451,
          0.109602113,
          0.103359507,
          0.095127465,
          0.092822887,
          0.092749648,
          0.097914085,
          0.101742254,
          0.100805282,
          0.103986972,
          0.106026056,
          0.105907746,
          0.106445775,
          0.103700352,
          0.101758451,
          0.09081162,
          0.089545775,
          0.091163028,
          0.095205282,
          0.095433803,
          0.100683451,
          0.104086268,
          0.105146479,
          0.105365141,
          0.105662676,
          0.106157747,
          0.102833803,
          0.096642254,
          0.093980986,
          0.094615845,
          0.087749648,
          0.08373662,
          0.098002113,
          0.102271479,
          0.095841197,
          0.098534155,
          0.108805282,
          0.105205634,
          0.099657042,
          0.09266831,
          0.089051409,
          0.084975705,
          0.08413838,
          0.08610493,
          0.091009155,
          0.094783803,
          0.099071831,
          0.10217324,
          0.103804578,
          0.104702465,
          0.09878169,
          0.089321127,
          0.086870775,
          0.090085564,
          0.095073592,
          0.092533451,
          0.092594719,
          0.094157042,
          0.098478169,
          0.096579225,
          0.09628662,
          0.097896831,
          0.095364085,
          0.083901056,
          0.084841549,
          0.088486267,
          0.092526057,
          0.091870423,
          0.091992254,
          0.088475704,
          0.088591902,
          0.088935211,
          0.09086831,
          0.09168662,
          0.086311972,
          0.07589155,
          0.085385211,
          0.083082746,
          0.083184155,
          0.083884859,
          0.084533803,
          0.084433098,
          0.082071479,
          0.080597887,
          0.083624296,
          0.086500352,
          0.083014437,
          0.075435211,
          0.075641197,
          0.076015845,
          0.077369718,
          0.07628838,
          0.080351409,
          0.078278169,
          0.078353169,
          0.073942958,
          0.076459507,
          0.075421127,
          0.075772535,
          0.074158803,
          0.074849648,
          0.07443838,
          0.070247183,
          0.071398592,
          0.071320775,
          0.075307042,
          0.076338028,
          0.075964789,
          0.075732042,
          0.07463169,
          0.073557394,
          0.068990141,
          0.074041901,
          0.078265493,
          0.081040141,
          0.077178169,
          0.07573838,
          0.074514437,
          0.073667606,
          0.075411972,
          0.07884331,
          0.079679578,
          0.081053169,
          0.077128521,
          0.076301056,
          0.07525,
          0.079734155,
          0.082077113,
          0.081056338,
          0.079267606,
          0.073741901,
          0.073532747,
          0.071401057,
          0.075634155,
          0.072326056,
          0.068102817,
          0.065104578,
          0.06665493,
          0.068989085,
          0.074867958,
          0.077021127,
          0.07541831,
          0.076945775,
          0.070884507,
          0.068369258,
          0.071046479,
          0.068372183,
          0.068212676,
          0.071416901,
          0.071390845,
          0.066546831,
          0.068274648,
          0.074148592,
          0.077347535,
          0.076708098,
          0.077129578,
          0.074292606,
          0.07169155,
          0.075931338,
          0.07366162,
          0.071704578,
          0.07849824,
          0.080323944,
          0.07616655,
          0.072086972,
          0.070554577,
          0.072932747,
          0.074119718,
          0.070923592,
          0.075452465,
          0.074137676,
          0.069219014,
          0.07306831,
          0.075351056,
          0.079664437,
          0.078278169,
          0.076432746,
          0.073372535,
          0.070079578,
          0.065596479,
          0.067395775,
          0.073560563,
          0.075290493,
          0.076464789,
          0.07110493,
          0.066598944,
          0.074511972,
          0.078322183,
          0.078466901,
          0.077278169
         ],
         "yaxis": "y"
        }
       ],
       "layout": {
        "legend": {
         "title": {
          "text": "variable"
         },
         "tracegroupgap": 0
        },
        "margin": {
         "t": 60
        },
        "template": {
         "data": {
          "bar": [
           {
            "error_x": {
             "color": "#2a3f5f"
            },
            "error_y": {
             "color": "#2a3f5f"
            },
            "marker": {
             "line": {
              "color": "#E5ECF6",
              "width": 0.5
             },
             "pattern": {
              "fillmode": "overlay",
              "size": 10,
              "solidity": 0.2
             }
            },
            "type": "bar"
           }
          ],
          "barpolar": [
           {
            "marker": {
             "line": {
              "color": "#E5ECF6",
              "width": 0.5
             },
             "pattern": {
              "fillmode": "overlay",
              "size": 10,
              "solidity": 0.2
             }
            },
            "type": "barpolar"
           }
          ],
          "carpet": [
           {
            "aaxis": {
             "endlinecolor": "#2a3f5f",
             "gridcolor": "white",
             "linecolor": "white",
             "minorgridcolor": "white",
             "startlinecolor": "#2a3f5f"
            },
            "baxis": {
             "endlinecolor": "#2a3f5f",
             "gridcolor": "white",
             "linecolor": "white",
             "minorgridcolor": "white",
             "startlinecolor": "#2a3f5f"
            },
            "type": "carpet"
           }
          ],
          "choropleth": [
           {
            "colorbar": {
             "outlinewidth": 0,
             "ticks": ""
            },
            "type": "choropleth"
           }
          ],
          "contour": [
           {
            "colorbar": {
             "outlinewidth": 0,
             "ticks": ""
            },
            "colorscale": [
             [
              0,
              "#0d0887"
             ],
             [
              0.1111111111111111,
              "#46039f"
             ],
             [
              0.2222222222222222,
              "#7201a8"
             ],
             [
              0.3333333333333333,
              "#9c179e"
             ],
             [
              0.4444444444444444,
              "#bd3786"
             ],
             [
              0.5555555555555556,
              "#d8576b"
             ],
             [
              0.6666666666666666,
              "#ed7953"
             ],
             [
              0.7777777777777778,
              "#fb9f3a"
             ],
             [
              0.8888888888888888,
              "#fdca26"
             ],
             [
              1,
              "#f0f921"
             ]
            ],
            "type": "contour"
           }
          ],
          "contourcarpet": [
           {
            "colorbar": {
             "outlinewidth": 0,
             "ticks": ""
            },
            "type": "contourcarpet"
           }
          ],
          "heatmap": [
           {
            "colorbar": {
             "outlinewidth": 0,
             "ticks": ""
            },
            "colorscale": [
             [
              0,
              "#0d0887"
             ],
             [
              0.1111111111111111,
              "#46039f"
             ],
             [
              0.2222222222222222,
              "#7201a8"
             ],
             [
              0.3333333333333333,
              "#9c179e"
             ],
             [
              0.4444444444444444,
              "#bd3786"
             ],
             [
              0.5555555555555556,
              "#d8576b"
             ],
             [
              0.6666666666666666,
              "#ed7953"
             ],
             [
              0.7777777777777778,
              "#fb9f3a"
             ],
             [
              0.8888888888888888,
              "#fdca26"
             ],
             [
              1,
              "#f0f921"
             ]
            ],
            "type": "heatmap"
           }
          ],
          "heatmapgl": [
           {
            "colorbar": {
             "outlinewidth": 0,
             "ticks": ""
            },
            "colorscale": [
             [
              0,
              "#0d0887"
             ],
             [
              0.1111111111111111,
              "#46039f"
             ],
             [
              0.2222222222222222,
              "#7201a8"
             ],
             [
              0.3333333333333333,
              "#9c179e"
             ],
             [
              0.4444444444444444,
              "#bd3786"
             ],
             [
              0.5555555555555556,
              "#d8576b"
             ],
             [
              0.6666666666666666,
              "#ed7953"
             ],
             [
              0.7777777777777778,
              "#fb9f3a"
             ],
             [
              0.8888888888888888,
              "#fdca26"
             ],
             [
              1,
              "#f0f921"
             ]
            ],
            "type": "heatmapgl"
           }
          ],
          "histogram": [
           {
            "marker": {
             "pattern": {
              "fillmode": "overlay",
              "size": 10,
              "solidity": 0.2
             }
            },
            "type": "histogram"
           }
          ],
          "histogram2d": [
           {
            "colorbar": {
             "outlinewidth": 0,
             "ticks": ""
            },
            "colorscale": [
             [
              0,
              "#0d0887"
             ],
             [
              0.1111111111111111,
              "#46039f"
             ],
             [
              0.2222222222222222,
              "#7201a8"
             ],
             [
              0.3333333333333333,
              "#9c179e"
             ],
             [
              0.4444444444444444,
              "#bd3786"
             ],
             [
              0.5555555555555556,
              "#d8576b"
             ],
             [
              0.6666666666666666,
              "#ed7953"
             ],
             [
              0.7777777777777778,
              "#fb9f3a"
             ],
             [
              0.8888888888888888,
              "#fdca26"
             ],
             [
              1,
              "#f0f921"
             ]
            ],
            "type": "histogram2d"
           }
          ],
          "histogram2dcontour": [
           {
            "colorbar": {
             "outlinewidth": 0,
             "ticks": ""
            },
            "colorscale": [
             [
              0,
              "#0d0887"
             ],
             [
              0.1111111111111111,
              "#46039f"
             ],
             [
              0.2222222222222222,
              "#7201a8"
             ],
             [
              0.3333333333333333,
              "#9c179e"
             ],
             [
              0.4444444444444444,
              "#bd3786"
             ],
             [
              0.5555555555555556,
              "#d8576b"
             ],
             [
              0.6666666666666666,
              "#ed7953"
             ],
             [
              0.7777777777777778,
              "#fb9f3a"
             ],
             [
              0.8888888888888888,
              "#fdca26"
             ],
             [
              1,
              "#f0f921"
             ]
            ],
            "type": "histogram2dcontour"
           }
          ],
          "mesh3d": [
           {
            "colorbar": {
             "outlinewidth": 0,
             "ticks": ""
            },
            "type": "mesh3d"
           }
          ],
          "parcoords": [
           {
            "line": {
             "colorbar": {
              "outlinewidth": 0,
              "ticks": ""
             }
            },
            "type": "parcoords"
           }
          ],
          "pie": [
           {
            "automargin": true,
            "type": "pie"
           }
          ],
          "scatter": [
           {
            "fillpattern": {
             "fillmode": "overlay",
             "size": 10,
             "solidity": 0.2
            },
            "type": "scatter"
           }
          ],
          "scatter3d": [
           {
            "line": {
             "colorbar": {
              "outlinewidth": 0,
              "ticks": ""
             }
            },
            "marker": {
             "colorbar": {
              "outlinewidth": 0,
              "ticks": ""
             }
            },
            "type": "scatter3d"
           }
          ],
          "scattercarpet": [
           {
            "marker": {
             "colorbar": {
              "outlinewidth": 0,
              "ticks": ""
             }
            },
            "type": "scattercarpet"
           }
          ],
          "scattergeo": [
           {
            "marker": {
             "colorbar": {
              "outlinewidth": 0,
              "ticks": ""
             }
            },
            "type": "scattergeo"
           }
          ],
          "scattergl": [
           {
            "marker": {
             "colorbar": {
              "outlinewidth": 0,
              "ticks": ""
             }
            },
            "type": "scattergl"
           }
          ],
          "scattermapbox": [
           {
            "marker": {
             "colorbar": {
              "outlinewidth": 0,
              "ticks": ""
             }
            },
            "type": "scattermapbox"
           }
          ],
          "scatterpolar": [
           {
            "marker": {
             "colorbar": {
              "outlinewidth": 0,
              "ticks": ""
             }
            },
            "type": "scatterpolar"
           }
          ],
          "scatterpolargl": [
           {
            "marker": {
             "colorbar": {
              "outlinewidth": 0,
              "ticks": ""
             }
            },
            "type": "scatterpolargl"
           }
          ],
          "scatterternary": [
           {
            "marker": {
             "colorbar": {
              "outlinewidth": 0,
              "ticks": ""
             }
            },
            "type": "scatterternary"
           }
          ],
          "surface": [
           {
            "colorbar": {
             "outlinewidth": 0,
             "ticks": ""
            },
            "colorscale": [
             [
              0,
              "#0d0887"
             ],
             [
              0.1111111111111111,
              "#46039f"
             ],
             [
              0.2222222222222222,
              "#7201a8"
             ],
             [
              0.3333333333333333,
              "#9c179e"
             ],
             [
              0.4444444444444444,
              "#bd3786"
             ],
             [
              0.5555555555555556,
              "#d8576b"
             ],
             [
              0.6666666666666666,
              "#ed7953"
             ],
             [
              0.7777777777777778,
              "#fb9f3a"
             ],
             [
              0.8888888888888888,
              "#fdca26"
             ],
             [
              1,
              "#f0f921"
             ]
            ],
            "type": "surface"
           }
          ],
          "table": [
           {
            "cells": {
             "fill": {
              "color": "#EBF0F8"
             },
             "line": {
              "color": "white"
             }
            },
            "header": {
             "fill": {
              "color": "#C8D4E3"
             },
             "line": {
              "color": "white"
             }
            },
            "type": "table"
           }
          ]
         },
         "layout": {
          "annotationdefaults": {
           "arrowcolor": "#2a3f5f",
           "arrowhead": 0,
           "arrowwidth": 1
          },
          "autotypenumbers": "strict",
          "coloraxis": {
           "colorbar": {
            "outlinewidth": 0,
            "ticks": ""
           }
          },
          "colorscale": {
           "diverging": [
            [
             0,
             "#8e0152"
            ],
            [
             0.1,
             "#c51b7d"
            ],
            [
             0.2,
             "#de77ae"
            ],
            [
             0.3,
             "#f1b6da"
            ],
            [
             0.4,
             "#fde0ef"
            ],
            [
             0.5,
             "#f7f7f7"
            ],
            [
             0.6,
             "#e6f5d0"
            ],
            [
             0.7,
             "#b8e186"
            ],
            [
             0.8,
             "#7fbc41"
            ],
            [
             0.9,
             "#4d9221"
            ],
            [
             1,
             "#276419"
            ]
           ],
           "sequential": [
            [
             0,
             "#0d0887"
            ],
            [
             0.1111111111111111,
             "#46039f"
            ],
            [
             0.2222222222222222,
             "#7201a8"
            ],
            [
             0.3333333333333333,
             "#9c179e"
            ],
            [
             0.4444444444444444,
             "#bd3786"
            ],
            [
             0.5555555555555556,
             "#d8576b"
            ],
            [
             0.6666666666666666,
             "#ed7953"
            ],
            [
             0.7777777777777778,
             "#fb9f3a"
            ],
            [
             0.8888888888888888,
             "#fdca26"
            ],
            [
             1,
             "#f0f921"
            ]
           ],
           "sequentialminus": [
            [
             0,
             "#0d0887"
            ],
            [
             0.1111111111111111,
             "#46039f"
            ],
            [
             0.2222222222222222,
             "#7201a8"
            ],
            [
             0.3333333333333333,
             "#9c179e"
            ],
            [
             0.4444444444444444,
             "#bd3786"
            ],
            [
             0.5555555555555556,
             "#d8576b"
            ],
            [
             0.6666666666666666,
             "#ed7953"
            ],
            [
             0.7777777777777778,
             "#fb9f3a"
            ],
            [
             0.8888888888888888,
             "#fdca26"
            ],
            [
             1,
             "#f0f921"
            ]
           ]
          },
          "colorway": [
           "#636efa",
           "#EF553B",
           "#00cc96",
           "#ab63fa",
           "#FFA15A",
           "#19d3f3",
           "#FF6692",
           "#B6E880",
           "#FF97FF",
           "#FECB52"
          ],
          "font": {
           "color": "#2a3f5f"
          },
          "geo": {
           "bgcolor": "white",
           "lakecolor": "white",
           "landcolor": "#E5ECF6",
           "showlakes": true,
           "showland": true,
           "subunitcolor": "white"
          },
          "hoverlabel": {
           "align": "left"
          },
          "hovermode": "closest",
          "mapbox": {
           "style": "light"
          },
          "paper_bgcolor": "white",
          "plot_bgcolor": "#E5ECF6",
          "polar": {
           "angularaxis": {
            "gridcolor": "white",
            "linecolor": "white",
            "ticks": ""
           },
           "bgcolor": "#E5ECF6",
           "radialaxis": {
            "gridcolor": "white",
            "linecolor": "white",
            "ticks": ""
           }
          },
          "scene": {
           "xaxis": {
            "backgroundcolor": "#E5ECF6",
            "gridcolor": "white",
            "gridwidth": 2,
            "linecolor": "white",
            "showbackground": true,
            "ticks": "",
            "zerolinecolor": "white"
           },
           "yaxis": {
            "backgroundcolor": "#E5ECF6",
            "gridcolor": "white",
            "gridwidth": 2,
            "linecolor": "white",
            "showbackground": true,
            "ticks": "",
            "zerolinecolor": "white"
           },
           "zaxis": {
            "backgroundcolor": "#E5ECF6",
            "gridcolor": "white",
            "gridwidth": 2,
            "linecolor": "white",
            "showbackground": true,
            "ticks": "",
            "zerolinecolor": "white"
           }
          },
          "shapedefaults": {
           "line": {
            "color": "#2a3f5f"
           }
          },
          "ternary": {
           "aaxis": {
            "gridcolor": "white",
            "linecolor": "white",
            "ticks": ""
           },
           "baxis": {
            "gridcolor": "white",
            "linecolor": "white",
            "ticks": ""
           },
           "bgcolor": "#E5ECF6",
           "caxis": {
            "gridcolor": "white",
            "linecolor": "white",
            "ticks": ""
           }
          },
          "title": {
           "x": 0.05
          },
          "xaxis": {
           "automargin": true,
           "gridcolor": "white",
           "linecolor": "white",
           "ticks": "",
           "title": {
            "standoff": 15
           },
           "zerolinecolor": "white",
           "zerolinewidth": 2
          },
          "yaxis": {
           "automargin": true,
           "gridcolor": "white",
           "linecolor": "white",
           "ticks": "",
           "title": {
            "standoff": 15
           },
           "zerolinecolor": "white",
           "zerolinewidth": 2
          }
         }
        },
        "xaxis": {
         "anchor": "y",
         "domain": [
          0,
          1
         ],
         "title": {
          "text": "index"
         }
        },
        "yaxis": {
         "anchor": "x",
         "domain": [
          0,
          1
         ],
         "title": {
          "text": "value"
         }
        }
       }
      }
     },
     "metadata": {},
     "output_type": "display_data"
    }
   ],
   "source": [
    "px.line(eviMean.iloc[8700,8:])"
   ]
  },
  {
   "cell_type": "code",
   "execution_count": 122,
   "metadata": {},
   "outputs": [
    {
     "data": {
      "text/plain": [
       "'Desiertos Calidos'"
      ]
     },
     "execution_count": 122,
     "metadata": {},
     "output_type": "execute_result"
    }
   ],
   "source": [
    "eviMean.iloc[8700, 5]"
   ]
  },
  {
   "cell_type": "code",
   "execution_count": 123,
   "metadata": {},
   "outputs": [
    {
     "data": {
      "application/vnd.plotly.v1+json": {
       "config": {
        "plotlyServerURL": "https://plot.ly"
       },
       "data": [
        {
         "hovertemplate": "variable=3449<br>index=%{x}<br>value=%{y}<extra></extra>",
         "legendgroup": "3449",
         "line": {
          "color": "#636efa",
          "dash": "solid"
         },
         "marker": {
          "symbol": "circle"
         },
         "mode": "lines",
         "name": "3449",
         "orientation": "v",
         "showlegend": true,
         "type": "scatter",
         "x": [
          "X2000032",
          "X2000061",
          "X2000092",
          "X2000122",
          "X2000153",
          "X2000183",
          "X2000214",
          "X2000245",
          "X2000275",
          "X2000306",
          "X2000336",
          "X2001001",
          "X2001032",
          "X2001060",
          "X2001091",
          "X2001121",
          "X2001152",
          "X2001182",
          "X2001213",
          "X2001244",
          "X2001274",
          "X2001305",
          "X2001335",
          "X2002001",
          "X2002032",
          "X2002060",
          "X2002091",
          "X2002121",
          "X2002152",
          "X2002182",
          "X2002213",
          "X2002244",
          "X2002274",
          "X2002305",
          "X2002335",
          "X2003001",
          "X2003032",
          "X2003060",
          "X2003091",
          "X2003121",
          "X2003152",
          "X2003182",
          "X2003213",
          "X2003244",
          "X2003274",
          "X2003305",
          "X2003335",
          "X2004001",
          "X2004032",
          "X2004061",
          "X2004092",
          "X2004122",
          "X2004153",
          "X2004183",
          "X2004214",
          "X2004245",
          "X2004275",
          "X2004306",
          "X2004336",
          "X2005001",
          "X2005032",
          "X2005060",
          "X2005091",
          "X2005121",
          "X2005152",
          "X2005182",
          "X2005213",
          "X2005244",
          "X2005274",
          "X2005305",
          "X2005335",
          "X2006001",
          "X2006032",
          "X2006060",
          "X2006091",
          "X2006121",
          "X2006152",
          "X2006182",
          "X2006213",
          "X2006244",
          "X2006274",
          "X2006305",
          "X2006335",
          "X2007001",
          "X2007032",
          "X2007060",
          "X2007091",
          "X2007121",
          "X2007152",
          "X2007182",
          "X2007213",
          "X2007244",
          "X2007274",
          "X2007305",
          "X2007335",
          "X2008001",
          "X2008032",
          "X2008061",
          "X2008092",
          "X2008122",
          "X2008153",
          "X2008183",
          "X2008214",
          "X2008245",
          "X2008275",
          "X2008306",
          "X2008336",
          "X2009001",
          "X2009032",
          "X2009060",
          "X2009091",
          "X2009121",
          "X2009152",
          "X2009182",
          "X2009213",
          "X2009244",
          "X2009274",
          "X2009305",
          "X2009335",
          "X2010001",
          "X2010032",
          "X2010060",
          "X2010091",
          "X2010121",
          "X2010152",
          "X2010182",
          "X2010213",
          "X2010244",
          "X2010274",
          "X2010305",
          "X2010335",
          "X2011001",
          "X2011032",
          "X2011060",
          "X2011091",
          "X2011121",
          "X2011152",
          "X2011182",
          "X2011213",
          "X2011244",
          "X2011274",
          "X2011305",
          "X2011335",
          "X2012001",
          "X2012032",
          "X2012061",
          "X2012092",
          "X2012122",
          "X2012153",
          "X2012183",
          "X2012214",
          "X2012245",
          "X2012275",
          "X2012306",
          "X2012336",
          "X2013001",
          "X2013032",
          "X2013060",
          "X2013091",
          "X2013121",
          "X2013152",
          "X2013182",
          "X2013213",
          "X2013244",
          "X2013274",
          "X2013305",
          "X2013335",
          "X2014001",
          "X2014032",
          "X2014060",
          "X2014091",
          "X2014121",
          "X2014152",
          "X2014182",
          "X2014213",
          "X2014244",
          "X2014274",
          "X2014305",
          "X2014335",
          "X2015001",
          "X2015032",
          "X2015060",
          "X2015091",
          "X2015121",
          "X2015152",
          "X2015182",
          "X2015213",
          "X2015244",
          "X2015274",
          "X2015305",
          "X2015335",
          "X2016001",
          "X2016032",
          "X2016061",
          "X2016092",
          "X2016122",
          "X2016153",
          "X2016183",
          "X2016214",
          "X2016245",
          "X2016275",
          "X2016306",
          "X2016336",
          "X2017001",
          "X2017032",
          "X2017060",
          "X2017091",
          "X2017121",
          "X2017152",
          "X2017182",
          "X2017213",
          "X2017244",
          "X2017274",
          "X2017305",
          "X2017335",
          "X2018001",
          "X2018032",
          "X2018060",
          "X2018091",
          "X2018121",
          "X2018152",
          "X2018182",
          "X2018213",
          "X2018244",
          "X2018274",
          "X2018305",
          "X2018335",
          "X2019001",
          "X2019032",
          "X2019060",
          "X2019091",
          "X2019121",
          "X2019152",
          "X2019182",
          "X2019213",
          "X2019244",
          "X2019274",
          "X2019305",
          "X2019335",
          "X2020001",
          "X2020032",
          "X2020061",
          "X2020092",
          "X2020122",
          "X2020153",
          "X2020183",
          "X2020214",
          "X2020245",
          "X2020275",
          "X2020306",
          "X2020336",
          "X2021001",
          "X2021032",
          "X2021060",
          "X2021091",
          "X2021121",
          "X2021152",
          "X2021182",
          "X2021213",
          "X2021244",
          "X2021274",
          "X2021305",
          "X2021335",
          "X2022001",
          "X2022032",
          "X2022060",
          "X2022091",
          "X2022121",
          "X2022152",
          "X2022182",
          "X2022213",
          "X2022244",
          "X2022274",
          "X2022305",
          "X2022335",
          "X2023001",
          "X2023032",
          "X2023060",
          "X2023091",
          "X2023121",
          "X2023152",
          "X2023182"
         ],
         "xaxis": "x",
         "y": [
          0.341129757,
          0.35769654,
          0.347389274,
          0.404239101,
          0.511610726,
          0.564849134,
          0.562244638,
          0.531817993,
          0.516507266,
          0.426508997,
          0.430808305,
          0.436150865,
          0.397922146,
          0.414292734,
          0.425319377,
          0.471446366,
          0.580284084,
          0.551629412,
          0.54264256,
          0.541554671,
          0.467505536,
          0.428806575,
          0.4488782,
          0.402051902,
          0.399865744,
          0.384491003,
          0.470918339,
          0.4841218,
          0.531204154,
          0.590924224,
          0.60901661,
          0.536774049,
          0.519270589,
          0.456538408,
          0.422015224,
          0.41033218,
          0.371741522,
          0.409559862,
          0.441985466,
          0.431638062,
          0.565283738,
          0.620722145,
          0.55071384,
          0.558057787,
          0.45888789,
          0.46951142,
          0.409952595,
          0.371202769,
          0.35125225,
          0.37079654,
          0.496797577,
          0.530973355,
          0.531082352,
          0.572154671,
          0.591912805,
          0.546096886,
          0.525679585,
          0.436706921,
          0.4243827,
          0.381852595,
          0.390502422,
          0.45022007,
          0.481000693,
          0.52549066,
          0.518963666,
          0.53355294,
          0.577708305,
          0.549244291,
          0.529215225,
          0.485926643,
          0.420467475,
          0.401717647,
          0.377334602,
          0.339089619,
          0.321386505,
          0.39358789,
          0.465295503,
          0.57229135,
          0.623364012,
          0.569677163,
          0.544595155,
          0.480947404,
          0.432938062,
          0.420422146,
          0.417661938,
          0.427228028,
          0.519988582,
          0.563335295,
          0.594634601,
          0.565690659,
          0.55649204,
          0.554557786,
          0.482535986,
          0.478299654,
          0.42901142,
          0.380810728,
          0.344057786,
          0.345360899,
          0.358146367,
          0.435165398,
          0.525342906,
          0.598523184,
          0.578021799,
          0.571714532,
          0.485694465,
          0.454884084,
          0.44044533,
          0.426561938,
          0.391811072,
          0.391597924,
          0.416575434,
          0.441621453,
          0.479560206,
          0.601620413,
          0.607093425,
          0.549140485,
          0.510083046,
          0.500165052,
          0.417706229,
          0.445271281,
          0.416479584,
          0.445438753,
          0.469815917,
          0.543626298,
          0.54834083,
          0.562670934,
          0.601442215,
          0.573099653,
          0.491924915,
          0.479826299,
          0.424335295,
          0.360222837,
          0.325290312,
          0.3185609,
          0.299262976,
          0.263000346,
          0.35167301,
          0.503198962,
          0.572011071,
          0.529435638,
          0.512664012,
          0.467912456,
          0.419595847,
          0.356646714,
          0.375863321,
          0.437803461,
          0.530583046,
          0.477855709,
          0.50345744,
          0.533104497,
          0.527247752,
          0.544029066,
          0.484853979,
          0.443256056,
          0.425833564,
          0.379656401,
          0.36803737,
          0.365470935,
          0.407602422,
          0.448139793,
          0.535830448,
          0.606501036,
          0.588324913,
          0.519680278,
          0.54493045,
          0.456495502,
          0.430008305,
          0.419120415,
          0.368668166,
          0.438190658,
          0.472765398,
          0.510679585,
          0.536555708,
          0.561185122,
          0.533085813,
          0.503830449,
          0.531389619,
          0.467542561,
          0.434727336,
          0.398721454,
          0.369722146,
          0.429498962,
          0.526976816,
          0.517899999,
          0.565550519,
          0.560576817,
          0.549271281,
          0.560423529,
          0.506708998,
          0.497937024,
          0.444508996,
          0.450912457,
          0.349753979,
          0.370371972,
          0.399029413,
          0.49373218,
          0.546217647,
          0.612212802,
          0.601177507,
          0.546966781,
          0.51414498,
          0.466733563,
          0.459141869,
          0.372044982,
          0.353000692,
          0.384605191,
          0.436629067,
          0.511707957,
          0.544009342,
          0.556211419,
          0.613142561,
          0.586622145,
          0.458236332,
          0.47589654,
          0.413638408,
          0.395968166,
          0.383650865,
          0.43425467,
          0.473284083,
          0.57232249,
          0.575442216,
          0.567711073,
          0.538400346,
          0.554551212,
          0.496869897,
          0.430642215,
          0.431525952,
          0.406397578,
          0.380331834,
          0.47463737,
          0.480297231,
          0.432223875,
          0.516680969,
          0.553253634,
          0.578183046,
          0.541639446,
          0.534297924,
          0.510055363,
          0.470532525,
          0.430334257,
          0.410794464,
          0.379480277,
          0.394580277,
          0.474138062,
          0.588617648,
          0.590815915,
          0.604303806,
          0.535611073,
          0.5569782,
          0.505640139,
          0.457508305,
          0.409892734,
          0.373997578,
          0.353047751,
          0.367470242,
          0.511264015,
          0.634465398,
          0.617810727,
          0.594508996,
          0.580174395,
          0.530940485,
          0.489204151,
          0.450508305,
          0.381753287,
          0.376508651,
          0.36186263,
          0.356698269,
          0.533575085,
          0.569445328,
          0.577517647,
          0.64045744,
          0.568595155,
          0.492785122,
          0.492353285,
          0.495328721,
          0.429177854,
          0.376475433,
          0.360315225,
          0.437323875,
          0.552197578,
          0.517960554,
          0.482683045
         ],
         "yaxis": "y"
        }
       ],
       "layout": {
        "legend": {
         "title": {
          "text": "variable"
         },
         "tracegroupgap": 0
        },
        "margin": {
         "t": 60
        },
        "template": {
         "data": {
          "bar": [
           {
            "error_x": {
             "color": "#2a3f5f"
            },
            "error_y": {
             "color": "#2a3f5f"
            },
            "marker": {
             "line": {
              "color": "#E5ECF6",
              "width": 0.5
             },
             "pattern": {
              "fillmode": "overlay",
              "size": 10,
              "solidity": 0.2
             }
            },
            "type": "bar"
           }
          ],
          "barpolar": [
           {
            "marker": {
             "line": {
              "color": "#E5ECF6",
              "width": 0.5
             },
             "pattern": {
              "fillmode": "overlay",
              "size": 10,
              "solidity": 0.2
             }
            },
            "type": "barpolar"
           }
          ],
          "carpet": [
           {
            "aaxis": {
             "endlinecolor": "#2a3f5f",
             "gridcolor": "white",
             "linecolor": "white",
             "minorgridcolor": "white",
             "startlinecolor": "#2a3f5f"
            },
            "baxis": {
             "endlinecolor": "#2a3f5f",
             "gridcolor": "white",
             "linecolor": "white",
             "minorgridcolor": "white",
             "startlinecolor": "#2a3f5f"
            },
            "type": "carpet"
           }
          ],
          "choropleth": [
           {
            "colorbar": {
             "outlinewidth": 0,
             "ticks": ""
            },
            "type": "choropleth"
           }
          ],
          "contour": [
           {
            "colorbar": {
             "outlinewidth": 0,
             "ticks": ""
            },
            "colorscale": [
             [
              0,
              "#0d0887"
             ],
             [
              0.1111111111111111,
              "#46039f"
             ],
             [
              0.2222222222222222,
              "#7201a8"
             ],
             [
              0.3333333333333333,
              "#9c179e"
             ],
             [
              0.4444444444444444,
              "#bd3786"
             ],
             [
              0.5555555555555556,
              "#d8576b"
             ],
             [
              0.6666666666666666,
              "#ed7953"
             ],
             [
              0.7777777777777778,
              "#fb9f3a"
             ],
             [
              0.8888888888888888,
              "#fdca26"
             ],
             [
              1,
              "#f0f921"
             ]
            ],
            "type": "contour"
           }
          ],
          "contourcarpet": [
           {
            "colorbar": {
             "outlinewidth": 0,
             "ticks": ""
            },
            "type": "contourcarpet"
           }
          ],
          "heatmap": [
           {
            "colorbar": {
             "outlinewidth": 0,
             "ticks": ""
            },
            "colorscale": [
             [
              0,
              "#0d0887"
             ],
             [
              0.1111111111111111,
              "#46039f"
             ],
             [
              0.2222222222222222,
              "#7201a8"
             ],
             [
              0.3333333333333333,
              "#9c179e"
             ],
             [
              0.4444444444444444,
              "#bd3786"
             ],
             [
              0.5555555555555556,
              "#d8576b"
             ],
             [
              0.6666666666666666,
              "#ed7953"
             ],
             [
              0.7777777777777778,
              "#fb9f3a"
             ],
             [
              0.8888888888888888,
              "#fdca26"
             ],
             [
              1,
              "#f0f921"
             ]
            ],
            "type": "heatmap"
           }
          ],
          "heatmapgl": [
           {
            "colorbar": {
             "outlinewidth": 0,
             "ticks": ""
            },
            "colorscale": [
             [
              0,
              "#0d0887"
             ],
             [
              0.1111111111111111,
              "#46039f"
             ],
             [
              0.2222222222222222,
              "#7201a8"
             ],
             [
              0.3333333333333333,
              "#9c179e"
             ],
             [
              0.4444444444444444,
              "#bd3786"
             ],
             [
              0.5555555555555556,
              "#d8576b"
             ],
             [
              0.6666666666666666,
              "#ed7953"
             ],
             [
              0.7777777777777778,
              "#fb9f3a"
             ],
             [
              0.8888888888888888,
              "#fdca26"
             ],
             [
              1,
              "#f0f921"
             ]
            ],
            "type": "heatmapgl"
           }
          ],
          "histogram": [
           {
            "marker": {
             "pattern": {
              "fillmode": "overlay",
              "size": 10,
              "solidity": 0.2
             }
            },
            "type": "histogram"
           }
          ],
          "histogram2d": [
           {
            "colorbar": {
             "outlinewidth": 0,
             "ticks": ""
            },
            "colorscale": [
             [
              0,
              "#0d0887"
             ],
             [
              0.1111111111111111,
              "#46039f"
             ],
             [
              0.2222222222222222,
              "#7201a8"
             ],
             [
              0.3333333333333333,
              "#9c179e"
             ],
             [
              0.4444444444444444,
              "#bd3786"
             ],
             [
              0.5555555555555556,
              "#d8576b"
             ],
             [
              0.6666666666666666,
              "#ed7953"
             ],
             [
              0.7777777777777778,
              "#fb9f3a"
             ],
             [
              0.8888888888888888,
              "#fdca26"
             ],
             [
              1,
              "#f0f921"
             ]
            ],
            "type": "histogram2d"
           }
          ],
          "histogram2dcontour": [
           {
            "colorbar": {
             "outlinewidth": 0,
             "ticks": ""
            },
            "colorscale": [
             [
              0,
              "#0d0887"
             ],
             [
              0.1111111111111111,
              "#46039f"
             ],
             [
              0.2222222222222222,
              "#7201a8"
             ],
             [
              0.3333333333333333,
              "#9c179e"
             ],
             [
              0.4444444444444444,
              "#bd3786"
             ],
             [
              0.5555555555555556,
              "#d8576b"
             ],
             [
              0.6666666666666666,
              "#ed7953"
             ],
             [
              0.7777777777777778,
              "#fb9f3a"
             ],
             [
              0.8888888888888888,
              "#fdca26"
             ],
             [
              1,
              "#f0f921"
             ]
            ],
            "type": "histogram2dcontour"
           }
          ],
          "mesh3d": [
           {
            "colorbar": {
             "outlinewidth": 0,
             "ticks": ""
            },
            "type": "mesh3d"
           }
          ],
          "parcoords": [
           {
            "line": {
             "colorbar": {
              "outlinewidth": 0,
              "ticks": ""
             }
            },
            "type": "parcoords"
           }
          ],
          "pie": [
           {
            "automargin": true,
            "type": "pie"
           }
          ],
          "scatter": [
           {
            "fillpattern": {
             "fillmode": "overlay",
             "size": 10,
             "solidity": 0.2
            },
            "type": "scatter"
           }
          ],
          "scatter3d": [
           {
            "line": {
             "colorbar": {
              "outlinewidth": 0,
              "ticks": ""
             }
            },
            "marker": {
             "colorbar": {
              "outlinewidth": 0,
              "ticks": ""
             }
            },
            "type": "scatter3d"
           }
          ],
          "scattercarpet": [
           {
            "marker": {
             "colorbar": {
              "outlinewidth": 0,
              "ticks": ""
             }
            },
            "type": "scattercarpet"
           }
          ],
          "scattergeo": [
           {
            "marker": {
             "colorbar": {
              "outlinewidth": 0,
              "ticks": ""
             }
            },
            "type": "scattergeo"
           }
          ],
          "scattergl": [
           {
            "marker": {
             "colorbar": {
              "outlinewidth": 0,
              "ticks": ""
             }
            },
            "type": "scattergl"
           }
          ],
          "scattermapbox": [
           {
            "marker": {
             "colorbar": {
              "outlinewidth": 0,
              "ticks": ""
             }
            },
            "type": "scattermapbox"
           }
          ],
          "scatterpolar": [
           {
            "marker": {
             "colorbar": {
              "outlinewidth": 0,
              "ticks": ""
             }
            },
            "type": "scatterpolar"
           }
          ],
          "scatterpolargl": [
           {
            "marker": {
             "colorbar": {
              "outlinewidth": 0,
              "ticks": ""
             }
            },
            "type": "scatterpolargl"
           }
          ],
          "scatterternary": [
           {
            "marker": {
             "colorbar": {
              "outlinewidth": 0,
              "ticks": ""
             }
            },
            "type": "scatterternary"
           }
          ],
          "surface": [
           {
            "colorbar": {
             "outlinewidth": 0,
             "ticks": ""
            },
            "colorscale": [
             [
              0,
              "#0d0887"
             ],
             [
              0.1111111111111111,
              "#46039f"
             ],
             [
              0.2222222222222222,
              "#7201a8"
             ],
             [
              0.3333333333333333,
              "#9c179e"
             ],
             [
              0.4444444444444444,
              "#bd3786"
             ],
             [
              0.5555555555555556,
              "#d8576b"
             ],
             [
              0.6666666666666666,
              "#ed7953"
             ],
             [
              0.7777777777777778,
              "#fb9f3a"
             ],
             [
              0.8888888888888888,
              "#fdca26"
             ],
             [
              1,
              "#f0f921"
             ]
            ],
            "type": "surface"
           }
          ],
          "table": [
           {
            "cells": {
             "fill": {
              "color": "#EBF0F8"
             },
             "line": {
              "color": "white"
             }
            },
            "header": {
             "fill": {
              "color": "#C8D4E3"
             },
             "line": {
              "color": "white"
             }
            },
            "type": "table"
           }
          ]
         },
         "layout": {
          "annotationdefaults": {
           "arrowcolor": "#2a3f5f",
           "arrowhead": 0,
           "arrowwidth": 1
          },
          "autotypenumbers": "strict",
          "coloraxis": {
           "colorbar": {
            "outlinewidth": 0,
            "ticks": ""
           }
          },
          "colorscale": {
           "diverging": [
            [
             0,
             "#8e0152"
            ],
            [
             0.1,
             "#c51b7d"
            ],
            [
             0.2,
             "#de77ae"
            ],
            [
             0.3,
             "#f1b6da"
            ],
            [
             0.4,
             "#fde0ef"
            ],
            [
             0.5,
             "#f7f7f7"
            ],
            [
             0.6,
             "#e6f5d0"
            ],
            [
             0.7,
             "#b8e186"
            ],
            [
             0.8,
             "#7fbc41"
            ],
            [
             0.9,
             "#4d9221"
            ],
            [
             1,
             "#276419"
            ]
           ],
           "sequential": [
            [
             0,
             "#0d0887"
            ],
            [
             0.1111111111111111,
             "#46039f"
            ],
            [
             0.2222222222222222,
             "#7201a8"
            ],
            [
             0.3333333333333333,
             "#9c179e"
            ],
            [
             0.4444444444444444,
             "#bd3786"
            ],
            [
             0.5555555555555556,
             "#d8576b"
            ],
            [
             0.6666666666666666,
             "#ed7953"
            ],
            [
             0.7777777777777778,
             "#fb9f3a"
            ],
            [
             0.8888888888888888,
             "#fdca26"
            ],
            [
             1,
             "#f0f921"
            ]
           ],
           "sequentialminus": [
            [
             0,
             "#0d0887"
            ],
            [
             0.1111111111111111,
             "#46039f"
            ],
            [
             0.2222222222222222,
             "#7201a8"
            ],
            [
             0.3333333333333333,
             "#9c179e"
            ],
            [
             0.4444444444444444,
             "#bd3786"
            ],
            [
             0.5555555555555556,
             "#d8576b"
            ],
            [
             0.6666666666666666,
             "#ed7953"
            ],
            [
             0.7777777777777778,
             "#fb9f3a"
            ],
            [
             0.8888888888888888,
             "#fdca26"
            ],
            [
             1,
             "#f0f921"
            ]
           ]
          },
          "colorway": [
           "#636efa",
           "#EF553B",
           "#00cc96",
           "#ab63fa",
           "#FFA15A",
           "#19d3f3",
           "#FF6692",
           "#B6E880",
           "#FF97FF",
           "#FECB52"
          ],
          "font": {
           "color": "#2a3f5f"
          },
          "geo": {
           "bgcolor": "white",
           "lakecolor": "white",
           "landcolor": "#E5ECF6",
           "showlakes": true,
           "showland": true,
           "subunitcolor": "white"
          },
          "hoverlabel": {
           "align": "left"
          },
          "hovermode": "closest",
          "mapbox": {
           "style": "light"
          },
          "paper_bgcolor": "white",
          "plot_bgcolor": "#E5ECF6",
          "polar": {
           "angularaxis": {
            "gridcolor": "white",
            "linecolor": "white",
            "ticks": ""
           },
           "bgcolor": "#E5ECF6",
           "radialaxis": {
            "gridcolor": "white",
            "linecolor": "white",
            "ticks": ""
           }
          },
          "scene": {
           "xaxis": {
            "backgroundcolor": "#E5ECF6",
            "gridcolor": "white",
            "gridwidth": 2,
            "linecolor": "white",
            "showbackground": true,
            "ticks": "",
            "zerolinecolor": "white"
           },
           "yaxis": {
            "backgroundcolor": "#E5ECF6",
            "gridcolor": "white",
            "gridwidth": 2,
            "linecolor": "white",
            "showbackground": true,
            "ticks": "",
            "zerolinecolor": "white"
           },
           "zaxis": {
            "backgroundcolor": "#E5ECF6",
            "gridcolor": "white",
            "gridwidth": 2,
            "linecolor": "white",
            "showbackground": true,
            "ticks": "",
            "zerolinecolor": "white"
           }
          },
          "shapedefaults": {
           "line": {
            "color": "#2a3f5f"
           }
          },
          "ternary": {
           "aaxis": {
            "gridcolor": "white",
            "linecolor": "white",
            "ticks": ""
           },
           "baxis": {
            "gridcolor": "white",
            "linecolor": "white",
            "ticks": ""
           },
           "bgcolor": "#E5ECF6",
           "caxis": {
            "gridcolor": "white",
            "linecolor": "white",
            "ticks": ""
           }
          },
          "title": {
           "x": 0.05
          },
          "xaxis": {
           "automargin": true,
           "gridcolor": "white",
           "linecolor": "white",
           "ticks": "",
           "title": {
            "standoff": 15
           },
           "zerolinecolor": "white",
           "zerolinewidth": 2
          },
          "yaxis": {
           "automargin": true,
           "gridcolor": "white",
           "linecolor": "white",
           "ticks": "",
           "title": {
            "standoff": 15
           },
           "zerolinecolor": "white",
           "zerolinewidth": 2
          }
         }
        },
        "xaxis": {
         "anchor": "y",
         "domain": [
          0,
          1
         ],
         "title": {
          "text": "index"
         }
        },
        "yaxis": {
         "anchor": "x",
         "domain": [
          0,
          1
         ],
         "title": {
          "text": "value"
         }
        }
       }
      }
     },
     "metadata": {},
     "output_type": "display_data"
    }
   ],
   "source": [
    "px.line(eviMean.sample().iloc[:,8:].transpose())"
   ]
  },
  {
   "cell_type": "code",
   "execution_count": 124,
   "metadata": {},
   "outputs": [
    {
     "data": {
      "text/plain": [
       "'Planicie Costera, Lomerios y Canones del Occidente'"
      ]
     },
     "execution_count": 124,
     "metadata": {},
     "output_type": "execute_result"
    }
   ],
   "source": [
    "eviMean.iloc[5122, 5]"
   ]
  },
  {
   "cell_type": "markdown",
   "metadata": {},
   "source": [
    "## Groupby"
   ]
  },
  {
   "cell_type": "code",
   "execution_count": 125,
   "metadata": {},
   "outputs": [],
   "source": [
    "regions = eviMean.groupby(by='DESECON1')"
   ]
  },
  {
   "cell_type": "code",
   "execution_count": 126,
   "metadata": {},
   "outputs": [
    {
     "data": {
      "text/plain": [
       "dict_keys(['California Mediterranea', 'Desiertos de America del Norte', 'Elevaciones Semiaridas Meridionales', 'Grandes Planicies', 'Selvas Calido-Humedas', 'Selvas Calido-Secas', 'Sierras Templadas'])"
      ]
     },
     "execution_count": 126,
     "metadata": {},
     "output_type": "execute_result"
    }
   ],
   "source": [
    "regions.groups.keys()"
   ]
  },
  {
   "cell_type": "code",
   "execution_count": 127,
   "metadata": {},
   "outputs": [
    {
     "data": {
      "text/plain": [
       "DESECON1\n",
       "California Mediterranea                 119\n",
       "Grandes Planicies                       489\n",
       "Elevaciones Semiaridas Meridionales    1058\n",
       "Selvas Calido-Humedas                  1200\n",
       "Selvas Calido-Secas                    1423\n",
       "Sierras Templadas                      1928\n",
       "Desiertos de America del Norte         2577\n",
       "dtype: int64"
      ]
     },
     "execution_count": 127,
     "metadata": {},
     "output_type": "execute_result"
    }
   ],
   "source": [
    "regions.size().sort_values()"
   ]
  },
  {
   "cell_type": "code",
   "execution_count": 128,
   "metadata": {},
   "outputs": [],
   "source": [
    "reg1 = regions.get_group('Desiertos de America del Norte')"
   ]
  },
  {
   "cell_type": "code",
   "execution_count": 129,
   "metadata": {},
   "outputs": [
    {
     "data": {
      "text/html": [
       "<div>\n",
       "<style scoped>\n",
       "    .dataframe tbody tr th:only-of-type {\n",
       "        vertical-align: middle;\n",
       "    }\n",
       "\n",
       "    .dataframe tbody tr th {\n",
       "        vertical-align: top;\n",
       "    }\n",
       "\n",
       "    .dataframe thead th {\n",
       "        text-align: right;\n",
       "    }\n",
       "</style>\n",
       "<table border=\"1\" class=\"dataframe\">\n",
       "  <thead>\n",
       "    <tr style=\"text-align: right;\">\n",
       "      <th></th>\n",
       "      <th>id_ok</th>\n",
       "      <th>longitude</th>\n",
       "      <th>latitude</th>\n",
       "      <th>km2</th>\n",
       "      <th>DESECON1</th>\n",
       "      <th>DESECON2</th>\n",
       "      <th>DESECON3</th>\n",
       "      <th>DESECON4</th>\n",
       "      <th>X2000032</th>\n",
       "      <th>X2000061</th>\n",
       "      <th>...</th>\n",
       "      <th>X2022274</th>\n",
       "      <th>X2022305</th>\n",
       "      <th>X2022335</th>\n",
       "      <th>X2023001</th>\n",
       "      <th>X2023032</th>\n",
       "      <th>X2023060</th>\n",
       "      <th>X2023091</th>\n",
       "      <th>X2023121</th>\n",
       "      <th>X2023152</th>\n",
       "      <th>X2023182</th>\n",
       "    </tr>\n",
       "  </thead>\n",
       "  <tbody>\n",
       "    <tr>\n",
       "      <th>3222</th>\n",
       "      <td>3316</td>\n",
       "      <td>-99.805554</td>\n",
       "      <td>21.621329</td>\n",
       "      <td>222.815667</td>\n",
       "      <td>Desiertos de America del Norte</td>\n",
       "      <td>Desiertos Calidos</td>\n",
       "      <td>Desierto Chihuahuense</td>\n",
       "      <td>Planicies del Altiplano Zacatecano-Potosino co...</td>\n",
       "      <td>0.160945</td>\n",
       "      <td>0.165068</td>\n",
       "      <td>...</td>\n",
       "      <td>0.350151</td>\n",
       "      <td>0.313900</td>\n",
       "      <td>0.299278</td>\n",
       "      <td>0.201708</td>\n",
       "      <td>0.160254</td>\n",
       "      <td>0.157356</td>\n",
       "      <td>0.159249</td>\n",
       "      <td>0.175464</td>\n",
       "      <td>0.192033</td>\n",
       "      <td>0.182492</td>\n",
       "    </tr>\n",
       "    <tr>\n",
       "      <th>3270</th>\n",
       "      <td>3367</td>\n",
       "      <td>-100.926354</td>\n",
       "      <td>21.761429</td>\n",
       "      <td>222.569249</td>\n",
       "      <td>Desiertos de America del Norte</td>\n",
       "      <td>Desiertos Calidos</td>\n",
       "      <td>Desierto Chihuahuense</td>\n",
       "      <td>Planicies del Altiplano Zacatecano-Potosino co...</td>\n",
       "      <td>0.160917</td>\n",
       "      <td>0.169971</td>\n",
       "      <td>...</td>\n",
       "      <td>0.261451</td>\n",
       "      <td>0.212997</td>\n",
       "      <td>0.191341</td>\n",
       "      <td>0.166828</td>\n",
       "      <td>0.153103</td>\n",
       "      <td>0.164724</td>\n",
       "      <td>0.177433</td>\n",
       "      <td>0.204699</td>\n",
       "      <td>0.225996</td>\n",
       "      <td>0.225684</td>\n",
       "    </tr>\n",
       "    <tr>\n",
       "      <th>3327</th>\n",
       "      <td>3424</td>\n",
       "      <td>-100.926354</td>\n",
       "      <td>21.901529</td>\n",
       "      <td>222.324198</td>\n",
       "      <td>Desiertos de America del Norte</td>\n",
       "      <td>Desiertos Calidos</td>\n",
       "      <td>Desierto Chihuahuense</td>\n",
       "      <td>Planicies del Altiplano Zacatecano-Potosino co...</td>\n",
       "      <td>0.138129</td>\n",
       "      <td>0.146591</td>\n",
       "      <td>...</td>\n",
       "      <td>0.265421</td>\n",
       "      <td>0.210638</td>\n",
       "      <td>0.184922</td>\n",
       "      <td>0.159277</td>\n",
       "      <td>0.141992</td>\n",
       "      <td>0.147725</td>\n",
       "      <td>0.160331</td>\n",
       "      <td>0.171418</td>\n",
       "      <td>0.181015</td>\n",
       "      <td>0.193701</td>\n",
       "    </tr>\n",
       "    <tr>\n",
       "      <th>3328</th>\n",
       "      <td>3425</td>\n",
       "      <td>-100.786254</td>\n",
       "      <td>21.901529</td>\n",
       "      <td>222.324198</td>\n",
       "      <td>Desiertos de America del Norte</td>\n",
       "      <td>Desiertos Calidos</td>\n",
       "      <td>Desierto Chihuahuense</td>\n",
       "      <td>Planicies del Altiplano Zacatecano-Potosino co...</td>\n",
       "      <td>0.113487</td>\n",
       "      <td>0.124050</td>\n",
       "      <td>...</td>\n",
       "      <td>0.220094</td>\n",
       "      <td>0.172908</td>\n",
       "      <td>0.154411</td>\n",
       "      <td>0.131061</td>\n",
       "      <td>0.113505</td>\n",
       "      <td>0.120184</td>\n",
       "      <td>0.136962</td>\n",
       "      <td>0.162148</td>\n",
       "      <td>0.175997</td>\n",
       "      <td>0.168276</td>\n",
       "    </tr>\n",
       "    <tr>\n",
       "      <th>3334</th>\n",
       "      <td>3431</td>\n",
       "      <td>-99.945654</td>\n",
       "      <td>21.901529</td>\n",
       "      <td>222.324198</td>\n",
       "      <td>Desiertos de America del Norte</td>\n",
       "      <td>Desiertos Calidos</td>\n",
       "      <td>Desierto Chihuahuense</td>\n",
       "      <td>Planicies del Altiplano Zacatecano-Potosino co...</td>\n",
       "      <td>0.165141</td>\n",
       "      <td>0.184403</td>\n",
       "      <td>...</td>\n",
       "      <td>0.355976</td>\n",
       "      <td>0.285438</td>\n",
       "      <td>0.245578</td>\n",
       "      <td>0.215332</td>\n",
       "      <td>0.178375</td>\n",
       "      <td>0.182429</td>\n",
       "      <td>0.244910</td>\n",
       "      <td>0.279941</td>\n",
       "      <td>0.250646</td>\n",
       "      <td>0.233376</td>\n",
       "    </tr>\n",
       "  </tbody>\n",
       "</table>\n",
       "<p>5 rows × 290 columns</p>\n",
       "</div>"
      ],
      "text/plain": [
       "      id_ok   longitude   latitude         km2  \\\n",
       "3222   3316  -99.805554  21.621329  222.815667   \n",
       "3270   3367 -100.926354  21.761429  222.569249   \n",
       "3327   3424 -100.926354  21.901529  222.324198   \n",
       "3328   3425 -100.786254  21.901529  222.324198   \n",
       "3334   3431  -99.945654  21.901529  222.324198   \n",
       "\n",
       "                            DESECON1           DESECON2  \\\n",
       "3222  Desiertos de America del Norte  Desiertos Calidos   \n",
       "3270  Desiertos de America del Norte  Desiertos Calidos   \n",
       "3327  Desiertos de America del Norte  Desiertos Calidos   \n",
       "3328  Desiertos de America del Norte  Desiertos Calidos   \n",
       "3334  Desiertos de America del Norte  Desiertos Calidos   \n",
       "\n",
       "                   DESECON3  \\\n",
       "3222  Desierto Chihuahuense   \n",
       "3270  Desierto Chihuahuense   \n",
       "3327  Desierto Chihuahuense   \n",
       "3328  Desierto Chihuahuense   \n",
       "3334  Desierto Chihuahuense   \n",
       "\n",
       "                                               DESECON4  X2000032  X2000061  \\\n",
       "3222  Planicies del Altiplano Zacatecano-Potosino co...  0.160945  0.165068   \n",
       "3270  Planicies del Altiplano Zacatecano-Potosino co...  0.160917  0.169971   \n",
       "3327  Planicies del Altiplano Zacatecano-Potosino co...  0.138129  0.146591   \n",
       "3328  Planicies del Altiplano Zacatecano-Potosino co...  0.113487  0.124050   \n",
       "3334  Planicies del Altiplano Zacatecano-Potosino co...  0.165141  0.184403   \n",
       "\n",
       "      ...  X2022274  X2022305  X2022335  X2023001  X2023032  X2023060  \\\n",
       "3222  ...  0.350151  0.313900  0.299278  0.201708  0.160254  0.157356   \n",
       "3270  ...  0.261451  0.212997  0.191341  0.166828  0.153103  0.164724   \n",
       "3327  ...  0.265421  0.210638  0.184922  0.159277  0.141992  0.147725   \n",
       "3328  ...  0.220094  0.172908  0.154411  0.131061  0.113505  0.120184   \n",
       "3334  ...  0.355976  0.285438  0.245578  0.215332  0.178375  0.182429   \n",
       "\n",
       "      X2023091  X2023121  X2023152  X2023182  \n",
       "3222  0.159249  0.175464  0.192033  0.182492  \n",
       "3270  0.177433  0.204699  0.225996  0.225684  \n",
       "3327  0.160331  0.171418  0.181015  0.193701  \n",
       "3328  0.136962  0.162148  0.175997  0.168276  \n",
       "3334  0.244910  0.279941  0.250646  0.233376  \n",
       "\n",
       "[5 rows x 290 columns]"
      ]
     },
     "execution_count": 129,
     "metadata": {},
     "output_type": "execute_result"
    }
   ],
   "source": [
    "reg1.head()"
   ]
  },
  {
   "cell_type": "markdown",
   "metadata": {},
   "source": [
    "the temporal information is given by the index"
   ]
  },
  {
   "cell_type": "code",
   "execution_count": 130,
   "metadata": {},
   "outputs": [
    {
     "data": {
      "text/plain": [
       "Index(['id_ok', 'longitude', 'latitude', 'km2', 'DESECON1', 'DESECON2',\n",
       "       'DESECON3', 'DESECON4', 'X2000032', 'X2000061',\n",
       "       ...\n",
       "       'X2022274', 'X2022305', 'X2022335', 'X2023001', 'X2023032', 'X2023060',\n",
       "       'X2023091', 'X2023121', 'X2023152', 'X2023182'],\n",
       "      dtype='object', length=290)"
      ]
     },
     "execution_count": 130,
     "metadata": {},
     "output_type": "execute_result"
    }
   ],
   "source": [
    "reg1.columns"
   ]
  },
  {
   "cell_type": "code",
   "execution_count": 131,
   "metadata": {},
   "outputs": [
    {
     "data": {
      "text/plain": [
       "[2000,\n",
       " 2000,\n",
       " 2000,\n",
       " 2000,\n",
       " 2000,\n",
       " 2000,\n",
       " 2000,\n",
       " 2000,\n",
       " 2000,\n",
       " 2000,\n",
       " 2000,\n",
       " 2001,\n",
       " 2001,\n",
       " 2001,\n",
       " 2001,\n",
       " 2001,\n",
       " 2001,\n",
       " 2001,\n",
       " 2001,\n",
       " 2001,\n",
       " 2001,\n",
       " 2001,\n",
       " 2001,\n",
       " 2002,\n",
       " 2002,\n",
       " 2002,\n",
       " 2002,\n",
       " 2002,\n",
       " 2002,\n",
       " 2002,\n",
       " 2002,\n",
       " 2002,\n",
       " 2002,\n",
       " 2002,\n",
       " 2002,\n",
       " 2003,\n",
       " 2003,\n",
       " 2003,\n",
       " 2003,\n",
       " 2003,\n",
       " 2003,\n",
       " 2003,\n",
       " 2003,\n",
       " 2003,\n",
       " 2003,\n",
       " 2003,\n",
       " 2003,\n",
       " 2004,\n",
       " 2004,\n",
       " 2004,\n",
       " 2004,\n",
       " 2004,\n",
       " 2004,\n",
       " 2004,\n",
       " 2004,\n",
       " 2004,\n",
       " 2004,\n",
       " 2004,\n",
       " 2004,\n",
       " 2005,\n",
       " 2005,\n",
       " 2005,\n",
       " 2005,\n",
       " 2005,\n",
       " 2005,\n",
       " 2005,\n",
       " 2005,\n",
       " 2005,\n",
       " 2005,\n",
       " 2005,\n",
       " 2005,\n",
       " 2006,\n",
       " 2006,\n",
       " 2006,\n",
       " 2006,\n",
       " 2006,\n",
       " 2006,\n",
       " 2006,\n",
       " 2006,\n",
       " 2006,\n",
       " 2006,\n",
       " 2006,\n",
       " 2006,\n",
       " 2007,\n",
       " 2007,\n",
       " 2007,\n",
       " 2007,\n",
       " 2007,\n",
       " 2007,\n",
       " 2007,\n",
       " 2007,\n",
       " 2007,\n",
       " 2007,\n",
       " 2007,\n",
       " 2007,\n",
       " 2008,\n",
       " 2008,\n",
       " 2008,\n",
       " 2008,\n",
       " 2008,\n",
       " 2008,\n",
       " 2008,\n",
       " 2008,\n",
       " 2008,\n",
       " 2008,\n",
       " 2008,\n",
       " 2008,\n",
       " 2009,\n",
       " 2009,\n",
       " 2009,\n",
       " 2009,\n",
       " 2009,\n",
       " 2009,\n",
       " 2009,\n",
       " 2009,\n",
       " 2009,\n",
       " 2009,\n",
       " 2009,\n",
       " 2009,\n",
       " 2010,\n",
       " 2010,\n",
       " 2010,\n",
       " 2010,\n",
       " 2010,\n",
       " 2010,\n",
       " 2010,\n",
       " 2010,\n",
       " 2010,\n",
       " 2010,\n",
       " 2010,\n",
       " 2010,\n",
       " 2011,\n",
       " 2011,\n",
       " 2011,\n",
       " 2011,\n",
       " 2011,\n",
       " 2011,\n",
       " 2011,\n",
       " 2011,\n",
       " 2011,\n",
       " 2011,\n",
       " 2011,\n",
       " 2011,\n",
       " 2012,\n",
       " 2012,\n",
       " 2012,\n",
       " 2012,\n",
       " 2012,\n",
       " 2012,\n",
       " 2012,\n",
       " 2012,\n",
       " 2012,\n",
       " 2012,\n",
       " 2012,\n",
       " 2012,\n",
       " 2013,\n",
       " 2013,\n",
       " 2013,\n",
       " 2013,\n",
       " 2013,\n",
       " 2013,\n",
       " 2013,\n",
       " 2013,\n",
       " 2013,\n",
       " 2013,\n",
       " 2013,\n",
       " 2013,\n",
       " 2014,\n",
       " 2014,\n",
       " 2014,\n",
       " 2014,\n",
       " 2014,\n",
       " 2014,\n",
       " 2014,\n",
       " 2014,\n",
       " 2014,\n",
       " 2014,\n",
       " 2014,\n",
       " 2014,\n",
       " 2015,\n",
       " 2015,\n",
       " 2015,\n",
       " 2015,\n",
       " 2015,\n",
       " 2015,\n",
       " 2015,\n",
       " 2015,\n",
       " 2015,\n",
       " 2015,\n",
       " 2015,\n",
       " 2015,\n",
       " 2016,\n",
       " 2016,\n",
       " 2016,\n",
       " 2016,\n",
       " 2016,\n",
       " 2016,\n",
       " 2016,\n",
       " 2016,\n",
       " 2016,\n",
       " 2016,\n",
       " 2016,\n",
       " 2016,\n",
       " 2017,\n",
       " 2017,\n",
       " 2017,\n",
       " 2017,\n",
       " 2017,\n",
       " 2017,\n",
       " 2017,\n",
       " 2017,\n",
       " 2017,\n",
       " 2017,\n",
       " 2017,\n",
       " 2017,\n",
       " 2018,\n",
       " 2018,\n",
       " 2018,\n",
       " 2018,\n",
       " 2018,\n",
       " 2018,\n",
       " 2018,\n",
       " 2018,\n",
       " 2018,\n",
       " 2018,\n",
       " 2018,\n",
       " 2018,\n",
       " 2019,\n",
       " 2019,\n",
       " 2019,\n",
       " 2019,\n",
       " 2019,\n",
       " 2019,\n",
       " 2019,\n",
       " 2019,\n",
       " 2019,\n",
       " 2019,\n",
       " 2019,\n",
       " 2019,\n",
       " 2020,\n",
       " 2020,\n",
       " 2020,\n",
       " 2020,\n",
       " 2020,\n",
       " 2020,\n",
       " 2020,\n",
       " 2020,\n",
       " 2020,\n",
       " 2020,\n",
       " 2020,\n",
       " 2020,\n",
       " 2021,\n",
       " 2021,\n",
       " 2021,\n",
       " 2021,\n",
       " 2021,\n",
       " 2021,\n",
       " 2021,\n",
       " 2021,\n",
       " 2021,\n",
       " 2021,\n",
       " 2021,\n",
       " 2021,\n",
       " 2022,\n",
       " 2022,\n",
       " 2022,\n",
       " 2022,\n",
       " 2022,\n",
       " 2022,\n",
       " 2022,\n",
       " 2022,\n",
       " 2022,\n",
       " 2022,\n",
       " 2022,\n",
       " 2022,\n",
       " 2023,\n",
       " 2023,\n",
       " 2023,\n",
       " 2023,\n",
       " 2023,\n",
       " 2023,\n",
       " 2023]"
      ]
     },
     "execution_count": 131,
     "metadata": {},
     "output_type": "execute_result"
    }
   ],
   "source": [
    "new_indexes_year = [int(s[:4]) for s in reg1.columns[8:].str.split('X').str[-1]]\n",
    "new_indexes_year"
   ]
  },
  {
   "cell_type": "code",
   "execution_count": 132,
   "metadata": {},
   "outputs": [
    {
     "data": {
      "text/plain": [
       "['id_ok',\n",
       " 'longitude',\n",
       " 'latitude',\n",
       " 'km2',\n",
       " 'DESECON1',\n",
       " 'DESECON2',\n",
       " 'DESECON3',\n",
       " 'DESECON4']"
      ]
     },
     "execution_count": 132,
     "metadata": {},
     "output_type": "execute_result"
    }
   ],
   "source": [
    "new_indexes = list(eviMean.columns[:8])\n",
    "new_indexes"
   ]
  },
  {
   "cell_type": "code",
   "execution_count": 133,
   "metadata": {},
   "outputs": [
    {
     "data": {
      "text/plain": [
       "['id_ok',\n",
       " 'longitude',\n",
       " 'latitude',\n",
       " 'km2',\n",
       " 'DESECON1',\n",
       " 'DESECON2',\n",
       " 'DESECON3',\n",
       " 'DESECON4',\n",
       " 2000,\n",
       " 2000,\n",
       " 2000,\n",
       " 2000,\n",
       " 2000,\n",
       " 2000,\n",
       " 2000,\n",
       " 2000,\n",
       " 2000,\n",
       " 2000,\n",
       " 2000,\n",
       " 2001,\n",
       " 2001,\n",
       " 2001,\n",
       " 2001,\n",
       " 2001,\n",
       " 2001,\n",
       " 2001,\n",
       " 2001,\n",
       " 2001,\n",
       " 2001,\n",
       " 2001,\n",
       " 2001,\n",
       " 2002,\n",
       " 2002,\n",
       " 2002,\n",
       " 2002,\n",
       " 2002,\n",
       " 2002,\n",
       " 2002,\n",
       " 2002,\n",
       " 2002,\n",
       " 2002,\n",
       " 2002,\n",
       " 2002,\n",
       " 2003,\n",
       " 2003,\n",
       " 2003,\n",
       " 2003,\n",
       " 2003,\n",
       " 2003,\n",
       " 2003,\n",
       " 2003,\n",
       " 2003,\n",
       " 2003,\n",
       " 2003,\n",
       " 2003,\n",
       " 2004,\n",
       " 2004,\n",
       " 2004,\n",
       " 2004,\n",
       " 2004,\n",
       " 2004,\n",
       " 2004,\n",
       " 2004,\n",
       " 2004,\n",
       " 2004,\n",
       " 2004,\n",
       " 2004,\n",
       " 2005,\n",
       " 2005,\n",
       " 2005,\n",
       " 2005,\n",
       " 2005,\n",
       " 2005,\n",
       " 2005,\n",
       " 2005,\n",
       " 2005,\n",
       " 2005,\n",
       " 2005,\n",
       " 2005,\n",
       " 2006,\n",
       " 2006,\n",
       " 2006,\n",
       " 2006,\n",
       " 2006,\n",
       " 2006,\n",
       " 2006,\n",
       " 2006,\n",
       " 2006,\n",
       " 2006,\n",
       " 2006,\n",
       " 2006,\n",
       " 2007,\n",
       " 2007,\n",
       " 2007,\n",
       " 2007,\n",
       " 2007,\n",
       " 2007,\n",
       " 2007,\n",
       " 2007,\n",
       " 2007,\n",
       " 2007,\n",
       " 2007,\n",
       " 2007,\n",
       " 2008,\n",
       " 2008,\n",
       " 2008,\n",
       " 2008,\n",
       " 2008,\n",
       " 2008,\n",
       " 2008,\n",
       " 2008,\n",
       " 2008,\n",
       " 2008,\n",
       " 2008,\n",
       " 2008,\n",
       " 2009,\n",
       " 2009,\n",
       " 2009,\n",
       " 2009,\n",
       " 2009,\n",
       " 2009,\n",
       " 2009,\n",
       " 2009,\n",
       " 2009,\n",
       " 2009,\n",
       " 2009,\n",
       " 2009,\n",
       " 2010,\n",
       " 2010,\n",
       " 2010,\n",
       " 2010,\n",
       " 2010,\n",
       " 2010,\n",
       " 2010,\n",
       " 2010,\n",
       " 2010,\n",
       " 2010,\n",
       " 2010,\n",
       " 2010,\n",
       " 2011,\n",
       " 2011,\n",
       " 2011,\n",
       " 2011,\n",
       " 2011,\n",
       " 2011,\n",
       " 2011,\n",
       " 2011,\n",
       " 2011,\n",
       " 2011,\n",
       " 2011,\n",
       " 2011,\n",
       " 2012,\n",
       " 2012,\n",
       " 2012,\n",
       " 2012,\n",
       " 2012,\n",
       " 2012,\n",
       " 2012,\n",
       " 2012,\n",
       " 2012,\n",
       " 2012,\n",
       " 2012,\n",
       " 2012,\n",
       " 2013,\n",
       " 2013,\n",
       " 2013,\n",
       " 2013,\n",
       " 2013,\n",
       " 2013,\n",
       " 2013,\n",
       " 2013,\n",
       " 2013,\n",
       " 2013,\n",
       " 2013,\n",
       " 2013,\n",
       " 2014,\n",
       " 2014,\n",
       " 2014,\n",
       " 2014,\n",
       " 2014,\n",
       " 2014,\n",
       " 2014,\n",
       " 2014,\n",
       " 2014,\n",
       " 2014,\n",
       " 2014,\n",
       " 2014,\n",
       " 2015,\n",
       " 2015,\n",
       " 2015,\n",
       " 2015,\n",
       " 2015,\n",
       " 2015,\n",
       " 2015,\n",
       " 2015,\n",
       " 2015,\n",
       " 2015,\n",
       " 2015,\n",
       " 2015,\n",
       " 2016,\n",
       " 2016,\n",
       " 2016,\n",
       " 2016,\n",
       " 2016,\n",
       " 2016,\n",
       " 2016,\n",
       " 2016,\n",
       " 2016,\n",
       " 2016,\n",
       " 2016,\n",
       " 2016,\n",
       " 2017,\n",
       " 2017,\n",
       " 2017,\n",
       " 2017,\n",
       " 2017,\n",
       " 2017,\n",
       " 2017,\n",
       " 2017,\n",
       " 2017,\n",
       " 2017,\n",
       " 2017,\n",
       " 2017,\n",
       " 2018,\n",
       " 2018,\n",
       " 2018,\n",
       " 2018,\n",
       " 2018,\n",
       " 2018,\n",
       " 2018,\n",
       " 2018,\n",
       " 2018,\n",
       " 2018,\n",
       " 2018,\n",
       " 2018,\n",
       " 2019,\n",
       " 2019,\n",
       " 2019,\n",
       " 2019,\n",
       " 2019,\n",
       " 2019,\n",
       " 2019,\n",
       " 2019,\n",
       " 2019,\n",
       " 2019,\n",
       " 2019,\n",
       " 2019,\n",
       " 2020,\n",
       " 2020,\n",
       " 2020,\n",
       " 2020,\n",
       " 2020,\n",
       " 2020,\n",
       " 2020,\n",
       " 2020,\n",
       " 2020,\n",
       " 2020,\n",
       " 2020,\n",
       " 2020,\n",
       " 2021,\n",
       " 2021,\n",
       " 2021,\n",
       " 2021,\n",
       " 2021,\n",
       " 2021,\n",
       " 2021,\n",
       " 2021,\n",
       " 2021,\n",
       " 2021,\n",
       " 2021,\n",
       " 2021,\n",
       " 2022,\n",
       " 2022,\n",
       " 2022,\n",
       " 2022,\n",
       " 2022,\n",
       " 2022,\n",
       " 2022,\n",
       " 2022,\n",
       " 2022,\n",
       " 2022,\n",
       " 2022,\n",
       " 2022,\n",
       " 2023,\n",
       " 2023,\n",
       " 2023,\n",
       " 2023,\n",
       " 2023,\n",
       " 2023,\n",
       " 2023]"
      ]
     },
     "execution_count": 133,
     "metadata": {},
     "output_type": "execute_result"
    }
   ],
   "source": [
    "new_indexes = new_indexes + new_indexes_year\n",
    "new_indexes"
   ]
  },
  {
   "cell_type": "code",
   "execution_count": 134,
   "metadata": {},
   "outputs": [
    {
     "data": {
      "text/html": [
       "<div>\n",
       "<style scoped>\n",
       "    .dataframe tbody tr th:only-of-type {\n",
       "        vertical-align: middle;\n",
       "    }\n",
       "\n",
       "    .dataframe tbody tr th {\n",
       "        vertical-align: top;\n",
       "    }\n",
       "\n",
       "    .dataframe thead th {\n",
       "        text-align: right;\n",
       "    }\n",
       "</style>\n",
       "<table border=\"1\" class=\"dataframe\">\n",
       "  <thead>\n",
       "    <tr style=\"text-align: right;\">\n",
       "      <th></th>\n",
       "      <th>id_ok</th>\n",
       "      <th>longitude</th>\n",
       "      <th>latitude</th>\n",
       "      <th>km2</th>\n",
       "      <th>DESECON1</th>\n",
       "      <th>DESECON2</th>\n",
       "      <th>DESECON3</th>\n",
       "      <th>DESECON4</th>\n",
       "      <th>2000</th>\n",
       "      <th>2000</th>\n",
       "      <th>...</th>\n",
       "      <th>2022</th>\n",
       "      <th>2022</th>\n",
       "      <th>2022</th>\n",
       "      <th>2023</th>\n",
       "      <th>2023</th>\n",
       "      <th>2023</th>\n",
       "      <th>2023</th>\n",
       "      <th>2023</th>\n",
       "      <th>2023</th>\n",
       "      <th>2023</th>\n",
       "    </tr>\n",
       "  </thead>\n",
       "  <tbody>\n",
       "    <tr>\n",
       "      <th>0</th>\n",
       "      <td>2</td>\n",
       "      <td>-92.240154</td>\n",
       "      <td>14.616329</td>\n",
       "      <td>192.307795</td>\n",
       "      <td>Selvas Calido-Humedas</td>\n",
       "      <td>Planicie Costera y Lomerios del Soconusco</td>\n",
       "      <td>Planicie y Lomerios Costeros del Soconusco con...</td>\n",
       "      <td>Planicie Costera y Lomerios con selva alta per...</td>\n",
       "      <td>0.381080</td>\n",
       "      <td>0.393750</td>\n",
       "      <td>...</td>\n",
       "      <td>0.554377</td>\n",
       "      <td>0.565392</td>\n",
       "      <td>0.490920</td>\n",
       "      <td>0.459002</td>\n",
       "      <td>0.426879</td>\n",
       "      <td>0.431051</td>\n",
       "      <td>0.492495</td>\n",
       "      <td>0.515070</td>\n",
       "      <td>0.526481</td>\n",
       "      <td>0.549757</td>\n",
       "    </tr>\n",
       "    <tr>\n",
       "      <th>1</th>\n",
       "      <td>4</td>\n",
       "      <td>-92.380254</td>\n",
       "      <td>14.756429</td>\n",
       "      <td>217.519671</td>\n",
       "      <td>Selvas Calido-Humedas</td>\n",
       "      <td>Planicie Costera y Lomerios del Soconusco</td>\n",
       "      <td>Planicie y Lomerios Costeros del Soconusco con...</td>\n",
       "      <td>Planicie Costera y Lomerios con selva alta per...</td>\n",
       "      <td>0.273232</td>\n",
       "      <td>0.276971</td>\n",
       "      <td>...</td>\n",
       "      <td>0.550199</td>\n",
       "      <td>0.508108</td>\n",
       "      <td>0.388205</td>\n",
       "      <td>0.374693</td>\n",
       "      <td>0.330288</td>\n",
       "      <td>0.332288</td>\n",
       "      <td>0.338711</td>\n",
       "      <td>0.341860</td>\n",
       "      <td>0.437368</td>\n",
       "      <td>0.487972</td>\n",
       "    </tr>\n",
       "    <tr>\n",
       "      <th>2</th>\n",
       "      <td>5</td>\n",
       "      <td>-92.240154</td>\n",
       "      <td>14.756429</td>\n",
       "      <td>233.276335</td>\n",
       "      <td>Selvas Calido-Humedas</td>\n",
       "      <td>Planicie Costera y Lomerios del Soconusco</td>\n",
       "      <td>Planicie y Lomerios Costeros del Soconusco con...</td>\n",
       "      <td>Planicie Costera y Lomerios con selva alta per...</td>\n",
       "      <td>0.262070</td>\n",
       "      <td>0.266783</td>\n",
       "      <td>...</td>\n",
       "      <td>0.545053</td>\n",
       "      <td>0.522816</td>\n",
       "      <td>0.422735</td>\n",
       "      <td>0.355143</td>\n",
       "      <td>0.308989</td>\n",
       "      <td>0.307110</td>\n",
       "      <td>0.337750</td>\n",
       "      <td>0.383881</td>\n",
       "      <td>0.513476</td>\n",
       "      <td>0.571744</td>\n",
       "    </tr>\n",
       "    <tr>\n",
       "      <th>3</th>\n",
       "      <td>7</td>\n",
       "      <td>-92.520354</td>\n",
       "      <td>14.896529</td>\n",
       "      <td>218.244196</td>\n",
       "      <td>Selvas Calido-Humedas</td>\n",
       "      <td>Planicie Costera y Lomerios del Soconusco</td>\n",
       "      <td>Planicie y Lomerios Costeros del Soconusco con...</td>\n",
       "      <td>Planicie Costera y Lomerios con selva alta per...</td>\n",
       "      <td>0.358763</td>\n",
       "      <td>0.363754</td>\n",
       "      <td>...</td>\n",
       "      <td>0.596631</td>\n",
       "      <td>0.511776</td>\n",
       "      <td>0.437208</td>\n",
       "      <td>0.414366</td>\n",
       "      <td>0.380600</td>\n",
       "      <td>0.400286</td>\n",
       "      <td>0.399786</td>\n",
       "      <td>0.477237</td>\n",
       "      <td>0.521931</td>\n",
       "      <td>0.512213</td>\n",
       "    </tr>\n",
       "    <tr>\n",
       "      <th>4</th>\n",
       "      <td>8</td>\n",
       "      <td>-92.380254</td>\n",
       "      <td>14.896529</td>\n",
       "      <td>236.353493</td>\n",
       "      <td>Selvas Calido-Humedas</td>\n",
       "      <td>Planicie Costera y Lomerios del Soconusco</td>\n",
       "      <td>Planicie y Lomerios Costeros del Soconusco con...</td>\n",
       "      <td>Planicie Costera y Lomerios con selva alta per...</td>\n",
       "      <td>0.335840</td>\n",
       "      <td>0.338886</td>\n",
       "      <td>...</td>\n",
       "      <td>0.564563</td>\n",
       "      <td>0.531301</td>\n",
       "      <td>0.457160</td>\n",
       "      <td>0.411877</td>\n",
       "      <td>0.372756</td>\n",
       "      <td>0.389247</td>\n",
       "      <td>0.402691</td>\n",
       "      <td>0.470922</td>\n",
       "      <td>0.548722</td>\n",
       "      <td>0.556070</td>\n",
       "    </tr>\n",
       "    <tr>\n",
       "      <th>...</th>\n",
       "      <td>...</td>\n",
       "      <td>...</td>\n",
       "      <td>...</td>\n",
       "      <td>...</td>\n",
       "      <td>...</td>\n",
       "      <td>...</td>\n",
       "      <td>...</td>\n",
       "      <td>...</td>\n",
       "      <td>...</td>\n",
       "      <td>...</td>\n",
       "      <td>...</td>\n",
       "      <td>...</td>\n",
       "      <td>...</td>\n",
       "      <td>...</td>\n",
       "      <td>...</td>\n",
       "      <td>...</td>\n",
       "      <td>...</td>\n",
       "      <td>...</td>\n",
       "      <td>...</td>\n",
       "      <td>...</td>\n",
       "      <td>...</td>\n",
       "    </tr>\n",
       "    <tr>\n",
       "      <th>8789</th>\n",
       "      <td>9056</td>\n",
       "      <td>-115.076454</td>\n",
       "      <td>32.549129</td>\n",
       "      <td>207.397758</td>\n",
       "      <td>Desiertos de America del Norte</td>\n",
       "      <td>Desiertos Calidos</td>\n",
       "      <td>Desierto Sonorense</td>\n",
       "      <td>Desiertos del Alto Golfo (Altar, El Pinacate, ...</td>\n",
       "      <td>0.314020</td>\n",
       "      <td>0.333779</td>\n",
       "      <td>...</td>\n",
       "      <td>0.206834</td>\n",
       "      <td>0.183461</td>\n",
       "      <td>0.195868</td>\n",
       "      <td>0.251587</td>\n",
       "      <td>0.320975</td>\n",
       "      <td>0.362174</td>\n",
       "      <td>0.347984</td>\n",
       "      <td>0.279173</td>\n",
       "      <td>0.236480</td>\n",
       "      <td>0.240608</td>\n",
       "    </tr>\n",
       "    <tr>\n",
       "      <th>8790</th>\n",
       "      <td>9057</td>\n",
       "      <td>-114.936354</td>\n",
       "      <td>32.549129</td>\n",
       "      <td>207.397758</td>\n",
       "      <td>Desiertos de America del Norte</td>\n",
       "      <td>Desiertos Calidos</td>\n",
       "      <td>Desierto Sonorense</td>\n",
       "      <td>Desiertos del Alto Golfo (Altar, El Pinacate, ...</td>\n",
       "      <td>0.380256</td>\n",
       "      <td>0.400324</td>\n",
       "      <td>...</td>\n",
       "      <td>0.205756</td>\n",
       "      <td>0.184203</td>\n",
       "      <td>0.180931</td>\n",
       "      <td>0.245938</td>\n",
       "      <td>0.326014</td>\n",
       "      <td>0.371081</td>\n",
       "      <td>0.357734</td>\n",
       "      <td>0.271276</td>\n",
       "      <td>0.212631</td>\n",
       "      <td>0.220352</td>\n",
       "    </tr>\n",
       "    <tr>\n",
       "      <th>8791</th>\n",
       "      <td>9062</td>\n",
       "      <td>-115.076454</td>\n",
       "      <td>32.689229</td>\n",
       "      <td>111.632759</td>\n",
       "      <td>Desiertos de America del Norte</td>\n",
       "      <td>Desiertos Calidos</td>\n",
       "      <td>Desierto Sonorense</td>\n",
       "      <td>Desiertos del Alto Golfo (Altar, El Pinacate, ...</td>\n",
       "      <td>0.134405</td>\n",
       "      <td>0.136716</td>\n",
       "      <td>...</td>\n",
       "      <td>0.152442</td>\n",
       "      <td>0.141836</td>\n",
       "      <td>0.131686</td>\n",
       "      <td>0.119994</td>\n",
       "      <td>0.126669</td>\n",
       "      <td>0.142873</td>\n",
       "      <td>0.153282</td>\n",
       "      <td>0.148710</td>\n",
       "      <td>0.141871</td>\n",
       "      <td>0.143751</td>\n",
       "    </tr>\n",
       "    <tr>\n",
       "      <th>8792</th>\n",
       "      <td>9063</td>\n",
       "      <td>-114.936354</td>\n",
       "      <td>32.689229</td>\n",
       "      <td>125.677418</td>\n",
       "      <td>Desiertos de America del Norte</td>\n",
       "      <td>Desiertos Calidos</td>\n",
       "      <td>Desierto Sonorense</td>\n",
       "      <td>Desiertos del Alto Golfo (Altar, El Pinacate, ...</td>\n",
       "      <td>0.257072</td>\n",
       "      <td>0.274016</td>\n",
       "      <td>...</td>\n",
       "      <td>0.155607</td>\n",
       "      <td>0.151480</td>\n",
       "      <td>0.154335</td>\n",
       "      <td>0.190418</td>\n",
       "      <td>0.252042</td>\n",
       "      <td>0.274826</td>\n",
       "      <td>0.270774</td>\n",
       "      <td>0.217226</td>\n",
       "      <td>0.194162</td>\n",
       "      <td>0.191370</td>\n",
       "    </tr>\n",
       "    <tr>\n",
       "      <th>8793</th>\n",
       "      <td>9064</td>\n",
       "      <td>-114.796254</td>\n",
       "      <td>32.689229</td>\n",
       "      <td>112.012960</td>\n",
       "      <td>Desiertos de America del Norte</td>\n",
       "      <td>Desiertos Calidos</td>\n",
       "      <td>Desierto Sonorense</td>\n",
       "      <td>Desiertos del Alto Golfo (Altar, El Pinacate, ...</td>\n",
       "      <td>0.217160</td>\n",
       "      <td>0.223747</td>\n",
       "      <td>...</td>\n",
       "      <td>0.124826</td>\n",
       "      <td>0.135752</td>\n",
       "      <td>0.155729</td>\n",
       "      <td>0.187266</td>\n",
       "      <td>0.215270</td>\n",
       "      <td>0.214436</td>\n",
       "      <td>0.205889</td>\n",
       "      <td>0.170506</td>\n",
       "      <td>0.144389</td>\n",
       "      <td>0.135676</td>\n",
       "    </tr>\n",
       "  </tbody>\n",
       "</table>\n",
       "<p>8794 rows × 290 columns</p>\n",
       "</div>"
      ],
      "text/plain": [
       "      id_ok   longitude   latitude         km2  \\\n",
       "0         2  -92.240154  14.616329  192.307795   \n",
       "1         4  -92.380254  14.756429  217.519671   \n",
       "2         5  -92.240154  14.756429  233.276335   \n",
       "3         7  -92.520354  14.896529  218.244196   \n",
       "4         8  -92.380254  14.896529  236.353493   \n",
       "...     ...         ...        ...         ...   \n",
       "8789   9056 -115.076454  32.549129  207.397758   \n",
       "8790   9057 -114.936354  32.549129  207.397758   \n",
       "8791   9062 -115.076454  32.689229  111.632759   \n",
       "8792   9063 -114.936354  32.689229  125.677418   \n",
       "8793   9064 -114.796254  32.689229  112.012960   \n",
       "\n",
       "                            DESECON1  \\\n",
       "0              Selvas Calido-Humedas   \n",
       "1              Selvas Calido-Humedas   \n",
       "2              Selvas Calido-Humedas   \n",
       "3              Selvas Calido-Humedas   \n",
       "4              Selvas Calido-Humedas   \n",
       "...                              ...   \n",
       "8789  Desiertos de America del Norte   \n",
       "8790  Desiertos de America del Norte   \n",
       "8791  Desiertos de America del Norte   \n",
       "8792  Desiertos de America del Norte   \n",
       "8793  Desiertos de America del Norte   \n",
       "\n",
       "                                       DESECON2  \\\n",
       "0     Planicie Costera y Lomerios del Soconusco   \n",
       "1     Planicie Costera y Lomerios del Soconusco   \n",
       "2     Planicie Costera y Lomerios del Soconusco   \n",
       "3     Planicie Costera y Lomerios del Soconusco   \n",
       "4     Planicie Costera y Lomerios del Soconusco   \n",
       "...                                         ...   \n",
       "8789                          Desiertos Calidos   \n",
       "8790                          Desiertos Calidos   \n",
       "8791                          Desiertos Calidos   \n",
       "8792                          Desiertos Calidos   \n",
       "8793                          Desiertos Calidos   \n",
       "\n",
       "                                               DESECON3  \\\n",
       "0     Planicie y Lomerios Costeros del Soconusco con...   \n",
       "1     Planicie y Lomerios Costeros del Soconusco con...   \n",
       "2     Planicie y Lomerios Costeros del Soconusco con...   \n",
       "3     Planicie y Lomerios Costeros del Soconusco con...   \n",
       "4     Planicie y Lomerios Costeros del Soconusco con...   \n",
       "...                                                 ...   \n",
       "8789                                 Desierto Sonorense   \n",
       "8790                                 Desierto Sonorense   \n",
       "8791                                 Desierto Sonorense   \n",
       "8792                                 Desierto Sonorense   \n",
       "8793                                 Desierto Sonorense   \n",
       "\n",
       "                                               DESECON4      2000      2000  \\\n",
       "0     Planicie Costera y Lomerios con selva alta per...  0.381080  0.393750   \n",
       "1     Planicie Costera y Lomerios con selva alta per...  0.273232  0.276971   \n",
       "2     Planicie Costera y Lomerios con selva alta per...  0.262070  0.266783   \n",
       "3     Planicie Costera y Lomerios con selva alta per...  0.358763  0.363754   \n",
       "4     Planicie Costera y Lomerios con selva alta per...  0.335840  0.338886   \n",
       "...                                                 ...       ...       ...   \n",
       "8789  Desiertos del Alto Golfo (Altar, El Pinacate, ...  0.314020  0.333779   \n",
       "8790  Desiertos del Alto Golfo (Altar, El Pinacate, ...  0.380256  0.400324   \n",
       "8791  Desiertos del Alto Golfo (Altar, El Pinacate, ...  0.134405  0.136716   \n",
       "8792  Desiertos del Alto Golfo (Altar, El Pinacate, ...  0.257072  0.274016   \n",
       "8793  Desiertos del Alto Golfo (Altar, El Pinacate, ...  0.217160  0.223747   \n",
       "\n",
       "      ...      2022      2022      2022      2023      2023      2023  \\\n",
       "0     ...  0.554377  0.565392  0.490920  0.459002  0.426879  0.431051   \n",
       "1     ...  0.550199  0.508108  0.388205  0.374693  0.330288  0.332288   \n",
       "2     ...  0.545053  0.522816  0.422735  0.355143  0.308989  0.307110   \n",
       "3     ...  0.596631  0.511776  0.437208  0.414366  0.380600  0.400286   \n",
       "4     ...  0.564563  0.531301  0.457160  0.411877  0.372756  0.389247   \n",
       "...   ...       ...       ...       ...       ...       ...       ...   \n",
       "8789  ...  0.206834  0.183461  0.195868  0.251587  0.320975  0.362174   \n",
       "8790  ...  0.205756  0.184203  0.180931  0.245938  0.326014  0.371081   \n",
       "8791  ...  0.152442  0.141836  0.131686  0.119994  0.126669  0.142873   \n",
       "8792  ...  0.155607  0.151480  0.154335  0.190418  0.252042  0.274826   \n",
       "8793  ...  0.124826  0.135752  0.155729  0.187266  0.215270  0.214436   \n",
       "\n",
       "          2023      2023      2023      2023  \n",
       "0     0.492495  0.515070  0.526481  0.549757  \n",
       "1     0.338711  0.341860  0.437368  0.487972  \n",
       "2     0.337750  0.383881  0.513476  0.571744  \n",
       "3     0.399786  0.477237  0.521931  0.512213  \n",
       "4     0.402691  0.470922  0.548722  0.556070  \n",
       "...        ...       ...       ...       ...  \n",
       "8789  0.347984  0.279173  0.236480  0.240608  \n",
       "8790  0.357734  0.271276  0.212631  0.220352  \n",
       "8791  0.153282  0.148710  0.141871  0.143751  \n",
       "8792  0.270774  0.217226  0.194162  0.191370  \n",
       "8793  0.205889  0.170506  0.144389  0.135676  \n",
       "\n",
       "[8794 rows x 290 columns]"
      ]
     },
     "execution_count": 134,
     "metadata": {},
     "output_type": "execute_result"
    }
   ],
   "source": [
    "eviMean = eviMean.set_axis(new_indexes, axis=1)\n",
    "eviMean"
   ]
  },
  {
   "cell_type": "code",
   "execution_count": null,
   "metadata": {},
   "outputs": [],
   "source": []
  }
 ],
 "metadata": {
  "kernelspec": {
   "display_name": "Python 3",
   "language": "python",
   "name": "python3"
  },
  "language_info": {
   "codemirror_mode": {
    "name": "ipython",
    "version": 3
   },
   "file_extension": ".py",
   "mimetype": "text/x-python",
   "name": "python",
   "nbconvert_exporter": "python",
   "pygments_lexer": "ipython3",
   "version": "3.10.12"
  },
  "orig_nbformat": 4
 },
 "nbformat": 4,
 "nbformat_minor": 2
}
