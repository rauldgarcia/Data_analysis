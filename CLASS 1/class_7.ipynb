{
 "cells": [
  {
   "cell_type": "markdown",
   "metadata": {},
   "source": [
    "# Data Analysis\n",
    "## Class 7\n",
    "### Data cleaning and Exploratory Data Analysis\n",
    "#### September 25th"
   ]
  },
  {
   "cell_type": "code",
   "execution_count": 1,
   "metadata": {},
   "outputs": [],
   "source": [
    "import pandas as pd\n",
    "import numpy as np\n",
    "import plotly.express as px\n",
    "import os"
   ]
  },
  {
   "cell_type": "code",
   "execution_count": 2,
   "metadata": {},
   "outputs": [
    {
     "data": {
      "text/html": [
       "<div>\n",
       "<style scoped>\n",
       "    .dataframe tbody tr th:only-of-type {\n",
       "        vertical-align: middle;\n",
       "    }\n",
       "\n",
       "    .dataframe tbody tr th {\n",
       "        vertical-align: top;\n",
       "    }\n",
       "\n",
       "    .dataframe thead th {\n",
       "        text-align: right;\n",
       "    }\n",
       "</style>\n",
       "<table border=\"1\" class=\"dataframe\">\n",
       "  <thead>\n",
       "    <tr style=\"text-align: right;\">\n",
       "      <th></th>\n",
       "      <th>id_ok</th>\n",
       "      <th>longitude</th>\n",
       "      <th>latitude</th>\n",
       "      <th>km2</th>\n",
       "      <th>DESECON1</th>\n",
       "      <th>DESECON2</th>\n",
       "      <th>DESECON3</th>\n",
       "      <th>DESECON4</th>\n",
       "      <th>X2000032</th>\n",
       "      <th>X2000061</th>\n",
       "      <th>...</th>\n",
       "      <th>X2022274</th>\n",
       "      <th>X2022305</th>\n",
       "      <th>X2022335</th>\n",
       "      <th>X2023001</th>\n",
       "      <th>X2023032</th>\n",
       "      <th>X2023060</th>\n",
       "      <th>X2023091</th>\n",
       "      <th>X2023121</th>\n",
       "      <th>X2023152</th>\n",
       "      <th>X2023182</th>\n",
       "    </tr>\n",
       "  </thead>\n",
       "  <tbody>\n",
       "    <tr>\n",
       "      <th>0</th>\n",
       "      <td>2</td>\n",
       "      <td>-92.240154</td>\n",
       "      <td>14.616329</td>\n",
       "      <td>192.307795</td>\n",
       "      <td>Selvas Calido-Humedas</td>\n",
       "      <td>Planicie Costera y Lomerios del Soconusco</td>\n",
       "      <td>Planicie y Lomerios Costeros del Soconusco con...</td>\n",
       "      <td>Planicie Costera y Lomerios con selva alta per...</td>\n",
       "      <td>0.381080</td>\n",
       "      <td>0.393750</td>\n",
       "      <td>...</td>\n",
       "      <td>0.554377</td>\n",
       "      <td>0.565392</td>\n",
       "      <td>0.490920</td>\n",
       "      <td>0.459002</td>\n",
       "      <td>0.426879</td>\n",
       "      <td>0.431051</td>\n",
       "      <td>0.492495</td>\n",
       "      <td>0.515070</td>\n",
       "      <td>0.526481</td>\n",
       "      <td>0.549757</td>\n",
       "    </tr>\n",
       "    <tr>\n",
       "      <th>1</th>\n",
       "      <td>4</td>\n",
       "      <td>-92.380254</td>\n",
       "      <td>14.756429</td>\n",
       "      <td>217.519671</td>\n",
       "      <td>Selvas Calido-Humedas</td>\n",
       "      <td>Planicie Costera y Lomerios del Soconusco</td>\n",
       "      <td>Planicie y Lomerios Costeros del Soconusco con...</td>\n",
       "      <td>Planicie Costera y Lomerios con selva alta per...</td>\n",
       "      <td>0.273232</td>\n",
       "      <td>0.276971</td>\n",
       "      <td>...</td>\n",
       "      <td>0.550199</td>\n",
       "      <td>0.508108</td>\n",
       "      <td>0.388205</td>\n",
       "      <td>0.374693</td>\n",
       "      <td>0.330288</td>\n",
       "      <td>0.332288</td>\n",
       "      <td>0.338711</td>\n",
       "      <td>0.341860</td>\n",
       "      <td>0.437368</td>\n",
       "      <td>0.487972</td>\n",
       "    </tr>\n",
       "    <tr>\n",
       "      <th>2</th>\n",
       "      <td>5</td>\n",
       "      <td>-92.240154</td>\n",
       "      <td>14.756429</td>\n",
       "      <td>233.276335</td>\n",
       "      <td>Selvas Calido-Humedas</td>\n",
       "      <td>Planicie Costera y Lomerios del Soconusco</td>\n",
       "      <td>Planicie y Lomerios Costeros del Soconusco con...</td>\n",
       "      <td>Planicie Costera y Lomerios con selva alta per...</td>\n",
       "      <td>0.262070</td>\n",
       "      <td>0.266783</td>\n",
       "      <td>...</td>\n",
       "      <td>0.545053</td>\n",
       "      <td>0.522816</td>\n",
       "      <td>0.422735</td>\n",
       "      <td>0.355143</td>\n",
       "      <td>0.308989</td>\n",
       "      <td>0.307110</td>\n",
       "      <td>0.337750</td>\n",
       "      <td>0.383881</td>\n",
       "      <td>0.513476</td>\n",
       "      <td>0.571744</td>\n",
       "    </tr>\n",
       "    <tr>\n",
       "      <th>3</th>\n",
       "      <td>7</td>\n",
       "      <td>-92.520354</td>\n",
       "      <td>14.896529</td>\n",
       "      <td>218.244196</td>\n",
       "      <td>Selvas Calido-Humedas</td>\n",
       "      <td>Planicie Costera y Lomerios del Soconusco</td>\n",
       "      <td>Planicie y Lomerios Costeros del Soconusco con...</td>\n",
       "      <td>Planicie Costera y Lomerios con selva alta per...</td>\n",
       "      <td>0.358763</td>\n",
       "      <td>0.363754</td>\n",
       "      <td>...</td>\n",
       "      <td>0.596631</td>\n",
       "      <td>0.511776</td>\n",
       "      <td>0.437208</td>\n",
       "      <td>0.414366</td>\n",
       "      <td>0.380600</td>\n",
       "      <td>0.400286</td>\n",
       "      <td>0.399786</td>\n",
       "      <td>0.477237</td>\n",
       "      <td>0.521931</td>\n",
       "      <td>0.512213</td>\n",
       "    </tr>\n",
       "    <tr>\n",
       "      <th>4</th>\n",
       "      <td>8</td>\n",
       "      <td>-92.380254</td>\n",
       "      <td>14.896529</td>\n",
       "      <td>236.353493</td>\n",
       "      <td>Selvas Calido-Humedas</td>\n",
       "      <td>Planicie Costera y Lomerios del Soconusco</td>\n",
       "      <td>Planicie y Lomerios Costeros del Soconusco con...</td>\n",
       "      <td>Planicie Costera y Lomerios con selva alta per...</td>\n",
       "      <td>0.335840</td>\n",
       "      <td>0.338886</td>\n",
       "      <td>...</td>\n",
       "      <td>0.564563</td>\n",
       "      <td>0.531301</td>\n",
       "      <td>0.457160</td>\n",
       "      <td>0.411877</td>\n",
       "      <td>0.372756</td>\n",
       "      <td>0.389247</td>\n",
       "      <td>0.402691</td>\n",
       "      <td>0.470922</td>\n",
       "      <td>0.548722</td>\n",
       "      <td>0.556070</td>\n",
       "    </tr>\n",
       "  </tbody>\n",
       "</table>\n",
       "<p>5 rows × 290 columns</p>\n",
       "</div>"
      ],
      "text/plain": [
       "   id_ok  longitude   latitude         km2               DESECON1  \\\n",
       "0      2 -92.240154  14.616329  192.307795  Selvas Calido-Humedas   \n",
       "1      4 -92.380254  14.756429  217.519671  Selvas Calido-Humedas   \n",
       "2      5 -92.240154  14.756429  233.276335  Selvas Calido-Humedas   \n",
       "3      7 -92.520354  14.896529  218.244196  Selvas Calido-Humedas   \n",
       "4      8 -92.380254  14.896529  236.353493  Selvas Calido-Humedas   \n",
       "\n",
       "                                    DESECON2  \\\n",
       "0  Planicie Costera y Lomerios del Soconusco   \n",
       "1  Planicie Costera y Lomerios del Soconusco   \n",
       "2  Planicie Costera y Lomerios del Soconusco   \n",
       "3  Planicie Costera y Lomerios del Soconusco   \n",
       "4  Planicie Costera y Lomerios del Soconusco   \n",
       "\n",
       "                                            DESECON3  \\\n",
       "0  Planicie y Lomerios Costeros del Soconusco con...   \n",
       "1  Planicie y Lomerios Costeros del Soconusco con...   \n",
       "2  Planicie y Lomerios Costeros del Soconusco con...   \n",
       "3  Planicie y Lomerios Costeros del Soconusco con...   \n",
       "4  Planicie y Lomerios Costeros del Soconusco con...   \n",
       "\n",
       "                                            DESECON4  X2000032  X2000061  ...  \\\n",
       "0  Planicie Costera y Lomerios con selva alta per...  0.381080  0.393750  ...   \n",
       "1  Planicie Costera y Lomerios con selva alta per...  0.273232  0.276971  ...   \n",
       "2  Planicie Costera y Lomerios con selva alta per...  0.262070  0.266783  ...   \n",
       "3  Planicie Costera y Lomerios con selva alta per...  0.358763  0.363754  ...   \n",
       "4  Planicie Costera y Lomerios con selva alta per...  0.335840  0.338886  ...   \n",
       "\n",
       "   X2022274  X2022305  X2022335  X2023001  X2023032  X2023060  X2023091  \\\n",
       "0  0.554377  0.565392  0.490920  0.459002  0.426879  0.431051  0.492495   \n",
       "1  0.550199  0.508108  0.388205  0.374693  0.330288  0.332288  0.338711   \n",
       "2  0.545053  0.522816  0.422735  0.355143  0.308989  0.307110  0.337750   \n",
       "3  0.596631  0.511776  0.437208  0.414366  0.380600  0.400286  0.399786   \n",
       "4  0.564563  0.531301  0.457160  0.411877  0.372756  0.389247  0.402691   \n",
       "\n",
       "   X2023121  X2023152  X2023182  \n",
       "0  0.515070  0.526481  0.549757  \n",
       "1  0.341860  0.437368  0.487972  \n",
       "2  0.383881  0.513476  0.571744  \n",
       "3  0.477237  0.521931  0.512213  \n",
       "4  0.470922  0.548722  0.556070  \n",
       "\n",
       "[5 rows x 290 columns]"
      ]
     },
     "execution_count": 2,
     "metadata": {},
     "output_type": "execute_result"
    }
   ],
   "source": [
    "eviMean = pd.read_csv('EVImean.csv')\n",
    "eviMean.head()"
   ]
  },
  {
   "cell_type": "code",
   "execution_count": 3,
   "metadata": {},
   "outputs": [
    {
     "data": {
      "text/plain": [
       "<AxesSubplot: >"
      ]
     },
     "execution_count": 3,
     "metadata": {},
     "output_type": "execute_result"
    },
    {
     "data": {
      "image/png": "[encoded data removed]",
      "text/plain": [
       "<Figure size 640x480 with 1 Axes>"
      ]
     },
     "metadata": {},
     "output_type": "display_data"
    }
   ],
   "source": [
    "eviMean.sample().iloc[:,8:].transpose().plot()"
   ]
  },
  {
   "cell_type": "code",
   "execution_count": 4,
   "metadata": {},
   "outputs": [
    {
     "data": {
      "application/vnd.plotly.v1+json": {
       "config": {
        "plotlyServerURL": "https://plot.ly"
       },
       "data": [
        {
         "hovertemplate": "variable=8700<br>index=%{x}<br>value=%{y}<extra></extra>",
         "legendgroup": "8700",
         "line": {
          "color": "#636efa",
          "dash": "solid"
         },
         "marker": {
          "symbol": "circle"
         },
         "mode": "lines",
         "name": "8700",
         "orientation": "v",
         "showlegend": true,
         "type": "scatter",
         "x": [
          "X2000032",
          "X2000061",
          "X2000092",
          "X2000122",
          "X2000153",
          "X2000183",
          "X2000214",
          "X2000245",
          "X2000275",
          "X2000306",
          "X2000336",
          "X2001001",
          "X2001032",
          "X2001060",
          "X2001091",
          "X2001121",
          "X2001152",
          "X2001182",
          "X2001213",
          "X2001244",
          "X2001274",
          "X2001305",
          "X2001335",
          "X2002001",
          "X2002032",
          "X2002060",
          "X2002091",
          "X2002121",
          "X2002152",
          "X2002182",
          "X2002213",
          "X2002244",
          "X2002274",
          "X2002305",
          "X2002335",
          "X2003001",
          "X2003032",
          "X2003060",
          "X2003091",
          "X2003121",
          "X2003152",
          "X2003182",
          "X2003213",
          "X2003244",
          "X2003274",
          "X2003305",
          "X2003335",
          "X2004001",
          "X2004032",
          "X2004061",
          "X2004092",
          "X2004122",
          "X2004153",
          "X2004183",
          "X2004214",
          "X2004245",
          "X2004275",
          "X2004306",
          "X2004336",
          "X2005001",
          "X2005032",
          "X2005060",
          "X2005091",
          "X2005121",
          "X2005152",
          "X2005182",
          "X2005213",
          "X2005244",
          "X2005274",
          "X2005305",
          "X2005335",
          "X2006001",
          "X2006032",
          "X2006060",
          "X2006091",
          "X2006121",
          "X2006152",
          "X2006182",
          "X2006213",
          "X2006244",
          "X2006274",
          "X2006305",
          "X2006335",
          "X2007001",
          "X2007032",
          "X2007060",
          "X2007091",
          "X2007121",
          "X2007152",
          "X2007182",
          "X2007213",
          "X2007244",
          "X2007274",
          "X2007305",
          "X2007335",
          "X2008001",
          "X2008032",
          "X2008061",
          "X2008092",
          "X2008122",
          "X2008153",
          "X2008183",
          "X2008214",
          "X2008245",
          "X2008275",
          "X2008306",
          "X2008336",
          "X2009001",
          "X2009032",
          "X2009060",
          "X2009091",
          "X2009121",
          "X2009152",
          "X2009182",
          "X2009213",
          "X2009244",
          "X2009274",
          "X2009305",
          "X2009335",
          "X2010001",
          "X2010032",
          "X2010060",
          "X2010091",
          "X2010121",
          "X2010152",
          "X2010182",
          "X2010213",
          "X2010244",
          "X2010274",
          "X2010305",
          "X2010335",
          "X2011001",
          "X2011032",
          "X2011060",
          "X2011091",
          "X2011121",
          "X2011152",
          "X2011182",
          "X2011213",
          "X2011244",
          "X2011274",
          "X2011305",
          "X2011335",
          "X2012001",
          "X2012032",
          "X2012061",
          "X2012092",
          "X2012122",
          "X2012153",
          "X2012183",
          "X2012214",
          "X2012245",
          "X2012275",
          "X2012306",
          "X2012336",
          "X2013001",
          "X2013032",
          "X2013060",
          "X2013091",
          "X2013121",
          "X2013152",
          "X2013182",
          "X2013213",
          "X2013244",
          "X2013274",
          "X2013305",
          "X2013335",
          "X2014001",
          "X2014032",
          "X2014060",
          "X2014091",
          "X2014121",
          "X2014152",
          "X2014182",
          "X2014213",
          "X2014244",
          "X2014274",
          "X2014305",
          "X2014335",
          "X2015001",
          "X2015032",
          "X2015060",
          "X2015091",
          "X2015121",
          "X2015152",
          "X2015182",
          "X2015213",
          "X2015244",
          "X2015274",
          "X2015305",
          "X2015335",
          "X2016001",
          "X2016032",
          "X2016061",
          "X2016092",
          "X2016122",
          "X2016153",
          "X2016183",
          "X2016214",
          "X2016245",
          "X2016275",
          "X2016306",
          "X2016336",
          "X2017001",
          "X2017032",
          "X2017060",
          "X2017091",
          "X2017121",
          "X2017152",
          "X2017182",
          "X2017213",
          "X2017244",
          "X2017274",
          "X2017305",
          "X2017335",
          "X2018001",
          "X2018032",
          "X2018060",
          "X2018091",
          "X2018121",
          "X2018152",
          "X2018182",
          "X2018213",
          "X2018244",
          "X2018274",
          "X2018305",
          "X2018335",
          "X2019001",
          "X2019032",
          "X2019060",
          "X2019091",
          "X2019121",
          "X2019152",
          "X2019182",
          "X2019213",
          "X2019244",
          "X2019274",
          "X2019305",
          "X2019335",
          "X2020001",
          "X2020032",
          "X2020061",
          "X2020092",
          "X2020122",
          "X2020153",
          "X2020183",
          "X2020214",
          "X2020245",
          "X2020275",
          "X2020306",
          "X2020336",
          "X2021001",
          "X2021032",
          "X2021060",
          "X2021091",
          "X2021121",
          "X2021152",
          "X2021182",
          "X2021213",
          "X2021244",
          "X2021274",
          "X2021305",
          "X2021335",
          "X2022001",
          "X2022032",
          "X2022060",
          "X2022091",
          "X2022121",
          "X2022152",
          "X2022182",
          "X2022213",
          "X2022244",
          "X2022274",
          "X2022305",
          "X2022335",
          "X2023001",
          "X2023032",
          "X2023060",
          "X2023091",
          "X2023121",
          "X2023152",
          "X2023182"
         ],
         "xaxis": "x",
         "y": [
          0.121592361,
          0.1165875,
          0.1177875,
          0.118778125,
          0.120717361,
          0.119881597,
          0.117421875,
          0.112737153,
          0.113859375,
          0.126047569,
          0.116254513,
          0.111752778,
          0.113227778,
          0.109639931,
          0.121180208,
          0.122964583,
          0.122865278,
          0.122859028,
          0.125148611,
          0.120403125,
          0.126233333,
          0.124553819,
          0.119385416,
          0.109344792,
          0.110837153,
          0.110523264,
          0.110345834,
          0.114048958,
          0.115614584,
          0.117661806,
          0.117956597,
          0.116647916,
          0.114947917,
          0.118512153,
          0.116847917,
          0.109965278,
          0.105789236,
          0.106752778,
          0.109395486,
          0.108124305,
          0.110919444,
          0.120888195,
          0.1168625,
          0.112043403,
          0.106652778,
          0.106518055,
          0.102926736,
          0.098845834,
          0.095537848,
          0.100079167,
          0.103894445,
          0.101659723,
          0.102115625,
          0.106377778,
          0.105993403,
          0.104252431,
          0.104026736,
          0.105282292,
          0.095636111,
          0.091917708,
          0.086880903,
          0.089605903,
          0.097513194,
          0.09988507,
          0.105191667,
          0.109005555,
          0.108158333,
          0.115627778,
          0.116226389,
          0.115205556,
          0.104046528,
          0.097326409,
          0.096969366,
          0.100716901,
          0.10242676,
          0.103339437,
          0.108728169,
          0.111234507,
          0.10837993,
          0.105040493,
          0.106820423,
          0.106529577,
          0.101924296,
          0.093991901,
          0.096075352,
          0.096669718,
          0.103157042,
          0.104506338,
          0.106230986,
          0.108319014,
          0.108605282,
          0.112363732,
          0.105458451,
          0.109602113,
          0.103359507,
          0.095127465,
          0.092822887,
          0.092749648,
          0.097914085,
          0.101742254,
          0.100805282,
          0.103986972,
          0.106026056,
          0.105907746,
          0.106445775,
          0.103700352,
          0.101758451,
          0.09081162,
          0.089545775,
          0.091163028,
          0.095205282,
          0.095433803,
          0.100683451,
          0.104086268,
          0.105146479,
          0.105365141,
          0.105662676,
          0.106157747,
          0.102833803,
          0.096642254,
          0.093980986,
          0.094615845,
          0.087749648,
          0.08373662,
          0.098002113,
          0.102271479,
          0.095841197,
          0.098534155,
          0.108805282,
          0.105205634,
          0.099657042,
          0.09266831,
          0.089051409,
          0.084975705,
          0.08413838,
          0.08610493,
          0.091009155,
          0.094783803,
          0.099071831,
          0.10217324,
          0.103804578,
          0.104702465,
          0.09878169,
          0.089321127,
          0.086870775,
          0.090085564,
          0.095073592,
          0.092533451,
          0.092594719,
          0.094157042,
          0.098478169,
          0.096579225,
          0.09628662,
          0.097896831,
          0.095364085,
          0.083901056,
          0.084841549,
          0.088486267,
          0.092526057,
          0.091870423,
          0.091992254,
          0.088475704,
          0.088591902,
          0.088935211,
          0.09086831,
          0.09168662,
          0.086311972,
          0.07589155,
          0.085385211,
          0.083082746,
          0.083184155,
          0.083884859,
          0.084533803,
          0.084433098,
          0.082071479,
          0.080597887,
          0.083624296,
          0.086500352,
          0.083014437,
          0.075435211,
          0.075641197,
          0.076015845,
          0.077369718,
          0.07628838,
          0.080351409,
          0.078278169,
          0.078353169,
          0.073942958,
          0.076459507,
          0.075421127,
          0.075772535,
          0.074158803,
          0.074849648,
          0.07443838,
          0.070247183,
          0.071398592,
          0.071320775,
          0.075307042,
          0.076338028,
          0.075964789,
          0.075732042,
          0.07463169,
          0.073557394,
          0.068990141,
          0.074041901,
          0.078265493,
          0.081040141,
          0.077178169,
          0.07573838,
          0.074514437,
          0.073667606,
          0.075411972,
          0.07884331,
          0.079679578,
          0.081053169,
          0.077128521,
          0.076301056,
          0.07525,
          0.079734155,
          0.082077113,
          0.081056338,
          0.079267606,
          0.073741901,
          0.073532747,
          0.071401057,
          0.075634155,
          0.072326056,
          0.068102817,
          0.065104578,
          0.06665493,
          0.068989085,
          0.074867958,
          0.077021127,
          0.07541831,
          0.076945775,
          0.070884507,
          0.068369258,
          0.071046479,
          0.068372183,
          0.068212676,
          0.071416901,
          0.071390845,
          0.066546831,
          0.068274648,
          0.074148592,
          0.077347535,
          0.076708098,
          0.077129578,
          0.074292606,
          0.07169155,
          0.075931338,
          0.07366162,
          0.071704578,
          0.07849824,
          0.080323944,
          0.07616655,
          0.072086972,
          0.070554577,
          0.072932747,
          0.074119718,
          0.070923592,
          0.075452465,
          0.074137676,
          0.069219014,
          0.07306831,
          0.075351056,
          0.079664437,
          0.078278169,
          0.076432746,
          0.073372535,
          0.070079578,
          0.065596479,
          0.067395775,
          0.073560563,
          0.075290493,
          0.076464789,
          0.07110493,
          0.066598944,
          0.074511972,
          0.078322183,
          0.078466901,
          0.077278169
         ],
         "yaxis": "y"
        }
       ],
       "layout": {
        "legend": {
         "title": {
          "text": "variable"
         },
         "tracegroupgap": 0
        },
        "margin": {
         "t": 60
        },
        "template": {
         "data": {
          "bar": [
           {
            "error_x": {
             "color": "#2a3f5f"
            },
            "error_y": {
             "color": "#2a3f5f"
            },
            "marker": {
             "line": {
              "color": "#E5ECF6",
              "width": 0.5
             },
             "pattern": {
              "fillmode": "overlay",
              "size": 10,
              "solidity": 0.2
             }
            },
            "type": "bar"
           }
          ],
          "barpolar": [
           {
            "marker": {
             "line": {
              "color": "#E5ECF6",
              "width": 0.5
             },
             "pattern": {
              "fillmode": "overlay",
              "size": 10,
              "solidity": 0.2
             }
            },
            "type": "barpolar"
           }
          ],
          "carpet": [
           {
            "aaxis": {
             "endlinecolor": "#2a3f5f",
             "gridcolor": "white",
             "linecolor": "white",
             "minorgridcolor": "white",
             "startlinecolor": "#2a3f5f"
            },
            "baxis": {
             "endlinecolor": "#2a3f5f",
             "gridcolor": "white",
             "linecolor": "white",
             "minorgridcolor": "white",
             "startlinecolor": "#2a3f5f"
            },
            "type": "carpet"
           }
          ],
          "choropleth": [
           {
            "colorbar": {
             "outlinewidth": 0,
             "ticks": ""
            },
            "type": "choropleth"
           }
          ],
          "contour": [
           {
            "colorbar": {
             "outlinewidth": 0,
             "ticks": ""
            },
            "colorscale": [
             [
              0,
              "#0d0887"
             ],
             [
              0.1111111111111111,
              "#46039f"
             ],
             [
              0.2222222222222222,
              "#7201a8"
             ],
             [
              0.3333333333333333,
              "#9c179e"
             ],
             [
              0.4444444444444444,
              "#bd3786"
             ],
             [
              0.5555555555555556,
              "#d8576b"
             ],
             [
              0.6666666666666666,
              "#ed7953"
             ],
             [
              0.7777777777777778,
              "#fb9f3a"
             ],
             [
              0.8888888888888888,
              "#fdca26"
             ],
             [
              1,
              "#f0f921"
             ]
            ],
            "type": "contour"
           }
          ],
          "contourcarpet": [
           {
            "colorbar": {
             "outlinewidth": 0,
             "ticks": ""
            },
            "type": "contourcarpet"
           }
          ],
          "heatmap": [
           {
            "colorbar": {
             "outlinewidth": 0,
             "ticks": ""
            },
            "colorscale": [
             [
              0,
              "#0d0887"
             ],
             [
              0.1111111111111111,
              "#46039f"
             ],
             [
              0.2222222222222222,
              "#7201a8"
             ],
             [
              0.3333333333333333,
              "#9c179e"
             ],
             [
              0.4444444444444444,
              "#bd3786"
             ],
             [
              0.5555555555555556,
              "#d8576b"
             ],
             [
              0.6666666666666666,
              "#ed7953"
             ],
             [
              0.7777777777777778,
              "#fb9f3a"
             ],
             [
              0.8888888888888888,
              "#fdca26"
             ],
             [
              1,
              "#f0f921"
             ]
            ],
            "type": "heatmap"
           }
          ],
          "heatmapgl": [
           {
            "colorbar": {
             "outlinewidth": 0,
             "ticks": ""
            },
            "colorscale": [
             [
              0,
              "#0d0887"
             ],
             [
              0.1111111111111111,
              "#46039f"
             ],
             [
              0.2222222222222222,
              "#7201a8"
             ],
             [
              0.3333333333333333,
              "#9c179e"
             ],
             [
              0.4444444444444444,
              "#bd3786"
             ],
             [
              0.5555555555555556,
              "#d8576b"
             ],
             [
              0.6666666666666666,
              "#ed7953"
             ],
             [
              0.7777777777777778,
              "#fb9f3a"
             ],
             [
              0.8888888888888888,
              "#fdca26"
             ],
             [
              1,
              "#f0f921"
             ]
            ],
            "type": "heatmapgl"
           }
          ],
          "histogram": [
           {
            "marker": {
             "pattern": {
              "fillmode": "overlay",
              "size": 10,
              "solidity": 0.2
             }
            },
            "type": "histogram"
           }
          ],
          "histogram2d": [
           {
            "colorbar": {
             "outlinewidth": 0,
             "ticks": ""
            },
            "colorscale": [
             [
              0,
              "#0d0887"
             ],
             [
              0.1111111111111111,
              "#46039f"
             ],
             [
              0.2222222222222222,
              "#7201a8"
             ],
             [
              0.3333333333333333,
              "#9c179e"
             ],
             [
              0.4444444444444444,
              "#bd3786"
             ],
             [
              0.5555555555555556,
              "#d8576b"
             ],
             [
              0.6666666666666666,
              "#ed7953"
             ],
             [
              0.7777777777777778,
              "#fb9f3a"
             ],
             [
              0.8888888888888888,
              "#fdca26"
             ],
             [
              1,
              "#f0f921"
             ]
            ],
            "type": "histogram2d"
           }
          ],
          "histogram2dcontour": [
           {
            "colorbar": {
             "outlinewidth": 0,
             "ticks": ""
            },
            "colorscale": [
             [
              0,
              "#0d0887"
             ],
             [
              0.1111111111111111,
              "#46039f"
             ],
             [
              0.2222222222222222,
              "#7201a8"
             ],
             [
              0.3333333333333333,
              "#9c179e"
             ],
             [
              0.4444444444444444,
              "#bd3786"
             ],
             [
              0.5555555555555556,
              "#d8576b"
             ],
             [
              0.6666666666666666,
              "#ed7953"
             ],
             [
              0.7777777777777778,
              "#fb9f3a"
             ],
             [
              0.8888888888888888,
              "#fdca26"
             ],
             [
              1,
              "#f0f921"
             ]
            ],
            "type": "histogram2dcontour"
           }
          ],
          "mesh3d": [
           {
            "colorbar": {
             "outlinewidth": 0,
             "ticks": ""
            },
            "type": "mesh3d"
           }
          ],
          "parcoords": [
           {
            "line": {
             "colorbar": {
              "outlinewidth": 0,
              "ticks": ""
             }
            },
            "type": "parcoords"
           }
          ],
          "pie": [
           {
            "automargin": true,
            "type": "pie"
           }
          ],
          "scatter": [
           {
            "fillpattern": {
             "fillmode": "overlay",
             "size": 10,
             "solidity": 0.2
            },
            "type": "scatter"
           }
          ],
          "scatter3d": [
           {
            "line": {
             "colorbar": {
              "outlinewidth": 0,
              "ticks": ""
             }
            },
            "marker": {
             "colorbar": {
              "outlinewidth": 0,
              "ticks": ""
             }
            },
            "type": "scatter3d"
           }
          ],
          "scattercarpet": [
           {
            "marker": {
             "colorbar": {
              "outlinewidth": 0,
              "ticks": ""
             }
            },
            "type": "scattercarpet"
           }
          ],
          "scattergeo": [
           {
            "marker": {
             "colorbar": {
              "outlinewidth": 0,
              "ticks": ""
             }
            },
            "type": "scattergeo"
           }
          ],
          "scattergl": [
           {
            "marker": {
             "colorbar": {
              "outlinewidth": 0,
              "ticks": ""
             }
            },
            "type": "scattergl"
           }
          ],
          "scattermapbox": [
           {
            "marker": {
             "colorbar": {
              "outlinewidth": 0,
              "ticks": ""
             }
            },
            "type": "scattermapbox"
           }
          ],
          "scatterpolar": [
           {
            "marker": {
             "colorbar": {
              "outlinewidth": 0,
              "ticks": ""
             }
            },
            "type": "scatterpolar"
           }
          ],
          "scatterpolargl": [
           {
            "marker": {
             "colorbar": {
              "outlinewidth": 0,
              "ticks": ""
             }
            },
            "type": "scatterpolargl"
           }
          ],
          "scatterternary": [
           {
            "marker": {
             "colorbar": {
              "outlinewidth": 0,
              "ticks": ""
             }
            },
            "type": "scatterternary"
           }
          ],
          "surface": [
           {
            "colorbar": {
             "outlinewidth": 0,
             "ticks": ""
            },
            "colorscale": [
             [
              0,
              "#0d0887"
             ],
             [
              0.1111111111111111,
              "#46039f"
             ],
             [
              0.2222222222222222,
              "#7201a8"
             ],
             [
              0.3333333333333333,
              "#9c179e"
             ],
             [
              0.4444444444444444,
              "#bd3786"
             ],
             [
              0.5555555555555556,
              "#d8576b"
             ],
             [
              0.6666666666666666,
              "#ed7953"
             ],
             [
              0.7777777777777778,
              "#fb9f3a"
             ],
             [
              0.8888888888888888,
              "#fdca26"
             ],
             [
              1,
              "#f0f921"
             ]
            ],
            "type": "surface"
           }
          ],
          "table": [
           {
            "cells": {
             "fill": {
              "color": "#EBF0F8"
             },
             "line": {
              "color": "white"
             }
            },
            "header": {
             "fill": {
              "color": "#C8D4E3"
             },
             "line": {
              "color": "white"
             }
            },
            "type": "table"
           }
          ]
         },
         "layout": {
          "annotationdefaults": {
           "arrowcolor": "#2a3f5f",
           "arrowhead": 0,
           "arrowwidth": 1
          },
          "autotypenumbers": "strict",
          "coloraxis": {
           "colorbar": {
            "outlinewidth": 0,
            "ticks": ""
           }
          },
          "colorscale": {
           "diverging": [
            [
             0,
             "#8e0152"
            ],
            [
             0.1,
             "#c51b7d"
            ],
            [
             0.2,
             "#de77ae"
            ],
            [
             0.3,
             "#f1b6da"
            ],
            [
             0.4,
             "#fde0ef"
            ],
            [
             0.5,
             "#f7f7f7"
            ],
            [
             0.6,
             "#e6f5d0"
            ],
            [
             0.7,
             "#b8e186"
            ],
            [
             0.8,
             "#7fbc41"
            ],
            [
             0.9,
             "#4d9221"
            ],
            [
             1,
             "#276419"
            ]
           ],
           "sequential": [
            [
             0,
             "#0d0887"
            ],
            [
             0.1111111111111111,
             "#46039f"
            ],
            [
             0.2222222222222222,
             "#7201a8"
            ],
            [
             0.3333333333333333,
             "#9c179e"
            ],
            [
             0.4444444444444444,
             "#bd3786"
            ],
            [
             0.5555555555555556,
             "#d8576b"
            ],
            [
             0.6666666666666666,
             "#ed7953"
            ],
            [
             0.7777777777777778,
             "#fb9f3a"
            ],
            [
             0.8888888888888888,
             "#fdca26"
            ],
            [
             1,
             "#f0f921"
            ]
           ],
           "sequentialminus": [
            [
             0,
             "#0d0887"
            ],
            [
             0.1111111111111111,
             "#46039f"
            ],
            [
             0.2222222222222222,
             "#7201a8"
            ],
            [
             0.3333333333333333,
             "#9c179e"
            ],
            [
             0.4444444444444444,
             "#bd3786"
            ],
            [
             0.5555555555555556,
             "#d8576b"
            ],
            [
             0.6666666666666666,
             "#ed7953"
            ],
            [
             0.7777777777777778,
             "#fb9f3a"
            ],
            [
             0.8888888888888888,
             "#fdca26"
            ],
            [
             1,
             "#f0f921"
            ]
           ]
          },
          "colorway": [
           "#636efa",
           "#EF553B",
           "#00cc96",
           "#ab63fa",
           "#FFA15A",
           "#19d3f3",
           "#FF6692",
           "#B6E880",
           "#FF97FF",
           "#FECB52"
          ],
          "font": {
           "color": "#2a3f5f"
          },
          "geo": {
           "bgcolor": "white",
           "lakecolor": "white",
           "landcolor": "#E5ECF6",
           "showlakes": true,
           "showland": true,
           "subunitcolor": "white"
          },
          "hoverlabel": {
           "align": "left"
          },
          "hovermode": "closest",
          "mapbox": {
           "style": "light"
          },
          "paper_bgcolor": "white",
          "plot_bgcolor": "#E5ECF6",
          "polar": {
           "angularaxis": {
            "gridcolor": "white",
            "linecolor": "white",
            "ticks": ""
           },
           "bgcolor": "#E5ECF6",
           "radialaxis": {
            "gridcolor": "white",
            "linecolor": "white",
            "ticks": ""
           }
          },
          "scene": {
           "xaxis": {
            "backgroundcolor": "#E5ECF6",
            "gridcolor": "white",
            "gridwidth": 2,
            "linecolor": "white",
            "showbackground": true,
            "ticks": "",
            "zerolinecolor": "white"
           },
           "yaxis": {
            "backgroundcolor": "#E5ECF6",
            "gridcolor": "white",
            "gridwidth": 2,
            "linecolor": "white",
            "showbackground": true,
            "ticks": "",
            "zerolinecolor": "white"
           },
           "zaxis": {
            "backgroundcolor": "#E5ECF6",
            "gridcolor": "white",
            "gridwidth": 2,
            "linecolor": "white",
            "showbackground": true,
            "ticks": "",
            "zerolinecolor": "white"
           }
          },
          "shapedefaults": {
           "line": {
            "color": "#2a3f5f"
           }
          },
          "ternary": {
           "aaxis": {
            "gridcolor": "white",
            "linecolor": "white",
            "ticks": ""
           },
           "baxis": {
            "gridcolor": "white",
            "linecolor": "white",
            "ticks": ""
           },
           "bgcolor": "#E5ECF6",
           "caxis": {
            "gridcolor": "white",
            "linecolor": "white",
            "ticks": ""
           }
          },
          "title": {
           "x": 0.05
          },
          "xaxis": {
           "automargin": true,
           "gridcolor": "white",
           "linecolor": "white",
           "ticks": "",
           "title": {
            "standoff": 15
           },
           "zerolinecolor": "white",
           "zerolinewidth": 2
          },
          "yaxis": {
           "automargin": true,
           "gridcolor": "white",
           "linecolor": "white",
           "ticks": "",
           "title": {
            "standoff": 15
           },
           "zerolinecolor": "white",
           "zerolinewidth": 2
          }
         }
        },
        "xaxis": {
         "anchor": "y",
         "domain": [
          0,
          1
         ],
         "title": {
          "text": "index"
         }
        },
        "yaxis": {
         "anchor": "x",
         "domain": [
          0,
          1
         ],
         "title": {
          "text": "value"
         }
        }
       }
      }
     },
     "metadata": {},
     "output_type": "display_data"
    }
   ],
   "source": [
    "px.line(eviMean.iloc[8700,8:])"
   ]
  },
  {
   "cell_type": "code",
   "execution_count": 5,
   "metadata": {},
   "outputs": [
    {
     "data": {
      "text/plain": [
       "'Desiertos Calidos'"
      ]
     },
     "execution_count": 5,
     "metadata": {},
     "output_type": "execute_result"
    }
   ],
   "source": [
    "eviMean.iloc[8700, 5]"
   ]
  },
  {
   "cell_type": "code",
   "execution_count": 6,
   "metadata": {},
   "outputs": [
    {
     "data": {
      "application/vnd.plotly.v1+json": {
       "config": {
        "plotlyServerURL": "https://plot.ly"
       },
       "data": [
        {
         "hovertemplate": "variable=6548<br>index=%{x}<br>value=%{y}<extra></extra>",
         "legendgroup": "6548",
         "line": {
          "color": "#636efa",
          "dash": "solid"
         },
         "marker": {
          "symbol": "circle"
         },
         "mode": "lines",
         "name": "6548",
         "orientation": "v",
         "showlegend": true,
         "type": "scatter",
         "x": [
          "X2000032",
          "X2000061",
          "X2000092",
          "X2000122",
          "X2000153",
          "X2000183",
          "X2000214",
          "X2000245",
          "X2000275",
          "X2000306",
          "X2000336",
          "X2001001",
          "X2001032",
          "X2001060",
          "X2001091",
          "X2001121",
          "X2001152",
          "X2001182",
          "X2001213",
          "X2001244",
          "X2001274",
          "X2001305",
          "X2001335",
          "X2002001",
          "X2002032",
          "X2002060",
          "X2002091",
          "X2002121",
          "X2002152",
          "X2002182",
          "X2002213",
          "X2002244",
          "X2002274",
          "X2002305",
          "X2002335",
          "X2003001",
          "X2003032",
          "X2003060",
          "X2003091",
          "X2003121",
          "X2003152",
          "X2003182",
          "X2003213",
          "X2003244",
          "X2003274",
          "X2003305",
          "X2003335",
          "X2004001",
          "X2004032",
          "X2004061",
          "X2004092",
          "X2004122",
          "X2004153",
          "X2004183",
          "X2004214",
          "X2004245",
          "X2004275",
          "X2004306",
          "X2004336",
          "X2005001",
          "X2005032",
          "X2005060",
          "X2005091",
          "X2005121",
          "X2005152",
          "X2005182",
          "X2005213",
          "X2005244",
          "X2005274",
          "X2005305",
          "X2005335",
          "X2006001",
          "X2006032",
          "X2006060",
          "X2006091",
          "X2006121",
          "X2006152",
          "X2006182",
          "X2006213",
          "X2006244",
          "X2006274",
          "X2006305",
          "X2006335",
          "X2007001",
          "X2007032",
          "X2007060",
          "X2007091",
          "X2007121",
          "X2007152",
          "X2007182",
          "X2007213",
          "X2007244",
          "X2007274",
          "X2007305",
          "X2007335",
          "X2008001",
          "X2008032",
          "X2008061",
          "X2008092",
          "X2008122",
          "X2008153",
          "X2008183",
          "X2008214",
          "X2008245",
          "X2008275",
          "X2008306",
          "X2008336",
          "X2009001",
          "X2009032",
          "X2009060",
          "X2009091",
          "X2009121",
          "X2009152",
          "X2009182",
          "X2009213",
          "X2009244",
          "X2009274",
          "X2009305",
          "X2009335",
          "X2010001",
          "X2010032",
          "X2010060",
          "X2010091",
          "X2010121",
          "X2010152",
          "X2010182",
          "X2010213",
          "X2010244",
          "X2010274",
          "X2010305",
          "X2010335",
          "X2011001",
          "X2011032",
          "X2011060",
          "X2011091",
          "X2011121",
          "X2011152",
          "X2011182",
          "X2011213",
          "X2011244",
          "X2011274",
          "X2011305",
          "X2011335",
          "X2012001",
          "X2012032",
          "X2012061",
          "X2012092",
          "X2012122",
          "X2012153",
          "X2012183",
          "X2012214",
          "X2012245",
          "X2012275",
          "X2012306",
          "X2012336",
          "X2013001",
          "X2013032",
          "X2013060",
          "X2013091",
          "X2013121",
          "X2013152",
          "X2013182",
          "X2013213",
          "X2013244",
          "X2013274",
          "X2013305",
          "X2013335",
          "X2014001",
          "X2014032",
          "X2014060",
          "X2014091",
          "X2014121",
          "X2014152",
          "X2014182",
          "X2014213",
          "X2014244",
          "X2014274",
          "X2014305",
          "X2014335",
          "X2015001",
          "X2015032",
          "X2015060",
          "X2015091",
          "X2015121",
          "X2015152",
          "X2015182",
          "X2015213",
          "X2015244",
          "X2015274",
          "X2015305",
          "X2015335",
          "X2016001",
          "X2016032",
          "X2016061",
          "X2016092",
          "X2016122",
          "X2016153",
          "X2016183",
          "X2016214",
          "X2016245",
          "X2016275",
          "X2016306",
          "X2016336",
          "X2017001",
          "X2017032",
          "X2017060",
          "X2017091",
          "X2017121",
          "X2017152",
          "X2017182",
          "X2017213",
          "X2017244",
          "X2017274",
          "X2017305",
          "X2017335",
          "X2018001",
          "X2018032",
          "X2018060",
          "X2018091",
          "X2018121",
          "X2018152",
          "X2018182",
          "X2018213",
          "X2018244",
          "X2018274",
          "X2018305",
          "X2018335",
          "X2019001",
          "X2019032",
          "X2019060",
          "X2019091",
          "X2019121",
          "X2019152",
          "X2019182",
          "X2019213",
          "X2019244",
          "X2019274",
          "X2019305",
          "X2019335",
          "X2020001",
          "X2020032",
          "X2020061",
          "X2020092",
          "X2020122",
          "X2020153",
          "X2020183",
          "X2020214",
          "X2020245",
          "X2020275",
          "X2020306",
          "X2020336",
          "X2021001",
          "X2021032",
          "X2021060",
          "X2021091",
          "X2021121",
          "X2021152",
          "X2021182",
          "X2021213",
          "X2021244",
          "X2021274",
          "X2021305",
          "X2021335",
          "X2022001",
          "X2022032",
          "X2022060",
          "X2022091",
          "X2022121",
          "X2022152",
          "X2022182",
          "X2022213",
          "X2022244",
          "X2022274",
          "X2022305",
          "X2022335",
          "X2023001",
          "X2023032",
          "X2023060",
          "X2023091",
          "X2023121",
          "X2023152",
          "X2023182"
         ],
         "xaxis": "x",
         "y": [
          0.13343737,
          0.132032526,
          0.135148097,
          0.135018339,
          0.140207613,
          0.234329757,
          0.312982699,
          0.279236332,
          0.235164013,
          0.292000692,
          0.223550519,
          0.175177162,
          0.140882007,
          0.129730796,
          0.125382699,
          0.119399654,
          0.119616263,
          0.388327682,
          0.382012111,
          0.310428027,
          0.257519032,
          0.259740484,
          0.187380277,
          0.154113841,
          0.129851903,
          0.121846713,
          0.117201384,
          0.121032872,
          0.115456055,
          0.326509342,
          0.365331142,
          0.32469135,
          0.225999307,
          0.153882699,
          0.131791696,
          0.128888581,
          0.135949481,
          0.126335294,
          0.121824222,
          0.119362976,
          0.117343598,
          0.28177301,
          0.31452422,
          0.330585121,
          0.289770934,
          0.167081661,
          0.137810034,
          0.124236332,
          0.143160554,
          0.187565052,
          0.169993425,
          0.137317647,
          0.127991349,
          0.4043654,
          0.370876124,
          0.369297924,
          0.328504843,
          0.242696194,
          0.243442214,
          0.225505536,
          0.225642907,
          0.216843599,
          0.174498962,
          0.149448789,
          0.147904152,
          0.422562976,
          0.418259169,
          0.363077509,
          0.210392387,
          0.1621391,
          0.152908996,
          0.154450865,
          0.146345328,
          0.149424914,
          0.144511765,
          0.144875432,
          0.184854671,
          0.390937716,
          0.385604497,
          0.398226297,
          0.261675087,
          0.231920762,
          0.153750519,
          0.132022837,
          0.122856401,
          0.122587543,
          0.124279239,
          0.114372318,
          0.119254325,
          0.322268512,
          0.344014879,
          0.383741523,
          0.293682699,
          0.190712457,
          0.165215917,
          0.197652249,
          0.177692734,
          0.142126297,
          0.125452249,
          0.124386851,
          0.129995501,
          0.385510035,
          0.443750865,
          0.415179238,
          0.281620415,
          0.181253287,
          0.165890657,
          0.140792388,
          0.123287889,
          0.112597924,
          0.118586159,
          0.121327336,
          0.341483391,
          0.347480969,
          0.363355709,
          0.334158478,
          0.311208304,
          0.326931834,
          0.24591488,
          0.191371972,
          0.176954325,
          0.16961038,
          0.142229066,
          0.134785814,
          0.134507266,
          0.196195848,
          0.30602076,
          0.364792041,
          0.303897577,
          0.1747609,
          0.155251903,
          0.142170935,
          0.134839447,
          0.128283045,
          0.124135986,
          0.129518685,
          0.131031834,
          0.438963321,
          0.443708303,
          0.375572665,
          0.235210727,
          0.175186159,
          0.211629758,
          0.192941176,
          0.152953287,
          0.131124567,
          0.118310381,
          0.117071626,
          0.124041177,
          0.270747059,
          0.323986159,
          0.351558131,
          0.273134601,
          0.153197232,
          0.134855017,
          0.124546367,
          0.124518685,
          0.123804845,
          0.119744636,
          0.115364359,
          0.117881315,
          0.263750519,
          0.314413841,
          0.390374049,
          0.2828391,
          0.266568858,
          0.216692387,
          0.16013391,
          0.14223045,
          0.130315571,
          0.127905883,
          0.118479931,
          0.133220415,
          0.399822491,
          0.413309689,
          0.447801731,
          0.267084776,
          0.164659861,
          0.146921799,
          0.137365052,
          0.136241177,
          0.212358823,
          0.18756955,
          0.15093045,
          0.254000692,
          0.291281661,
          0.381766434,
          0.396298269,
          0.353998616,
          0.241442214,
          0.186540831,
          0.149112457,
          0.132115225,
          0.136829412,
          0.140816955,
          0.130691003,
          0.129111418,
          0.161630104,
          0.334321107,
          0.334922491,
          0.198407958,
          0.153349134,
          0.152452941,
          0.133809342,
          0.125916263,
          0.141343599,
          0.125383391,
          0.115955709,
          0.128185813,
          0.343698271,
          0.390805189,
          0.380415571,
          0.178637024,
          0.148891349,
          0.150296194,
          0.126382007,
          0.128040138,
          0.123292388,
          0.116738062,
          0.11497474,
          0.253671626,
          0.302586851,
          0.432022836,
          0.333179239,
          0.358306228,
          0.258928374,
          0.180548443,
          0.139887543,
          0.137201384,
          0.115340485,
          0.116524567,
          0.123859862,
          0.118435986,
          0.172512803,
          0.373335985,
          0.437291351,
          0.312437717,
          0.226061591,
          0.186424913,
          0.202512457,
          0.144962976,
          0.130379239,
          0.118674741,
          0.115412111,
          0.121427682,
          0.286097232,
          0.284797578,
          0.280235986,
          0.180386505,
          0.141968166,
          0.141971972,
          0.138154671,
          0.128658823,
          0.117780623,
          0.119772318,
          0.122814879,
          0.125235986,
          0.357002768,
          0.421099999,
          0.388199307,
          0.227278546,
          0.151851903,
          0.135036678,
          0.116972664,
          0.113036332,
          0.111769896,
          0.115128373,
          0.113184083,
          0.126748097,
          0.410488235,
          0.468116955,
          0.427701382,
          0.249273011,
          0.171849134,
          0.12987128,
          0.113720069,
          0.124424914,
          0.108004498,
          0.100290312,
          0.104924913,
          0.113444982,
          0.234433219
         ],
         "yaxis": "y"
        }
       ],
       "layout": {
        "legend": {
         "title": {
          "text": "variable"
         },
         "tracegroupgap": 0
        },
        "margin": {
         "t": 60
        },
        "template": {
         "data": {
          "bar": [
           {
            "error_x": {
             "color": "#2a3f5f"
            },
            "error_y": {
             "color": "#2a3f5f"
            },
            "marker": {
             "line": {
              "color": "#E5ECF6",
              "width": 0.5
             },
             "pattern": {
              "fillmode": "overlay",
              "size": 10,
              "solidity": 0.2
             }
            },
            "type": "bar"
           }
          ],
          "barpolar": [
           {
            "marker": {
             "line": {
              "color": "#E5ECF6",
              "width": 0.5
             },
             "pattern": {
              "fillmode": "overlay",
              "size": 10,
              "solidity": 0.2
             }
            },
            "type": "barpolar"
           }
          ],
          "carpet": [
           {
            "aaxis": {
             "endlinecolor": "#2a3f5f",
             "gridcolor": "white",
             "linecolor": "white",
             "minorgridcolor": "white",
             "startlinecolor": "#2a3f5f"
            },
            "baxis": {
             "endlinecolor": "#2a3f5f",
             "gridcolor": "white",
             "linecolor": "white",
             "minorgridcolor": "white",
             "startlinecolor": "#2a3f5f"
            },
            "type": "carpet"
           }
          ],
          "choropleth": [
           {
            "colorbar": {
             "outlinewidth": 0,
             "ticks": ""
            },
            "type": "choropleth"
           }
          ],
          "contour": [
           {
            "colorbar": {
             "outlinewidth": 0,
             "ticks": ""
            },
            "colorscale": [
             [
              0,
              "#0d0887"
             ],
             [
              0.1111111111111111,
              "#46039f"
             ],
             [
              0.2222222222222222,
              "#7201a8"
             ],
             [
              0.3333333333333333,
              "#9c179e"
             ],
             [
              0.4444444444444444,
              "#bd3786"
             ],
             [
              0.5555555555555556,
              "#d8576b"
             ],
             [
              0.6666666666666666,
              "#ed7953"
             ],
             [
              0.7777777777777778,
              "#fb9f3a"
             ],
             [
              0.8888888888888888,
              "#fdca26"
             ],
             [
              1,
              "#f0f921"
             ]
            ],
            "type": "contour"
           }
          ],
          "contourcarpet": [
           {
            "colorbar": {
             "outlinewidth": 0,
             "ticks": ""
            },
            "type": "contourcarpet"
           }
          ],
          "heatmap": [
           {
            "colorbar": {
             "outlinewidth": 0,
             "ticks": ""
            },
            "colorscale": [
             [
              0,
              "#0d0887"
             ],
             [
              0.1111111111111111,
              "#46039f"
             ],
             [
              0.2222222222222222,
              "#7201a8"
             ],
             [
              0.3333333333333333,
              "#9c179e"
             ],
             [
              0.4444444444444444,
              "#bd3786"
             ],
             [
              0.5555555555555556,
              "#d8576b"
             ],
             [
              0.6666666666666666,
              "#ed7953"
             ],
             [
              0.7777777777777778,
              "#fb9f3a"
             ],
             [
              0.8888888888888888,
              "#fdca26"
             ],
             [
              1,
              "#f0f921"
             ]
            ],
            "type": "heatmap"
           }
          ],
          "heatmapgl": [
           {
            "colorbar": {
             "outlinewidth": 0,
             "ticks": ""
            },
            "colorscale": [
             [
              0,
              "#0d0887"
             ],
             [
              0.1111111111111111,
              "#46039f"
             ],
             [
              0.2222222222222222,
              "#7201a8"
             ],
             [
              0.3333333333333333,
              "#9c179e"
             ],
             [
              0.4444444444444444,
              "#bd3786"
             ],
             [
              0.5555555555555556,
              "#d8576b"
             ],
             [
              0.6666666666666666,
              "#ed7953"
             ],
             [
              0.7777777777777778,
              "#fb9f3a"
             ],
             [
              0.8888888888888888,
              "#fdca26"
             ],
             [
              1,
              "#f0f921"
             ]
            ],
            "type": "heatmapgl"
           }
          ],
          "histogram": [
           {
            "marker": {
             "pattern": {
              "fillmode": "overlay",
              "size": 10,
              "solidity": 0.2
             }
            },
            "type": "histogram"
           }
          ],
          "histogram2d": [
           {
            "colorbar": {
             "outlinewidth": 0,
             "ticks": ""
            },
            "colorscale": [
             [
              0,
              "#0d0887"
             ],
             [
              0.1111111111111111,
              "#46039f"
             ],
             [
              0.2222222222222222,
              "#7201a8"
             ],
             [
              0.3333333333333333,
              "#9c179e"
             ],
             [
              0.4444444444444444,
              "#bd3786"
             ],
             [
              0.5555555555555556,
              "#d8576b"
             ],
             [
              0.6666666666666666,
              "#ed7953"
             ],
             [
              0.7777777777777778,
              "#fb9f3a"
             ],
             [
              0.8888888888888888,
              "#fdca26"
             ],
             [
              1,
              "#f0f921"
             ]
            ],
            "type": "histogram2d"
           }
          ],
          "histogram2dcontour": [
           {
            "colorbar": {
             "outlinewidth": 0,
             "ticks": ""
            },
            "colorscale": [
             [
              0,
              "#0d0887"
             ],
             [
              0.1111111111111111,
              "#46039f"
             ],
             [
              0.2222222222222222,
              "#7201a8"
             ],
             [
              0.3333333333333333,
              "#9c179e"
             ],
             [
              0.4444444444444444,
              "#bd3786"
             ],
             [
              0.5555555555555556,
              "#d8576b"
             ],
             [
              0.6666666666666666,
              "#ed7953"
             ],
             [
              0.7777777777777778,
              "#fb9f3a"
             ],
             [
              0.8888888888888888,
              "#fdca26"
             ],
             [
              1,
              "#f0f921"
             ]
            ],
            "type": "histogram2dcontour"
           }
          ],
          "mesh3d": [
           {
            "colorbar": {
             "outlinewidth": 0,
             "ticks": ""
            },
            "type": "mesh3d"
           }
          ],
          "parcoords": [
           {
            "line": {
             "colorbar": {
              "outlinewidth": 0,
              "ticks": ""
             }
            },
            "type": "parcoords"
           }
          ],
          "pie": [
           {
            "automargin": true,
            "type": "pie"
           }
          ],
          "scatter": [
           {
            "fillpattern": {
             "fillmode": "overlay",
             "size": 10,
             "solidity": 0.2
            },
            "type": "scatter"
           }
          ],
          "scatter3d": [
           {
            "line": {
             "colorbar": {
              "outlinewidth": 0,
              "ticks": ""
             }
            },
            "marker": {
             "colorbar": {
              "outlinewidth": 0,
              "ticks": ""
             }
            },
            "type": "scatter3d"
           }
          ],
          "scattercarpet": [
           {
            "marker": {
             "colorbar": {
              "outlinewidth": 0,
              "ticks": ""
             }
            },
            "type": "scattercarpet"
           }
          ],
          "scattergeo": [
           {
            "marker": {
             "colorbar": {
              "outlinewidth": 0,
              "ticks": ""
             }
            },
            "type": "scattergeo"
           }
          ],
          "scattergl": [
           {
            "marker": {
             "colorbar": {
              "outlinewidth": 0,
              "ticks": ""
             }
            },
            "type": "scattergl"
           }
          ],
          "scattermapbox": [
           {
            "marker": {
             "colorbar": {
              "outlinewidth": 0,
              "ticks": ""
             }
            },
            "type": "scattermapbox"
           }
          ],
          "scatterpolar": [
           {
            "marker": {
             "colorbar": {
              "outlinewidth": 0,
              "ticks": ""
             }
            },
            "type": "scatterpolar"
           }
          ],
          "scatterpolargl": [
           {
            "marker": {
             "colorbar": {
              "outlinewidth": 0,
              "ticks": ""
             }
            },
            "type": "scatterpolargl"
           }
          ],
          "scatterternary": [
           {
            "marker": {
             "colorbar": {
              "outlinewidth": 0,
              "ticks": ""
             }
            },
            "type": "scatterternary"
           }
          ],
          "surface": [
           {
            "colorbar": {
             "outlinewidth": 0,
             "ticks": ""
            },
            "colorscale": [
             [
              0,
              "#0d0887"
             ],
             [
              0.1111111111111111,
              "#46039f"
             ],
             [
              0.2222222222222222,
              "#7201a8"
             ],
             [
              0.3333333333333333,
              "#9c179e"
             ],
             [
              0.4444444444444444,
              "#bd3786"
             ],
             [
              0.5555555555555556,
              "#d8576b"
             ],
             [
              0.6666666666666666,
              "#ed7953"
             ],
             [
              0.7777777777777778,
              "#fb9f3a"
             ],
             [
              0.8888888888888888,
              "#fdca26"
             ],
             [
              1,
              "#f0f921"
             ]
            ],
            "type": "surface"
           }
          ],
          "table": [
           {
            "cells": {
             "fill": {
              "color": "#EBF0F8"
             },
             "line": {
              "color": "white"
             }
            },
            "header": {
             "fill": {
              "color": "#C8D4E3"
             },
             "line": {
              "color": "white"
             }
            },
            "type": "table"
           }
          ]
         },
         "layout": {
          "annotationdefaults": {
           "arrowcolor": "#2a3f5f",
           "arrowhead": 0,
           "arrowwidth": 1
          },
          "autotypenumbers": "strict",
          "coloraxis": {
           "colorbar": {
            "outlinewidth": 0,
            "ticks": ""
           }
          },
          "colorscale": {
           "diverging": [
            [
             0,
             "#8e0152"
            ],
            [
             0.1,
             "#c51b7d"
            ],
            [
             0.2,
             "#de77ae"
            ],
            [
             0.3,
             "#f1b6da"
            ],
            [
             0.4,
             "#fde0ef"
            ],
            [
             0.5,
             "#f7f7f7"
            ],
            [
             0.6,
             "#e6f5d0"
            ],
            [
             0.7,
             "#b8e186"
            ],
            [
             0.8,
             "#7fbc41"
            ],
            [
             0.9,
             "#4d9221"
            ],
            [
             1,
             "#276419"
            ]
           ],
           "sequential": [
            [
             0,
             "#0d0887"
            ],
            [
             0.1111111111111111,
             "#46039f"
            ],
            [
             0.2222222222222222,
             "#7201a8"
            ],
            [
             0.3333333333333333,
             "#9c179e"
            ],
            [
             0.4444444444444444,
             "#bd3786"
            ],
            [
             0.5555555555555556,
             "#d8576b"
            ],
            [
             0.6666666666666666,
             "#ed7953"
            ],
            [
             0.7777777777777778,
             "#fb9f3a"
            ],
            [
             0.8888888888888888,
             "#fdca26"
            ],
            [
             1,
             "#f0f921"
            ]
           ],
           "sequentialminus": [
            [
             0,
             "#0d0887"
            ],
            [
             0.1111111111111111,
             "#46039f"
            ],
            [
             0.2222222222222222,
             "#7201a8"
            ],
            [
             0.3333333333333333,
             "#9c179e"
            ],
            [
             0.4444444444444444,
             "#bd3786"
            ],
            [
             0.5555555555555556,
             "#d8576b"
            ],
            [
             0.6666666666666666,
             "#ed7953"
            ],
            [
             0.7777777777777778,
             "#fb9f3a"
            ],
            [
             0.8888888888888888,
             "#fdca26"
            ],
            [
             1,
             "#f0f921"
            ]
           ]
          },
          "colorway": [
           "#636efa",
           "#EF553B",
           "#00cc96",
           "#ab63fa",
           "#FFA15A",
           "#19d3f3",
           "#FF6692",
           "#B6E880",
           "#FF97FF",
           "#FECB52"
          ],
          "font": {
           "color": "#2a3f5f"
          },
          "geo": {
           "bgcolor": "white",
           "lakecolor": "white",
           "landcolor": "#E5ECF6",
           "showlakes": true,
           "showland": true,
           "subunitcolor": "white"
          },
          "hoverlabel": {
           "align": "left"
          },
          "hovermode": "closest",
          "mapbox": {
           "style": "light"
          },
          "paper_bgcolor": "white",
          "plot_bgcolor": "#E5ECF6",
          "polar": {
           "angularaxis": {
            "gridcolor": "white",
            "linecolor": "white",
            "ticks": ""
           },
           "bgcolor": "#E5ECF6",
           "radialaxis": {
            "gridcolor": "white",
            "linecolor": "white",
            "ticks": ""
           }
          },
          "scene": {
           "xaxis": {
            "backgroundcolor": "#E5ECF6",
            "gridcolor": "white",
            "gridwidth": 2,
            "linecolor": "white",
            "showbackground": true,
            "ticks": "",
            "zerolinecolor": "white"
           },
           "yaxis": {
            "backgroundcolor": "#E5ECF6",
            "gridcolor": "white",
            "gridwidth": 2,
            "linecolor": "white",
            "showbackground": true,
            "ticks": "",
            "zerolinecolor": "white"
           },
           "zaxis": {
            "backgroundcolor": "#E5ECF6",
            "gridcolor": "white",
            "gridwidth": 2,
            "linecolor": "white",
            "showbackground": true,
            "ticks": "",
            "zerolinecolor": "white"
           }
          },
          "shapedefaults": {
           "line": {
            "color": "#2a3f5f"
           }
          },
          "ternary": {
           "aaxis": {
            "gridcolor": "white",
            "linecolor": "white",
            "ticks": ""
           },
           "baxis": {
            "gridcolor": "white",
            "linecolor": "white",
            "ticks": ""
           },
           "bgcolor": "#E5ECF6",
           "caxis": {
            "gridcolor": "white",
            "linecolor": "white",
            "ticks": ""
           }
          },
          "title": {
           "x": 0.05
          },
          "xaxis": {
           "automargin": true,
           "gridcolor": "white",
           "linecolor": "white",
           "ticks": "",
           "title": {
            "standoff": 15
           },
           "zerolinecolor": "white",
           "zerolinewidth": 2
          },
          "yaxis": {
           "automargin": true,
           "gridcolor": "white",
           "linecolor": "white",
           "ticks": "",
           "title": {
            "standoff": 15
           },
           "zerolinecolor": "white",
           "zerolinewidth": 2
          }
         }
        },
        "xaxis": {
         "anchor": "y",
         "domain": [
          0,
          1
         ],
         "title": {
          "text": "index"
         }
        },
        "yaxis": {
         "anchor": "x",
         "domain": [
          0,
          1
         ],
         "title": {
          "text": "value"
         }
        }
       }
      }
     },
     "metadata": {},
     "output_type": "display_data"
    }
   ],
   "source": [
    "px.line(eviMean.sample().iloc[:,8:].transpose())"
   ]
  },
  {
   "cell_type": "code",
   "execution_count": 7,
   "metadata": {},
   "outputs": [
    {
     "data": {
      "text/plain": [
       "'Planicie Costera, Lomerios y Canones del Occidente'"
      ]
     },
     "execution_count": 7,
     "metadata": {},
     "output_type": "execute_result"
    }
   ],
   "source": [
    "eviMean.iloc[5122, 5]"
   ]
  },
  {
   "cell_type": "markdown",
   "metadata": {},
   "source": [
    "## Groupby"
   ]
  },
  {
   "cell_type": "code",
   "execution_count": 8,
   "metadata": {},
   "outputs": [],
   "source": [
    "regions = eviMean.groupby(by='DESECON1')"
   ]
  },
  {
   "cell_type": "code",
   "execution_count": 9,
   "metadata": {},
   "outputs": [
    {
     "data": {
      "text/plain": [
       "dict_keys(['California Mediterranea', 'Desiertos de America del Norte', 'Elevaciones Semiaridas Meridionales', 'Grandes Planicies', 'Selvas Calido-Humedas', 'Selvas Calido-Secas', 'Sierras Templadas'])"
      ]
     },
     "execution_count": 9,
     "metadata": {},
     "output_type": "execute_result"
    }
   ],
   "source": [
    "regions.groups.keys()"
   ]
  },
  {
   "cell_type": "code",
   "execution_count": 10,
   "metadata": {},
   "outputs": [
    {
     "data": {
      "text/plain": [
       "DESECON1\n",
       "California Mediterranea                 119\n",
       "Grandes Planicies                       489\n",
       "Elevaciones Semiaridas Meridionales    1058\n",
       "Selvas Calido-Humedas                  1200\n",
       "Selvas Calido-Secas                    1423\n",
       "Sierras Templadas                      1928\n",
       "Desiertos de America del Norte         2577\n",
       "dtype: int64"
      ]
     },
     "execution_count": 10,
     "metadata": {},
     "output_type": "execute_result"
    }
   ],
   "source": [
    "regions.size().sort_values()"
   ]
  },
  {
   "cell_type": "code",
   "execution_count": 11,
   "metadata": {},
   "outputs": [],
   "source": [
    "reg1 = regions.get_group('Desiertos de America del Norte')"
   ]
  },
  {
   "cell_type": "code",
   "execution_count": 12,
   "metadata": {},
   "outputs": [
    {
     "data": {
      "text/html": [
       "<div>\n",
       "<style scoped>\n",
       "    .dataframe tbody tr th:only-of-type {\n",
       "        vertical-align: middle;\n",
       "    }\n",
       "\n",
       "    .dataframe tbody tr th {\n",
       "        vertical-align: top;\n",
       "    }\n",
       "\n",
       "    .dataframe thead th {\n",
       "        text-align: right;\n",
       "    }\n",
       "</style>\n",
       "<table border=\"1\" class=\"dataframe\">\n",
       "  <thead>\n",
       "    <tr style=\"text-align: right;\">\n",
       "      <th></th>\n",
       "      <th>id_ok</th>\n",
       "      <th>longitude</th>\n",
       "      <th>latitude</th>\n",
       "      <th>km2</th>\n",
       "      <th>DESECON1</th>\n",
       "      <th>DESECON2</th>\n",
       "      <th>DESECON3</th>\n",
       "      <th>DESECON4</th>\n",
       "      <th>X2000032</th>\n",
       "      <th>X2000061</th>\n",
       "      <th>...</th>\n",
       "      <th>X2022274</th>\n",
       "      <th>X2022305</th>\n",
       "      <th>X2022335</th>\n",
       "      <th>X2023001</th>\n",
       "      <th>X2023032</th>\n",
       "      <th>X2023060</th>\n",
       "      <th>X2023091</th>\n",
       "      <th>X2023121</th>\n",
       "      <th>X2023152</th>\n",
       "      <th>X2023182</th>\n",
       "    </tr>\n",
       "  </thead>\n",
       "  <tbody>\n",
       "    <tr>\n",
       "      <th>3222</th>\n",
       "      <td>3316</td>\n",
       "      <td>-99.805554</td>\n",
       "      <td>21.621329</td>\n",
       "      <td>222.815667</td>\n",
       "      <td>Desiertos de America del Norte</td>\n",
       "      <td>Desiertos Calidos</td>\n",
       "      <td>Desierto Chihuahuense</td>\n",
       "      <td>Planicies del Altiplano Zacatecano-Potosino co...</td>\n",
       "      <td>0.160945</td>\n",
       "      <td>0.165068</td>\n",
       "      <td>...</td>\n",
       "      <td>0.350151</td>\n",
       "      <td>0.313900</td>\n",
       "      <td>0.299278</td>\n",
       "      <td>0.201708</td>\n",
       "      <td>0.160254</td>\n",
       "      <td>0.157356</td>\n",
       "      <td>0.159249</td>\n",
       "      <td>0.175464</td>\n",
       "      <td>0.192033</td>\n",
       "      <td>0.182492</td>\n",
       "    </tr>\n",
       "    <tr>\n",
       "      <th>3270</th>\n",
       "      <td>3367</td>\n",
       "      <td>-100.926354</td>\n",
       "      <td>21.761429</td>\n",
       "      <td>222.569249</td>\n",
       "      <td>Desiertos de America del Norte</td>\n",
       "      <td>Desiertos Calidos</td>\n",
       "      <td>Desierto Chihuahuense</td>\n",
       "      <td>Planicies del Altiplano Zacatecano-Potosino co...</td>\n",
       "      <td>0.160917</td>\n",
       "      <td>0.169971</td>\n",
       "      <td>...</td>\n",
       "      <td>0.261451</td>\n",
       "      <td>0.212997</td>\n",
       "      <td>0.191341</td>\n",
       "      <td>0.166828</td>\n",
       "      <td>0.153103</td>\n",
       "      <td>0.164724</td>\n",
       "      <td>0.177433</td>\n",
       "      <td>0.204699</td>\n",
       "      <td>0.225996</td>\n",
       "      <td>0.225684</td>\n",
       "    </tr>\n",
       "    <tr>\n",
       "      <th>3327</th>\n",
       "      <td>3424</td>\n",
       "      <td>-100.926354</td>\n",
       "      <td>21.901529</td>\n",
       "      <td>222.324198</td>\n",
       "      <td>Desiertos de America del Norte</td>\n",
       "      <td>Desiertos Calidos</td>\n",
       "      <td>Desierto Chihuahuense</td>\n",
       "      <td>Planicies del Altiplano Zacatecano-Potosino co...</td>\n",
       "      <td>0.138129</td>\n",
       "      <td>0.146591</td>\n",
       "      <td>...</td>\n",
       "      <td>0.265421</td>\n",
       "      <td>0.210638</td>\n",
       "      <td>0.184922</td>\n",
       "      <td>0.159277</td>\n",
       "      <td>0.141992</td>\n",
       "      <td>0.147725</td>\n",
       "      <td>0.160331</td>\n",
       "      <td>0.171418</td>\n",
       "      <td>0.181015</td>\n",
       "      <td>0.193701</td>\n",
       "    </tr>\n",
       "    <tr>\n",
       "      <th>3328</th>\n",
       "      <td>3425</td>\n",
       "      <td>-100.786254</td>\n",
       "      <td>21.901529</td>\n",
       "      <td>222.324198</td>\n",
       "      <td>Desiertos de America del Norte</td>\n",
       "      <td>Desiertos Calidos</td>\n",
       "      <td>Desierto Chihuahuense</td>\n",
       "      <td>Planicies del Altiplano Zacatecano-Potosino co...</td>\n",
       "      <td>0.113487</td>\n",
       "      <td>0.124050</td>\n",
       "      <td>...</td>\n",
       "      <td>0.220094</td>\n",
       "      <td>0.172908</td>\n",
       "      <td>0.154411</td>\n",
       "      <td>0.131061</td>\n",
       "      <td>0.113505</td>\n",
       "      <td>0.120184</td>\n",
       "      <td>0.136962</td>\n",
       "      <td>0.162148</td>\n",
       "      <td>0.175997</td>\n",
       "      <td>0.168276</td>\n",
       "    </tr>\n",
       "    <tr>\n",
       "      <th>3334</th>\n",
       "      <td>3431</td>\n",
       "      <td>-99.945654</td>\n",
       "      <td>21.901529</td>\n",
       "      <td>222.324198</td>\n",
       "      <td>Desiertos de America del Norte</td>\n",
       "      <td>Desiertos Calidos</td>\n",
       "      <td>Desierto Chihuahuense</td>\n",
       "      <td>Planicies del Altiplano Zacatecano-Potosino co...</td>\n",
       "      <td>0.165141</td>\n",
       "      <td>0.184403</td>\n",
       "      <td>...</td>\n",
       "      <td>0.355976</td>\n",
       "      <td>0.285438</td>\n",
       "      <td>0.245578</td>\n",
       "      <td>0.215332</td>\n",
       "      <td>0.178375</td>\n",
       "      <td>0.182429</td>\n",
       "      <td>0.244910</td>\n",
       "      <td>0.279941</td>\n",
       "      <td>0.250646</td>\n",
       "      <td>0.233376</td>\n",
       "    </tr>\n",
       "  </tbody>\n",
       "</table>\n",
       "<p>5 rows × 290 columns</p>\n",
       "</div>"
      ],
      "text/plain": [
       "      id_ok   longitude   latitude         km2  \\\n",
       "3222   3316  -99.805554  21.621329  222.815667   \n",
       "3270   3367 -100.926354  21.761429  222.569249   \n",
       "3327   3424 -100.926354  21.901529  222.324198   \n",
       "3328   3425 -100.786254  21.901529  222.324198   \n",
       "3334   3431  -99.945654  21.901529  222.324198   \n",
       "\n",
       "                            DESECON1           DESECON2  \\\n",
       "3222  Desiertos de America del Norte  Desiertos Calidos   \n",
       "3270  Desiertos de America del Norte  Desiertos Calidos   \n",
       "3327  Desiertos de America del Norte  Desiertos Calidos   \n",
       "3328  Desiertos de America del Norte  Desiertos Calidos   \n",
       "3334  Desiertos de America del Norte  Desiertos Calidos   \n",
       "\n",
       "                   DESECON3  \\\n",
       "3222  Desierto Chihuahuense   \n",
       "3270  Desierto Chihuahuense   \n",
       "3327  Desierto Chihuahuense   \n",
       "3328  Desierto Chihuahuense   \n",
       "3334  Desierto Chihuahuense   \n",
       "\n",
       "                                               DESECON4  X2000032  X2000061  \\\n",
       "3222  Planicies del Altiplano Zacatecano-Potosino co...  0.160945  0.165068   \n",
       "3270  Planicies del Altiplano Zacatecano-Potosino co...  0.160917  0.169971   \n",
       "3327  Planicies del Altiplano Zacatecano-Potosino co...  0.138129  0.146591   \n",
       "3328  Planicies del Altiplano Zacatecano-Potosino co...  0.113487  0.124050   \n",
       "3334  Planicies del Altiplano Zacatecano-Potosino co...  0.165141  0.184403   \n",
       "\n",
       "      ...  X2022274  X2022305  X2022335  X2023001  X2023032  X2023060  \\\n",
       "3222  ...  0.350151  0.313900  0.299278  0.201708  0.160254  0.157356   \n",
       "3270  ...  0.261451  0.212997  0.191341  0.166828  0.153103  0.164724   \n",
       "3327  ...  0.265421  0.210638  0.184922  0.159277  0.141992  0.147725   \n",
       "3328  ...  0.220094  0.172908  0.154411  0.131061  0.113505  0.120184   \n",
       "3334  ...  0.355976  0.285438  0.245578  0.215332  0.178375  0.182429   \n",
       "\n",
       "      X2023091  X2023121  X2023152  X2023182  \n",
       "3222  0.159249  0.175464  0.192033  0.182492  \n",
       "3270  0.177433  0.204699  0.225996  0.225684  \n",
       "3327  0.160331  0.171418  0.181015  0.193701  \n",
       "3328  0.136962  0.162148  0.175997  0.168276  \n",
       "3334  0.244910  0.279941  0.250646  0.233376  \n",
       "\n",
       "[5 rows x 290 columns]"
      ]
     },
     "execution_count": 12,
     "metadata": {},
     "output_type": "execute_result"
    }
   ],
   "source": [
    "reg1.head()"
   ]
  },
  {
   "cell_type": "markdown",
   "metadata": {},
   "source": [
    "the temporal information is given by the index"
   ]
  },
  {
   "cell_type": "code",
   "execution_count": 13,
   "metadata": {},
   "outputs": [
    {
     "data": {
      "text/plain": [
       "Index(['id_ok', 'longitude', 'latitude', 'km2', 'DESECON1', 'DESECON2',\n",
       "       'DESECON3', 'DESECON4', 'X2000032', 'X2000061',\n",
       "       ...\n",
       "       'X2022274', 'X2022305', 'X2022335', 'X2023001', 'X2023032', 'X2023060',\n",
       "       'X2023091', 'X2023121', 'X2023152', 'X2023182'],\n",
       "      dtype='object', length=290)"
      ]
     },
     "execution_count": 13,
     "metadata": {},
     "output_type": "execute_result"
    }
   ],
   "source": [
    "reg1.columns"
   ]
  },
  {
   "cell_type": "code",
   "execution_count": 14,
   "metadata": {},
   "outputs": [
    {
     "data": {
      "text/plain": [
       "[2000,\n",
       " 2000,\n",
       " 2000,\n",
       " 2000,\n",
       " 2000,\n",
       " 2000,\n",
       " 2000,\n",
       " 2000,\n",
       " 2000,\n",
       " 2000,\n",
       " 2000,\n",
       " 2001,\n",
       " 2001,\n",
       " 2001,\n",
       " 2001,\n",
       " 2001,\n",
       " 2001,\n",
       " 2001,\n",
       " 2001,\n",
       " 2001,\n",
       " 2001,\n",
       " 2001,\n",
       " 2001,\n",
       " 2002,\n",
       " 2002,\n",
       " 2002,\n",
       " 2002,\n",
       " 2002,\n",
       " 2002,\n",
       " 2002,\n",
       " 2002,\n",
       " 2002,\n",
       " 2002,\n",
       " 2002,\n",
       " 2002,\n",
       " 2003,\n",
       " 2003,\n",
       " 2003,\n",
       " 2003,\n",
       " 2003,\n",
       " 2003,\n",
       " 2003,\n",
       " 2003,\n",
       " 2003,\n",
       " 2003,\n",
       " 2003,\n",
       " 2003,\n",
       " 2004,\n",
       " 2004,\n",
       " 2004,\n",
       " 2004,\n",
       " 2004,\n",
       " 2004,\n",
       " 2004,\n",
       " 2004,\n",
       " 2004,\n",
       " 2004,\n",
       " 2004,\n",
       " 2004,\n",
       " 2005,\n",
       " 2005,\n",
       " 2005,\n",
       " 2005,\n",
       " 2005,\n",
       " 2005,\n",
       " 2005,\n",
       " 2005,\n",
       " 2005,\n",
       " 2005,\n",
       " 2005,\n",
       " 2005,\n",
       " 2006,\n",
       " 2006,\n",
       " 2006,\n",
       " 2006,\n",
       " 2006,\n",
       " 2006,\n",
       " 2006,\n",
       " 2006,\n",
       " 2006,\n",
       " 2006,\n",
       " 2006,\n",
       " 2006,\n",
       " 2007,\n",
       " 2007,\n",
       " 2007,\n",
       " 2007,\n",
       " 2007,\n",
       " 2007,\n",
       " 2007,\n",
       " 2007,\n",
       " 2007,\n",
       " 2007,\n",
       " 2007,\n",
       " 2007,\n",
       " 2008,\n",
       " 2008,\n",
       " 2008,\n",
       " 2008,\n",
       " 2008,\n",
       " 2008,\n",
       " 2008,\n",
       " 2008,\n",
       " 2008,\n",
       " 2008,\n",
       " 2008,\n",
       " 2008,\n",
       " 2009,\n",
       " 2009,\n",
       " 2009,\n",
       " 2009,\n",
       " 2009,\n",
       " 2009,\n",
       " 2009,\n",
       " 2009,\n",
       " 2009,\n",
       " 2009,\n",
       " 2009,\n",
       " 2009,\n",
       " 2010,\n",
       " 2010,\n",
       " 2010,\n",
       " 2010,\n",
       " 2010,\n",
       " 2010,\n",
       " 2010,\n",
       " 2010,\n",
       " 2010,\n",
       " 2010,\n",
       " 2010,\n",
       " 2010,\n",
       " 2011,\n",
       " 2011,\n",
       " 2011,\n",
       " 2011,\n",
       " 2011,\n",
       " 2011,\n",
       " 2011,\n",
       " 2011,\n",
       " 2011,\n",
       " 2011,\n",
       " 2011,\n",
       " 2011,\n",
       " 2012,\n",
       " 2012,\n",
       " 2012,\n",
       " 2012,\n",
       " 2012,\n",
       " 2012,\n",
       " 2012,\n",
       " 2012,\n",
       " 2012,\n",
       " 2012,\n",
       " 2012,\n",
       " 2012,\n",
       " 2013,\n",
       " 2013,\n",
       " 2013,\n",
       " 2013,\n",
       " 2013,\n",
       " 2013,\n",
       " 2013,\n",
       " 2013,\n",
       " 2013,\n",
       " 2013,\n",
       " 2013,\n",
       " 2013,\n",
       " 2014,\n",
       " 2014,\n",
       " 2014,\n",
       " 2014,\n",
       " 2014,\n",
       " 2014,\n",
       " 2014,\n",
       " 2014,\n",
       " 2014,\n",
       " 2014,\n",
       " 2014,\n",
       " 2014,\n",
       " 2015,\n",
       " 2015,\n",
       " 2015,\n",
       " 2015,\n",
       " 2015,\n",
       " 2015,\n",
       " 2015,\n",
       " 2015,\n",
       " 2015,\n",
       " 2015,\n",
       " 2015,\n",
       " 2015,\n",
       " 2016,\n",
       " 2016,\n",
       " 2016,\n",
       " 2016,\n",
       " 2016,\n",
       " 2016,\n",
       " 2016,\n",
       " 2016,\n",
       " 2016,\n",
       " 2016,\n",
       " 2016,\n",
       " 2016,\n",
       " 2017,\n",
       " 2017,\n",
       " 2017,\n",
       " 2017,\n",
       " 2017,\n",
       " 2017,\n",
       " 2017,\n",
       " 2017,\n",
       " 2017,\n",
       " 2017,\n",
       " 2017,\n",
       " 2017,\n",
       " 2018,\n",
       " 2018,\n",
       " 2018,\n",
       " 2018,\n",
       " 2018,\n",
       " 2018,\n",
       " 2018,\n",
       " 2018,\n",
       " 2018,\n",
       " 2018,\n",
       " 2018,\n",
       " 2018,\n",
       " 2019,\n",
       " 2019,\n",
       " 2019,\n",
       " 2019,\n",
       " 2019,\n",
       " 2019,\n",
       " 2019,\n",
       " 2019,\n",
       " 2019,\n",
       " 2019,\n",
       " 2019,\n",
       " 2019,\n",
       " 2020,\n",
       " 2020,\n",
       " 2020,\n",
       " 2020,\n",
       " 2020,\n",
       " 2020,\n",
       " 2020,\n",
       " 2020,\n",
       " 2020,\n",
       " 2020,\n",
       " 2020,\n",
       " 2020,\n",
       " 2021,\n",
       " 2021,\n",
       " 2021,\n",
       " 2021,\n",
       " 2021,\n",
       " 2021,\n",
       " 2021,\n",
       " 2021,\n",
       " 2021,\n",
       " 2021,\n",
       " 2021,\n",
       " 2021,\n",
       " 2022,\n",
       " 2022,\n",
       " 2022,\n",
       " 2022,\n",
       " 2022,\n",
       " 2022,\n",
       " 2022,\n",
       " 2022,\n",
       " 2022,\n",
       " 2022,\n",
       " 2022,\n",
       " 2022,\n",
       " 2023,\n",
       " 2023,\n",
       " 2023,\n",
       " 2023,\n",
       " 2023,\n",
       " 2023,\n",
       " 2023]"
      ]
     },
     "execution_count": 14,
     "metadata": {},
     "output_type": "execute_result"
    }
   ],
   "source": [
    "new_indexes_year = [int(s[:4]) for s in reg1.columns[8:].str.split('X').str[-1]]\n",
    "new_indexes_year"
   ]
  },
  {
   "cell_type": "code",
   "execution_count": 15,
   "metadata": {},
   "outputs": [
    {
     "data": {
      "text/plain": [
       "['id_ok',\n",
       " 'longitude',\n",
       " 'latitude',\n",
       " 'km2',\n",
       " 'DESECON1',\n",
       " 'DESECON2',\n",
       " 'DESECON3',\n",
       " 'DESECON4']"
      ]
     },
     "execution_count": 15,
     "metadata": {},
     "output_type": "execute_result"
    }
   ],
   "source": [
    "new_indexes = list(eviMean.columns[:8])\n",
    "new_indexes"
   ]
  },
  {
   "cell_type": "code",
   "execution_count": 16,
   "metadata": {},
   "outputs": [
    {
     "data": {
      "text/plain": [
       "['id_ok',\n",
       " 'longitude',\n",
       " 'latitude',\n",
       " 'km2',\n",
       " 'DESECON1',\n",
       " 'DESECON2',\n",
       " 'DESECON3',\n",
       " 'DESECON4',\n",
       " 2000,\n",
       " 2000,\n",
       " 2000,\n",
       " 2000,\n",
       " 2000,\n",
       " 2000,\n",
       " 2000,\n",
       " 2000,\n",
       " 2000,\n",
       " 2000,\n",
       " 2000,\n",
       " 2001,\n",
       " 2001,\n",
       " 2001,\n",
       " 2001,\n",
       " 2001,\n",
       " 2001,\n",
       " 2001,\n",
       " 2001,\n",
       " 2001,\n",
       " 2001,\n",
       " 2001,\n",
       " 2001,\n",
       " 2002,\n",
       " 2002,\n",
       " 2002,\n",
       " 2002,\n",
       " 2002,\n",
       " 2002,\n",
       " 2002,\n",
       " 2002,\n",
       " 2002,\n",
       " 2002,\n",
       " 2002,\n",
       " 2002,\n",
       " 2003,\n",
       " 2003,\n",
       " 2003,\n",
       " 2003,\n",
       " 2003,\n",
       " 2003,\n",
       " 2003,\n",
       " 2003,\n",
       " 2003,\n",
       " 2003,\n",
       " 2003,\n",
       " 2003,\n",
       " 2004,\n",
       " 2004,\n",
       " 2004,\n",
       " 2004,\n",
       " 2004,\n",
       " 2004,\n",
       " 2004,\n",
       " 2004,\n",
       " 2004,\n",
       " 2004,\n",
       " 2004,\n",
       " 2004,\n",
       " 2005,\n",
       " 2005,\n",
       " 2005,\n",
       " 2005,\n",
       " 2005,\n",
       " 2005,\n",
       " 2005,\n",
       " 2005,\n",
       " 2005,\n",
       " 2005,\n",
       " 2005,\n",
       " 2005,\n",
       " 2006,\n",
       " 2006,\n",
       " 2006,\n",
       " 2006,\n",
       " 2006,\n",
       " 2006,\n",
       " 2006,\n",
       " 2006,\n",
       " 2006,\n",
       " 2006,\n",
       " 2006,\n",
       " 2006,\n",
       " 2007,\n",
       " 2007,\n",
       " 2007,\n",
       " 2007,\n",
       " 2007,\n",
       " 2007,\n",
       " 2007,\n",
       " 2007,\n",
       " 2007,\n",
       " 2007,\n",
       " 2007,\n",
       " 2007,\n",
       " 2008,\n",
       " 2008,\n",
       " 2008,\n",
       " 2008,\n",
       " 2008,\n",
       " 2008,\n",
       " 2008,\n",
       " 2008,\n",
       " 2008,\n",
       " 2008,\n",
       " 2008,\n",
       " 2008,\n",
       " 2009,\n",
       " 2009,\n",
       " 2009,\n",
       " 2009,\n",
       " 2009,\n",
       " 2009,\n",
       " 2009,\n",
       " 2009,\n",
       " 2009,\n",
       " 2009,\n",
       " 2009,\n",
       " 2009,\n",
       " 2010,\n",
       " 2010,\n",
       " 2010,\n",
       " 2010,\n",
       " 2010,\n",
       " 2010,\n",
       " 2010,\n",
       " 2010,\n",
       " 2010,\n",
       " 2010,\n",
       " 2010,\n",
       " 2010,\n",
       " 2011,\n",
       " 2011,\n",
       " 2011,\n",
       " 2011,\n",
       " 2011,\n",
       " 2011,\n",
       " 2011,\n",
       " 2011,\n",
       " 2011,\n",
       " 2011,\n",
       " 2011,\n",
       " 2011,\n",
       " 2012,\n",
       " 2012,\n",
       " 2012,\n",
       " 2012,\n",
       " 2012,\n",
       " 2012,\n",
       " 2012,\n",
       " 2012,\n",
       " 2012,\n",
       " 2012,\n",
       " 2012,\n",
       " 2012,\n",
       " 2013,\n",
       " 2013,\n",
       " 2013,\n",
       " 2013,\n",
       " 2013,\n",
       " 2013,\n",
       " 2013,\n",
       " 2013,\n",
       " 2013,\n",
       " 2013,\n",
       " 2013,\n",
       " 2013,\n",
       " 2014,\n",
       " 2014,\n",
       " 2014,\n",
       " 2014,\n",
       " 2014,\n",
       " 2014,\n",
       " 2014,\n",
       " 2014,\n",
       " 2014,\n",
       " 2014,\n",
       " 2014,\n",
       " 2014,\n",
       " 2015,\n",
       " 2015,\n",
       " 2015,\n",
       " 2015,\n",
       " 2015,\n",
       " 2015,\n",
       " 2015,\n",
       " 2015,\n",
       " 2015,\n",
       " 2015,\n",
       " 2015,\n",
       " 2015,\n",
       " 2016,\n",
       " 2016,\n",
       " 2016,\n",
       " 2016,\n",
       " 2016,\n",
       " 2016,\n",
       " 2016,\n",
       " 2016,\n",
       " 2016,\n",
       " 2016,\n",
       " 2016,\n",
       " 2016,\n",
       " 2017,\n",
       " 2017,\n",
       " 2017,\n",
       " 2017,\n",
       " 2017,\n",
       " 2017,\n",
       " 2017,\n",
       " 2017,\n",
       " 2017,\n",
       " 2017,\n",
       " 2017,\n",
       " 2017,\n",
       " 2018,\n",
       " 2018,\n",
       " 2018,\n",
       " 2018,\n",
       " 2018,\n",
       " 2018,\n",
       " 2018,\n",
       " 2018,\n",
       " 2018,\n",
       " 2018,\n",
       " 2018,\n",
       " 2018,\n",
       " 2019,\n",
       " 2019,\n",
       " 2019,\n",
       " 2019,\n",
       " 2019,\n",
       " 2019,\n",
       " 2019,\n",
       " 2019,\n",
       " 2019,\n",
       " 2019,\n",
       " 2019,\n",
       " 2019,\n",
       " 2020,\n",
       " 2020,\n",
       " 2020,\n",
       " 2020,\n",
       " 2020,\n",
       " 2020,\n",
       " 2020,\n",
       " 2020,\n",
       " 2020,\n",
       " 2020,\n",
       " 2020,\n",
       " 2020,\n",
       " 2021,\n",
       " 2021,\n",
       " 2021,\n",
       " 2021,\n",
       " 2021,\n",
       " 2021,\n",
       " 2021,\n",
       " 2021,\n",
       " 2021,\n",
       " 2021,\n",
       " 2021,\n",
       " 2021,\n",
       " 2022,\n",
       " 2022,\n",
       " 2022,\n",
       " 2022,\n",
       " 2022,\n",
       " 2022,\n",
       " 2022,\n",
       " 2022,\n",
       " 2022,\n",
       " 2022,\n",
       " 2022,\n",
       " 2022,\n",
       " 2023,\n",
       " 2023,\n",
       " 2023,\n",
       " 2023,\n",
       " 2023,\n",
       " 2023,\n",
       " 2023]"
      ]
     },
     "execution_count": 16,
     "metadata": {},
     "output_type": "execute_result"
    }
   ],
   "source": [
    "new_indexes = new_indexes + new_indexes_year\n",
    "new_indexes"
   ]
  },
  {
   "cell_type": "code",
   "execution_count": 18,
   "metadata": {},
   "outputs": [
    {
     "data": {
      "text/html": [
       "<div>\n",
       "<style scoped>\n",
       "    .dataframe tbody tr th:only-of-type {\n",
       "        vertical-align: middle;\n",
       "    }\n",
       "\n",
       "    .dataframe tbody tr th {\n",
       "        vertical-align: top;\n",
       "    }\n",
       "\n",
       "    .dataframe thead th {\n",
       "        text-align: right;\n",
       "    }\n",
       "</style>\n",
       "<table border=\"1\" class=\"dataframe\">\n",
       "  <thead>\n",
       "    <tr style=\"text-align: right;\">\n",
       "      <th></th>\n",
       "      <th>id_ok</th>\n",
       "      <th>longitude</th>\n",
       "      <th>latitude</th>\n",
       "      <th>km2</th>\n",
       "      <th>DESECON1</th>\n",
       "      <th>DESECON2</th>\n",
       "      <th>DESECON3</th>\n",
       "      <th>DESECON4</th>\n",
       "      <th>2000</th>\n",
       "      <th>2000</th>\n",
       "      <th>...</th>\n",
       "      <th>2022</th>\n",
       "      <th>2022</th>\n",
       "      <th>2022</th>\n",
       "      <th>2023</th>\n",
       "      <th>2023</th>\n",
       "      <th>2023</th>\n",
       "      <th>2023</th>\n",
       "      <th>2023</th>\n",
       "      <th>2023</th>\n",
       "      <th>2023</th>\n",
       "    </tr>\n",
       "  </thead>\n",
       "  <tbody>\n",
       "    <tr>\n",
       "      <th>0</th>\n",
       "      <td>2</td>\n",
       "      <td>-92.240154</td>\n",
       "      <td>14.616329</td>\n",
       "      <td>192.307795</td>\n",
       "      <td>Selvas Calido-Humedas</td>\n",
       "      <td>Planicie Costera y Lomerios del Soconusco</td>\n",
       "      <td>Planicie y Lomerios Costeros del Soconusco con...</td>\n",
       "      <td>Planicie Costera y Lomerios con selva alta per...</td>\n",
       "      <td>0.381080</td>\n",
       "      <td>0.393750</td>\n",
       "      <td>...</td>\n",
       "      <td>0.554377</td>\n",
       "      <td>0.565392</td>\n",
       "      <td>0.490920</td>\n",
       "      <td>0.459002</td>\n",
       "      <td>0.426879</td>\n",
       "      <td>0.431051</td>\n",
       "      <td>0.492495</td>\n",
       "      <td>0.515070</td>\n",
       "      <td>0.526481</td>\n",
       "      <td>0.549757</td>\n",
       "    </tr>\n",
       "    <tr>\n",
       "      <th>1</th>\n",
       "      <td>4</td>\n",
       "      <td>-92.380254</td>\n",
       "      <td>14.756429</td>\n",
       "      <td>217.519671</td>\n",
       "      <td>Selvas Calido-Humedas</td>\n",
       "      <td>Planicie Costera y Lomerios del Soconusco</td>\n",
       "      <td>Planicie y Lomerios Costeros del Soconusco con...</td>\n",
       "      <td>Planicie Costera y Lomerios con selva alta per...</td>\n",
       "      <td>0.273232</td>\n",
       "      <td>0.276971</td>\n",
       "      <td>...</td>\n",
       "      <td>0.550199</td>\n",
       "      <td>0.508108</td>\n",
       "      <td>0.388205</td>\n",
       "      <td>0.374693</td>\n",
       "      <td>0.330288</td>\n",
       "      <td>0.332288</td>\n",
       "      <td>0.338711</td>\n",
       "      <td>0.341860</td>\n",
       "      <td>0.437368</td>\n",
       "      <td>0.487972</td>\n",
       "    </tr>\n",
       "    <tr>\n",
       "      <th>2</th>\n",
       "      <td>5</td>\n",
       "      <td>-92.240154</td>\n",
       "      <td>14.756429</td>\n",
       "      <td>233.276335</td>\n",
       "      <td>Selvas Calido-Humedas</td>\n",
       "      <td>Planicie Costera y Lomerios del Soconusco</td>\n",
       "      <td>Planicie y Lomerios Costeros del Soconusco con...</td>\n",
       "      <td>Planicie Costera y Lomerios con selva alta per...</td>\n",
       "      <td>0.262070</td>\n",
       "      <td>0.266783</td>\n",
       "      <td>...</td>\n",
       "      <td>0.545053</td>\n",
       "      <td>0.522816</td>\n",
       "      <td>0.422735</td>\n",
       "      <td>0.355143</td>\n",
       "      <td>0.308989</td>\n",
       "      <td>0.307110</td>\n",
       "      <td>0.337750</td>\n",
       "      <td>0.383881</td>\n",
       "      <td>0.513476</td>\n",
       "      <td>0.571744</td>\n",
       "    </tr>\n",
       "    <tr>\n",
       "      <th>3</th>\n",
       "      <td>7</td>\n",
       "      <td>-92.520354</td>\n",
       "      <td>14.896529</td>\n",
       "      <td>218.244196</td>\n",
       "      <td>Selvas Calido-Humedas</td>\n",
       "      <td>Planicie Costera y Lomerios del Soconusco</td>\n",
       "      <td>Planicie y Lomerios Costeros del Soconusco con...</td>\n",
       "      <td>Planicie Costera y Lomerios con selva alta per...</td>\n",
       "      <td>0.358763</td>\n",
       "      <td>0.363754</td>\n",
       "      <td>...</td>\n",
       "      <td>0.596631</td>\n",
       "      <td>0.511776</td>\n",
       "      <td>0.437208</td>\n",
       "      <td>0.414366</td>\n",
       "      <td>0.380600</td>\n",
       "      <td>0.400286</td>\n",
       "      <td>0.399786</td>\n",
       "      <td>0.477237</td>\n",
       "      <td>0.521931</td>\n",
       "      <td>0.512213</td>\n",
       "    </tr>\n",
       "    <tr>\n",
       "      <th>4</th>\n",
       "      <td>8</td>\n",
       "      <td>-92.380254</td>\n",
       "      <td>14.896529</td>\n",
       "      <td>236.353493</td>\n",
       "      <td>Selvas Calido-Humedas</td>\n",
       "      <td>Planicie Costera y Lomerios del Soconusco</td>\n",
       "      <td>Planicie y Lomerios Costeros del Soconusco con...</td>\n",
       "      <td>Planicie Costera y Lomerios con selva alta per...</td>\n",
       "      <td>0.335840</td>\n",
       "      <td>0.338886</td>\n",
       "      <td>...</td>\n",
       "      <td>0.564563</td>\n",
       "      <td>0.531301</td>\n",
       "      <td>0.457160</td>\n",
       "      <td>0.411877</td>\n",
       "      <td>0.372756</td>\n",
       "      <td>0.389247</td>\n",
       "      <td>0.402691</td>\n",
       "      <td>0.470922</td>\n",
       "      <td>0.548722</td>\n",
       "      <td>0.556070</td>\n",
       "    </tr>\n",
       "    <tr>\n",
       "      <th>...</th>\n",
       "      <td>...</td>\n",
       "      <td>...</td>\n",
       "      <td>...</td>\n",
       "      <td>...</td>\n",
       "      <td>...</td>\n",
       "      <td>...</td>\n",
       "      <td>...</td>\n",
       "      <td>...</td>\n",
       "      <td>...</td>\n",
       "      <td>...</td>\n",
       "      <td>...</td>\n",
       "      <td>...</td>\n",
       "      <td>...</td>\n",
       "      <td>...</td>\n",
       "      <td>...</td>\n",
       "      <td>...</td>\n",
       "      <td>...</td>\n",
       "      <td>...</td>\n",
       "      <td>...</td>\n",
       "      <td>...</td>\n",
       "      <td>...</td>\n",
       "    </tr>\n",
       "    <tr>\n",
       "      <th>8789</th>\n",
       "      <td>9056</td>\n",
       "      <td>-115.076454</td>\n",
       "      <td>32.549129</td>\n",
       "      <td>207.397758</td>\n",
       "      <td>Desiertos de America del Norte</td>\n",
       "      <td>Desiertos Calidos</td>\n",
       "      <td>Desierto Sonorense</td>\n",
       "      <td>Desiertos del Alto Golfo (Altar, El Pinacate, ...</td>\n",
       "      <td>0.314020</td>\n",
       "      <td>0.333779</td>\n",
       "      <td>...</td>\n",
       "      <td>0.206834</td>\n",
       "      <td>0.183461</td>\n",
       "      <td>0.195868</td>\n",
       "      <td>0.251587</td>\n",
       "      <td>0.320975</td>\n",
       "      <td>0.362174</td>\n",
       "      <td>0.347984</td>\n",
       "      <td>0.279173</td>\n",
       "      <td>0.236480</td>\n",
       "      <td>0.240608</td>\n",
       "    </tr>\n",
       "    <tr>\n",
       "      <th>8790</th>\n",
       "      <td>9057</td>\n",
       "      <td>-114.936354</td>\n",
       "      <td>32.549129</td>\n",
       "      <td>207.397758</td>\n",
       "      <td>Desiertos de America del Norte</td>\n",
       "      <td>Desiertos Calidos</td>\n",
       "      <td>Desierto Sonorense</td>\n",
       "      <td>Desiertos del Alto Golfo (Altar, El Pinacate, ...</td>\n",
       "      <td>0.380256</td>\n",
       "      <td>0.400324</td>\n",
       "      <td>...</td>\n",
       "      <td>0.205756</td>\n",
       "      <td>0.184203</td>\n",
       "      <td>0.180931</td>\n",
       "      <td>0.245938</td>\n",
       "      <td>0.326014</td>\n",
       "      <td>0.371081</td>\n",
       "      <td>0.357734</td>\n",
       "      <td>0.271276</td>\n",
       "      <td>0.212631</td>\n",
       "      <td>0.220352</td>\n",
       "    </tr>\n",
       "    <tr>\n",
       "      <th>8791</th>\n",
       "      <td>9062</td>\n",
       "      <td>-115.076454</td>\n",
       "      <td>32.689229</td>\n",
       "      <td>111.632759</td>\n",
       "      <td>Desiertos de America del Norte</td>\n",
       "      <td>Desiertos Calidos</td>\n",
       "      <td>Desierto Sonorense</td>\n",
       "      <td>Desiertos del Alto Golfo (Altar, El Pinacate, ...</td>\n",
       "      <td>0.134405</td>\n",
       "      <td>0.136716</td>\n",
       "      <td>...</td>\n",
       "      <td>0.152442</td>\n",
       "      <td>0.141836</td>\n",
       "      <td>0.131686</td>\n",
       "      <td>0.119994</td>\n",
       "      <td>0.126669</td>\n",
       "      <td>0.142873</td>\n",
       "      <td>0.153282</td>\n",
       "      <td>0.148710</td>\n",
       "      <td>0.141871</td>\n",
       "      <td>0.143751</td>\n",
       "    </tr>\n",
       "    <tr>\n",
       "      <th>8792</th>\n",
       "      <td>9063</td>\n",
       "      <td>-114.936354</td>\n",
       "      <td>32.689229</td>\n",
       "      <td>125.677418</td>\n",
       "      <td>Desiertos de America del Norte</td>\n",
       "      <td>Desiertos Calidos</td>\n",
       "      <td>Desierto Sonorense</td>\n",
       "      <td>Desiertos del Alto Golfo (Altar, El Pinacate, ...</td>\n",
       "      <td>0.257072</td>\n",
       "      <td>0.274016</td>\n",
       "      <td>...</td>\n",
       "      <td>0.155607</td>\n",
       "      <td>0.151480</td>\n",
       "      <td>0.154335</td>\n",
       "      <td>0.190418</td>\n",
       "      <td>0.252042</td>\n",
       "      <td>0.274826</td>\n",
       "      <td>0.270774</td>\n",
       "      <td>0.217226</td>\n",
       "      <td>0.194162</td>\n",
       "      <td>0.191370</td>\n",
       "    </tr>\n",
       "    <tr>\n",
       "      <th>8793</th>\n",
       "      <td>9064</td>\n",
       "      <td>-114.796254</td>\n",
       "      <td>32.689229</td>\n",
       "      <td>112.012960</td>\n",
       "      <td>Desiertos de America del Norte</td>\n",
       "      <td>Desiertos Calidos</td>\n",
       "      <td>Desierto Sonorense</td>\n",
       "      <td>Desiertos del Alto Golfo (Altar, El Pinacate, ...</td>\n",
       "      <td>0.217160</td>\n",
       "      <td>0.223747</td>\n",
       "      <td>...</td>\n",
       "      <td>0.124826</td>\n",
       "      <td>0.135752</td>\n",
       "      <td>0.155729</td>\n",
       "      <td>0.187266</td>\n",
       "      <td>0.215270</td>\n",
       "      <td>0.214436</td>\n",
       "      <td>0.205889</td>\n",
       "      <td>0.170506</td>\n",
       "      <td>0.144389</td>\n",
       "      <td>0.135676</td>\n",
       "    </tr>\n",
       "  </tbody>\n",
       "</table>\n",
       "<p>8794 rows × 290 columns</p>\n",
       "</div>"
      ],
      "text/plain": [
       "      id_ok   longitude   latitude         km2  \\\n",
       "0         2  -92.240154  14.616329  192.307795   \n",
       "1         4  -92.380254  14.756429  217.519671   \n",
       "2         5  -92.240154  14.756429  233.276335   \n",
       "3         7  -92.520354  14.896529  218.244196   \n",
       "4         8  -92.380254  14.896529  236.353493   \n",
       "...     ...         ...        ...         ...   \n",
       "8789   9056 -115.076454  32.549129  207.397758   \n",
       "8790   9057 -114.936354  32.549129  207.397758   \n",
       "8791   9062 -115.076454  32.689229  111.632759   \n",
       "8792   9063 -114.936354  32.689229  125.677418   \n",
       "8793   9064 -114.796254  32.689229  112.012960   \n",
       "\n",
       "                            DESECON1  \\\n",
       "0              Selvas Calido-Humedas   \n",
       "1              Selvas Calido-Humedas   \n",
       "2              Selvas Calido-Humedas   \n",
       "3              Selvas Calido-Humedas   \n",
       "4              Selvas Calido-Humedas   \n",
       "...                              ...   \n",
       "8789  Desiertos de America del Norte   \n",
       "8790  Desiertos de America del Norte   \n",
       "8791  Desiertos de America del Norte   \n",
       "8792  Desiertos de America del Norte   \n",
       "8793  Desiertos de America del Norte   \n",
       "\n",
       "                                       DESECON2  \\\n",
       "0     Planicie Costera y Lomerios del Soconusco   \n",
       "1     Planicie Costera y Lomerios del Soconusco   \n",
       "2     Planicie Costera y Lomerios del Soconusco   \n",
       "3     Planicie Costera y Lomerios del Soconusco   \n",
       "4     Planicie Costera y Lomerios del Soconusco   \n",
       "...                                         ...   \n",
       "8789                          Desiertos Calidos   \n",
       "8790                          Desiertos Calidos   \n",
       "8791                          Desiertos Calidos   \n",
       "8792                          Desiertos Calidos   \n",
       "8793                          Desiertos Calidos   \n",
       "\n",
       "                                               DESECON3  \\\n",
       "0     Planicie y Lomerios Costeros del Soconusco con...   \n",
       "1     Planicie y Lomerios Costeros del Soconusco con...   \n",
       "2     Planicie y Lomerios Costeros del Soconusco con...   \n",
       "3     Planicie y Lomerios Costeros del Soconusco con...   \n",
       "4     Planicie y Lomerios Costeros del Soconusco con...   \n",
       "...                                                 ...   \n",
       "8789                                 Desierto Sonorense   \n",
       "8790                                 Desierto Sonorense   \n",
       "8791                                 Desierto Sonorense   \n",
       "8792                                 Desierto Sonorense   \n",
       "8793                                 Desierto Sonorense   \n",
       "\n",
       "                                               DESECON4      2000      2000  \\\n",
       "0     Planicie Costera y Lomerios con selva alta per...  0.381080  0.393750   \n",
       "1     Planicie Costera y Lomerios con selva alta per...  0.273232  0.276971   \n",
       "2     Planicie Costera y Lomerios con selva alta per...  0.262070  0.266783   \n",
       "3     Planicie Costera y Lomerios con selva alta per...  0.358763  0.363754   \n",
       "4     Planicie Costera y Lomerios con selva alta per...  0.335840  0.338886   \n",
       "...                                                 ...       ...       ...   \n",
       "8789  Desiertos del Alto Golfo (Altar, El Pinacate, ...  0.314020  0.333779   \n",
       "8790  Desiertos del Alto Golfo (Altar, El Pinacate, ...  0.380256  0.400324   \n",
       "8791  Desiertos del Alto Golfo (Altar, El Pinacate, ...  0.134405  0.136716   \n",
       "8792  Desiertos del Alto Golfo (Altar, El Pinacate, ...  0.257072  0.274016   \n",
       "8793  Desiertos del Alto Golfo (Altar, El Pinacate, ...  0.217160  0.223747   \n",
       "\n",
       "      ...      2022      2022      2022      2023      2023      2023  \\\n",
       "0     ...  0.554377  0.565392  0.490920  0.459002  0.426879  0.431051   \n",
       "1     ...  0.550199  0.508108  0.388205  0.374693  0.330288  0.332288   \n",
       "2     ...  0.545053  0.522816  0.422735  0.355143  0.308989  0.307110   \n",
       "3     ...  0.596631  0.511776  0.437208  0.414366  0.380600  0.400286   \n",
       "4     ...  0.564563  0.531301  0.457160  0.411877  0.372756  0.389247   \n",
       "...   ...       ...       ...       ...       ...       ...       ...   \n",
       "8789  ...  0.206834  0.183461  0.195868  0.251587  0.320975  0.362174   \n",
       "8790  ...  0.205756  0.184203  0.180931  0.245938  0.326014  0.371081   \n",
       "8791  ...  0.152442  0.141836  0.131686  0.119994  0.126669  0.142873   \n",
       "8792  ...  0.155607  0.151480  0.154335  0.190418  0.252042  0.274826   \n",
       "8793  ...  0.124826  0.135752  0.155729  0.187266  0.215270  0.214436   \n",
       "\n",
       "          2023      2023      2023      2023  \n",
       "0     0.492495  0.515070  0.526481  0.549757  \n",
       "1     0.338711  0.341860  0.437368  0.487972  \n",
       "2     0.337750  0.383881  0.513476  0.571744  \n",
       "3     0.399786  0.477237  0.521931  0.512213  \n",
       "4     0.402691  0.470922  0.548722  0.556070  \n",
       "...        ...       ...       ...       ...  \n",
       "8789  0.347984  0.279173  0.236480  0.240608  \n",
       "8790  0.357734  0.271276  0.212631  0.220352  \n",
       "8791  0.153282  0.148710  0.141871  0.143751  \n",
       "8792  0.270774  0.217226  0.194162  0.191370  \n",
       "8793  0.205889  0.170506  0.144389  0.135676  \n",
       "\n",
       "[8794 rows x 290 columns]"
      ]
     },
     "execution_count": 18,
     "metadata": {},
     "output_type": "execute_result"
    }
   ],
   "source": [
    "eviMean = eviMean.set_axis(new_indexes, axis=1)\n",
    "eviMean"
   ]
  },
  {
   "cell_type": "code",
   "execution_count": 19,
   "metadata": {},
   "outputs": [],
   "source": [
    "regions = eviMean.groupby(by='DESECON1')"
   ]
  },
  {
   "cell_type": "code",
   "execution_count": 20,
   "metadata": {},
   "outputs": [
    {
     "data": {
      "text/plain": [
       "dict_keys(['California Mediterranea', 'Desiertos de America del Norte', 'Elevaciones Semiaridas Meridionales', 'Grandes Planicies', 'Selvas Calido-Humedas', 'Selvas Calido-Secas', 'Sierras Templadas'])"
      ]
     },
     "execution_count": 20,
     "metadata": {},
     "output_type": "execute_result"
    }
   ],
   "source": [
    "regions.groups.keys()"
   ]
  },
  {
   "cell_type": "code",
   "execution_count": 21,
   "metadata": {},
   "outputs": [
    {
     "data": {
      "text/plain": [
       "DESECON1\n",
       "California Mediterranea                 119\n",
       "Grandes Planicies                       489\n",
       "Elevaciones Semiaridas Meridionales    1058\n",
       "Selvas Calido-Humedas                  1200\n",
       "Selvas Calido-Secas                    1423\n",
       "Sierras Templadas                      1928\n",
       "Desiertos de America del Norte         2577\n",
       "dtype: int64"
      ]
     },
     "execution_count": 21,
     "metadata": {},
     "output_type": "execute_result"
    }
   ],
   "source": [
    "regions.size().sort_values()"
   ]
  },
  {
   "cell_type": "code",
   "execution_count": 22,
   "metadata": {},
   "outputs": [],
   "source": [
    "reg1 = regions.get_group('Desiertos de America del Norte')"
   ]
  },
  {
   "cell_type": "code",
   "execution_count": 23,
   "metadata": {},
   "outputs": [
    {
     "data": {
      "text/html": [
       "<div>\n",
       "<style scoped>\n",
       "    .dataframe tbody tr th:only-of-type {\n",
       "        vertical-align: middle;\n",
       "    }\n",
       "\n",
       "    .dataframe tbody tr th {\n",
       "        vertical-align: top;\n",
       "    }\n",
       "\n",
       "    .dataframe thead th {\n",
       "        text-align: right;\n",
       "    }\n",
       "</style>\n",
       "<table border=\"1\" class=\"dataframe\">\n",
       "  <thead>\n",
       "    <tr style=\"text-align: right;\">\n",
       "      <th></th>\n",
       "      <th>id_ok</th>\n",
       "      <th>longitude</th>\n",
       "      <th>latitude</th>\n",
       "      <th>km2</th>\n",
       "      <th>DESECON1</th>\n",
       "      <th>DESECON2</th>\n",
       "      <th>DESECON3</th>\n",
       "      <th>DESECON4</th>\n",
       "      <th>2000</th>\n",
       "      <th>2000</th>\n",
       "      <th>...</th>\n",
       "      <th>2022</th>\n",
       "      <th>2022</th>\n",
       "      <th>2022</th>\n",
       "      <th>2023</th>\n",
       "      <th>2023</th>\n",
       "      <th>2023</th>\n",
       "      <th>2023</th>\n",
       "      <th>2023</th>\n",
       "      <th>2023</th>\n",
       "      <th>2023</th>\n",
       "    </tr>\n",
       "  </thead>\n",
       "  <tbody>\n",
       "    <tr>\n",
       "      <th>3222</th>\n",
       "      <td>3316</td>\n",
       "      <td>-99.805554</td>\n",
       "      <td>21.621329</td>\n",
       "      <td>222.815667</td>\n",
       "      <td>Desiertos de America del Norte</td>\n",
       "      <td>Desiertos Calidos</td>\n",
       "      <td>Desierto Chihuahuense</td>\n",
       "      <td>Planicies del Altiplano Zacatecano-Potosino co...</td>\n",
       "      <td>0.160945</td>\n",
       "      <td>0.165068</td>\n",
       "      <td>...</td>\n",
       "      <td>0.350151</td>\n",
       "      <td>0.313900</td>\n",
       "      <td>0.299278</td>\n",
       "      <td>0.201708</td>\n",
       "      <td>0.160254</td>\n",
       "      <td>0.157356</td>\n",
       "      <td>0.159249</td>\n",
       "      <td>0.175464</td>\n",
       "      <td>0.192033</td>\n",
       "      <td>0.182492</td>\n",
       "    </tr>\n",
       "    <tr>\n",
       "      <th>3270</th>\n",
       "      <td>3367</td>\n",
       "      <td>-100.926354</td>\n",
       "      <td>21.761429</td>\n",
       "      <td>222.569249</td>\n",
       "      <td>Desiertos de America del Norte</td>\n",
       "      <td>Desiertos Calidos</td>\n",
       "      <td>Desierto Chihuahuense</td>\n",
       "      <td>Planicies del Altiplano Zacatecano-Potosino co...</td>\n",
       "      <td>0.160917</td>\n",
       "      <td>0.169971</td>\n",
       "      <td>...</td>\n",
       "      <td>0.261451</td>\n",
       "      <td>0.212997</td>\n",
       "      <td>0.191341</td>\n",
       "      <td>0.166828</td>\n",
       "      <td>0.153103</td>\n",
       "      <td>0.164724</td>\n",
       "      <td>0.177433</td>\n",
       "      <td>0.204699</td>\n",
       "      <td>0.225996</td>\n",
       "      <td>0.225684</td>\n",
       "    </tr>\n",
       "    <tr>\n",
       "      <th>3327</th>\n",
       "      <td>3424</td>\n",
       "      <td>-100.926354</td>\n",
       "      <td>21.901529</td>\n",
       "      <td>222.324198</td>\n",
       "      <td>Desiertos de America del Norte</td>\n",
       "      <td>Desiertos Calidos</td>\n",
       "      <td>Desierto Chihuahuense</td>\n",
       "      <td>Planicies del Altiplano Zacatecano-Potosino co...</td>\n",
       "      <td>0.138129</td>\n",
       "      <td>0.146591</td>\n",
       "      <td>...</td>\n",
       "      <td>0.265421</td>\n",
       "      <td>0.210638</td>\n",
       "      <td>0.184922</td>\n",
       "      <td>0.159277</td>\n",
       "      <td>0.141992</td>\n",
       "      <td>0.147725</td>\n",
       "      <td>0.160331</td>\n",
       "      <td>0.171418</td>\n",
       "      <td>0.181015</td>\n",
       "      <td>0.193701</td>\n",
       "    </tr>\n",
       "    <tr>\n",
       "      <th>3328</th>\n",
       "      <td>3425</td>\n",
       "      <td>-100.786254</td>\n",
       "      <td>21.901529</td>\n",
       "      <td>222.324198</td>\n",
       "      <td>Desiertos de America del Norte</td>\n",
       "      <td>Desiertos Calidos</td>\n",
       "      <td>Desierto Chihuahuense</td>\n",
       "      <td>Planicies del Altiplano Zacatecano-Potosino co...</td>\n",
       "      <td>0.113487</td>\n",
       "      <td>0.124050</td>\n",
       "      <td>...</td>\n",
       "      <td>0.220094</td>\n",
       "      <td>0.172908</td>\n",
       "      <td>0.154411</td>\n",
       "      <td>0.131061</td>\n",
       "      <td>0.113505</td>\n",
       "      <td>0.120184</td>\n",
       "      <td>0.136962</td>\n",
       "      <td>0.162148</td>\n",
       "      <td>0.175997</td>\n",
       "      <td>0.168276</td>\n",
       "    </tr>\n",
       "    <tr>\n",
       "      <th>3334</th>\n",
       "      <td>3431</td>\n",
       "      <td>-99.945654</td>\n",
       "      <td>21.901529</td>\n",
       "      <td>222.324198</td>\n",
       "      <td>Desiertos de America del Norte</td>\n",
       "      <td>Desiertos Calidos</td>\n",
       "      <td>Desierto Chihuahuense</td>\n",
       "      <td>Planicies del Altiplano Zacatecano-Potosino co...</td>\n",
       "      <td>0.165141</td>\n",
       "      <td>0.184403</td>\n",
       "      <td>...</td>\n",
       "      <td>0.355976</td>\n",
       "      <td>0.285438</td>\n",
       "      <td>0.245578</td>\n",
       "      <td>0.215332</td>\n",
       "      <td>0.178375</td>\n",
       "      <td>0.182429</td>\n",
       "      <td>0.244910</td>\n",
       "      <td>0.279941</td>\n",
       "      <td>0.250646</td>\n",
       "      <td>0.233376</td>\n",
       "    </tr>\n",
       "  </tbody>\n",
       "</table>\n",
       "<p>5 rows × 290 columns</p>\n",
       "</div>"
      ],
      "text/plain": [
       "      id_ok   longitude   latitude         km2  \\\n",
       "3222   3316  -99.805554  21.621329  222.815667   \n",
       "3270   3367 -100.926354  21.761429  222.569249   \n",
       "3327   3424 -100.926354  21.901529  222.324198   \n",
       "3328   3425 -100.786254  21.901529  222.324198   \n",
       "3334   3431  -99.945654  21.901529  222.324198   \n",
       "\n",
       "                            DESECON1           DESECON2  \\\n",
       "3222  Desiertos de America del Norte  Desiertos Calidos   \n",
       "3270  Desiertos de America del Norte  Desiertos Calidos   \n",
       "3327  Desiertos de America del Norte  Desiertos Calidos   \n",
       "3328  Desiertos de America del Norte  Desiertos Calidos   \n",
       "3334  Desiertos de America del Norte  Desiertos Calidos   \n",
       "\n",
       "                   DESECON3  \\\n",
       "3222  Desierto Chihuahuense   \n",
       "3270  Desierto Chihuahuense   \n",
       "3327  Desierto Chihuahuense   \n",
       "3328  Desierto Chihuahuense   \n",
       "3334  Desierto Chihuahuense   \n",
       "\n",
       "                                               DESECON4      2000      2000  \\\n",
       "3222  Planicies del Altiplano Zacatecano-Potosino co...  0.160945  0.165068   \n",
       "3270  Planicies del Altiplano Zacatecano-Potosino co...  0.160917  0.169971   \n",
       "3327  Planicies del Altiplano Zacatecano-Potosino co...  0.138129  0.146591   \n",
       "3328  Planicies del Altiplano Zacatecano-Potosino co...  0.113487  0.124050   \n",
       "3334  Planicies del Altiplano Zacatecano-Potosino co...  0.165141  0.184403   \n",
       "\n",
       "      ...      2022      2022      2022      2023      2023      2023  \\\n",
       "3222  ...  0.350151  0.313900  0.299278  0.201708  0.160254  0.157356   \n",
       "3270  ...  0.261451  0.212997  0.191341  0.166828  0.153103  0.164724   \n",
       "3327  ...  0.265421  0.210638  0.184922  0.159277  0.141992  0.147725   \n",
       "3328  ...  0.220094  0.172908  0.154411  0.131061  0.113505  0.120184   \n",
       "3334  ...  0.355976  0.285438  0.245578  0.215332  0.178375  0.182429   \n",
       "\n",
       "          2023      2023      2023      2023  \n",
       "3222  0.159249  0.175464  0.192033  0.182492  \n",
       "3270  0.177433  0.204699  0.225996  0.225684  \n",
       "3327  0.160331  0.171418  0.181015  0.193701  \n",
       "3328  0.136962  0.162148  0.175997  0.168276  \n",
       "3334  0.244910  0.279941  0.250646  0.233376  \n",
       "\n",
       "[5 rows x 290 columns]"
      ]
     },
     "execution_count": 23,
     "metadata": {},
     "output_type": "execute_result"
    }
   ],
   "source": [
    "reg1.head()"
   ]
  },
  {
   "cell_type": "code",
   "execution_count": 24,
   "metadata": {},
   "outputs": [
    {
     "data": {
      "text/plain": [
       "Index([    'id_ok', 'longitude',  'latitude',       'km2',  'DESECON1',\n",
       "        'DESECON2',  'DESECON3',  'DESECON4',        2000,        2000,\n",
       "       ...\n",
       "              2022,        2022,        2022,        2023,        2023,\n",
       "              2023,        2023,        2023,        2023,        2023],\n",
       "      dtype='object', length=290)"
      ]
     },
     "execution_count": 24,
     "metadata": {},
     "output_type": "execute_result"
    }
   ],
   "source": [
    "reg1.columns"
   ]
  },
  {
   "cell_type": "code",
   "execution_count": 37,
   "metadata": {},
   "outputs": [
    {
     "data": {
      "text/html": [
       "<div>\n",
       "<style scoped>\n",
       "    .dataframe tbody tr th:only-of-type {\n",
       "        vertical-align: middle;\n",
       "    }\n",
       "\n",
       "    .dataframe tbody tr th {\n",
       "        vertical-align: top;\n",
       "    }\n",
       "\n",
       "    .dataframe thead th {\n",
       "        text-align: right;\n",
       "    }\n",
       "</style>\n",
       "<table border=\"1\" class=\"dataframe\">\n",
       "  <thead>\n",
       "    <tr style=\"text-align: right;\">\n",
       "      <th></th>\n",
       "      <th>2000</th>\n",
       "      <th>2001</th>\n",
       "      <th>2002</th>\n",
       "      <th>2003</th>\n",
       "      <th>2004</th>\n",
       "      <th>2005</th>\n",
       "      <th>2006</th>\n",
       "      <th>2007</th>\n",
       "      <th>2008</th>\n",
       "      <th>2009</th>\n",
       "      <th>...</th>\n",
       "      <th>2022</th>\n",
       "      <th>2023</th>\n",
       "      <th>DESECON1</th>\n",
       "      <th>DESECON2</th>\n",
       "      <th>DESECON3</th>\n",
       "      <th>DESECON4</th>\n",
       "      <th>id_ok</th>\n",
       "      <th>km2</th>\n",
       "      <th>latitude</th>\n",
       "      <th>longitude</th>\n",
       "    </tr>\n",
       "  </thead>\n",
       "  <tbody>\n",
       "    <tr>\n",
       "      <th>3222</th>\n",
       "      <td>2.530831</td>\n",
       "      <td>2.69833</td>\n",
       "      <td>3.0318</td>\n",
       "      <td>2.792681</td>\n",
       "      <td>2.773171</td>\n",
       "      <td>2.700998</td>\n",
       "      <td>2.647915</td>\n",
       "      <td>3.396906</td>\n",
       "      <td>3.38288</td>\n",
       "      <td>3.029049</td>\n",
       "      <td>...</td>\n",
       "      <td>2.81898</td>\n",
       "      <td>1.228556</td>\n",
       "      <td>Desiertos de America del Norte</td>\n",
       "      <td>Desiertos Calidos</td>\n",
       "      <td>Desierto Chihuahuense</td>\n",
       "      <td>Planicies del Altiplano Zacatecano-Potosino co...</td>\n",
       "      <td>3316</td>\n",
       "      <td>222.815667</td>\n",
       "      <td>21.621329</td>\n",
       "      <td>-99.805554</td>\n",
       "    </tr>\n",
       "    <tr>\n",
       "      <th>3270</th>\n",
       "      <td>2.190316</td>\n",
       "      <td>2.314678</td>\n",
       "      <td>2.782432</td>\n",
       "      <td>2.593326</td>\n",
       "      <td>2.846445</td>\n",
       "      <td>2.452116</td>\n",
       "      <td>2.695304</td>\n",
       "      <td>2.783628</td>\n",
       "      <td>2.573261</td>\n",
       "      <td>2.64473</td>\n",
       "      <td>...</td>\n",
       "      <td>2.43779</td>\n",
       "      <td>1.318468</td>\n",
       "      <td>Desiertos de America del Norte</td>\n",
       "      <td>Desiertos Calidos</td>\n",
       "      <td>Desierto Chihuahuense</td>\n",
       "      <td>Planicies del Altiplano Zacatecano-Potosino co...</td>\n",
       "      <td>3367</td>\n",
       "      <td>222.569249</td>\n",
       "      <td>21.761429</td>\n",
       "      <td>-100.926354</td>\n",
       "    </tr>\n",
       "    <tr>\n",
       "      <th>3327</th>\n",
       "      <td>1.894997</td>\n",
       "      <td>2.033584</td>\n",
       "      <td>2.444101</td>\n",
       "      <td>2.214888</td>\n",
       "      <td>2.404326</td>\n",
       "      <td>2.231516</td>\n",
       "      <td>2.446371</td>\n",
       "      <td>2.459681</td>\n",
       "      <td>2.279408</td>\n",
       "      <td>2.425696</td>\n",
       "      <td>...</td>\n",
       "      <td>2.298903</td>\n",
       "      <td>1.15546</td>\n",
       "      <td>Desiertos de America del Norte</td>\n",
       "      <td>Desiertos Calidos</td>\n",
       "      <td>Desierto Chihuahuense</td>\n",
       "      <td>Planicies del Altiplano Zacatecano-Potosino co...</td>\n",
       "      <td>3424</td>\n",
       "      <td>222.324198</td>\n",
       "      <td>21.901529</td>\n",
       "      <td>-100.926354</td>\n",
       "    </tr>\n",
       "    <tr>\n",
       "      <th>3328</th>\n",
       "      <td>1.651915</td>\n",
       "      <td>1.813345</td>\n",
       "      <td>2.16959</td>\n",
       "      <td>1.939876</td>\n",
       "      <td>2.128418</td>\n",
       "      <td>1.909003</td>\n",
       "      <td>2.142148</td>\n",
       "      <td>2.191749</td>\n",
       "      <td>2.054965</td>\n",
       "      <td>2.127655</td>\n",
       "      <td>...</td>\n",
       "      <td>1.995465</td>\n",
       "      <td>1.008133</td>\n",
       "      <td>Desiertos de America del Norte</td>\n",
       "      <td>Desiertos Calidos</td>\n",
       "      <td>Desierto Chihuahuense</td>\n",
       "      <td>Planicies del Altiplano Zacatecano-Potosino co...</td>\n",
       "      <td>3425</td>\n",
       "      <td>222.324198</td>\n",
       "      <td>21.901529</td>\n",
       "      <td>-100.786254</td>\n",
       "    </tr>\n",
       "    <tr>\n",
       "      <th>3334</th>\n",
       "      <td>2.605051</td>\n",
       "      <td>2.995384</td>\n",
       "      <td>2.94466</td>\n",
       "      <td>2.900079</td>\n",
       "      <td>2.968421</td>\n",
       "      <td>2.770695</td>\n",
       "      <td>2.825073</td>\n",
       "      <td>3.561965</td>\n",
       "      <td>3.410051</td>\n",
       "      <td>2.96469</td>\n",
       "      <td>...</td>\n",
       "      <td>2.906024</td>\n",
       "      <td>1.58501</td>\n",
       "      <td>Desiertos de America del Norte</td>\n",
       "      <td>Desiertos Calidos</td>\n",
       "      <td>Desierto Chihuahuense</td>\n",
       "      <td>Planicies del Altiplano Zacatecano-Potosino co...</td>\n",
       "      <td>3431</td>\n",
       "      <td>222.324198</td>\n",
       "      <td>21.901529</td>\n",
       "      <td>-99.945654</td>\n",
       "    </tr>\n",
       "    <tr>\n",
       "      <th>...</th>\n",
       "      <td>...</td>\n",
       "      <td>...</td>\n",
       "      <td>...</td>\n",
       "      <td>...</td>\n",
       "      <td>...</td>\n",
       "      <td>...</td>\n",
       "      <td>...</td>\n",
       "      <td>...</td>\n",
       "      <td>...</td>\n",
       "      <td>...</td>\n",
       "      <td>...</td>\n",
       "      <td>...</td>\n",
       "      <td>...</td>\n",
       "      <td>...</td>\n",
       "      <td>...</td>\n",
       "      <td>...</td>\n",
       "      <td>...</td>\n",
       "      <td>...</td>\n",
       "      <td>...</td>\n",
       "      <td>...</td>\n",
       "      <td>...</td>\n",
       "    </tr>\n",
       "    <tr>\n",
       "      <th>8789</th>\n",
       "      <td>2.589892</td>\n",
       "      <td>2.986746</td>\n",
       "      <td>2.775321</td>\n",
       "      <td>3.022021</td>\n",
       "      <td>2.777131</td>\n",
       "      <td>3.027907</td>\n",
       "      <td>3.071233</td>\n",
       "      <td>2.945066</td>\n",
       "      <td>3.104642</td>\n",
       "      <td>3.076387</td>\n",
       "      <td>...</td>\n",
       "      <td>2.990495</td>\n",
       "      <td>2.038982</td>\n",
       "      <td>Desiertos de America del Norte</td>\n",
       "      <td>Desiertos Calidos</td>\n",
       "      <td>Desierto Sonorense</td>\n",
       "      <td>Desiertos del Alto Golfo (Altar, El Pinacate, ...</td>\n",
       "      <td>9056</td>\n",
       "      <td>207.397758</td>\n",
       "      <td>32.549129</td>\n",
       "      <td>-115.076454</td>\n",
       "    </tr>\n",
       "    <tr>\n",
       "      <th>8790</th>\n",
       "      <td>2.730024</td>\n",
       "      <td>2.92611</td>\n",
       "      <td>2.743469</td>\n",
       "      <td>3.062478</td>\n",
       "      <td>2.803841</td>\n",
       "      <td>3.089317</td>\n",
       "      <td>3.099472</td>\n",
       "      <td>2.906789</td>\n",
       "      <td>2.972309</td>\n",
       "      <td>3.014078</td>\n",
       "      <td>...</td>\n",
       "      <td>3.00312</td>\n",
       "      <td>2.005027</td>\n",
       "      <td>Desiertos de America del Norte</td>\n",
       "      <td>Desiertos Calidos</td>\n",
       "      <td>Desierto Sonorense</td>\n",
       "      <td>Desiertos del Alto Golfo (Altar, El Pinacate, ...</td>\n",
       "      <td>9057</td>\n",
       "      <td>207.397758</td>\n",
       "      <td>32.549129</td>\n",
       "      <td>-114.936354</td>\n",
       "    </tr>\n",
       "    <tr>\n",
       "      <th>8791</th>\n",
       "      <td>1.413269</td>\n",
       "      <td>1.609041</td>\n",
       "      <td>1.555587</td>\n",
       "      <td>1.683512</td>\n",
       "      <td>1.57235</td>\n",
       "      <td>1.674095</td>\n",
       "      <td>1.657908</td>\n",
       "      <td>1.655326</td>\n",
       "      <td>1.718016</td>\n",
       "      <td>1.661203</td>\n",
       "      <td>...</td>\n",
       "      <td>1.713865</td>\n",
       "      <td>0.97715</td>\n",
       "      <td>Desiertos de America del Norte</td>\n",
       "      <td>Desiertos Calidos</td>\n",
       "      <td>Desierto Sonorense</td>\n",
       "      <td>Desiertos del Alto Golfo (Altar, El Pinacate, ...</td>\n",
       "      <td>9062</td>\n",
       "      <td>111.632759</td>\n",
       "      <td>32.689229</td>\n",
       "      <td>-115.076454</td>\n",
       "    </tr>\n",
       "    <tr>\n",
       "      <th>8792</th>\n",
       "      <td>2.107568</td>\n",
       "      <td>2.386259</td>\n",
       "      <td>2.244106</td>\n",
       "      <td>2.472809</td>\n",
       "      <td>2.249695</td>\n",
       "      <td>2.547593</td>\n",
       "      <td>2.421964</td>\n",
       "      <td>2.344406</td>\n",
       "      <td>2.370359</td>\n",
       "      <td>2.395006</td>\n",
       "      <td>...</td>\n",
       "      <td>2.342642</td>\n",
       "      <td>1.590819</td>\n",
       "      <td>Desiertos de America del Norte</td>\n",
       "      <td>Desiertos Calidos</td>\n",
       "      <td>Desierto Sonorense</td>\n",
       "      <td>Desiertos del Alto Golfo (Altar, El Pinacate, ...</td>\n",
       "      <td>9063</td>\n",
       "      <td>125.677418</td>\n",
       "      <td>32.689229</td>\n",
       "      <td>-114.936354</td>\n",
       "    </tr>\n",
       "    <tr>\n",
       "      <th>8793</th>\n",
       "      <td>2.005897</td>\n",
       "      <td>2.194617</td>\n",
       "      <td>2.052969</td>\n",
       "      <td>2.213136</td>\n",
       "      <td>2.071028</td>\n",
       "      <td>2.261044</td>\n",
       "      <td>2.172987</td>\n",
       "      <td>2.196856</td>\n",
       "      <td>2.152682</td>\n",
       "      <td>2.134562</td>\n",
       "      <td>...</td>\n",
       "      <td>1.914876</td>\n",
       "      <td>1.273433</td>\n",
       "      <td>Desiertos de America del Norte</td>\n",
       "      <td>Desiertos Calidos</td>\n",
       "      <td>Desierto Sonorense</td>\n",
       "      <td>Desiertos del Alto Golfo (Altar, El Pinacate, ...</td>\n",
       "      <td>9064</td>\n",
       "      <td>112.01296</td>\n",
       "      <td>32.689229</td>\n",
       "      <td>-114.796254</td>\n",
       "    </tr>\n",
       "  </tbody>\n",
       "</table>\n",
       "<p>2577 rows × 32 columns</p>\n",
       "</div>"
      ],
      "text/plain": [
       "          2000      2001      2002      2003      2004      2005      2006  \\\n",
       "3222  2.530831   2.69833    3.0318  2.792681  2.773171  2.700998  2.647915   \n",
       "3270  2.190316  2.314678  2.782432  2.593326  2.846445  2.452116  2.695304   \n",
       "3327  1.894997  2.033584  2.444101  2.214888  2.404326  2.231516  2.446371   \n",
       "3328  1.651915  1.813345   2.16959  1.939876  2.128418  1.909003  2.142148   \n",
       "3334  2.605051  2.995384   2.94466  2.900079  2.968421  2.770695  2.825073   \n",
       "...        ...       ...       ...       ...       ...       ...       ...   \n",
       "8789  2.589892  2.986746  2.775321  3.022021  2.777131  3.027907  3.071233   \n",
       "8790  2.730024   2.92611  2.743469  3.062478  2.803841  3.089317  3.099472   \n",
       "8791  1.413269  1.609041  1.555587  1.683512   1.57235  1.674095  1.657908   \n",
       "8792  2.107568  2.386259  2.244106  2.472809  2.249695  2.547593  2.421964   \n",
       "8793  2.005897  2.194617  2.052969  2.213136  2.071028  2.261044  2.172987   \n",
       "\n",
       "          2007      2008      2009  ...      2022      2023  \\\n",
       "3222  3.396906   3.38288  3.029049  ...   2.81898  1.228556   \n",
       "3270  2.783628  2.573261   2.64473  ...   2.43779  1.318468   \n",
       "3327  2.459681  2.279408  2.425696  ...  2.298903   1.15546   \n",
       "3328  2.191749  2.054965  2.127655  ...  1.995465  1.008133   \n",
       "3334  3.561965  3.410051   2.96469  ...  2.906024   1.58501   \n",
       "...        ...       ...       ...  ...       ...       ...   \n",
       "8789  2.945066  3.104642  3.076387  ...  2.990495  2.038982   \n",
       "8790  2.906789  2.972309  3.014078  ...   3.00312  2.005027   \n",
       "8791  1.655326  1.718016  1.661203  ...  1.713865   0.97715   \n",
       "8792  2.344406  2.370359  2.395006  ...  2.342642  1.590819   \n",
       "8793  2.196856  2.152682  2.134562  ...  1.914876  1.273433   \n",
       "\n",
       "                            DESECON1           DESECON2  \\\n",
       "3222  Desiertos de America del Norte  Desiertos Calidos   \n",
       "3270  Desiertos de America del Norte  Desiertos Calidos   \n",
       "3327  Desiertos de America del Norte  Desiertos Calidos   \n",
       "3328  Desiertos de America del Norte  Desiertos Calidos   \n",
       "3334  Desiertos de America del Norte  Desiertos Calidos   \n",
       "...                              ...                ...   \n",
       "8789  Desiertos de America del Norte  Desiertos Calidos   \n",
       "8790  Desiertos de America del Norte  Desiertos Calidos   \n",
       "8791  Desiertos de America del Norte  Desiertos Calidos   \n",
       "8792  Desiertos de America del Norte  Desiertos Calidos   \n",
       "8793  Desiertos de America del Norte  Desiertos Calidos   \n",
       "\n",
       "                   DESECON3  \\\n",
       "3222  Desierto Chihuahuense   \n",
       "3270  Desierto Chihuahuense   \n",
       "3327  Desierto Chihuahuense   \n",
       "3328  Desierto Chihuahuense   \n",
       "3334  Desierto Chihuahuense   \n",
       "...                     ...   \n",
       "8789     Desierto Sonorense   \n",
       "8790     Desierto Sonorense   \n",
       "8791     Desierto Sonorense   \n",
       "8792     Desierto Sonorense   \n",
       "8793     Desierto Sonorense   \n",
       "\n",
       "                                               DESECON4 id_ok         km2  \\\n",
       "3222  Planicies del Altiplano Zacatecano-Potosino co...  3316  222.815667   \n",
       "3270  Planicies del Altiplano Zacatecano-Potosino co...  3367  222.569249   \n",
       "3327  Planicies del Altiplano Zacatecano-Potosino co...  3424  222.324198   \n",
       "3328  Planicies del Altiplano Zacatecano-Potosino co...  3425  222.324198   \n",
       "3334  Planicies del Altiplano Zacatecano-Potosino co...  3431  222.324198   \n",
       "...                                                 ...   ...         ...   \n",
       "8789  Desiertos del Alto Golfo (Altar, El Pinacate, ...  9056  207.397758   \n",
       "8790  Desiertos del Alto Golfo (Altar, El Pinacate, ...  9057  207.397758   \n",
       "8791  Desiertos del Alto Golfo (Altar, El Pinacate, ...  9062  111.632759   \n",
       "8792  Desiertos del Alto Golfo (Altar, El Pinacate, ...  9063  125.677418   \n",
       "8793  Desiertos del Alto Golfo (Altar, El Pinacate, ...  9064   112.01296   \n",
       "\n",
       "       latitude   longitude  \n",
       "3222  21.621329  -99.805554  \n",
       "3270  21.761429 -100.926354  \n",
       "3327  21.901529 -100.926354  \n",
       "3328  21.901529 -100.786254  \n",
       "3334  21.901529  -99.945654  \n",
       "...         ...         ...  \n",
       "8789  32.549129 -115.076454  \n",
       "8790  32.549129 -114.936354  \n",
       "8791  32.689229 -115.076454  \n",
       "8792  32.689229 -114.936354  \n",
       "8793  32.689229 -114.796254  \n",
       "\n",
       "[2577 rows x 32 columns]"
      ]
     },
     "execution_count": 37,
     "metadata": {},
     "output_type": "execute_result"
    }
   ],
   "source": [
    "reg1 = reg1.T.groupby(level=0).sum().T\n",
    "reg1"
   ]
  },
  {
   "cell_type": "code",
   "execution_count": null,
   "metadata": {},
   "outputs": [],
   "source": []
  }
 ],
 "metadata": {
  "kernelspec": {
   "display_name": "Python 3",
   "language": "python",
   "name": "python3"
  },
  "language_info": {
   "codemirror_mode": {
    "name": "ipython",
    "version": 3
   },
   "file_extension": ".py",
   "mimetype": "text/x-python",
   "name": "python",
   "nbconvert_exporter": "python",
   "pygments_lexer": "ipython3",
   "version": "3.10.12"
  },
  "orig_nbformat": 4
 },
 "nbformat": 4,
 "nbformat_minor": 2
}
